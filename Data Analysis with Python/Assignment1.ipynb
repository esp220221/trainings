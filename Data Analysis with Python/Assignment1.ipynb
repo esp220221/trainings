{
 "cells": [
  {
   "cell_type": "markdown",
   "id": "2a1c008c-4c35-4553-b8ef-296e811f0ecc",
   "metadata": {},
   "source": [
    "## Problem 1 - Variables and Data Types\n",
    "\n",
    "**Q1: Assign your name to the variable `name`.**"
   ]
  },
  {
   "cell_type": "code",
   "execution_count": 3,
   "id": "ffb53400-ba2e-4668-8e19-3b43b6620432",
   "metadata": {},
   "outputs": [],
   "source": [
    "name = \"Eric\""
   ]
  },
  {
   "cell_type": "markdown",
   "id": "728759c0-29c2-4950-93fc-861f169bec4d",
   "metadata": {},
   "source": [
    "Q2: Assign your age to variable 'age'."
   ]
  },
  {
   "cell_type": "code",
   "execution_count": 4,
   "id": "4d98fc7d-1e51-43a9-a82a-4a6bc3127cd7",
   "metadata": {},
   "outputs": [],
   "source": [
    "age = 44"
   ]
  },
  {
   "cell_type": "markdown",
   "id": "21fae039-4a5d-4a50-b0c0-b055d49125ad",
   "metadata": {},
   "source": [
    "Q3: Assign a boolean value to the variable 'has_android_phone'."
   ]
  },
  {
   "cell_type": "code",
   "execution_count": 5,
   "id": "4eaea0ee-4f35-4a91-89bb-77a6991f3581",
   "metadata": {},
   "outputs": [],
   "source": [
    "has_android_phone = True"
   ]
  },
  {
   "cell_type": "markdown",
   "id": "4abef53f-2251-4021-a9a8-6088025c7a9e",
   "metadata": {},
   "source": [
    "You can check the values of these variable by running the following"
   ]
  },
  {
   "cell_type": "code",
   "execution_count": 6,
   "id": "bd7c8d0e-6cd0-4b59-a6b8-aa3e8f7aa5bd",
   "metadata": {},
   "outputs": [
    {
     "data": {
      "text/plain": [
       "('Eric', 44, True)"
      ]
     },
     "execution_count": 6,
     "metadata": {},
     "output_type": "execute_result"
    }
   ],
   "source": [
    "name, age, has_android_phone"
   ]
  },
  {
   "cell_type": "markdown",
   "id": "94b2e22e-6293-4868-8755-980ac3d8d468",
   "metadata": {},
   "source": [
    "Q4: Create a dictionary 'person' with keys \"Name\", \"Age\", \"HasAndroidPhone\" and values using the variable defined above. "
   ]
  },
  {
   "cell_type": "code",
   "execution_count": 9,
   "id": "d7be8921-f605-42cf-aa84-39b41658f628",
   "metadata": {},
   "outputs": [
    {
     "data": {
      "text/plain": [
       "{'Name': 'Eric', 'Age': 44, 'HasAndroidPhone': True}"
      ]
     },
     "execution_count": 9,
     "metadata": {},
     "output_type": "execute_result"
    }
   ],
   "source": [
    "person = {\n",
    "    \"Name\": name,\n",
    "    \"Age\": age,\n",
    "    \"HasAndroidPhone\": has_android_phone,\n",
    "}\n",
    "person"
   ]
  },
  {
   "cell_type": "markdown",
   "id": "ffb60c9d-a53d-43d9-b077-cce540d30892",
   "metadata": {},
   "source": [
    "Let's use the 'person' dictionary to print a nice message"
   ]
  },
  {
   "cell_type": "code",
   "execution_count": 10,
   "id": "50fd7e53-84c0-48d0-864e-b911ae85cf74",
   "metadata": {},
   "outputs": [
    {
     "name": "stdout",
     "output_type": "stream",
     "text": [
      "Eric is aged 44, and owns an Android phone.\n"
     ]
    }
   ],
   "source": [
    "print(\"{} is aged {}, and owns an {}.\".format(\n",
    "    person[\"Name\"], \n",
    "    person[\"Age\"], \n",
    "    \"Android phone\" if person[\"HasAndroidPhone\"] else \"iPhone\"\n",
    "))"
   ]
  },
  {
   "cell_type": "markdown",
   "id": "41301a0c-4d1b-43ae-b93a-c12afad13fb8",
   "metadata": {},
   "source": [
    "Q4b (Optional): Use a for loop to display the type of each value stored against each key in person."
   ]
  },
  {
   "cell_type": "code",
   "execution_count": 18,
   "id": "b0229700-bfd0-4fc4-9efd-bb817581b0b7",
   "metadata": {},
   "outputs": [
    {
     "name": "stdout",
     "output_type": "stream",
     "text": [
      "The key Name has the value Eric\n",
      "The key Age has the value 44\n",
      "The key HasAndroidPhone has the value True\n"
     ]
    }
   ],
   "source": [
    "for key in person:\n",
    "    print(\"The key\", key, \"has the value\", person[key])"
   ]
  },
  {
   "cell_type": "markdown",
   "id": "70b386c1-6eeb-4e9e-9800-2c94e232f664",
   "metadata": {},
   "source": [
    "## Problem 2 - Working with Lists\n",
    "\n",
    "**Q5: Create a list containing the following 3 elements:**\n",
    "\n",
    "* your favorite color\n",
    "* the number of pets you have\n",
    "* a boolean value describing whether you have previous programming experience"
   ]
  },
  {
   "cell_type": "code",
   "execution_count": 27,
   "id": "2e05371b-a941-4828-9061-94b8794e6206",
   "metadata": {},
   "outputs": [],
   "source": [
    "my_list = [\"green\", 0, False]"
   ]
  },
  {
   "cell_type": "markdown",
   "id": "ffd82664-b861-4d1f-9478-b120e2e1afda",
   "metadata": {},
   "source": [
    "Let's see what the list looks like:"
   ]
  },
  {
   "cell_type": "code",
   "execution_count": 28,
   "id": "0f9a3224-3107-4b68-a178-9dfd36b0c2f1",
   "metadata": {},
   "outputs": [
    {
     "data": {
      "text/plain": [
       "['green', 0, False]"
      ]
     },
     "execution_count": 28,
     "metadata": {},
     "output_type": "execute_result"
    }
   ],
   "source": [
    "my_list"
   ]
  },
  {
   "cell_type": "markdown",
   "id": "77eca736-4e2e-49cd-ac14-66ca611ea5d7",
   "metadata": {},
   "source": [
    "**Q6: Complete the following `print` and `if` statements by accessing the appropriate elements from `my_list`.**\n",
    "\n",
    "*Hint*: Use the list indexing notation `[]`."
   ]
  },
  {
   "cell_type": "code",
   "execution_count": 25,
   "id": "5a94c5be-9ff4-49a7-983f-37763e0150ce",
   "metadata": {},
   "outputs": [
    {
     "name": "stdout",
     "output_type": "stream",
     "text": [
      "My favorite color is green\n"
     ]
    }
   ],
   "source": [
    "print('My favorite color is', my_list[0])"
   ]
  },
  {
   "cell_type": "code",
   "execution_count": 26,
   "id": "6810f499-2360-4b28-9adf-554e58548d94",
   "metadata": {},
   "outputs": [
    {
     "name": "stdout",
     "output_type": "stream",
     "text": [
      "I have 0 pet(s).\n"
     ]
    }
   ],
   "source": [
    "print('I have {} pet(s).'.format(my_list[1]))"
   ]
  },
  {
   "cell_type": "code",
   "execution_count": 29,
   "id": "1b83ebd7-8e9c-421f-a004-f0e12f8bf7a5",
   "metadata": {},
   "outputs": [
    {
     "name": "stdout",
     "output_type": "stream",
     "text": [
      "I do not have previous programming experience\n"
     ]
    }
   ],
   "source": [
    "if my_list[2] == True:\n",
    "    print(\"I have previous programming experience\")\n",
    "else:\n",
    "    print(\"I do not have previous programming experience\")"
   ]
  },
  {
   "cell_type": "markdown",
   "id": "4cf56ab2-ef70-41dc-b694-4dae7ab995a4",
   "metadata": {},
   "source": [
    "**Q7: Add your favorite single digit number to the end of the list using the appropriate list method.**"
   ]
  },
  {
   "cell_type": "code",
   "execution_count": 30,
   "id": "59533df9-6a6e-4d61-88f8-b638500e808a",
   "metadata": {},
   "outputs": [],
   "source": [
    "my_list.append(7)"
   ]
  },
  {
   "cell_type": "markdown",
   "id": "26ff772d-28f8-4f97-9d69-fae8719ad51a",
   "metadata": {},
   "source": [
    "Let's see if the number shows up in the list."
   ]
  },
  {
   "cell_type": "code",
   "execution_count": 31,
   "id": "3128ac43-f8dd-4d13-aa60-3b6a3af678fa",
   "metadata": {},
   "outputs": [
    {
     "data": {
      "text/plain": [
       "['green', 0, False, 7]"
      ]
     },
     "execution_count": 31,
     "metadata": {},
     "output_type": "execute_result"
    }
   ],
   "source": [
    "my_list"
   ]
  },
  {
   "cell_type": "markdown",
   "id": "aaf83c53-9106-491f-b266-2b2048ee921b",
   "metadata": {},
   "source": [
    "**Q9: Complete the `print` statement below to display the number of elements in `my_list`.**"
   ]
  },
  {
   "cell_type": "code",
   "execution_count": 34,
   "id": "d13ce920-eee6-4600-bcff-35e1184a17ba",
   "metadata": {},
   "outputs": [
    {
     "name": "stdout",
     "output_type": "stream",
     "text": [
      "The list has 4 elements.\n"
     ]
    }
   ],
   "source": [
    "print(\"The list has {} elements.\".format(len(my_list)))"
   ]
  },
  {
   "cell_type": "markdown",
   "id": "aa52bde8-94f3-4c11-b0cf-e0ebc149360b",
   "metadata": {},
   "source": [
    "## Problem 3 - Conditions and loops\n",
    "\n",
    "**Q10: Calculate and display the sum of all the numbers divisible by 7 between 18 and 534 i.e. `21+28+35+...+525+532`**.\n",
    "\n",
    "*Hint*: One way to do this is to loop over a `range` using `for` and use an `if` statement inside it."
   ]
  },
  {
   "cell_type": "code",
   "execution_count": 46,
   "id": "4a993338-189e-4c39-a57e-c14986eff76f",
   "metadata": {},
   "outputs": [
    {
     "name": "stdout",
     "output_type": "stream",
     "text": [
      "75\n",
      "20700.0\n"
     ]
    }
   ],
   "source": [
    "# store the final answer in this variable\n",
    "sum_of_numbers = 0\n",
    "\n",
    "# perform the calculation here\n",
    "for i in range(18, 535):\n",
    "    if (i % 7 == 0):\n",
    "        sum_of_numbers = sum_of_numbers + i\n",
    "    else:\n",
    "        pass\n",
    "\n",
    "n = round(((534-18)/7) + 1)\n",
    "print(n)\n",
    "s = n*((534+18)/2)\n",
    "print(s)\n"
   ]
  },
  {
   "cell_type": "code",
   "execution_count": 45,
   "id": "6b5d6315-bde6-4170-a1af-0f91670a43f8",
   "metadata": {},
   "outputs": [
    {
     "name": "stdout",
     "output_type": "stream",
     "text": [
      "The sum of all the numbers divisible by 7 between 18 and 534 is 20461\n"
     ]
    }
   ],
   "source": [
    "print('The sum of all the numbers divisible by 7 between 18 and 534 is', sum_of_numbers)"
   ]
  },
  {
   "cell_type": "markdown",
   "id": "ed83aa58-3002-4f5b-86f4-e03f675787ed",
   "metadata": {},
   "source": [
    "## Problem 4 - Flying to the Bahamas\n",
    "\n",
    "**Q11: A travel company wants to fly a plane to the Bahamas. Flying the plane costs 5000 dollars. So far, 29 people have signed up for the trip. If the company charges 200 dollars per ticket, what is the profit made by the company?**\n",
    "\n",
    "Fill in values or arithmetic expressions for the variables below."
   ]
  },
  {
   "cell_type": "code",
   "execution_count": 47,
   "id": "9170b463-4245-43be-95f4-198296022153",
   "metadata": {},
   "outputs": [],
   "source": [
    "cost_of_flying_plane = 5000"
   ]
  },
  {
   "cell_type": "code",
   "execution_count": 48,
   "id": "ce1316b2-5b9e-4ac9-a37c-1a033851b85d",
   "metadata": {},
   "outputs": [],
   "source": [
    "number_of_passengers = 29"
   ]
  },
  {
   "cell_type": "code",
   "execution_count": 49,
   "id": "70fec0bd-1c15-4162-b6f0-814e5f1d0b52",
   "metadata": {},
   "outputs": [],
   "source": [
    "price_of_ticket = 200"
   ]
  },
  {
   "cell_type": "code",
   "execution_count": 50,
   "id": "3be8c98d-9385-4306-9fcd-45839ad68078",
   "metadata": {},
   "outputs": [],
   "source": [
    "profit = ((number_of_passengers * price_of_ticket) - cost_of_flying_plane)"
   ]
  },
  {
   "cell_type": "code",
   "execution_count": 52,
   "id": "ea3ad04f-b266-4cc1-b1ef-64095579bab7",
   "metadata": {},
   "outputs": [
    {
     "name": "stdout",
     "output_type": "stream",
     "text": [
      "The company makes a profit of 800 dollars\n"
     ]
    }
   ],
   "source": [
    "print(\"The company makes a profit of {} dollars\".format(profit))"
   ]
  },
  {
   "cell_type": "markdown",
   "id": "6932d5a2-adec-445a-bfcb-4cbd9bbfc10b",
   "metadata": {},
   "source": [
    "**Q11b (Optional): Out of the 29 people who took the flight, only 12 buy tickets to return from the Bahamas on the same plane. If the flying the plane back also costs 5000 dollars, and does the company make an overall profit or loss? The company charges the same fee of 200 dollars per ticket for the return flight.**\n",
    "\n",
    "Use an `if` statement to display the result."
   ]
  },
  {
   "cell_type": "code",
   "execution_count": 53,
   "id": "456cc084-a38f-42d0-b94b-8ef5989744ae",
   "metadata": {},
   "outputs": [],
   "source": [
    "return_tickets = 12"
   ]
  },
  {
   "cell_type": "code",
   "execution_count": 55,
   "id": "d590ece4-d4bb-442a-9ce6-bdad3400f11b",
   "metadata": {},
   "outputs": [],
   "source": [
    "return_profit = ((return_tickets * price_of_ticket) - cost_of_flying_plane)"
   ]
  },
  {
   "cell_type": "code",
   "execution_count": 60,
   "id": "be143288-e211-44c6-bb7b-01dd535ac68d",
   "metadata": {},
   "outputs": [
    {
     "name": "stdout",
     "output_type": "stream",
     "text": [
      "The company took a loss of -2600 dollars on the flight\n"
     ]
    }
   ],
   "source": [
    "if return_profit < 0:\n",
    "    print(\"The company took a loss of {} dollars on the flight\".format(return_profit))\n",
    "else:\n",
    "    print(\"The company made a profit of {} dollars\".format(return_profit))"
   ]
  },
  {
   "cell_type": "markdown",
   "id": "8942ef2c-a505-4136-8422-c832a5a8ac24",
   "metadata": {},
   "source": [
    "## Problem 5 - Twitter Sentiment Analysis\n",
    "\n",
    "Are your ready to perform some *Data Analysis with Python*? In this problem, we'll analyze some fictional tweets and find out whether the overall sentiment of Twitter users is happy or sad. This is a simplified version of an important real world problem called *sentiment analysis*.\n",
    "\n",
    "Before we begin, we need a list of tweets to analyze. We're picking a small number of tweets here, but the exact same analysis can also be done for thousands, or even millions of tweets. The collection of data that we perform analysis on is often called a *dataset*."
   ]
  },
  {
   "cell_type": "code",
   "execution_count": 61,
   "id": "4498ae27-bb5f-41eb-b3ba-c37ad8a03032",
   "metadata": {},
   "outputs": [],
   "source": [
    "tweets = [\n",
    "    \"Wow, what a great day today!! #sunshine\",\n",
    "    \"I feel sad about the things going on around us. #covid19\",\n",
    "    \"I'm really excited to learn Python with @JovianML #zerotopandas\",\n",
    "    \"This is a really nice song. #linkinpark\",\n",
    "    \"The python programming language is useful for data science\",\n",
    "    \"Why do bad things happen to me?\",\n",
    "    \"Apple announces the release of the new iPhone 12. Fans are excited.\",\n",
    "    \"Spent my day with family!! #happy\",\n",
    "    \"Check out my blog post on common string operations in Python. #zerotopandas\",\n",
    "    \"Freecodecamp has great coding tutorials. #skillup\"\n",
    "]"
   ]
  },
  {
   "cell_type": "markdown",
   "id": "b26a6777-08c6-4954-9d9e-f294d5d12fc0",
   "metadata": {},
   "source": [
    "Let's begin by answering a very simple but important question about our dataset.\n",
    "\n",
    "**Q12: How many tweets does the dataset contain?**"
   ]
  },
  {
   "cell_type": "code",
   "execution_count": 66,
   "id": "7709ec6c-d4f6-4a2c-a5ff-31cb87844203",
   "metadata": {},
   "outputs": [
    {
     "data": {
      "text/plain": [
       "10"
      ]
     },
     "execution_count": 66,
     "metadata": {},
     "output_type": "execute_result"
    }
   ],
   "source": [
    "number_of_tweets = len(tweets)\n",
    "number_of_tweets"
   ]
  },
  {
   "cell_type": "markdown",
   "id": "821ce3ce-32ef-4a62-8a2b-d76ae29cec77",
   "metadata": {},
   "source": [
    "Let's create two lists of words: `happy_words` and `sad_words`. We will use these to check if a tweet is happy or sad."
   ]
  },
  {
   "cell_type": "code",
   "execution_count": 67,
   "id": "0c640965-22d0-4a8b-9b00-7b86ef8651cf",
   "metadata": {},
   "outputs": [],
   "source": [
    "happy_words = ['great', 'excited', 'happy', 'nice', 'wonderful', 'amazing', 'good', 'best']"
   ]
  },
  {
   "cell_type": "code",
   "execution_count": 68,
   "id": "ee1e5c4b-5eb5-4bf6-b991-54d9b4fbc90f",
   "metadata": {},
   "outputs": [],
   "source": [
    "sad_words = ['sad', 'bad', 'tragic', 'unhappy', 'worst']"
   ]
  },
  {
   "cell_type": "markdown",
   "id": "6d1d172a-4ad1-4b4a-9e86-37a089421e59",
   "metadata": {},
   "source": [
    "To identify whether a tweet is happy, we can simply check if contains any of the words from `happy_words`. Here's an example:"
   ]
  },
  {
   "cell_type": "code",
   "execution_count": 69,
   "id": "b629b55c-75df-4c34-88ef-8005905e0cc3",
   "metadata": {},
   "outputs": [],
   "source": [
    "sample_tweet = tweets[0]"
   ]
  },
  {
   "cell_type": "code",
   "execution_count": 70,
   "id": "dc220086-e844-4ffa-9cc9-22805a4099b8",
   "metadata": {},
   "outputs": [
    {
     "data": {
      "text/plain": [
       "'Wow, what a great day today!! #sunshine'"
      ]
     },
     "execution_count": 70,
     "metadata": {},
     "output_type": "execute_result"
    }
   ],
   "source": [
    "sample_tweet"
   ]
  },
  {
   "cell_type": "code",
   "execution_count": 71,
   "id": "29aab205-8a7f-4087-8762-93c003031ea9",
   "metadata": {},
   "outputs": [],
   "source": [
    "is_tweet_happy = False\n",
    "\n",
    "# Get a word from happy_words\n",
    "for word in happy_words:\n",
    "    # Check if the tweet contains the word\n",
    "    if word in sample_tweet:\n",
    "        # Word found! Mark the tweet as happy\n",
    "        is_tweet_happy = True"
   ]
  },
  {
   "cell_type": "markdown",
   "id": "0d204086-612d-4269-a876-b172ced447f2",
   "metadata": {},
   "source": [
    "Do you understand what we're doing above? \n",
    "\n",
    "> For each word in the list of happy words, we check if is a part of the selected tweet. If the word is indded a part of the tweet, we set the variable `is_tweet_happy` to `True`. "
   ]
  },
  {
   "cell_type": "code",
   "execution_count": 72,
   "id": "48f1379d-17b5-43cb-af9f-2cdabf041ad8",
   "metadata": {},
   "outputs": [
    {
     "data": {
      "text/plain": [
       "True"
      ]
     },
     "execution_count": 72,
     "metadata": {},
     "output_type": "execute_result"
    }
   ],
   "source": [
    "is_tweet_happy"
   ]
  },
  {
   "cell_type": "markdown",
   "id": "0977a1f1-9838-4865-b03f-3a3408450b0d",
   "metadata": {},
   "source": [
    "**Q13: Determine the number of tweets in the dataset that can be classified as happy.**\n",
    "\n",
    "*Hint*: You'll need to use a loop inside another loop to do this. Use the code from the example shown above."
   ]
  },
  {
   "cell_type": "code",
   "execution_count": 73,
   "id": "a38c8181-d215-4214-9164-19b699ebd77b",
   "metadata": {},
   "outputs": [],
   "source": [
    "# store the final answer in this variable\n",
    "number_of_happy_tweets = 0\n",
    "\n",
    "# perform the calculations here\n",
    "for tweet in tweets:\n",
    "    for word in sample_tweet:\n",
    "        if word in tweet:\n",
    "            number_of_happy_tweets += 1\n",
    "            break"
   ]
  },
  {
   "cell_type": "code",
   "execution_count": 74,
   "id": "4c2ad6b3-aa8e-4118-926e-eac01896fca3",
   "metadata": {},
   "outputs": [
    {
     "data": {
      "text/plain": [
       "10"
      ]
     },
     "execution_count": 74,
     "metadata": {},
     "output_type": "execute_result"
    }
   ],
   "source": [
    "number_of_happy_tweets"
   ]
  },
  {
   "cell_type": "code",
   "execution_count": 75,
   "id": "cf5d0080-6742-4f8c-b85b-993ac41a0a03",
   "metadata": {},
   "outputs": [
    {
     "name": "stdout",
     "output_type": "stream",
     "text": [
      "Number of happy tweets: 10\n"
     ]
    }
   ],
   "source": [
    "print(\"Number of happy tweets:\", number_of_happy_tweets)"
   ]
  },
  {
   "cell_type": "markdown",
   "id": "ce2e412a-b6e4-4b70-80b7-0656ca9d2ee8",
   "metadata": {},
   "source": [
    "**Q14: What fraction of the total number of tweets are happy?**\n",
    "\n",
    "For example, if 2 out of 10 tweets are happy, then the answer is `2/10` i.e. `0.2`."
   ]
  },
  {
   "cell_type": "code",
   "execution_count": 80,
   "id": "c639d684-fd0c-4c25-9a28-0fa660f8f344",
   "metadata": {},
   "outputs": [],
   "source": [
    "happy_fraction = number_of_happy_tweets / number_of_tweets"
   ]
  },
  {
   "cell_type": "code",
   "execution_count": 81,
   "id": "16716421-5ce3-49df-b61b-b099bc3179c2",
   "metadata": {},
   "outputs": [
    {
     "name": "stdout",
     "output_type": "stream",
     "text": [
      "The fraction of happy tweets is: 1.0\n"
     ]
    }
   ],
   "source": [
    "print(\"The fraction of happy tweets is:\", happy_fraction)"
   ]
  },
  {
   "cell_type": "markdown",
   "id": "69e8b824-122d-476a-9f7e-3624a2bde736",
   "metadata": {},
   "source": [
    "To identify whether a tweet is sad, we can simply check if contains any of the words from `sad_words`.\n",
    "\n",
    "**Q15: Determine the number of tweets in the dataset that can be classified as sad.**"
   ]
  },
  {
   "cell_type": "code",
   "execution_count": 85,
   "id": "54d764ba-4b24-4d95-bf27-b66ad5e08736",
   "metadata": {},
   "outputs": [],
   "source": [
    "# store the final answer in this variable\n",
    "number_of_sad_tweets = 0\n",
    "\n",
    "# perform the calculations here\n",
    "for tweet in tweets:\n",
    "    for word in sad_words:\n",
    "        if word in tweet:\n",
    "            number_of_sad_tweets += 1\n",
    "            break\n",
    "            \n",
    "sad_fraction = number_of_sad_tweets / number_of_tweets"
   ]
  },
  {
   "cell_type": "code",
   "execution_count": 86,
   "id": "a959cc4e-0212-482a-9204-32737236baae",
   "metadata": {},
   "outputs": [
    {
     "name": "stdout",
     "output_type": "stream",
     "text": [
      "The fraction of sad tweets is: 0.2\n"
     ]
    }
   ],
   "source": [
    "print(\"The fraction of sad tweets is:\", sad_fraction)"
   ]
  },
  {
   "cell_type": "markdown",
   "id": "28d7766e-3425-49d3-a5a8-3de0a32fc6de",
   "metadata": {},
   "source": [
    "Great work, even with some basic analysis, we already know a lot about the sentiment of the tweets given to us. Let us now define a metric called \"sentiment score\", to summarize the overall sentiment of the tweets.\n",
    "\n",
    "**Q16b (Optional): Calculate the sentiment score, which is defined as the difference betweek the fraction of happy tweets and the fraction of sad tweets.**"
   ]
  },
  {
   "cell_type": "code",
   "execution_count": 87,
   "id": "ca3b0d2f-ad18-465c-b510-bcd96a64c11e",
   "metadata": {},
   "outputs": [],
   "source": [
    "sentiment_score = happy_fraction - sad_fraction"
   ]
  },
  {
   "cell_type": "code",
   "execution_count": 88,
   "id": "7b08d307-d145-4d78-8ebf-09c788bd8dd8",
   "metadata": {},
   "outputs": [
    {
     "name": "stdout",
     "output_type": "stream",
     "text": [
      "The sentiment score for the given tweets is 0.8\n"
     ]
    }
   ],
   "source": [
    "print(\"The sentiment score for the given tweets is\", sentiment_score)"
   ]
  },
  {
   "cell_type": "markdown",
   "id": "b7f78397-6c9e-4644-9a02-4040259e7c26",
   "metadata": {},
   "source": [
    "In a real world scenario, we could calculate & record the sentiment score for all the tweets sent out every day. This information can be used to plot a graph and study the trends in the changing sentiment of the world. The following graph was creating using the Python data visualization library `matplotlib`, which we'll cover later in the course.\n",
    "\n",
    "<img src=\"https://i.imgur.com/6CCIwCb.png\" style=\"width:400px\">\n",
    "\n",
    "What does the sentiment score represent? Based on the value of the sentiment score, can you identify if the overall sentiment of the dataset is happy or sad?\n",
    "\n",
    "**Q16c (Optional): Display whether the overall sentiment of the given dataset of tweets is happy or sad, using the sentiment score.**"
   ]
  },
  {
   "cell_type": "code",
   "execution_count": null,
   "id": "8d2736b9-3a64-44da-aa1c-556680982318",
   "metadata": {},
   "outputs": [],
   "source": []
  }
 ],
 "metadata": {
  "kernelspec": {
   "display_name": "Python 3 (ipykernel)",
   "language": "python",
   "name": "python3"
  },
  "language_info": {
   "codemirror_mode": {
    "name": "ipython",
    "version": 3
   },
   "file_extension": ".py",
   "mimetype": "text/x-python",
   "name": "python",
   "nbconvert_exporter": "python",
   "pygments_lexer": "ipython3",
   "version": "3.9.7"
  }
 },
 "nbformat": 4,
 "nbformat_minor": 5
}
