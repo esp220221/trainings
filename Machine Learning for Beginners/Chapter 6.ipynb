{
 "cells": [
  {
   "cell_type": "code",
   "metadata": {
    "tags": [],
    "cell_id": "00000-d0b462d1-32eb-44ae-9b72-0b19188733d4",
    "deepnote_to_be_reexecuted": false,
    "source_hash": "c76c7c51",
    "execution_start": 1640022372862,
    "execution_millis": 1,
    "deepnote_cell_type": "code"
   },
   "source": "import pandas as pd\nimport numpy as np",
   "outputs": [],
   "execution_count": null
  },
  {
   "cell_type": "code",
   "source": "data = pd.read_csv(\"data/bmw.csv\")\ndata",
   "metadata": {
    "tags": [],
    "cell_id": "00001-07de58eb-0b59-41d6-92fc-e30943ed3a99",
    "deepnote_to_be_reexecuted": false,
    "source_hash": "55b81072",
    "execution_start": 1640022258153,
    "execution_millis": 246,
    "deepnote_cell_type": "code"
   },
   "outputs": [
    {
     "output_type": "execute_result",
     "execution_count": 4,
     "data": {
      "application/vnd.deepnote.dataframe.v3+json": {
       "column_count": 9,
       "row_count": 10781,
       "columns": [
        {
         "name": "model",
         "dtype": "object",
         "stats": {
          "unique_count": 24,
          "nan_count": 0,
          "categories": [
           {
            "name": " 3 Series",
            "count": 2443
           },
           {
            "name": " 1 Series",
            "count": 1969
           },
           {
            "name": "22 others",
            "count": 6369
           }
          ]
         }
        },
        {
         "name": "year",
         "dtype": "int64",
         "stats": {
          "unique_count": 25,
          "nan_count": 0,
          "min": "1996",
          "max": "2020",
          "histogram": [
           {
            "bin_start": 1996,
            "bin_end": 1998.4,
            "count": 3
           },
           {
            "bin_start": 1998.4,
            "bin_end": 2000.8,
            "count": 6
           },
           {
            "bin_start": 2000.8,
            "bin_end": 2003.2,
            "count": 11
           },
           {
            "bin_start": 2003.2,
            "bin_end": 2005.6,
            "count": 18
           },
           {
            "bin_start": 2005.6,
            "bin_end": 2008,
            "count": 30
           },
           {
            "bin_start": 2008,
            "bin_end": 2010.4,
            "count": 94
           },
           {
            "bin_start": 2010.4,
            "bin_end": 2012.8,
            "count": 170
           },
           {
            "bin_start": 2012.8,
            "bin_end": 2015.2,
            "count": 1780
           },
           {
            "bin_start": 2015.2,
            "bin_end": 2017.6,
            "count": 3603
           },
           {
            "bin_start": 2017.6,
            "bin_end": 2020,
            "count": 5066
           }
          ]
         }
        },
        {
         "name": "price",
         "dtype": "int64",
         "stats": {
          "unique_count": 3777,
          "nan_count": 0,
          "min": "1200",
          "max": "123456",
          "histogram": [
           {
            "bin_start": 1200,
            "bin_end": 13425.6,
            "count": 1974
           },
           {
            "bin_start": 13425.6,
            "bin_end": 25651.2,
            "count": 5402
           },
           {
            "bin_start": 25651.2,
            "bin_end": 37876.8,
            "count": 2490
           },
           {
            "bin_start": 37876.8,
            "bin_end": 50102.4,
            "count": 554
           },
           {
            "bin_start": 50102.4,
            "bin_end": 62328,
            "count": 235
           },
           {
            "bin_start": 62328,
            "bin_end": 74553.6,
            "count": 104
           },
           {
            "bin_start": 74553.6,
            "bin_end": 86779.2,
            "count": 17
           },
           {
            "bin_start": 86779.2,
            "bin_end": 99004.8,
            "count": 3
           },
           {
            "bin_start": 99004.8,
            "bin_end": 111230.40000000001,
            "count": 1
           },
           {
            "bin_start": 111230.40000000001,
            "bin_end": 123456,
            "count": 1
           }
          ]
         }
        },
        {
         "name": "transmission",
         "dtype": "object",
         "stats": {
          "unique_count": 3,
          "nan_count": 0,
          "categories": [
           {
            "name": "Semi-Auto",
            "count": 4666
           },
           {
            "name": "Automatic",
            "count": 3588
           },
           {
            "name": "Manual",
            "count": 2527
           }
          ]
         }
        },
        {
         "name": "mileage",
         "dtype": "int64",
         "stats": {
          "unique_count": 8086,
          "nan_count": 0,
          "min": "1",
          "max": "214000",
          "histogram": [
           {
            "bin_start": 1,
            "bin_end": 21400.9,
            "count": 5830
           },
           {
            "bin_start": 21400.9,
            "bin_end": 42800.8,
            "count": 2679
           },
           {
            "bin_start": 42800.8,
            "bin_end": 64200.700000000004,
            "count": 1295
           },
           {
            "bin_start": 64200.700000000004,
            "bin_end": 85600.6,
            "count": 657
           },
           {
            "bin_start": 85600.6,
            "bin_end": 107000.5,
            "count": 237
           },
           {
            "bin_start": 107000.5,
            "bin_end": 128400.40000000001,
            "count": 49
           },
           {
            "bin_start": 128400.40000000001,
            "bin_end": 149800.30000000002,
            "count": 24
           },
           {
            "bin_start": 149800.30000000002,
            "bin_end": 171200.2,
            "count": 7
           },
           {
            "bin_start": 171200.2,
            "bin_end": 192600.1,
            "count": 2
           },
           {
            "bin_start": 192600.1,
            "bin_end": 214000,
            "count": 1
           }
          ]
         }
        },
        {
         "name": "fuelType",
         "dtype": "object",
         "stats": {
          "unique_count": 5,
          "nan_count": 0,
          "categories": [
           {
            "name": "Diesel",
            "count": 7027
           },
           {
            "name": "Petrol",
            "count": 3417
           },
           {
            "name": "3 others",
            "count": 337
           }
          ]
         }
        },
        {
         "name": "tax",
         "dtype": "int64",
         "stats": {
          "unique_count": 38,
          "nan_count": 0,
          "min": "0",
          "max": "580",
          "histogram": [
           {
            "bin_start": 0,
            "bin_end": 58,
            "count": 1814
           },
           {
            "bin_start": 58,
            "bin_end": 116,
            "count": 1
           },
           {
            "bin_start": 116,
            "bin_end": 174,
            "count": 8166
           },
           {
            "bin_start": 174,
            "bin_end": 232,
            "count": 441
           },
           {
            "bin_start": 232,
            "bin_end": 290,
            "count": 168
           },
           {
            "bin_start": 290,
            "bin_end": 348,
            "count": 150
           },
           {
            "bin_start": 348,
            "bin_end": 406,
            "count": 0
           },
           {
            "bin_start": 406,
            "bin_end": 464,
            "count": 0
           },
           {
            "bin_start": 464,
            "bin_end": 522,
            "count": 0
           },
           {
            "bin_start": 522,
            "bin_end": 580,
            "count": 41
           }
          ]
         }
        },
        {
         "name": "mpg",
         "dtype": "float64",
         "stats": {
          "unique_count": 102,
          "nan_count": 0,
          "min": "5.5",
          "max": "470.8",
          "histogram": [
           {
            "bin_start": 5.5,
            "bin_end": 52.03,
            "count": 4916
           },
           {
            "bin_start": 52.03,
            "bin_end": 98.56,
            "count": 5605
           },
           {
            "bin_start": 98.56,
            "bin_end": 145.09,
            "count": 124
           },
           {
            "bin_start": 145.09,
            "bin_end": 191.62,
            "count": 93
           },
           {
            "bin_start": 191.62,
            "bin_end": 238.15,
            "count": 0
           },
           {
            "bin_start": 238.15,
            "bin_end": 284.68,
            "count": 0
           },
           {
            "bin_start": 284.68,
            "bin_end": 331.21000000000004,
            "count": 0
           },
           {
            "bin_start": 331.21000000000004,
            "bin_end": 377.74,
            "count": 0
           },
           {
            "bin_start": 377.74,
            "bin_end": 424.27,
            "count": 0
           },
           {
            "bin_start": 424.27,
            "bin_end": 470.8,
            "count": 43
           }
          ]
         }
        },
        {
         "name": "engineSize",
         "dtype": "float64",
         "stats": {
          "unique_count": 17,
          "nan_count": 0,
          "min": "0.0",
          "max": "6.6",
          "histogram": [
           {
            "bin_start": 0,
            "bin_end": 0.6599999999999999,
            "count": 54
           },
           {
            "bin_start": 0.6599999999999999,
            "bin_end": 1.3199999999999998,
            "count": 1
           },
           {
            "bin_start": 1.3199999999999998,
            "bin_end": 1.9799999999999998,
            "count": 1577
           },
           {
            "bin_start": 1.9799999999999998,
            "bin_end": 2.6399999999999997,
            "count": 6595
           },
           {
            "bin_start": 2.6399999999999997,
            "bin_end": 3.3,
            "count": 2465
           },
           {
            "bin_start": 3.3,
            "bin_end": 3.9599999999999995,
            "count": 1
           },
           {
            "bin_start": 3.9599999999999995,
            "bin_end": 4.619999999999999,
            "count": 85
           },
           {
            "bin_start": 4.619999999999999,
            "bin_end": 5.279999999999999,
            "count": 1
           },
           {
            "bin_start": 5.279999999999999,
            "bin_end": 5.9399999999999995,
            "count": 0
           },
           {
            "bin_start": 5.9399999999999995,
            "bin_end": 6.6,
            "count": 2
           }
          ]
         }
        },
        {
         "name": "_deepnote_index_column",
         "dtype": "int64"
        }
       ],
       "rows": [
        {
         "model": " 5 Series",
         "year": 2014,
         "price": 11200,
         "transmission": "Automatic",
         "mileage": 67068,
         "fuelType": "Diesel",
         "tax": 125,
         "mpg": 57.6,
         "engineSize": 2,
         "_deepnote_index_column": 0
        },
        {
         "model": " 6 Series",
         "year": 2018,
         "price": 27000,
         "transmission": "Automatic",
         "mileage": 14827,
         "fuelType": "Petrol",
         "tax": 145,
         "mpg": 42.8,
         "engineSize": 2,
         "_deepnote_index_column": 1
        },
        {
         "model": " 5 Series",
         "year": 2016,
         "price": 16000,
         "transmission": "Automatic",
         "mileage": 62794,
         "fuelType": "Diesel",
         "tax": 160,
         "mpg": 51.4,
         "engineSize": 3,
         "_deepnote_index_column": 2
        },
        {
         "model": " 1 Series",
         "year": 2017,
         "price": 12750,
         "transmission": "Automatic",
         "mileage": 26676,
         "fuelType": "Diesel",
         "tax": 145,
         "mpg": 72.4,
         "engineSize": 1.5,
         "_deepnote_index_column": 3
        },
        {
         "model": " 7 Series",
         "year": 2014,
         "price": 14500,
         "transmission": "Automatic",
         "mileage": 39554,
         "fuelType": "Diesel",
         "tax": 160,
         "mpg": 50.4,
         "engineSize": 3,
         "_deepnote_index_column": 4
        },
        {
         "model": " 5 Series",
         "year": 2016,
         "price": 14900,
         "transmission": "Automatic",
         "mileage": 35309,
         "fuelType": "Diesel",
         "tax": 125,
         "mpg": 60.1,
         "engineSize": 2,
         "_deepnote_index_column": 5
        },
        {
         "model": " 5 Series",
         "year": 2017,
         "price": 16000,
         "transmission": "Automatic",
         "mileage": 38538,
         "fuelType": "Diesel",
         "tax": 125,
         "mpg": 60.1,
         "engineSize": 2,
         "_deepnote_index_column": 6
        },
        {
         "model": " 2 Series",
         "year": 2018,
         "price": 16250,
         "transmission": "Manual",
         "mileage": 10401,
         "fuelType": "Petrol",
         "tax": 145,
         "mpg": 52.3,
         "engineSize": 1.5,
         "_deepnote_index_column": 7
        },
        {
         "model": " 4 Series",
         "year": 2017,
         "price": 14250,
         "transmission": "Manual",
         "mileage": 42668,
         "fuelType": "Diesel",
         "tax": 30,
         "mpg": 62.8,
         "engineSize": 2,
         "_deepnote_index_column": 8
        },
        {
         "model": " 5 Series",
         "year": 2016,
         "price": 14250,
         "transmission": "Automatic",
         "mileage": 36099,
         "fuelType": "Diesel",
         "tax": 20,
         "mpg": 68.9,
         "engineSize": 2,
         "_deepnote_index_column": 9
        }
       ]
      },
      "text/plain": "           model  year  price transmission  mileage fuelType  tax   mpg  \\\n0       5 Series  2014  11200    Automatic    67068   Diesel  125  57.6   \n1       6 Series  2018  27000    Automatic    14827   Petrol  145  42.8   \n2       5 Series  2016  16000    Automatic    62794   Diesel  160  51.4   \n3       1 Series  2017  12750    Automatic    26676   Diesel  145  72.4   \n4       7 Series  2014  14500    Automatic    39554   Diesel  160  50.4   \n...          ...   ...    ...          ...      ...      ...  ...   ...   \n10776         X3  2016  19000    Automatic    40818   Diesel  150  54.3   \n10777   5 Series  2016  14600    Automatic    42947   Diesel  125  60.1   \n10778   3 Series  2017  13100       Manual    25468   Petrol  200  42.8   \n10779   1 Series  2014   9930    Automatic    45000   Diesel   30  64.2   \n10780         X1  2017  15981    Automatic    59432   Diesel  125  57.6   \n\n       engineSize  \n0             2.0  \n1             2.0  \n2             3.0  \n3             1.5  \n4             3.0  \n...           ...  \n10776         2.0  \n10777         2.0  \n10778         2.0  \n10779         2.0  \n10780         2.0  \n\n[10781 rows x 9 columns]",
      "text/html": "<div>\n<style scoped>\n    .dataframe tbody tr th:only-of-type {\n        vertical-align: middle;\n    }\n\n    .dataframe tbody tr th {\n        vertical-align: top;\n    }\n\n    .dataframe thead th {\n        text-align: right;\n    }\n</style>\n<table border=\"1\" class=\"dataframe\">\n  <thead>\n    <tr style=\"text-align: right;\">\n      <th></th>\n      <th>model</th>\n      <th>year</th>\n      <th>price</th>\n      <th>transmission</th>\n      <th>mileage</th>\n      <th>fuelType</th>\n      <th>tax</th>\n      <th>mpg</th>\n      <th>engineSize</th>\n    </tr>\n  </thead>\n  <tbody>\n    <tr>\n      <th>0</th>\n      <td>5 Series</td>\n      <td>2014</td>\n      <td>11200</td>\n      <td>Automatic</td>\n      <td>67068</td>\n      <td>Diesel</td>\n      <td>125</td>\n      <td>57.6</td>\n      <td>2.0</td>\n    </tr>\n    <tr>\n      <th>1</th>\n      <td>6 Series</td>\n      <td>2018</td>\n      <td>27000</td>\n      <td>Automatic</td>\n      <td>14827</td>\n      <td>Petrol</td>\n      <td>145</td>\n      <td>42.8</td>\n      <td>2.0</td>\n    </tr>\n    <tr>\n      <th>2</th>\n      <td>5 Series</td>\n      <td>2016</td>\n      <td>16000</td>\n      <td>Automatic</td>\n      <td>62794</td>\n      <td>Diesel</td>\n      <td>160</td>\n      <td>51.4</td>\n      <td>3.0</td>\n    </tr>\n    <tr>\n      <th>3</th>\n      <td>1 Series</td>\n      <td>2017</td>\n      <td>12750</td>\n      <td>Automatic</td>\n      <td>26676</td>\n      <td>Diesel</td>\n      <td>145</td>\n      <td>72.4</td>\n      <td>1.5</td>\n    </tr>\n    <tr>\n      <th>4</th>\n      <td>7 Series</td>\n      <td>2014</td>\n      <td>14500</td>\n      <td>Automatic</td>\n      <td>39554</td>\n      <td>Diesel</td>\n      <td>160</td>\n      <td>50.4</td>\n      <td>3.0</td>\n    </tr>\n    <tr>\n      <th>...</th>\n      <td>...</td>\n      <td>...</td>\n      <td>...</td>\n      <td>...</td>\n      <td>...</td>\n      <td>...</td>\n      <td>...</td>\n      <td>...</td>\n      <td>...</td>\n    </tr>\n    <tr>\n      <th>10776</th>\n      <td>X3</td>\n      <td>2016</td>\n      <td>19000</td>\n      <td>Automatic</td>\n      <td>40818</td>\n      <td>Diesel</td>\n      <td>150</td>\n      <td>54.3</td>\n      <td>2.0</td>\n    </tr>\n    <tr>\n      <th>10777</th>\n      <td>5 Series</td>\n      <td>2016</td>\n      <td>14600</td>\n      <td>Automatic</td>\n      <td>42947</td>\n      <td>Diesel</td>\n      <td>125</td>\n      <td>60.1</td>\n      <td>2.0</td>\n    </tr>\n    <tr>\n      <th>10778</th>\n      <td>3 Series</td>\n      <td>2017</td>\n      <td>13100</td>\n      <td>Manual</td>\n      <td>25468</td>\n      <td>Petrol</td>\n      <td>200</td>\n      <td>42.8</td>\n      <td>2.0</td>\n    </tr>\n    <tr>\n      <th>10779</th>\n      <td>1 Series</td>\n      <td>2014</td>\n      <td>9930</td>\n      <td>Automatic</td>\n      <td>45000</td>\n      <td>Diesel</td>\n      <td>30</td>\n      <td>64.2</td>\n      <td>2.0</td>\n    </tr>\n    <tr>\n      <th>10780</th>\n      <td>X1</td>\n      <td>2017</td>\n      <td>15981</td>\n      <td>Automatic</td>\n      <td>59432</td>\n      <td>Diesel</td>\n      <td>125</td>\n      <td>57.6</td>\n      <td>2.0</td>\n    </tr>\n  </tbody>\n</table>\n<p>10781 rows × 9 columns</p>\n</div>"
     },
     "metadata": {}
    }
   ],
   "execution_count": null
  },
  {
   "cell_type": "code",
   "source": "data.nunique()",
   "metadata": {
    "tags": [],
    "cell_id": "00002-e4ddee58-17b7-4674-a6cb-bbfc8ea0131f",
    "deepnote_to_be_reexecuted": false,
    "source_hash": "ea017a94",
    "execution_start": 1640022295195,
    "execution_millis": 29,
    "deepnote_output_heights": [
     194
    ],
    "deepnote_cell_type": "code"
   },
   "outputs": [
    {
     "output_type": "execute_result",
     "execution_count": 5,
     "data": {
      "text/plain": "model             24\nyear              25\nprice           3777\ntransmission       3\nmileage         8086\nfuelType           5\ntax               38\nmpg              102\nengineSize        17\ndtype: int64"
     },
     "metadata": {}
    }
   ],
   "execution_count": null
  },
  {
   "cell_type": "code",
   "source": "missing_values = [np.nan, \"\", \" \", None]\n\ndata.isin(missing_values).mean().sort_values(ascending=False) * 100",
   "metadata": {
    "tags": [],
    "cell_id": "00003-151d2853-1e47-403a-a52c-940b3d25b8ca",
    "deepnote_to_be_reexecuted": false,
    "source_hash": "3a008220",
    "execution_start": 1640022379743,
    "execution_millis": 35,
    "deepnote_output_heights": [
     194
    ],
    "deepnote_cell_type": "code"
   },
   "outputs": [
    {
     "output_type": "execute_result",
     "execution_count": 10,
     "data": {
      "text/plain": "model           0.0\nyear            0.0\nprice           0.0\ntransmission    0.0\nmileage         0.0\nfuelType        0.0\ntax             0.0\nmpg             0.0\nengineSize      0.0\ndtype: float64"
     },
     "metadata": {}
    }
   ],
   "execution_count": null
  },
  {
   "cell_type": "code",
   "source": "# Separating out the Target Column\nX = data.drop(columns=\"price\")\ny = data[\"price\"]",
   "metadata": {
    "tags": [],
    "cell_id": "00004-98d8bd04-9491-43d4-9751-da3c03d5e186",
    "deepnote_to_be_reexecuted": false,
    "source_hash": "fdaf23d4",
    "execution_start": 1640022412817,
    "execution_millis": 0,
    "deepnote_cell_type": "code"
   },
   "outputs": [],
   "execution_count": null
  },
  {
   "cell_type": "code",
   "source": "car_type = {'5 Series':'sedan',\n '6 Series':'coupe',\n '1 Series':'coupe',\n '7 Series':'sedan',\n '2 Series':'coupe',\n '4 Series':'coupe',\n 'X3':'suv',\n '3 Series':'sedan',\n 'X5':'suv',\n 'X4':'suv',\n 'i3':'electric',\n 'X1':'suv',\n 'M4':'sports',\n 'X2':'suv',\n 'X6':'suv',\n '8 Series':'coupe',\n 'Z4':'convertible',\n 'X7':'suv',\n 'M5':'sports',\n 'i8':'electric',\n 'M2':'sports',\n 'M3':'sports',\n 'M6':'sports',\n 'Z3':'convertible'}\n\n# Feature Engineering\n# We're going to add a classification that I manually put together \nX[\"model\"] = X[\"model\"].str.strip()\nX[\"car_type\"] = X[\"model\"].map(car_type)\nX",
   "metadata": {
    "tags": [],
    "cell_id": "00005-67139ef9-c3e6-4a05-a506-a082afde195f",
    "deepnote_to_be_reexecuted": false,
    "source_hash": "70b7638a",
    "execution_start": 1640022499720,
    "execution_millis": 174,
    "deepnote_cell_type": "code"
   },
   "outputs": [
    {
     "output_type": "execute_result",
     "execution_count": 12,
     "data": {
      "application/vnd.deepnote.dataframe.v3+json": {
       "column_count": 9,
       "row_count": 10781,
       "columns": [
        {
         "name": "model",
         "dtype": "object",
         "stats": {
          "unique_count": 24,
          "nan_count": 0,
          "categories": [
           {
            "name": "3 Series",
            "count": 2443
           },
           {
            "name": "1 Series",
            "count": 1969
           },
           {
            "name": "22 others",
            "count": 6369
           }
          ]
         }
        },
        {
         "name": "year",
         "dtype": "int64",
         "stats": {
          "unique_count": 25,
          "nan_count": 0,
          "min": "1996",
          "max": "2020",
          "histogram": [
           {
            "bin_start": 1996,
            "bin_end": 1998.4,
            "count": 3
           },
           {
            "bin_start": 1998.4,
            "bin_end": 2000.8,
            "count": 6
           },
           {
            "bin_start": 2000.8,
            "bin_end": 2003.2,
            "count": 11
           },
           {
            "bin_start": 2003.2,
            "bin_end": 2005.6,
            "count": 18
           },
           {
            "bin_start": 2005.6,
            "bin_end": 2008,
            "count": 30
           },
           {
            "bin_start": 2008,
            "bin_end": 2010.4,
            "count": 94
           },
           {
            "bin_start": 2010.4,
            "bin_end": 2012.8,
            "count": 170
           },
           {
            "bin_start": 2012.8,
            "bin_end": 2015.2,
            "count": 1780
           },
           {
            "bin_start": 2015.2,
            "bin_end": 2017.6,
            "count": 3603
           },
           {
            "bin_start": 2017.6,
            "bin_end": 2020,
            "count": 5066
           }
          ]
         }
        },
        {
         "name": "transmission",
         "dtype": "object",
         "stats": {
          "unique_count": 3,
          "nan_count": 0,
          "categories": [
           {
            "name": "Semi-Auto",
            "count": 4666
           },
           {
            "name": "Automatic",
            "count": 3588
           },
           {
            "name": "Manual",
            "count": 2527
           }
          ]
         }
        },
        {
         "name": "mileage",
         "dtype": "int64",
         "stats": {
          "unique_count": 8086,
          "nan_count": 0,
          "min": "1",
          "max": "214000",
          "histogram": [
           {
            "bin_start": 1,
            "bin_end": 21400.9,
            "count": 5830
           },
           {
            "bin_start": 21400.9,
            "bin_end": 42800.8,
            "count": 2679
           },
           {
            "bin_start": 42800.8,
            "bin_end": 64200.700000000004,
            "count": 1295
           },
           {
            "bin_start": 64200.700000000004,
            "bin_end": 85600.6,
            "count": 657
           },
           {
            "bin_start": 85600.6,
            "bin_end": 107000.5,
            "count": 237
           },
           {
            "bin_start": 107000.5,
            "bin_end": 128400.40000000001,
            "count": 49
           },
           {
            "bin_start": 128400.40000000001,
            "bin_end": 149800.30000000002,
            "count": 24
           },
           {
            "bin_start": 149800.30000000002,
            "bin_end": 171200.2,
            "count": 7
           },
           {
            "bin_start": 171200.2,
            "bin_end": 192600.1,
            "count": 2
           },
           {
            "bin_start": 192600.1,
            "bin_end": 214000,
            "count": 1
           }
          ]
         }
        },
        {
         "name": "fuelType",
         "dtype": "object",
         "stats": {
          "unique_count": 5,
          "nan_count": 0,
          "categories": [
           {
            "name": "Diesel",
            "count": 7027
           },
           {
            "name": "Petrol",
            "count": 3417
           },
           {
            "name": "3 others",
            "count": 337
           }
          ]
         }
        },
        {
         "name": "tax",
         "dtype": "int64",
         "stats": {
          "unique_count": 38,
          "nan_count": 0,
          "min": "0",
          "max": "580",
          "histogram": [
           {
            "bin_start": 0,
            "bin_end": 58,
            "count": 1814
           },
           {
            "bin_start": 58,
            "bin_end": 116,
            "count": 1
           },
           {
            "bin_start": 116,
            "bin_end": 174,
            "count": 8166
           },
           {
            "bin_start": 174,
            "bin_end": 232,
            "count": 441
           },
           {
            "bin_start": 232,
            "bin_end": 290,
            "count": 168
           },
           {
            "bin_start": 290,
            "bin_end": 348,
            "count": 150
           },
           {
            "bin_start": 348,
            "bin_end": 406,
            "count": 0
           },
           {
            "bin_start": 406,
            "bin_end": 464,
            "count": 0
           },
           {
            "bin_start": 464,
            "bin_end": 522,
            "count": 0
           },
           {
            "bin_start": 522,
            "bin_end": 580,
            "count": 41
           }
          ]
         }
        },
        {
         "name": "mpg",
         "dtype": "float64",
         "stats": {
          "unique_count": 102,
          "nan_count": 0,
          "min": "5.5",
          "max": "470.8",
          "histogram": [
           {
            "bin_start": 5.5,
            "bin_end": 52.03,
            "count": 4916
           },
           {
            "bin_start": 52.03,
            "bin_end": 98.56,
            "count": 5605
           },
           {
            "bin_start": 98.56,
            "bin_end": 145.09,
            "count": 124
           },
           {
            "bin_start": 145.09,
            "bin_end": 191.62,
            "count": 93
           },
           {
            "bin_start": 191.62,
            "bin_end": 238.15,
            "count": 0
           },
           {
            "bin_start": 238.15,
            "bin_end": 284.68,
            "count": 0
           },
           {
            "bin_start": 284.68,
            "bin_end": 331.21000000000004,
            "count": 0
           },
           {
            "bin_start": 331.21000000000004,
            "bin_end": 377.74,
            "count": 0
           },
           {
            "bin_start": 377.74,
            "bin_end": 424.27,
            "count": 0
           },
           {
            "bin_start": 424.27,
            "bin_end": 470.8,
            "count": 43
           }
          ]
         }
        },
        {
         "name": "engineSize",
         "dtype": "float64",
         "stats": {
          "unique_count": 17,
          "nan_count": 0,
          "min": "0.0",
          "max": "6.6",
          "histogram": [
           {
            "bin_start": 0,
            "bin_end": 0.6599999999999999,
            "count": 54
           },
           {
            "bin_start": 0.6599999999999999,
            "bin_end": 1.3199999999999998,
            "count": 1
           },
           {
            "bin_start": 1.3199999999999998,
            "bin_end": 1.9799999999999998,
            "count": 1577
           },
           {
            "bin_start": 1.9799999999999998,
            "bin_end": 2.6399999999999997,
            "count": 6595
           },
           {
            "bin_start": 2.6399999999999997,
            "bin_end": 3.3,
            "count": 2465
           },
           {
            "bin_start": 3.3,
            "bin_end": 3.9599999999999995,
            "count": 1
           },
           {
            "bin_start": 3.9599999999999995,
            "bin_end": 4.619999999999999,
            "count": 85
           },
           {
            "bin_start": 4.619999999999999,
            "bin_end": 5.279999999999999,
            "count": 1
           },
           {
            "bin_start": 5.279999999999999,
            "bin_end": 5.9399999999999995,
            "count": 0
           },
           {
            "bin_start": 5.9399999999999995,
            "bin_end": 6.6,
            "count": 2
           }
          ]
         }
        },
        {
         "name": "car_type",
         "dtype": "object",
         "stats": {
          "unique_count": 6,
          "nan_count": 0,
          "categories": [
           {
            "name": "coupe",
            "count": 4340
           },
           {
            "name": "sedan",
            "count": 3605
           },
           {
            "name": "4 others",
            "count": 2836
           }
          ]
         }
        },
        {
         "name": "_deepnote_index_column",
         "dtype": "int64"
        }
       ],
       "rows": [
        {
         "model": "5 Series",
         "year": 2014,
         "transmission": "Automatic",
         "mileage": 67068,
         "fuelType": "Diesel",
         "tax": 125,
         "mpg": 57.6,
         "engineSize": 2,
         "car_type": "sedan",
         "_deepnote_index_column": 0
        },
        {
         "model": "6 Series",
         "year": 2018,
         "transmission": "Automatic",
         "mileage": 14827,
         "fuelType": "Petrol",
         "tax": 145,
         "mpg": 42.8,
         "engineSize": 2,
         "car_type": "coupe",
         "_deepnote_index_column": 1
        },
        {
         "model": "5 Series",
         "year": 2016,
         "transmission": "Automatic",
         "mileage": 62794,
         "fuelType": "Diesel",
         "tax": 160,
         "mpg": 51.4,
         "engineSize": 3,
         "car_type": "sedan",
         "_deepnote_index_column": 2
        },
        {
         "model": "1 Series",
         "year": 2017,
         "transmission": "Automatic",
         "mileage": 26676,
         "fuelType": "Diesel",
         "tax": 145,
         "mpg": 72.4,
         "engineSize": 1.5,
         "car_type": "coupe",
         "_deepnote_index_column": 3
        },
        {
         "model": "7 Series",
         "year": 2014,
         "transmission": "Automatic",
         "mileage": 39554,
         "fuelType": "Diesel",
         "tax": 160,
         "mpg": 50.4,
         "engineSize": 3,
         "car_type": "sedan",
         "_deepnote_index_column": 4
        },
        {
         "model": "5 Series",
         "year": 2016,
         "transmission": "Automatic",
         "mileage": 35309,
         "fuelType": "Diesel",
         "tax": 125,
         "mpg": 60.1,
         "engineSize": 2,
         "car_type": "sedan",
         "_deepnote_index_column": 5
        },
        {
         "model": "5 Series",
         "year": 2017,
         "transmission": "Automatic",
         "mileage": 38538,
         "fuelType": "Diesel",
         "tax": 125,
         "mpg": 60.1,
         "engineSize": 2,
         "car_type": "sedan",
         "_deepnote_index_column": 6
        },
        {
         "model": "2 Series",
         "year": 2018,
         "transmission": "Manual",
         "mileage": 10401,
         "fuelType": "Petrol",
         "tax": 145,
         "mpg": 52.3,
         "engineSize": 1.5,
         "car_type": "coupe",
         "_deepnote_index_column": 7
        },
        {
         "model": "4 Series",
         "year": 2017,
         "transmission": "Manual",
         "mileage": 42668,
         "fuelType": "Diesel",
         "tax": 30,
         "mpg": 62.8,
         "engineSize": 2,
         "car_type": "coupe",
         "_deepnote_index_column": 8
        },
        {
         "model": "5 Series",
         "year": 2016,
         "transmission": "Automatic",
         "mileage": 36099,
         "fuelType": "Diesel",
         "tax": 20,
         "mpg": 68.9,
         "engineSize": 2,
         "car_type": "sedan",
         "_deepnote_index_column": 9
        }
       ]
      },
      "text/plain": "          model  year transmission  mileage fuelType  tax   mpg  engineSize  \\\n0      5 Series  2014    Automatic    67068   Diesel  125  57.6         2.0   \n1      6 Series  2018    Automatic    14827   Petrol  145  42.8         2.0   \n2      5 Series  2016    Automatic    62794   Diesel  160  51.4         3.0   \n3      1 Series  2017    Automatic    26676   Diesel  145  72.4         1.5   \n4      7 Series  2014    Automatic    39554   Diesel  160  50.4         3.0   \n...         ...   ...          ...      ...      ...  ...   ...         ...   \n10776        X3  2016    Automatic    40818   Diesel  150  54.3         2.0   \n10777  5 Series  2016    Automatic    42947   Diesel  125  60.1         2.0   \n10778  3 Series  2017       Manual    25468   Petrol  200  42.8         2.0   \n10779  1 Series  2014    Automatic    45000   Diesel   30  64.2         2.0   \n10780        X1  2017    Automatic    59432   Diesel  125  57.6         2.0   \n\n      car_type  \n0        sedan  \n1        coupe  \n2        sedan  \n3        coupe  \n4        sedan  \n...        ...  \n10776      suv  \n10777    sedan  \n10778    sedan  \n10779    coupe  \n10780      suv  \n\n[10781 rows x 9 columns]",
      "text/html": "<div>\n<style scoped>\n    .dataframe tbody tr th:only-of-type {\n        vertical-align: middle;\n    }\n\n    .dataframe tbody tr th {\n        vertical-align: top;\n    }\n\n    .dataframe thead th {\n        text-align: right;\n    }\n</style>\n<table border=\"1\" class=\"dataframe\">\n  <thead>\n    <tr style=\"text-align: right;\">\n      <th></th>\n      <th>model</th>\n      <th>year</th>\n      <th>transmission</th>\n      <th>mileage</th>\n      <th>fuelType</th>\n      <th>tax</th>\n      <th>mpg</th>\n      <th>engineSize</th>\n      <th>car_type</th>\n    </tr>\n  </thead>\n  <tbody>\n    <tr>\n      <th>0</th>\n      <td>5 Series</td>\n      <td>2014</td>\n      <td>Automatic</td>\n      <td>67068</td>\n      <td>Diesel</td>\n      <td>125</td>\n      <td>57.6</td>\n      <td>2.0</td>\n      <td>sedan</td>\n    </tr>\n    <tr>\n      <th>1</th>\n      <td>6 Series</td>\n      <td>2018</td>\n      <td>Automatic</td>\n      <td>14827</td>\n      <td>Petrol</td>\n      <td>145</td>\n      <td>42.8</td>\n      <td>2.0</td>\n      <td>coupe</td>\n    </tr>\n    <tr>\n      <th>2</th>\n      <td>5 Series</td>\n      <td>2016</td>\n      <td>Automatic</td>\n      <td>62794</td>\n      <td>Diesel</td>\n      <td>160</td>\n      <td>51.4</td>\n      <td>3.0</td>\n      <td>sedan</td>\n    </tr>\n    <tr>\n      <th>3</th>\n      <td>1 Series</td>\n      <td>2017</td>\n      <td>Automatic</td>\n      <td>26676</td>\n      <td>Diesel</td>\n      <td>145</td>\n      <td>72.4</td>\n      <td>1.5</td>\n      <td>coupe</td>\n    </tr>\n    <tr>\n      <th>4</th>\n      <td>7 Series</td>\n      <td>2014</td>\n      <td>Automatic</td>\n      <td>39554</td>\n      <td>Diesel</td>\n      <td>160</td>\n      <td>50.4</td>\n      <td>3.0</td>\n      <td>sedan</td>\n    </tr>\n    <tr>\n      <th>...</th>\n      <td>...</td>\n      <td>...</td>\n      <td>...</td>\n      <td>...</td>\n      <td>...</td>\n      <td>...</td>\n      <td>...</td>\n      <td>...</td>\n      <td>...</td>\n    </tr>\n    <tr>\n      <th>10776</th>\n      <td>X3</td>\n      <td>2016</td>\n      <td>Automatic</td>\n      <td>40818</td>\n      <td>Diesel</td>\n      <td>150</td>\n      <td>54.3</td>\n      <td>2.0</td>\n      <td>suv</td>\n    </tr>\n    <tr>\n      <th>10777</th>\n      <td>5 Series</td>\n      <td>2016</td>\n      <td>Automatic</td>\n      <td>42947</td>\n      <td>Diesel</td>\n      <td>125</td>\n      <td>60.1</td>\n      <td>2.0</td>\n      <td>sedan</td>\n    </tr>\n    <tr>\n      <th>10778</th>\n      <td>3 Series</td>\n      <td>2017</td>\n      <td>Manual</td>\n      <td>25468</td>\n      <td>Petrol</td>\n      <td>200</td>\n      <td>42.8</td>\n      <td>2.0</td>\n      <td>sedan</td>\n    </tr>\n    <tr>\n      <th>10779</th>\n      <td>1 Series</td>\n      <td>2014</td>\n      <td>Automatic</td>\n      <td>45000</td>\n      <td>Diesel</td>\n      <td>30</td>\n      <td>64.2</td>\n      <td>2.0</td>\n      <td>coupe</td>\n    </tr>\n    <tr>\n      <th>10780</th>\n      <td>X1</td>\n      <td>2017</td>\n      <td>Automatic</td>\n      <td>59432</td>\n      <td>Diesel</td>\n      <td>125</td>\n      <td>57.6</td>\n      <td>2.0</td>\n      <td>suv</td>\n    </tr>\n  </tbody>\n</table>\n<p>10781 rows × 9 columns</p>\n</div>"
     },
     "metadata": {}
    }
   ],
   "execution_count": null
  },
  {
   "cell_type": "code",
   "source": "X = pd.get_dummies(X, drop_first=True)\nX",
   "metadata": {
    "tags": [],
    "cell_id": "00006-b9609f90-8c41-424a-a025-901a0700d438",
    "deepnote_to_be_reexecuted": false,
    "source_hash": "848f3b7b",
    "execution_start": 1640022557267,
    "execution_millis": 243,
    "deepnote_cell_type": "code"
   },
   "outputs": [
    {
     "output_type": "execute_result",
     "execution_count": 13,
     "data": {
      "application/vnd.deepnote.dataframe.v3+json": {
       "column_count": 39,
       "row_count": 10781,
       "columns": [
        {
         "name": "year",
         "dtype": "int64",
         "stats": {
          "unique_count": 25,
          "nan_count": 0,
          "min": "1996",
          "max": "2020",
          "histogram": [
           {
            "bin_start": 1996,
            "bin_end": 1998.4,
            "count": 3
           },
           {
            "bin_start": 1998.4,
            "bin_end": 2000.8,
            "count": 6
           },
           {
            "bin_start": 2000.8,
            "bin_end": 2003.2,
            "count": 11
           },
           {
            "bin_start": 2003.2,
            "bin_end": 2005.6,
            "count": 18
           },
           {
            "bin_start": 2005.6,
            "bin_end": 2008,
            "count": 30
           },
           {
            "bin_start": 2008,
            "bin_end": 2010.4,
            "count": 94
           },
           {
            "bin_start": 2010.4,
            "bin_end": 2012.8,
            "count": 170
           },
           {
            "bin_start": 2012.8,
            "bin_end": 2015.2,
            "count": 1780
           },
           {
            "bin_start": 2015.2,
            "bin_end": 2017.6,
            "count": 3603
           },
           {
            "bin_start": 2017.6,
            "bin_end": 2020,
            "count": 5066
           }
          ]
         }
        },
        {
         "name": "mileage",
         "dtype": "int64",
         "stats": {
          "unique_count": 8086,
          "nan_count": 0,
          "min": "1",
          "max": "214000",
          "histogram": [
           {
            "bin_start": 1,
            "bin_end": 21400.9,
            "count": 5830
           },
           {
            "bin_start": 21400.9,
            "bin_end": 42800.8,
            "count": 2679
           },
           {
            "bin_start": 42800.8,
            "bin_end": 64200.700000000004,
            "count": 1295
           },
           {
            "bin_start": 64200.700000000004,
            "bin_end": 85600.6,
            "count": 657
           },
           {
            "bin_start": 85600.6,
            "bin_end": 107000.5,
            "count": 237
           },
           {
            "bin_start": 107000.5,
            "bin_end": 128400.40000000001,
            "count": 49
           },
           {
            "bin_start": 128400.40000000001,
            "bin_end": 149800.30000000002,
            "count": 24
           },
           {
            "bin_start": 149800.30000000002,
            "bin_end": 171200.2,
            "count": 7
           },
           {
            "bin_start": 171200.2,
            "bin_end": 192600.1,
            "count": 2
           },
           {
            "bin_start": 192600.1,
            "bin_end": 214000,
            "count": 1
           }
          ]
         }
        },
        {
         "name": "tax",
         "dtype": "int64",
         "stats": {
          "unique_count": 38,
          "nan_count": 0,
          "min": "0",
          "max": "580",
          "histogram": [
           {
            "bin_start": 0,
            "bin_end": 58,
            "count": 1814
           },
           {
            "bin_start": 58,
            "bin_end": 116,
            "count": 1
           },
           {
            "bin_start": 116,
            "bin_end": 174,
            "count": 8166
           },
           {
            "bin_start": 174,
            "bin_end": 232,
            "count": 441
           },
           {
            "bin_start": 232,
            "bin_end": 290,
            "count": 168
           },
           {
            "bin_start": 290,
            "bin_end": 348,
            "count": 150
           },
           {
            "bin_start": 348,
            "bin_end": 406,
            "count": 0
           },
           {
            "bin_start": 406,
            "bin_end": 464,
            "count": 0
           },
           {
            "bin_start": 464,
            "bin_end": 522,
            "count": 0
           },
           {
            "bin_start": 522,
            "bin_end": 580,
            "count": 41
           }
          ]
         }
        },
        {
         "name": "mpg",
         "dtype": "float64",
         "stats": {
          "unique_count": 102,
          "nan_count": 0,
          "min": "5.5",
          "max": "470.8",
          "histogram": [
           {
            "bin_start": 5.5,
            "bin_end": 52.03,
            "count": 4916
           },
           {
            "bin_start": 52.03,
            "bin_end": 98.56,
            "count": 5605
           },
           {
            "bin_start": 98.56,
            "bin_end": 145.09,
            "count": 124
           },
           {
            "bin_start": 145.09,
            "bin_end": 191.62,
            "count": 93
           },
           {
            "bin_start": 191.62,
            "bin_end": 238.15,
            "count": 0
           },
           {
            "bin_start": 238.15,
            "bin_end": 284.68,
            "count": 0
           },
           {
            "bin_start": 284.68,
            "bin_end": 331.21000000000004,
            "count": 0
           },
           {
            "bin_start": 331.21000000000004,
            "bin_end": 377.74,
            "count": 0
           },
           {
            "bin_start": 377.74,
            "bin_end": 424.27,
            "count": 0
           },
           {
            "bin_start": 424.27,
            "bin_end": 470.8,
            "count": 43
           }
          ]
         }
        },
        {
         "name": "engineSize",
         "dtype": "float64",
         "stats": {
          "unique_count": 17,
          "nan_count": 0,
          "min": "0.0",
          "max": "6.6",
          "histogram": [
           {
            "bin_start": 0,
            "bin_end": 0.6599999999999999,
            "count": 54
           },
           {
            "bin_start": 0.6599999999999999,
            "bin_end": 1.3199999999999998,
            "count": 1
           },
           {
            "bin_start": 1.3199999999999998,
            "bin_end": 1.9799999999999998,
            "count": 1577
           },
           {
            "bin_start": 1.9799999999999998,
            "bin_end": 2.6399999999999997,
            "count": 6595
           },
           {
            "bin_start": 2.6399999999999997,
            "bin_end": 3.3,
            "count": 2465
           },
           {
            "bin_start": 3.3,
            "bin_end": 3.9599999999999995,
            "count": 1
           },
           {
            "bin_start": 3.9599999999999995,
            "bin_end": 4.619999999999999,
            "count": 85
           },
           {
            "bin_start": 4.619999999999999,
            "bin_end": 5.279999999999999,
            "count": 1
           },
           {
            "bin_start": 5.279999999999999,
            "bin_end": 5.9399999999999995,
            "count": 0
           },
           {
            "bin_start": 5.9399999999999995,
            "bin_end": 6.6,
            "count": 2
           }
          ]
         }
        },
        {
         "name": "model_2 Series",
         "dtype": "uint8",
         "stats": {
          "unique_count": 2,
          "nan_count": 0,
          "min": "0",
          "max": "1",
          "histogram": [
           {
            "bin_start": 0,
            "bin_end": 0.1,
            "count": 9552
           },
           {
            "bin_start": 0.1,
            "bin_end": 0.2,
            "count": 0
           },
           {
            "bin_start": 0.2,
            "bin_end": 0.30000000000000004,
            "count": 0
           },
           {
            "bin_start": 0.30000000000000004,
            "bin_end": 0.4,
            "count": 0
           },
           {
            "bin_start": 0.4,
            "bin_end": 0.5,
            "count": 0
           },
           {
            "bin_start": 0.5,
            "bin_end": 0.6000000000000001,
            "count": 0
           },
           {
            "bin_start": 0.6000000000000001,
            "bin_end": 0.7000000000000001,
            "count": 0
           },
           {
            "bin_start": 0.7000000000000001,
            "bin_end": 0.8,
            "count": 0
           },
           {
            "bin_start": 0.8,
            "bin_end": 0.9,
            "count": 0
           },
           {
            "bin_start": 0.9,
            "bin_end": 1,
            "count": 1229
           }
          ]
         }
        },
        {
         "name": "model_3 Series",
         "dtype": "uint8",
         "stats": {
          "unique_count": 2,
          "nan_count": 0,
          "min": "0",
          "max": "1",
          "histogram": [
           {
            "bin_start": 0,
            "bin_end": 0.1,
            "count": 8338
           },
           {
            "bin_start": 0.1,
            "bin_end": 0.2,
            "count": 0
           },
           {
            "bin_start": 0.2,
            "bin_end": 0.30000000000000004,
            "count": 0
           },
           {
            "bin_start": 0.30000000000000004,
            "bin_end": 0.4,
            "count": 0
           },
           {
            "bin_start": 0.4,
            "bin_end": 0.5,
            "count": 0
           },
           {
            "bin_start": 0.5,
            "bin_end": 0.6000000000000001,
            "count": 0
           },
           {
            "bin_start": 0.6000000000000001,
            "bin_end": 0.7000000000000001,
            "count": 0
           },
           {
            "bin_start": 0.7000000000000001,
            "bin_end": 0.8,
            "count": 0
           },
           {
            "bin_start": 0.8,
            "bin_end": 0.9,
            "count": 0
           },
           {
            "bin_start": 0.9,
            "bin_end": 1,
            "count": 2443
           }
          ]
         }
        },
        {
         "name": "model_4 Series",
         "dtype": "uint8",
         "stats": {
          "unique_count": 2,
          "nan_count": 0,
          "min": "0",
          "max": "1",
          "histogram": [
           {
            "bin_start": 0,
            "bin_end": 0.1,
            "count": 9786
           },
           {
            "bin_start": 0.1,
            "bin_end": 0.2,
            "count": 0
           },
           {
            "bin_start": 0.2,
            "bin_end": 0.30000000000000004,
            "count": 0
           },
           {
            "bin_start": 0.30000000000000004,
            "bin_end": 0.4,
            "count": 0
           },
           {
            "bin_start": 0.4,
            "bin_end": 0.5,
            "count": 0
           },
           {
            "bin_start": 0.5,
            "bin_end": 0.6000000000000001,
            "count": 0
           },
           {
            "bin_start": 0.6000000000000001,
            "bin_end": 0.7000000000000001,
            "count": 0
           },
           {
            "bin_start": 0.7000000000000001,
            "bin_end": 0.8,
            "count": 0
           },
           {
            "bin_start": 0.8,
            "bin_end": 0.9,
            "count": 0
           },
           {
            "bin_start": 0.9,
            "bin_end": 1,
            "count": 995
           }
          ]
         }
        },
        {
         "name": "model_5 Series",
         "dtype": "uint8",
         "stats": {
          "unique_count": 2,
          "nan_count": 0,
          "min": "0",
          "max": "1",
          "histogram": [
           {
            "bin_start": 0,
            "bin_end": 0.1,
            "count": 9725
           },
           {
            "bin_start": 0.1,
            "bin_end": 0.2,
            "count": 0
           },
           {
            "bin_start": 0.2,
            "bin_end": 0.30000000000000004,
            "count": 0
           },
           {
            "bin_start": 0.30000000000000004,
            "bin_end": 0.4,
            "count": 0
           },
           {
            "bin_start": 0.4,
            "bin_end": 0.5,
            "count": 0
           },
           {
            "bin_start": 0.5,
            "bin_end": 0.6000000000000001,
            "count": 0
           },
           {
            "bin_start": 0.6000000000000001,
            "bin_end": 0.7000000000000001,
            "count": 0
           },
           {
            "bin_start": 0.7000000000000001,
            "bin_end": 0.8,
            "count": 0
           },
           {
            "bin_start": 0.8,
            "bin_end": 0.9,
            "count": 0
           },
           {
            "bin_start": 0.9,
            "bin_end": 1,
            "count": 1056
           }
          ]
         }
        },
        {
         "name": "model_6 Series",
         "dtype": "uint8"
        },
        {
         "name": "model_7 Series",
         "dtype": "uint8"
        },
        {
         "name": "model_8 Series",
         "dtype": "uint8"
        },
        {
         "name": "model_M2",
         "dtype": "uint8"
        },
        {
         "name": "model_M3",
         "dtype": "uint8"
        },
        {
         "name": "model_M4",
         "dtype": "uint8"
        },
        {
         "name": "model_M5",
         "dtype": "uint8"
        },
        {
         "name": "model_M6",
         "dtype": "uint8"
        },
        {
         "name": "model_X1",
         "dtype": "uint8"
        },
        {
         "name": "model_X2",
         "dtype": "uint8"
        },
        {
         "name": "model_X3",
         "dtype": "uint8"
        },
        {
         "name": "model_X4",
         "dtype": "uint8"
        },
        {
         "name": "model_X5",
         "dtype": "uint8"
        },
        {
         "name": "model_X6",
         "dtype": "uint8"
        },
        {
         "name": "model_X7",
         "dtype": "uint8"
        },
        {
         "name": "model_Z3",
         "dtype": "uint8"
        },
        {
         "name": "model_Z4",
         "dtype": "uint8"
        },
        {
         "name": "model_i3",
         "dtype": "uint8"
        },
        {
         "name": "model_i8",
         "dtype": "uint8"
        },
        {
         "name": "transmission_Manual",
         "dtype": "uint8"
        },
        {
         "name": "transmission_Semi-Auto",
         "dtype": "uint8"
        },
        {
         "name": "fuelType_Electric",
         "dtype": "uint8"
        },
        {
         "name": "fuelType_Hybrid",
         "dtype": "uint8"
        },
        {
         "name": "fuelType_Other",
         "dtype": "uint8"
        },
        {
         "name": "fuelType_Petrol",
         "dtype": "uint8"
        },
        {
         "name": "car_type_coupe",
         "dtype": "uint8"
        },
        {
         "name": "car_type_electric",
         "dtype": "uint8"
        },
        {
         "name": "car_type_sedan",
         "dtype": "uint8"
        },
        {
         "name": "car_type_sports",
         "dtype": "uint8"
        },
        {
         "name": "car_type_suv",
         "dtype": "uint8"
        },
        {
         "name": "_deepnote_index_column",
         "dtype": "int64"
        }
       ],
       "rows": [
        {
         "year": 2014,
         "mileage": 67068,
         "tax": 125,
         "mpg": 57.6,
         "engineSize": 2,
         "model_2 Series": 0,
         "model_3 Series": 0,
         "model_4 Series": 0,
         "model_5 Series": 1,
         "model_6 Series": 0,
         "model_7 Series": 0,
         "model_8 Series": 0,
         "model_M2": 0,
         "model_M3": 0,
         "model_M4": 0,
         "model_M5": 0,
         "model_M6": 0,
         "model_X1": 0,
         "model_X2": 0,
         "model_X3": 0,
         "model_X4": 0,
         "model_X5": 0,
         "model_X6": 0,
         "model_X7": 0,
         "model_Z3": 0,
         "model_Z4": 0,
         "model_i3": 0,
         "model_i8": 0,
         "transmission_Manual": 0,
         "transmission_Semi-Auto": 0,
         "fuelType_Electric": 0,
         "fuelType_Hybrid": 0,
         "fuelType_Other": 0,
         "fuelType_Petrol": 0,
         "car_type_coupe": 0,
         "car_type_electric": 0,
         "car_type_sedan": 1,
         "car_type_sports": 0,
         "car_type_suv": 0,
         "_deepnote_index_column": 0
        },
        {
         "year": 2018,
         "mileage": 14827,
         "tax": 145,
         "mpg": 42.8,
         "engineSize": 2,
         "model_2 Series": 0,
         "model_3 Series": 0,
         "model_4 Series": 0,
         "model_5 Series": 0,
         "model_6 Series": 1,
         "model_7 Series": 0,
         "model_8 Series": 0,
         "model_M2": 0,
         "model_M3": 0,
         "model_M4": 0,
         "model_M5": 0,
         "model_M6": 0,
         "model_X1": 0,
         "model_X2": 0,
         "model_X3": 0,
         "model_X4": 0,
         "model_X5": 0,
         "model_X6": 0,
         "model_X7": 0,
         "model_Z3": 0,
         "model_Z4": 0,
         "model_i3": 0,
         "model_i8": 0,
         "transmission_Manual": 0,
         "transmission_Semi-Auto": 0,
         "fuelType_Electric": 0,
         "fuelType_Hybrid": 0,
         "fuelType_Other": 0,
         "fuelType_Petrol": 1,
         "car_type_coupe": 1,
         "car_type_electric": 0,
         "car_type_sedan": 0,
         "car_type_sports": 0,
         "car_type_suv": 0,
         "_deepnote_index_column": 1
        },
        {
         "year": 2016,
         "mileage": 62794,
         "tax": 160,
         "mpg": 51.4,
         "engineSize": 3,
         "model_2 Series": 0,
         "model_3 Series": 0,
         "model_4 Series": 0,
         "model_5 Series": 1,
         "model_6 Series": 0,
         "model_7 Series": 0,
         "model_8 Series": 0,
         "model_M2": 0,
         "model_M3": 0,
         "model_M4": 0,
         "model_M5": 0,
         "model_M6": 0,
         "model_X1": 0,
         "model_X2": 0,
         "model_X3": 0,
         "model_X4": 0,
         "model_X5": 0,
         "model_X6": 0,
         "model_X7": 0,
         "model_Z3": 0,
         "model_Z4": 0,
         "model_i3": 0,
         "model_i8": 0,
         "transmission_Manual": 0,
         "transmission_Semi-Auto": 0,
         "fuelType_Electric": 0,
         "fuelType_Hybrid": 0,
         "fuelType_Other": 0,
         "fuelType_Petrol": 0,
         "car_type_coupe": 0,
         "car_type_electric": 0,
         "car_type_sedan": 1,
         "car_type_sports": 0,
         "car_type_suv": 0,
         "_deepnote_index_column": 2
        },
        {
         "year": 2017,
         "mileage": 26676,
         "tax": 145,
         "mpg": 72.4,
         "engineSize": 1.5,
         "model_2 Series": 0,
         "model_3 Series": 0,
         "model_4 Series": 0,
         "model_5 Series": 0,
         "model_6 Series": 0,
         "model_7 Series": 0,
         "model_8 Series": 0,
         "model_M2": 0,
         "model_M3": 0,
         "model_M4": 0,
         "model_M5": 0,
         "model_M6": 0,
         "model_X1": 0,
         "model_X2": 0,
         "model_X3": 0,
         "model_X4": 0,
         "model_X5": 0,
         "model_X6": 0,
         "model_X7": 0,
         "model_Z3": 0,
         "model_Z4": 0,
         "model_i3": 0,
         "model_i8": 0,
         "transmission_Manual": 0,
         "transmission_Semi-Auto": 0,
         "fuelType_Electric": 0,
         "fuelType_Hybrid": 0,
         "fuelType_Other": 0,
         "fuelType_Petrol": 0,
         "car_type_coupe": 1,
         "car_type_electric": 0,
         "car_type_sedan": 0,
         "car_type_sports": 0,
         "car_type_suv": 0,
         "_deepnote_index_column": 3
        },
        {
         "year": 2014,
         "mileage": 39554,
         "tax": 160,
         "mpg": 50.4,
         "engineSize": 3,
         "model_2 Series": 0,
         "model_3 Series": 0,
         "model_4 Series": 0,
         "model_5 Series": 0,
         "model_6 Series": 0,
         "model_7 Series": 1,
         "model_8 Series": 0,
         "model_M2": 0,
         "model_M3": 0,
         "model_M4": 0,
         "model_M5": 0,
         "model_M6": 0,
         "model_X1": 0,
         "model_X2": 0,
         "model_X3": 0,
         "model_X4": 0,
         "model_X5": 0,
         "model_X6": 0,
         "model_X7": 0,
         "model_Z3": 0,
         "model_Z4": 0,
         "model_i3": 0,
         "model_i8": 0,
         "transmission_Manual": 0,
         "transmission_Semi-Auto": 0,
         "fuelType_Electric": 0,
         "fuelType_Hybrid": 0,
         "fuelType_Other": 0,
         "fuelType_Petrol": 0,
         "car_type_coupe": 0,
         "car_type_electric": 0,
         "car_type_sedan": 1,
         "car_type_sports": 0,
         "car_type_suv": 0,
         "_deepnote_index_column": 4
        },
        {
         "year": 2016,
         "mileage": 35309,
         "tax": 125,
         "mpg": 60.1,
         "engineSize": 2,
         "model_2 Series": 0,
         "model_3 Series": 0,
         "model_4 Series": 0,
         "model_5 Series": 1,
         "model_6 Series": 0,
         "model_7 Series": 0,
         "model_8 Series": 0,
         "model_M2": 0,
         "model_M3": 0,
         "model_M4": 0,
         "model_M5": 0,
         "model_M6": 0,
         "model_X1": 0,
         "model_X2": 0,
         "model_X3": 0,
         "model_X4": 0,
         "model_X5": 0,
         "model_X6": 0,
         "model_X7": 0,
         "model_Z3": 0,
         "model_Z4": 0,
         "model_i3": 0,
         "model_i8": 0,
         "transmission_Manual": 0,
         "transmission_Semi-Auto": 0,
         "fuelType_Electric": 0,
         "fuelType_Hybrid": 0,
         "fuelType_Other": 0,
         "fuelType_Petrol": 0,
         "car_type_coupe": 0,
         "car_type_electric": 0,
         "car_type_sedan": 1,
         "car_type_sports": 0,
         "car_type_suv": 0,
         "_deepnote_index_column": 5
        },
        {
         "year": 2017,
         "mileage": 38538,
         "tax": 125,
         "mpg": 60.1,
         "engineSize": 2,
         "model_2 Series": 0,
         "model_3 Series": 0,
         "model_4 Series": 0,
         "model_5 Series": 1,
         "model_6 Series": 0,
         "model_7 Series": 0,
         "model_8 Series": 0,
         "model_M2": 0,
         "model_M3": 0,
         "model_M4": 0,
         "model_M5": 0,
         "model_M6": 0,
         "model_X1": 0,
         "model_X2": 0,
         "model_X3": 0,
         "model_X4": 0,
         "model_X5": 0,
         "model_X6": 0,
         "model_X7": 0,
         "model_Z3": 0,
         "model_Z4": 0,
         "model_i3": 0,
         "model_i8": 0,
         "transmission_Manual": 0,
         "transmission_Semi-Auto": 0,
         "fuelType_Electric": 0,
         "fuelType_Hybrid": 0,
         "fuelType_Other": 0,
         "fuelType_Petrol": 0,
         "car_type_coupe": 0,
         "car_type_electric": 0,
         "car_type_sedan": 1,
         "car_type_sports": 0,
         "car_type_suv": 0,
         "_deepnote_index_column": 6
        },
        {
         "year": 2018,
         "mileage": 10401,
         "tax": 145,
         "mpg": 52.3,
         "engineSize": 1.5,
         "model_2 Series": 1,
         "model_3 Series": 0,
         "model_4 Series": 0,
         "model_5 Series": 0,
         "model_6 Series": 0,
         "model_7 Series": 0,
         "model_8 Series": 0,
         "model_M2": 0,
         "model_M3": 0,
         "model_M4": 0,
         "model_M5": 0,
         "model_M6": 0,
         "model_X1": 0,
         "model_X2": 0,
         "model_X3": 0,
         "model_X4": 0,
         "model_X5": 0,
         "model_X6": 0,
         "model_X7": 0,
         "model_Z3": 0,
         "model_Z4": 0,
         "model_i3": 0,
         "model_i8": 0,
         "transmission_Manual": 1,
         "transmission_Semi-Auto": 0,
         "fuelType_Electric": 0,
         "fuelType_Hybrid": 0,
         "fuelType_Other": 0,
         "fuelType_Petrol": 1,
         "car_type_coupe": 1,
         "car_type_electric": 0,
         "car_type_sedan": 0,
         "car_type_sports": 0,
         "car_type_suv": 0,
         "_deepnote_index_column": 7
        },
        {
         "year": 2017,
         "mileage": 42668,
         "tax": 30,
         "mpg": 62.8,
         "engineSize": 2,
         "model_2 Series": 0,
         "model_3 Series": 0,
         "model_4 Series": 1,
         "model_5 Series": 0,
         "model_6 Series": 0,
         "model_7 Series": 0,
         "model_8 Series": 0,
         "model_M2": 0,
         "model_M3": 0,
         "model_M4": 0,
         "model_M5": 0,
         "model_M6": 0,
         "model_X1": 0,
         "model_X2": 0,
         "model_X3": 0,
         "model_X4": 0,
         "model_X5": 0,
         "model_X6": 0,
         "model_X7": 0,
         "model_Z3": 0,
         "model_Z4": 0,
         "model_i3": 0,
         "model_i8": 0,
         "transmission_Manual": 1,
         "transmission_Semi-Auto": 0,
         "fuelType_Electric": 0,
         "fuelType_Hybrid": 0,
         "fuelType_Other": 0,
         "fuelType_Petrol": 0,
         "car_type_coupe": 1,
         "car_type_electric": 0,
         "car_type_sedan": 0,
         "car_type_sports": 0,
         "car_type_suv": 0,
         "_deepnote_index_column": 8
        },
        {
         "year": 2016,
         "mileage": 36099,
         "tax": 20,
         "mpg": 68.9,
         "engineSize": 2,
         "model_2 Series": 0,
         "model_3 Series": 0,
         "model_4 Series": 0,
         "model_5 Series": 1,
         "model_6 Series": 0,
         "model_7 Series": 0,
         "model_8 Series": 0,
         "model_M2": 0,
         "model_M3": 0,
         "model_M4": 0,
         "model_M5": 0,
         "model_M6": 0,
         "model_X1": 0,
         "model_X2": 0,
         "model_X3": 0,
         "model_X4": 0,
         "model_X5": 0,
         "model_X6": 0,
         "model_X7": 0,
         "model_Z3": 0,
         "model_Z4": 0,
         "model_i3": 0,
         "model_i8": 0,
         "transmission_Manual": 0,
         "transmission_Semi-Auto": 0,
         "fuelType_Electric": 0,
         "fuelType_Hybrid": 0,
         "fuelType_Other": 0,
         "fuelType_Petrol": 0,
         "car_type_coupe": 0,
         "car_type_electric": 0,
         "car_type_sedan": 1,
         "car_type_sports": 0,
         "car_type_suv": 0,
         "_deepnote_index_column": 9
        }
       ]
      },
      "text/plain": "       year  mileage  tax   mpg  engineSize  model_2 Series  model_3 Series  \\\n0      2014    67068  125  57.6         2.0               0               0   \n1      2018    14827  145  42.8         2.0               0               0   \n2      2016    62794  160  51.4         3.0               0               0   \n3      2017    26676  145  72.4         1.5               0               0   \n4      2014    39554  160  50.4         3.0               0               0   \n...     ...      ...  ...   ...         ...             ...             ...   \n10776  2016    40818  150  54.3         2.0               0               0   \n10777  2016    42947  125  60.1         2.0               0               0   \n10778  2017    25468  200  42.8         2.0               0               1   \n10779  2014    45000   30  64.2         2.0               0               0   \n10780  2017    59432  125  57.6         2.0               0               0   \n\n       model_4 Series  model_5 Series  model_6 Series  ...  \\\n0                   0               1               0  ...   \n1                   0               0               1  ...   \n2                   0               1               0  ...   \n3                   0               0               0  ...   \n4                   0               0               0  ...   \n...               ...             ...             ...  ...   \n10776               0               0               0  ...   \n10777               0               1               0  ...   \n10778               0               0               0  ...   \n10779               0               0               0  ...   \n10780               0               0               0  ...   \n\n       transmission_Semi-Auto  fuelType_Electric  fuelType_Hybrid  \\\n0                           0                  0                0   \n1                           0                  0                0   \n2                           0                  0                0   \n3                           0                  0                0   \n4                           0                  0                0   \n...                       ...                ...              ...   \n10776                       0                  0                0   \n10777                       0                  0                0   \n10778                       0                  0                0   \n10779                       0                  0                0   \n10780                       0                  0                0   \n\n       fuelType_Other  fuelType_Petrol  car_type_coupe  car_type_electric  \\\n0                   0                0               0                  0   \n1                   0                1               1                  0   \n2                   0                0               0                  0   \n3                   0                0               1                  0   \n4                   0                0               0                  0   \n...               ...              ...             ...                ...   \n10776               0                0               0                  0   \n10777               0                0               0                  0   \n10778               0                1               0                  0   \n10779               0                0               1                  0   \n10780               0                0               0                  0   \n\n       car_type_sedan  car_type_sports  car_type_suv  \n0                   1                0             0  \n1                   0                0             0  \n2                   1                0             0  \n3                   0                0             0  \n4                   1                0             0  \n...               ...              ...           ...  \n10776               0                0             1  \n10777               1                0             0  \n10778               1                0             0  \n10779               0                0             0  \n10780               0                0             1  \n\n[10781 rows x 39 columns]",
      "text/html": "<div>\n<style scoped>\n    .dataframe tbody tr th:only-of-type {\n        vertical-align: middle;\n    }\n\n    .dataframe tbody tr th {\n        vertical-align: top;\n    }\n\n    .dataframe thead th {\n        text-align: right;\n    }\n</style>\n<table border=\"1\" class=\"dataframe\">\n  <thead>\n    <tr style=\"text-align: right;\">\n      <th></th>\n      <th>year</th>\n      <th>mileage</th>\n      <th>tax</th>\n      <th>mpg</th>\n      <th>engineSize</th>\n      <th>model_2 Series</th>\n      <th>model_3 Series</th>\n      <th>model_4 Series</th>\n      <th>model_5 Series</th>\n      <th>model_6 Series</th>\n      <th>...</th>\n      <th>transmission_Semi-Auto</th>\n      <th>fuelType_Electric</th>\n      <th>fuelType_Hybrid</th>\n      <th>fuelType_Other</th>\n      <th>fuelType_Petrol</th>\n      <th>car_type_coupe</th>\n      <th>car_type_electric</th>\n      <th>car_type_sedan</th>\n      <th>car_type_sports</th>\n      <th>car_type_suv</th>\n    </tr>\n  </thead>\n  <tbody>\n    <tr>\n      <th>0</th>\n      <td>2014</td>\n      <td>67068</td>\n      <td>125</td>\n      <td>57.6</td>\n      <td>2.0</td>\n      <td>0</td>\n      <td>0</td>\n      <td>0</td>\n      <td>1</td>\n      <td>0</td>\n      <td>...</td>\n      <td>0</td>\n      <td>0</td>\n      <td>0</td>\n      <td>0</td>\n      <td>0</td>\n      <td>0</td>\n      <td>0</td>\n      <td>1</td>\n      <td>0</td>\n      <td>0</td>\n    </tr>\n    <tr>\n      <th>1</th>\n      <td>2018</td>\n      <td>14827</td>\n      <td>145</td>\n      <td>42.8</td>\n      <td>2.0</td>\n      <td>0</td>\n      <td>0</td>\n      <td>0</td>\n      <td>0</td>\n      <td>1</td>\n      <td>...</td>\n      <td>0</td>\n      <td>0</td>\n      <td>0</td>\n      <td>0</td>\n      <td>1</td>\n      <td>1</td>\n      <td>0</td>\n      <td>0</td>\n      <td>0</td>\n      <td>0</td>\n    </tr>\n    <tr>\n      <th>2</th>\n      <td>2016</td>\n      <td>62794</td>\n      <td>160</td>\n      <td>51.4</td>\n      <td>3.0</td>\n      <td>0</td>\n      <td>0</td>\n      <td>0</td>\n      <td>1</td>\n      <td>0</td>\n      <td>...</td>\n      <td>0</td>\n      <td>0</td>\n      <td>0</td>\n      <td>0</td>\n      <td>0</td>\n      <td>0</td>\n      <td>0</td>\n      <td>1</td>\n      <td>0</td>\n      <td>0</td>\n    </tr>\n    <tr>\n      <th>3</th>\n      <td>2017</td>\n      <td>26676</td>\n      <td>145</td>\n      <td>72.4</td>\n      <td>1.5</td>\n      <td>0</td>\n      <td>0</td>\n      <td>0</td>\n      <td>0</td>\n      <td>0</td>\n      <td>...</td>\n      <td>0</td>\n      <td>0</td>\n      <td>0</td>\n      <td>0</td>\n      <td>0</td>\n      <td>1</td>\n      <td>0</td>\n      <td>0</td>\n      <td>0</td>\n      <td>0</td>\n    </tr>\n    <tr>\n      <th>4</th>\n      <td>2014</td>\n      <td>39554</td>\n      <td>160</td>\n      <td>50.4</td>\n      <td>3.0</td>\n      <td>0</td>\n      <td>0</td>\n      <td>0</td>\n      <td>0</td>\n      <td>0</td>\n      <td>...</td>\n      <td>0</td>\n      <td>0</td>\n      <td>0</td>\n      <td>0</td>\n      <td>0</td>\n      <td>0</td>\n      <td>0</td>\n      <td>1</td>\n      <td>0</td>\n      <td>0</td>\n    </tr>\n    <tr>\n      <th>...</th>\n      <td>...</td>\n      <td>...</td>\n      <td>...</td>\n      <td>...</td>\n      <td>...</td>\n      <td>...</td>\n      <td>...</td>\n      <td>...</td>\n      <td>...</td>\n      <td>...</td>\n      <td>...</td>\n      <td>...</td>\n      <td>...</td>\n      <td>...</td>\n      <td>...</td>\n      <td>...</td>\n      <td>...</td>\n      <td>...</td>\n      <td>...</td>\n      <td>...</td>\n      <td>...</td>\n    </tr>\n    <tr>\n      <th>10776</th>\n      <td>2016</td>\n      <td>40818</td>\n      <td>150</td>\n      <td>54.3</td>\n      <td>2.0</td>\n      <td>0</td>\n      <td>0</td>\n      <td>0</td>\n      <td>0</td>\n      <td>0</td>\n      <td>...</td>\n      <td>0</td>\n      <td>0</td>\n      <td>0</td>\n      <td>0</td>\n      <td>0</td>\n      <td>0</td>\n      <td>0</td>\n      <td>0</td>\n      <td>0</td>\n      <td>1</td>\n    </tr>\n    <tr>\n      <th>10777</th>\n      <td>2016</td>\n      <td>42947</td>\n      <td>125</td>\n      <td>60.1</td>\n      <td>2.0</td>\n      <td>0</td>\n      <td>0</td>\n      <td>0</td>\n      <td>1</td>\n      <td>0</td>\n      <td>...</td>\n      <td>0</td>\n      <td>0</td>\n      <td>0</td>\n      <td>0</td>\n      <td>0</td>\n      <td>0</td>\n      <td>0</td>\n      <td>1</td>\n      <td>0</td>\n      <td>0</td>\n    </tr>\n    <tr>\n      <th>10778</th>\n      <td>2017</td>\n      <td>25468</td>\n      <td>200</td>\n      <td>42.8</td>\n      <td>2.0</td>\n      <td>0</td>\n      <td>1</td>\n      <td>0</td>\n      <td>0</td>\n      <td>0</td>\n      <td>...</td>\n      <td>0</td>\n      <td>0</td>\n      <td>0</td>\n      <td>0</td>\n      <td>1</td>\n      <td>0</td>\n      <td>0</td>\n      <td>1</td>\n      <td>0</td>\n      <td>0</td>\n    </tr>\n    <tr>\n      <th>10779</th>\n      <td>2014</td>\n      <td>45000</td>\n      <td>30</td>\n      <td>64.2</td>\n      <td>2.0</td>\n      <td>0</td>\n      <td>0</td>\n      <td>0</td>\n      <td>0</td>\n      <td>0</td>\n      <td>...</td>\n      <td>0</td>\n      <td>0</td>\n      <td>0</td>\n      <td>0</td>\n      <td>0</td>\n      <td>1</td>\n      <td>0</td>\n      <td>0</td>\n      <td>0</td>\n      <td>0</td>\n    </tr>\n    <tr>\n      <th>10780</th>\n      <td>2017</td>\n      <td>59432</td>\n      <td>125</td>\n      <td>57.6</td>\n      <td>2.0</td>\n      <td>0</td>\n      <td>0</td>\n      <td>0</td>\n      <td>0</td>\n      <td>0</td>\n      <td>...</td>\n      <td>0</td>\n      <td>0</td>\n      <td>0</td>\n      <td>0</td>\n      <td>0</td>\n      <td>0</td>\n      <td>0</td>\n      <td>0</td>\n      <td>0</td>\n      <td>1</td>\n    </tr>\n  </tbody>\n</table>\n<p>10781 rows × 39 columns</p>\n</div>"
     },
     "metadata": {}
    }
   ],
   "execution_count": null
  },
  {
   "cell_type": "code",
   "source": "from sklearn.preprocessing import MinMaxScaler\n\nscaler = MinMaxScaler()\n\nX = pd.DataFrame(scaler.fit_transform(X), columns=X.columns)\nX",
   "metadata": {
    "tags": [],
    "cell_id": "00007-b9e359f8-8fa2-45fd-8006-0190db6ff8ed",
    "deepnote_to_be_reexecuted": false,
    "source_hash": "637852dc",
    "execution_start": 1640022592345,
    "execution_millis": 1710,
    "deepnote_cell_type": "code"
   },
   "outputs": [
    {
     "output_type": "execute_result",
     "execution_count": 14,
     "data": {
      "application/vnd.deepnote.dataframe.v3+json": {
       "column_count": 39,
       "row_count": 10781,
       "columns": [
        {
         "name": "year",
         "dtype": "float64",
         "stats": {
          "unique_count": 25,
          "nan_count": 0,
          "min": "0.0",
          "max": "1.0",
          "histogram": [
           {
            "bin_start": 0,
            "bin_end": 0.1,
            "count": 3
           },
           {
            "bin_start": 0.1,
            "bin_end": 0.2,
            "count": 6
           },
           {
            "bin_start": 0.2,
            "bin_end": 0.30000000000000004,
            "count": 11
           },
           {
            "bin_start": 0.30000000000000004,
            "bin_end": 0.4,
            "count": 18
           },
           {
            "bin_start": 0.4,
            "bin_end": 0.5,
            "count": 30
           },
           {
            "bin_start": 0.5,
            "bin_end": 0.6000000000000001,
            "count": 94
           },
           {
            "bin_start": 0.6000000000000001,
            "bin_end": 0.7000000000000001,
            "count": 170
           },
           {
            "bin_start": 0.7000000000000001,
            "bin_end": 0.8,
            "count": 1780
           },
           {
            "bin_start": 0.8,
            "bin_end": 0.9,
            "count": 3603
           },
           {
            "bin_start": 0.9,
            "bin_end": 1,
            "count": 5066
           }
          ]
         }
        },
        {
         "name": "mileage",
         "dtype": "float64",
         "stats": {
          "unique_count": 8086,
          "nan_count": 0,
          "min": "0.0",
          "max": "1.0",
          "histogram": [
           {
            "bin_start": 0,
            "bin_end": 0.1,
            "count": 5830
           },
           {
            "bin_start": 0.1,
            "bin_end": 0.2,
            "count": 2679
           },
           {
            "bin_start": 0.2,
            "bin_end": 0.30000000000000004,
            "count": 1295
           },
           {
            "bin_start": 0.30000000000000004,
            "bin_end": 0.4,
            "count": 657
           },
           {
            "bin_start": 0.4,
            "bin_end": 0.5,
            "count": 237
           },
           {
            "bin_start": 0.5,
            "bin_end": 0.6000000000000001,
            "count": 49
           },
           {
            "bin_start": 0.6000000000000001,
            "bin_end": 0.7000000000000001,
            "count": 24
           },
           {
            "bin_start": 0.7000000000000001,
            "bin_end": 0.8,
            "count": 7
           },
           {
            "bin_start": 0.8,
            "bin_end": 0.9,
            "count": 2
           },
           {
            "bin_start": 0.9,
            "bin_end": 1,
            "count": 1
           }
          ]
         }
        },
        {
         "name": "tax",
         "dtype": "float64",
         "stats": {
          "unique_count": 38,
          "nan_count": 0,
          "min": "0.0",
          "max": "1.0",
          "histogram": [
           {
            "bin_start": 0,
            "bin_end": 0.1,
            "count": 1814
           },
           {
            "bin_start": 0.1,
            "bin_end": 0.2,
            "count": 1
           },
           {
            "bin_start": 0.2,
            "bin_end": 0.30000000000000004,
            "count": 8166
           },
           {
            "bin_start": 0.30000000000000004,
            "bin_end": 0.4,
            "count": 441
           },
           {
            "bin_start": 0.4,
            "bin_end": 0.5,
            "count": 168
           },
           {
            "bin_start": 0.5,
            "bin_end": 0.6000000000000001,
            "count": 150
           },
           {
            "bin_start": 0.6000000000000001,
            "bin_end": 0.7000000000000001,
            "count": 0
           },
           {
            "bin_start": 0.7000000000000001,
            "bin_end": 0.8,
            "count": 0
           },
           {
            "bin_start": 0.8,
            "bin_end": 0.9,
            "count": 0
           },
           {
            "bin_start": 0.9,
            "bin_end": 1,
            "count": 41
           }
          ]
         }
        },
        {
         "name": "mpg",
         "dtype": "float64",
         "stats": {
          "unique_count": 102,
          "nan_count": 0,
          "min": "0.0",
          "max": "0.9999999999999999",
          "histogram": [
           {
            "bin_start": 0,
            "bin_end": 0.09999999999999999,
            "count": 4916
           },
           {
            "bin_start": 0.09999999999999999,
            "bin_end": 0.19999999999999998,
            "count": 5605
           },
           {
            "bin_start": 0.19999999999999998,
            "bin_end": 0.3,
            "count": 124
           },
           {
            "bin_start": 0.3,
            "bin_end": 0.39999999999999997,
            "count": 93
           },
           {
            "bin_start": 0.39999999999999997,
            "bin_end": 0.49999999999999994,
            "count": 0
           },
           {
            "bin_start": 0.49999999999999994,
            "bin_end": 0.6,
            "count": 0
           },
           {
            "bin_start": 0.6,
            "bin_end": 0.7,
            "count": 0
           },
           {
            "bin_start": 0.7,
            "bin_end": 0.7999999999999999,
            "count": 0
           },
           {
            "bin_start": 0.7999999999999999,
            "bin_end": 0.8999999999999999,
            "count": 0
           },
           {
            "bin_start": 0.8999999999999999,
            "bin_end": 0.9999999999999999,
            "count": 43
           }
          ]
         }
        },
        {
         "name": "engineSize",
         "dtype": "float64",
         "stats": {
          "unique_count": 17,
          "nan_count": 0,
          "min": "0.0",
          "max": "1.0",
          "histogram": [
           {
            "bin_start": 0,
            "bin_end": 0.1,
            "count": 54
           },
           {
            "bin_start": 0.1,
            "bin_end": 0.2,
            "count": 1
           },
           {
            "bin_start": 0.2,
            "bin_end": 0.30000000000000004,
            "count": 1577
           },
           {
            "bin_start": 0.30000000000000004,
            "bin_end": 0.4,
            "count": 6595
           },
           {
            "bin_start": 0.4,
            "bin_end": 0.5,
            "count": 2465
           },
           {
            "bin_start": 0.5,
            "bin_end": 0.6000000000000001,
            "count": 1
           },
           {
            "bin_start": 0.6000000000000001,
            "bin_end": 0.7000000000000001,
            "count": 85
           },
           {
            "bin_start": 0.7000000000000001,
            "bin_end": 0.8,
            "count": 1
           },
           {
            "bin_start": 0.8,
            "bin_end": 0.9,
            "count": 0
           },
           {
            "bin_start": 0.9,
            "bin_end": 1,
            "count": 2
           }
          ]
         }
        },
        {
         "name": "model_2 Series",
         "dtype": "float64",
         "stats": {
          "unique_count": 2,
          "nan_count": 0,
          "min": "0.0",
          "max": "1.0",
          "histogram": [
           {
            "bin_start": 0,
            "bin_end": 0.1,
            "count": 9552
           },
           {
            "bin_start": 0.1,
            "bin_end": 0.2,
            "count": 0
           },
           {
            "bin_start": 0.2,
            "bin_end": 0.30000000000000004,
            "count": 0
           },
           {
            "bin_start": 0.30000000000000004,
            "bin_end": 0.4,
            "count": 0
           },
           {
            "bin_start": 0.4,
            "bin_end": 0.5,
            "count": 0
           },
           {
            "bin_start": 0.5,
            "bin_end": 0.6000000000000001,
            "count": 0
           },
           {
            "bin_start": 0.6000000000000001,
            "bin_end": 0.7000000000000001,
            "count": 0
           },
           {
            "bin_start": 0.7000000000000001,
            "bin_end": 0.8,
            "count": 0
           },
           {
            "bin_start": 0.8,
            "bin_end": 0.9,
            "count": 0
           },
           {
            "bin_start": 0.9,
            "bin_end": 1,
            "count": 1229
           }
          ]
         }
        },
        {
         "name": "model_3 Series",
         "dtype": "float64",
         "stats": {
          "unique_count": 2,
          "nan_count": 0,
          "min": "0.0",
          "max": "1.0",
          "histogram": [
           {
            "bin_start": 0,
            "bin_end": 0.1,
            "count": 8338
           },
           {
            "bin_start": 0.1,
            "bin_end": 0.2,
            "count": 0
           },
           {
            "bin_start": 0.2,
            "bin_end": 0.30000000000000004,
            "count": 0
           },
           {
            "bin_start": 0.30000000000000004,
            "bin_end": 0.4,
            "count": 0
           },
           {
            "bin_start": 0.4,
            "bin_end": 0.5,
            "count": 0
           },
           {
            "bin_start": 0.5,
            "bin_end": 0.6000000000000001,
            "count": 0
           },
           {
            "bin_start": 0.6000000000000001,
            "bin_end": 0.7000000000000001,
            "count": 0
           },
           {
            "bin_start": 0.7000000000000001,
            "bin_end": 0.8,
            "count": 0
           },
           {
            "bin_start": 0.8,
            "bin_end": 0.9,
            "count": 0
           },
           {
            "bin_start": 0.9,
            "bin_end": 1,
            "count": 2443
           }
          ]
         }
        },
        {
         "name": "model_4 Series",
         "dtype": "float64",
         "stats": {
          "unique_count": 2,
          "nan_count": 0,
          "min": "0.0",
          "max": "1.0",
          "histogram": [
           {
            "bin_start": 0,
            "bin_end": 0.1,
            "count": 9786
           },
           {
            "bin_start": 0.1,
            "bin_end": 0.2,
            "count": 0
           },
           {
            "bin_start": 0.2,
            "bin_end": 0.30000000000000004,
            "count": 0
           },
           {
            "bin_start": 0.30000000000000004,
            "bin_end": 0.4,
            "count": 0
           },
           {
            "bin_start": 0.4,
            "bin_end": 0.5,
            "count": 0
           },
           {
            "bin_start": 0.5,
            "bin_end": 0.6000000000000001,
            "count": 0
           },
           {
            "bin_start": 0.6000000000000001,
            "bin_end": 0.7000000000000001,
            "count": 0
           },
           {
            "bin_start": 0.7000000000000001,
            "bin_end": 0.8,
            "count": 0
           },
           {
            "bin_start": 0.8,
            "bin_end": 0.9,
            "count": 0
           },
           {
            "bin_start": 0.9,
            "bin_end": 1,
            "count": 995
           }
          ]
         }
        },
        {
         "name": "model_5 Series",
         "dtype": "float64",
         "stats": {
          "unique_count": 2,
          "nan_count": 0,
          "min": "0.0",
          "max": "1.0",
          "histogram": [
           {
            "bin_start": 0,
            "bin_end": 0.1,
            "count": 9725
           },
           {
            "bin_start": 0.1,
            "bin_end": 0.2,
            "count": 0
           },
           {
            "bin_start": 0.2,
            "bin_end": 0.30000000000000004,
            "count": 0
           },
           {
            "bin_start": 0.30000000000000004,
            "bin_end": 0.4,
            "count": 0
           },
           {
            "bin_start": 0.4,
            "bin_end": 0.5,
            "count": 0
           },
           {
            "bin_start": 0.5,
            "bin_end": 0.6000000000000001,
            "count": 0
           },
           {
            "bin_start": 0.6000000000000001,
            "bin_end": 0.7000000000000001,
            "count": 0
           },
           {
            "bin_start": 0.7000000000000001,
            "bin_end": 0.8,
            "count": 0
           },
           {
            "bin_start": 0.8,
            "bin_end": 0.9,
            "count": 0
           },
           {
            "bin_start": 0.9,
            "bin_end": 1,
            "count": 1056
           }
          ]
         }
        },
        {
         "name": "model_6 Series",
         "dtype": "float64"
        },
        {
         "name": "model_7 Series",
         "dtype": "float64"
        },
        {
         "name": "model_8 Series",
         "dtype": "float64"
        },
        {
         "name": "model_M2",
         "dtype": "float64"
        },
        {
         "name": "model_M3",
         "dtype": "float64"
        },
        {
         "name": "model_M4",
         "dtype": "float64"
        },
        {
         "name": "model_M5",
         "dtype": "float64"
        },
        {
         "name": "model_M6",
         "dtype": "float64"
        },
        {
         "name": "model_X1",
         "dtype": "float64"
        },
        {
         "name": "model_X2",
         "dtype": "float64"
        },
        {
         "name": "model_X3",
         "dtype": "float64"
        },
        {
         "name": "model_X4",
         "dtype": "float64"
        },
        {
         "name": "model_X5",
         "dtype": "float64"
        },
        {
         "name": "model_X6",
         "dtype": "float64"
        },
        {
         "name": "model_X7",
         "dtype": "float64"
        },
        {
         "name": "model_Z3",
         "dtype": "float64"
        },
        {
         "name": "model_Z4",
         "dtype": "float64"
        },
        {
         "name": "model_i3",
         "dtype": "float64"
        },
        {
         "name": "model_i8",
         "dtype": "float64"
        },
        {
         "name": "transmission_Manual",
         "dtype": "float64"
        },
        {
         "name": "transmission_Semi-Auto",
         "dtype": "float64"
        },
        {
         "name": "fuelType_Electric",
         "dtype": "float64"
        },
        {
         "name": "fuelType_Hybrid",
         "dtype": "float64"
        },
        {
         "name": "fuelType_Other",
         "dtype": "float64"
        },
        {
         "name": "fuelType_Petrol",
         "dtype": "float64"
        },
        {
         "name": "car_type_coupe",
         "dtype": "float64"
        },
        {
         "name": "car_type_electric",
         "dtype": "float64"
        },
        {
         "name": "car_type_sedan",
         "dtype": "float64"
        },
        {
         "name": "car_type_sports",
         "dtype": "float64"
        },
        {
         "name": "car_type_suv",
         "dtype": "float64"
        },
        {
         "name": "_deepnote_index_column",
         "dtype": "int64"
        }
       ],
       "rows": [
        {
         "year": 0.75,
         "mileage": 0.3133986607414053,
         "tax": 0.21551724137931033,
         "mpg": 0.11197077154523963,
         "engineSize": 0.30303030303030304,
         "model_2 Series": 0,
         "model_3 Series": 0,
         "model_4 Series": 0,
         "model_5 Series": 1,
         "model_6 Series": 0,
         "model_7 Series": 0,
         "model_8 Series": 0,
         "model_M2": 0,
         "model_M3": 0,
         "model_M4": 0,
         "model_M5": 0,
         "model_M6": 0,
         "model_X1": 0,
         "model_X2": 0,
         "model_X3": 0,
         "model_X4": 0,
         "model_X5": 0,
         "model_X6": 0,
         "model_X7": 0,
         "model_Z3": 0,
         "model_Z4": 0,
         "model_i3": 0,
         "model_i8": 0,
         "transmission_Manual": 0,
         "transmission_Semi-Auto": 0,
         "fuelType_Electric": 0,
         "fuelType_Hybrid": 0,
         "fuelType_Other": 0,
         "fuelType_Petrol": 0,
         "car_type_coupe": 0,
         "car_type_electric": 0,
         "car_type_sedan": 1,
         "car_type_sports": 0,
         "car_type_suv": 0,
         "_deepnote_index_column": 0
        },
        {
         "year": 0.9166666666666714,
         "mileage": 0.06928069757335314,
         "tax": 0.25,
         "mpg": 0.0801633354824844,
         "engineSize": 0.30303030303030304,
         "model_2 Series": 0,
         "model_3 Series": 0,
         "model_4 Series": 0,
         "model_5 Series": 0,
         "model_6 Series": 1,
         "model_7 Series": 0,
         "model_8 Series": 0,
         "model_M2": 0,
         "model_M3": 0,
         "model_M4": 0,
         "model_M5": 0,
         "model_M6": 0,
         "model_X1": 0,
         "model_X2": 0,
         "model_X3": 0,
         "model_X4": 0,
         "model_X5": 0,
         "model_X6": 0,
         "model_X7": 0,
         "model_Z3": 0,
         "model_Z4": 0,
         "model_i3": 0,
         "model_i8": 0,
         "transmission_Manual": 0,
         "transmission_Semi-Auto": 0,
         "fuelType_Electric": 0,
         "fuelType_Hybrid": 0,
         "fuelType_Other": 0,
         "fuelType_Petrol": 1,
         "car_type_coupe": 1,
         "car_type_electric": 0,
         "car_type_sedan": 0,
         "car_type_sports": 0,
         "car_type_suv": 0,
         "_deepnote_index_column": 1
        },
        {
         "year": 0.8333333333333428,
         "mileage": 0.2934266047972187,
         "tax": 0.27586206896551724,
         "mpg": 0.09864603481624756,
         "engineSize": 0.4545454545454546,
         "model_2 Series": 0,
         "model_3 Series": 0,
         "model_4 Series": 0,
         "model_5 Series": 1,
         "model_6 Series": 0,
         "model_7 Series": 0,
         "model_8 Series": 0,
         "model_M2": 0,
         "model_M3": 0,
         "model_M4": 0,
         "model_M5": 0,
         "model_M6": 0,
         "model_X1": 0,
         "model_X2": 0,
         "model_X3": 0,
         "model_X4": 0,
         "model_X5": 0,
         "model_X6": 0,
         "model_X7": 0,
         "model_Z3": 0,
         "model_Z4": 0,
         "model_i3": 0,
         "model_i8": 0,
         "transmission_Manual": 0,
         "transmission_Semi-Auto": 0,
         "fuelType_Electric": 0,
         "fuelType_Hybrid": 0,
         "fuelType_Other": 0,
         "fuelType_Petrol": 0,
         "car_type_coupe": 0,
         "car_type_electric": 0,
         "car_type_sedan": 1,
         "car_type_sports": 0,
         "car_type_suv": 0,
         "_deepnote_index_column": 2
        },
        {
         "year": 0.875,
         "mileage": 0.12465011518745416,
         "tax": 0.25,
         "mpg": 0.14377820760799487,
         "engineSize": 0.2272727272727273,
         "model_2 Series": 0,
         "model_3 Series": 0,
         "model_4 Series": 0,
         "model_5 Series": 0,
         "model_6 Series": 0,
         "model_7 Series": 0,
         "model_8 Series": 0,
         "model_M2": 0,
         "model_M3": 0,
         "model_M4": 0,
         "model_M5": 0,
         "model_M6": 0,
         "model_X1": 0,
         "model_X2": 0,
         "model_X3": 0,
         "model_X4": 0,
         "model_X5": 0,
         "model_X6": 0,
         "model_X7": 0,
         "model_Z3": 0,
         "model_Z4": 0,
         "model_i3": 0,
         "model_i8": 0,
         "transmission_Manual": 0,
         "transmission_Semi-Auto": 0,
         "fuelType_Electric": 0,
         "fuelType_Hybrid": 0,
         "fuelType_Other": 0,
         "fuelType_Petrol": 0,
         "car_type_coupe": 1,
         "car_type_electric": 0,
         "car_type_sedan": 0,
         "car_type_sports": 0,
         "car_type_suv": 0,
         "_deepnote_index_column": 3
        },
        {
         "year": 0.75,
         "mileage": 0.1848279664858247,
         "tax": 0.27586206896551724,
         "mpg": 0.09649688373092627,
         "engineSize": 0.4545454545454546,
         "model_2 Series": 0,
         "model_3 Series": 0,
         "model_4 Series": 0,
         "model_5 Series": 0,
         "model_6 Series": 0,
         "model_7 Series": 1,
         "model_8 Series": 0,
         "model_M2": 0,
         "model_M3": 0,
         "model_M4": 0,
         "model_M5": 0,
         "model_M6": 0,
         "model_X1": 0,
         "model_X2": 0,
         "model_X3": 0,
         "model_X4": 0,
         "model_X5": 0,
         "model_X6": 0,
         "model_X7": 0,
         "model_Z3": 0,
         "model_Z4": 0,
         "model_i3": 0,
         "model_i8": 0,
         "transmission_Manual": 0,
         "transmission_Semi-Auto": 0,
         "fuelType_Electric": 0,
         "fuelType_Hybrid": 0,
         "fuelType_Other": 0,
         "fuelType_Petrol": 0,
         "car_type_coupe": 0,
         "car_type_electric": 0,
         "car_type_sedan": 1,
         "car_type_sports": 0,
         "car_type_suv": 0,
         "_deepnote_index_column": 4
        },
        {
         "year": 0.8333333333333428,
         "mileage": 0.16499142519357568,
         "tax": 0.21551724137931033,
         "mpg": 0.11734364925854286,
         "engineSize": 0.30303030303030304,
         "model_2 Series": 0,
         "model_3 Series": 0,
         "model_4 Series": 0,
         "model_5 Series": 1,
         "model_6 Series": 0,
         "model_7 Series": 0,
         "model_8 Series": 0,
         "model_M2": 0,
         "model_M3": 0,
         "model_M4": 0,
         "model_M5": 0,
         "model_M6": 0,
         "model_X1": 0,
         "model_X2": 0,
         "model_X3": 0,
         "model_X4": 0,
         "model_X5": 0,
         "model_X6": 0,
         "model_X7": 0,
         "model_Z3": 0,
         "model_Z4": 0,
         "model_i3": 0,
         "model_i8": 0,
         "transmission_Manual": 0,
         "transmission_Semi-Auto": 0,
         "fuelType_Electric": 0,
         "fuelType_Hybrid": 0,
         "fuelType_Other": 0,
         "fuelType_Petrol": 0,
         "car_type_coupe": 0,
         "car_type_electric": 0,
         "car_type_sedan": 1,
         "car_type_sports": 0,
         "car_type_suv": 0,
         "_deepnote_index_column": 5
        },
        {
         "year": 0.875,
         "mileage": 0.18008028074897547,
         "tax": 0.21551724137931033,
         "mpg": 0.11734364925854286,
         "engineSize": 0.30303030303030304,
         "model_2 Series": 0,
         "model_3 Series": 0,
         "model_4 Series": 0,
         "model_5 Series": 1,
         "model_6 Series": 0,
         "model_7 Series": 0,
         "model_8 Series": 0,
         "model_M2": 0,
         "model_M3": 0,
         "model_M4": 0,
         "model_M5": 0,
         "model_M6": 0,
         "model_X1": 0,
         "model_X2": 0,
         "model_X3": 0,
         "model_X4": 0,
         "model_X5": 0,
         "model_X6": 0,
         "model_X7": 0,
         "model_Z3": 0,
         "model_Z4": 0,
         "model_i3": 0,
         "model_i8": 0,
         "transmission_Manual": 0,
         "transmission_Semi-Auto": 0,
         "fuelType_Electric": 0,
         "fuelType_Hybrid": 0,
         "fuelType_Other": 0,
         "fuelType_Petrol": 0,
         "car_type_coupe": 0,
         "car_type_electric": 0,
         "car_type_sedan": 1,
         "car_type_sports": 0,
         "car_type_suv": 0,
         "_deepnote_index_column": 6
        },
        {
         "year": 0.9166666666666714,
         "mileage": 0.048598357936252036,
         "tax": 0.25,
         "mpg": 0.10058027079303673,
         "engineSize": 0.2272727272727273,
         "model_2 Series": 1,
         "model_3 Series": 0,
         "model_4 Series": 0,
         "model_5 Series": 0,
         "model_6 Series": 0,
         "model_7 Series": 0,
         "model_8 Series": 0,
         "model_M2": 0,
         "model_M3": 0,
         "model_M4": 0,
         "model_M5": 0,
         "model_M6": 0,
         "model_X1": 0,
         "model_X2": 0,
         "model_X3": 0,
         "model_X4": 0,
         "model_X5": 0,
         "model_X6": 0,
         "model_X7": 0,
         "model_Z3": 0,
         "model_Z4": 0,
         "model_i3": 0,
         "model_i8": 0,
         "transmission_Manual": 1,
         "transmission_Semi-Auto": 0,
         "fuelType_Electric": 0,
         "fuelType_Hybrid": 0,
         "fuelType_Other": 0,
         "fuelType_Petrol": 1,
         "car_type_coupe": 1,
         "car_type_electric": 0,
         "car_type_sedan": 0,
         "car_type_sports": 0,
         "car_type_suv": 0,
         "_deepnote_index_column": 7
        },
        {
         "year": 0.875,
         "mileage": 0.19937943635250632,
         "tax": 0.05172413793103448,
         "mpg": 0.12314635718891036,
         "engineSize": 0.30303030303030304,
         "model_2 Series": 0,
         "model_3 Series": 0,
         "model_4 Series": 1,
         "model_5 Series": 0,
         "model_6 Series": 0,
         "model_7 Series": 0,
         "model_8 Series": 0,
         "model_M2": 0,
         "model_M3": 0,
         "model_M4": 0,
         "model_M5": 0,
         "model_M6": 0,
         "model_X1": 0,
         "model_X2": 0,
         "model_X3": 0,
         "model_X4": 0,
         "model_X5": 0,
         "model_X6": 0,
         "model_X7": 0,
         "model_Z3": 0,
         "model_Z4": 0,
         "model_i3": 0,
         "model_i8": 0,
         "transmission_Manual": 1,
         "transmission_Semi-Auto": 0,
         "fuelType_Electric": 0,
         "fuelType_Hybrid": 0,
         "fuelType_Other": 0,
         "fuelType_Petrol": 0,
         "car_type_coupe": 1,
         "car_type_electric": 0,
         "car_type_sedan": 0,
         "car_type_sports": 0,
         "car_type_suv": 0,
         "_deepnote_index_column": 8
        },
        {
         "year": 0.8333333333333428,
         "mileage": 0.1686830312291179,
         "tax": 0.034482758620689655,
         "mpg": 0.13625617880937033,
         "engineSize": 0.30303030303030304,
         "model_2 Series": 0,
         "model_3 Series": 0,
         "model_4 Series": 0,
         "model_5 Series": 1,
         "model_6 Series": 0,
         "model_7 Series": 0,
         "model_8 Series": 0,
         "model_M2": 0,
         "model_M3": 0,
         "model_M4": 0,
         "model_M5": 0,
         "model_M6": 0,
         "model_X1": 0,
         "model_X2": 0,
         "model_X3": 0,
         "model_X4": 0,
         "model_X5": 0,
         "model_X6": 0,
         "model_X7": 0,
         "model_Z3": 0,
         "model_Z4": 0,
         "model_i3": 0,
         "model_i8": 0,
         "transmission_Manual": 0,
         "transmission_Semi-Auto": 0,
         "fuelType_Electric": 0,
         "fuelType_Hybrid": 0,
         "fuelType_Other": 0,
         "fuelType_Petrol": 0,
         "car_type_coupe": 0,
         "car_type_electric": 0,
         "car_type_sedan": 1,
         "car_type_sports": 0,
         "car_type_suv": 0,
         "_deepnote_index_column": 9
        }
       ]
      },
      "text/plain": "           year   mileage       tax       mpg  engineSize  model_2 Series  \\\n0      0.750000  0.313399  0.215517  0.111971    0.303030             0.0   \n1      0.916667  0.069281  0.250000  0.080163    0.303030             0.0   \n2      0.833333  0.293427  0.275862  0.098646    0.454545             0.0   \n3      0.875000  0.124650  0.250000  0.143778    0.227273             0.0   \n4      0.750000  0.184828  0.275862  0.096497    0.454545             0.0   \n...         ...       ...       ...       ...         ...             ...   \n10776  0.833333  0.190735  0.258621  0.104879    0.303030             0.0   \n10777  0.833333  0.200683  0.215517  0.117344    0.303030             0.0   \n10778  0.875000  0.119005  0.344828  0.080163    0.303030             0.0   \n10779  0.750000  0.210277  0.051724  0.126155    0.303030             0.0   \n10780  0.875000  0.277716  0.215517  0.111971    0.303030             0.0   \n\n       model_3 Series  model_4 Series  model_5 Series  model_6 Series  ...  \\\n0                 0.0             0.0             1.0             0.0  ...   \n1                 0.0             0.0             0.0             1.0  ...   \n2                 0.0             0.0             1.0             0.0  ...   \n3                 0.0             0.0             0.0             0.0  ...   \n4                 0.0             0.0             0.0             0.0  ...   \n...               ...             ...             ...             ...  ...   \n10776             0.0             0.0             0.0             0.0  ...   \n10777             0.0             0.0             1.0             0.0  ...   \n10778             1.0             0.0             0.0             0.0  ...   \n10779             0.0             0.0             0.0             0.0  ...   \n10780             0.0             0.0             0.0             0.0  ...   \n\n       transmission_Semi-Auto  fuelType_Electric  fuelType_Hybrid  \\\n0                         0.0                0.0              0.0   \n1                         0.0                0.0              0.0   \n2                         0.0                0.0              0.0   \n3                         0.0                0.0              0.0   \n4                         0.0                0.0              0.0   \n...                       ...                ...              ...   \n10776                     0.0                0.0              0.0   \n10777                     0.0                0.0              0.0   \n10778                     0.0                0.0              0.0   \n10779                     0.0                0.0              0.0   \n10780                     0.0                0.0              0.0   \n\n       fuelType_Other  fuelType_Petrol  car_type_coupe  car_type_electric  \\\n0                 0.0              0.0             0.0                0.0   \n1                 0.0              1.0             1.0                0.0   \n2                 0.0              0.0             0.0                0.0   \n3                 0.0              0.0             1.0                0.0   \n4                 0.0              0.0             0.0                0.0   \n...               ...              ...             ...                ...   \n10776             0.0              0.0             0.0                0.0   \n10777             0.0              0.0             0.0                0.0   \n10778             0.0              1.0             0.0                0.0   \n10779             0.0              0.0             1.0                0.0   \n10780             0.0              0.0             0.0                0.0   \n\n       car_type_sedan  car_type_sports  car_type_suv  \n0                 1.0              0.0           0.0  \n1                 0.0              0.0           0.0  \n2                 1.0              0.0           0.0  \n3                 0.0              0.0           0.0  \n4                 1.0              0.0           0.0  \n...               ...              ...           ...  \n10776             0.0              0.0           1.0  \n10777             1.0              0.0           0.0  \n10778             1.0              0.0           0.0  \n10779             0.0              0.0           0.0  \n10780             0.0              0.0           1.0  \n\n[10781 rows x 39 columns]",
      "text/html": "<div>\n<style scoped>\n    .dataframe tbody tr th:only-of-type {\n        vertical-align: middle;\n    }\n\n    .dataframe tbody tr th {\n        vertical-align: top;\n    }\n\n    .dataframe thead th {\n        text-align: right;\n    }\n</style>\n<table border=\"1\" class=\"dataframe\">\n  <thead>\n    <tr style=\"text-align: right;\">\n      <th></th>\n      <th>year</th>\n      <th>mileage</th>\n      <th>tax</th>\n      <th>mpg</th>\n      <th>engineSize</th>\n      <th>model_2 Series</th>\n      <th>model_3 Series</th>\n      <th>model_4 Series</th>\n      <th>model_5 Series</th>\n      <th>model_6 Series</th>\n      <th>...</th>\n      <th>transmission_Semi-Auto</th>\n      <th>fuelType_Electric</th>\n      <th>fuelType_Hybrid</th>\n      <th>fuelType_Other</th>\n      <th>fuelType_Petrol</th>\n      <th>car_type_coupe</th>\n      <th>car_type_electric</th>\n      <th>car_type_sedan</th>\n      <th>car_type_sports</th>\n      <th>car_type_suv</th>\n    </tr>\n  </thead>\n  <tbody>\n    <tr>\n      <th>0</th>\n      <td>0.750000</td>\n      <td>0.313399</td>\n      <td>0.215517</td>\n      <td>0.111971</td>\n      <td>0.303030</td>\n      <td>0.0</td>\n      <td>0.0</td>\n      <td>0.0</td>\n      <td>1.0</td>\n      <td>0.0</td>\n      <td>...</td>\n      <td>0.0</td>\n      <td>0.0</td>\n      <td>0.0</td>\n      <td>0.0</td>\n      <td>0.0</td>\n      <td>0.0</td>\n      <td>0.0</td>\n      <td>1.0</td>\n      <td>0.0</td>\n      <td>0.0</td>\n    </tr>\n    <tr>\n      <th>1</th>\n      <td>0.916667</td>\n      <td>0.069281</td>\n      <td>0.250000</td>\n      <td>0.080163</td>\n      <td>0.303030</td>\n      <td>0.0</td>\n      <td>0.0</td>\n      <td>0.0</td>\n      <td>0.0</td>\n      <td>1.0</td>\n      <td>...</td>\n      <td>0.0</td>\n      <td>0.0</td>\n      <td>0.0</td>\n      <td>0.0</td>\n      <td>1.0</td>\n      <td>1.0</td>\n      <td>0.0</td>\n      <td>0.0</td>\n      <td>0.0</td>\n      <td>0.0</td>\n    </tr>\n    <tr>\n      <th>2</th>\n      <td>0.833333</td>\n      <td>0.293427</td>\n      <td>0.275862</td>\n      <td>0.098646</td>\n      <td>0.454545</td>\n      <td>0.0</td>\n      <td>0.0</td>\n      <td>0.0</td>\n      <td>1.0</td>\n      <td>0.0</td>\n      <td>...</td>\n      <td>0.0</td>\n      <td>0.0</td>\n      <td>0.0</td>\n      <td>0.0</td>\n      <td>0.0</td>\n      <td>0.0</td>\n      <td>0.0</td>\n      <td>1.0</td>\n      <td>0.0</td>\n      <td>0.0</td>\n    </tr>\n    <tr>\n      <th>3</th>\n      <td>0.875000</td>\n      <td>0.124650</td>\n      <td>0.250000</td>\n      <td>0.143778</td>\n      <td>0.227273</td>\n      <td>0.0</td>\n      <td>0.0</td>\n      <td>0.0</td>\n      <td>0.0</td>\n      <td>0.0</td>\n      <td>...</td>\n      <td>0.0</td>\n      <td>0.0</td>\n      <td>0.0</td>\n      <td>0.0</td>\n      <td>0.0</td>\n      <td>1.0</td>\n      <td>0.0</td>\n      <td>0.0</td>\n      <td>0.0</td>\n      <td>0.0</td>\n    </tr>\n    <tr>\n      <th>4</th>\n      <td>0.750000</td>\n      <td>0.184828</td>\n      <td>0.275862</td>\n      <td>0.096497</td>\n      <td>0.454545</td>\n      <td>0.0</td>\n      <td>0.0</td>\n      <td>0.0</td>\n      <td>0.0</td>\n      <td>0.0</td>\n      <td>...</td>\n      <td>0.0</td>\n      <td>0.0</td>\n      <td>0.0</td>\n      <td>0.0</td>\n      <td>0.0</td>\n      <td>0.0</td>\n      <td>0.0</td>\n      <td>1.0</td>\n      <td>0.0</td>\n      <td>0.0</td>\n    </tr>\n    <tr>\n      <th>...</th>\n      <td>...</td>\n      <td>...</td>\n      <td>...</td>\n      <td>...</td>\n      <td>...</td>\n      <td>...</td>\n      <td>...</td>\n      <td>...</td>\n      <td>...</td>\n      <td>...</td>\n      <td>...</td>\n      <td>...</td>\n      <td>...</td>\n      <td>...</td>\n      <td>...</td>\n      <td>...</td>\n      <td>...</td>\n      <td>...</td>\n      <td>...</td>\n      <td>...</td>\n      <td>...</td>\n    </tr>\n    <tr>\n      <th>10776</th>\n      <td>0.833333</td>\n      <td>0.190735</td>\n      <td>0.258621</td>\n      <td>0.104879</td>\n      <td>0.303030</td>\n      <td>0.0</td>\n      <td>0.0</td>\n      <td>0.0</td>\n      <td>0.0</td>\n      <td>0.0</td>\n      <td>...</td>\n      <td>0.0</td>\n      <td>0.0</td>\n      <td>0.0</td>\n      <td>0.0</td>\n      <td>0.0</td>\n      <td>0.0</td>\n      <td>0.0</td>\n      <td>0.0</td>\n      <td>0.0</td>\n      <td>1.0</td>\n    </tr>\n    <tr>\n      <th>10777</th>\n      <td>0.833333</td>\n      <td>0.200683</td>\n      <td>0.215517</td>\n      <td>0.117344</td>\n      <td>0.303030</td>\n      <td>0.0</td>\n      <td>0.0</td>\n      <td>0.0</td>\n      <td>1.0</td>\n      <td>0.0</td>\n      <td>...</td>\n      <td>0.0</td>\n      <td>0.0</td>\n      <td>0.0</td>\n      <td>0.0</td>\n      <td>0.0</td>\n      <td>0.0</td>\n      <td>0.0</td>\n      <td>1.0</td>\n      <td>0.0</td>\n      <td>0.0</td>\n    </tr>\n    <tr>\n      <th>10778</th>\n      <td>0.875000</td>\n      <td>0.119005</td>\n      <td>0.344828</td>\n      <td>0.080163</td>\n      <td>0.303030</td>\n      <td>0.0</td>\n      <td>1.0</td>\n      <td>0.0</td>\n      <td>0.0</td>\n      <td>0.0</td>\n      <td>...</td>\n      <td>0.0</td>\n      <td>0.0</td>\n      <td>0.0</td>\n      <td>0.0</td>\n      <td>1.0</td>\n      <td>0.0</td>\n      <td>0.0</td>\n      <td>1.0</td>\n      <td>0.0</td>\n      <td>0.0</td>\n    </tr>\n    <tr>\n      <th>10779</th>\n      <td>0.750000</td>\n      <td>0.210277</td>\n      <td>0.051724</td>\n      <td>0.126155</td>\n      <td>0.303030</td>\n      <td>0.0</td>\n      <td>0.0</td>\n      <td>0.0</td>\n      <td>0.0</td>\n      <td>0.0</td>\n      <td>...</td>\n      <td>0.0</td>\n      <td>0.0</td>\n      <td>0.0</td>\n      <td>0.0</td>\n      <td>0.0</td>\n      <td>1.0</td>\n      <td>0.0</td>\n      <td>0.0</td>\n      <td>0.0</td>\n      <td>0.0</td>\n    </tr>\n    <tr>\n      <th>10780</th>\n      <td>0.875000</td>\n      <td>0.277716</td>\n      <td>0.215517</td>\n      <td>0.111971</td>\n      <td>0.303030</td>\n      <td>0.0</td>\n      <td>0.0</td>\n      <td>0.0</td>\n      <td>0.0</td>\n      <td>0.0</td>\n      <td>...</td>\n      <td>0.0</td>\n      <td>0.0</td>\n      <td>0.0</td>\n      <td>0.0</td>\n      <td>0.0</td>\n      <td>0.0</td>\n      <td>0.0</td>\n      <td>0.0</td>\n      <td>0.0</td>\n      <td>1.0</td>\n    </tr>\n  </tbody>\n</table>\n<p>10781 rows × 39 columns</p>\n</div>"
     },
     "metadata": {}
    }
   ],
   "execution_count": null
  },
  {
   "cell_type": "code",
   "source": "from sklearn.model_selection import train_test_split\n\nX_train, X_test, y_train, y_test = train_test_split(X, y, test_size=0.25)",
   "metadata": {
    "tags": [],
    "cell_id": "00008-90fbcc2a-f828-43b5-8c69-2724b483c2ce",
    "deepnote_to_be_reexecuted": false,
    "source_hash": "edb481c3",
    "execution_start": 1640022621004,
    "execution_millis": 62,
    "deepnote_cell_type": "code"
   },
   "outputs": [],
   "execution_count": null
  },
  {
   "cell_type": "code",
   "source": "### Import our Machine Learning Algorithm\nfrom sklearn.linear_model import LinearRegression\n### Import our metric\nfrom sklearn.metrics import mean_absolute_error\n\n# Create a model object\nlinear_regressor = LinearRegression()\n# Fit the model object to our data (this is the training phase)\nlinear_regressor.fit(X_train, y_train)\n\n# Create predictions with your newly trained model\nlinear_predictions = linear_regressor.predict(X_test)\n\n# Measure the efficacy of your algorithm using your metric\nmean_absolute_error(y_test, linear_predictions)",
   "metadata": {
    "tags": [],
    "cell_id": "00009-19b8f86e-6958-403e-b92a-326b0cb15146",
    "deepnote_to_be_reexecuted": false,
    "source_hash": "b2a223b6",
    "execution_start": 1640023010279,
    "execution_millis": 206,
    "deepnote_output_heights": [
     21.1875
    ],
    "deepnote_cell_type": "code"
   },
   "outputs": [
    {
     "output_type": "execute_result",
     "execution_count": 17,
     "data": {
      "text/plain": "2786.487563950288"
     },
     "metadata": {}
    }
   ],
   "execution_count": null
  },
  {
   "cell_type": "code",
   "source": "mean_absolute_error(y_test, linear_predictions) / y_test.mean()",
   "metadata": {
    "tags": [],
    "cell_id": "00010-48d752a0-5665-4a67-ab59-f728325d77d9",
    "deepnote_to_be_reexecuted": false,
    "source_hash": "b221d07d",
    "execution_start": 1640023054111,
    "execution_millis": 2,
    "deepnote_output_heights": [
     21.1875
    ],
    "deepnote_cell_type": "code"
   },
   "outputs": [
    {
     "output_type": "execute_result",
     "execution_count": 19,
     "data": {
      "text/plain": "0.12449577054946838"
     },
     "metadata": {}
    }
   ],
   "execution_count": null
  },
  {
   "cell_type": "code",
   "source": "### Import our Machine Learning Algorithm\nfrom sklearn.ensemble import RandomForestRegressor\n### Import our metric\nfrom sklearn.metrics import mean_absolute_error\n\n\n# Create a model object\nrandom_forest_regressor = RandomForestRegressor(n_estimators=1000)\n\n# Fit the object to our data (this is the training phase)\nrandom_forest_regressor.fit(X_train, y_train)\n\n# Create predictions with your newly trained model\nrandom_forest_predictions = random_forest_regressor.predict(X_test)\n\n# Measure the efficacy of your algorithm using your metric\nmean_absolute_error(y_test, random_forest_predictions)",
   "metadata": {
    "tags": [],
    "cell_id": "00011-e3270876-5673-47cd-b7e7-4dbf9ccb11aa",
    "deepnote_to_be_reexecuted": false,
    "source_hash": "866b28b5",
    "execution_start": 1640023101560,
    "execution_millis": 51024,
    "deepnote_output_heights": [
     21.1875
    ],
    "deepnote_cell_type": "code"
   },
   "outputs": [
    {
     "output_type": "execute_result",
     "execution_count": 20,
     "data": {
      "text/plain": "1529.236455145812"
     },
     "metadata": {}
    }
   ],
   "execution_count": null
  },
  {
   "cell_type": "code",
   "source": "mean_absolute_error(y_test, random_forest_predictions) / y_test.mean()",
   "metadata": {
    "tags": [],
    "cell_id": "00012-c4620f6b-1e72-42d0-9741-75ab59ac52d4",
    "deepnote_to_be_reexecuted": false,
    "source_hash": "63e0b05d",
    "execution_start": 1640023185914,
    "execution_millis": 1,
    "deepnote_output_heights": [
     21.1875
    ],
    "deepnote_cell_type": "code"
   },
   "outputs": [
    {
     "output_type": "execute_result",
     "execution_count": 21,
     "data": {
      "text/plain": "0.06832381859469584"
     },
     "metadata": {}
    }
   ],
   "execution_count": null
  },
  {
   "cell_type": "code",
   "source": "",
   "metadata": {
    "tags": [],
    "cell_id": "00013-5a51e72e-f39a-46c3-aa34-fbe73c6883c7",
    "deepnote_cell_type": "code"
   },
   "outputs": [],
   "execution_count": null
  },
  {
   "cell_type": "code",
   "source": "# ! pip install xgboost\n\n### Import our Machine Learning Algorithm\nfrom xgboost import XGBRegressor\n### Import our metric\nfrom sklearn.metrics import mean_absolute_error\n\n\n# Create a model object\nboost_model = XGBRegressor()\n\n# Fit the object to our data (this is the training phase)\nboost_model.fit(X_train, y_train)\n\n# Create predictions with your newly trained model\nboost_predictions = boost_model.predict(X_test)\n\n# Measure the efficacy of your algorithm using your metric\nmean_absolute_error(y_test, boost_predictions)\n",
   "metadata": {
    "tags": [],
    "cell_id": "00013-09337ba9-6176-4817-a27c-edb58fa6459d",
    "deepnote_to_be_reexecuted": false,
    "source_hash": "cd439ed2",
    "execution_start": 1640023277543,
    "execution_millis": 30068,
    "deepnote_output_heights": [
     null,
     21.1875
    ],
    "deepnote_cell_type": "code"
   },
   "outputs": [
    {
     "name": "stdout",
     "text": "Collecting xgboost\n  Downloading xgboost-1.5.1-py3-none-manylinux2014_x86_64.whl (173.5 MB)\n\u001b[K     |████████████████████████████████| 173.5 MB 20 kB/s \n\u001b[?25hRequirement already satisfied: scipy in /shared-libs/python3.7/py/lib/python3.7/site-packages (from xgboost) (1.7.3)\nRequirement already satisfied: numpy in /shared-libs/python3.7/py/lib/python3.7/site-packages (from xgboost) (1.19.5)\nInstalling collected packages: xgboost\nSuccessfully installed xgboost-1.5.1\n\u001b[33mWARNING: You are using pip version 20.1.1; however, version 21.3.1 is available.\nYou should consider upgrading via the '/root/venv/bin/python -m pip install --upgrade pip' command.\u001b[0m\n",
     "output_type": "stream",
     "data": {}
    },
    {
     "output_type": "execute_result",
     "execution_count": 23,
     "data": {
      "text/plain": "1491.4351539045838"
     },
     "metadata": {}
    }
   ],
   "execution_count": null
  },
  {
   "cell_type": "code",
   "source": "mean_absolute_error(y_test, boost_predictions) /  y_test.mean()",
   "metadata": {
    "tags": [],
    "cell_id": "00014-35d42b40-6756-4255-a17b-9e1905dc78ec",
    "deepnote_to_be_reexecuted": false,
    "source_hash": "e16562f3",
    "execution_start": 1640023350606,
    "execution_millis": 5,
    "deepnote_output_heights": [
     21.1875
    ],
    "deepnote_cell_type": "code"
   },
   "outputs": [
    {
     "output_type": "execute_result",
     "execution_count": 24,
     "data": {
      "text/plain": "0.0666349174179299"
     },
     "metadata": {}
    }
   ],
   "execution_count": null
  },
  {
   "cell_type": "code",
   "source": "from sklearn.model_selection import GridSearchCV\n# https://towardsdatascience.com/hyperparameter-tuning-the-random-forest-in-python-using-scikit-learn-28d2aa77dd74\n\nn_estimators = [1500, 1600]\n# Number of features to consider at every split\nmax_features = ['auto']\n# Maximum number of levels in tree\nmax_depth = [80, 90]\n# Minimum number of samples required to split a node\nmin_samples_split = [5]\n# Minimum number of samples required at each leaf node\nmin_samples_leaf = [1]\n# Method of selecting samples for training each tree\nbootstrap = [True]\n# Create the random grid\nrandom_grid = {'n_estimators': n_estimators,\n               'max_features': max_features,\n               'max_depth': max_depth,\n               'min_samples_split': min_samples_split,\n               'min_samples_leaf': min_samples_leaf,\n               'bootstrap': bootstrap}\nrandom_grid",
   "metadata": {
    "tags": [],
    "cell_id": "00016-47f5b63f-c76a-4418-9fcf-c04bf7116b55",
    "deepnote_to_be_reexecuted": false,
    "source_hash": "df51813f",
    "execution_start": 1640023461567,
    "execution_millis": 2,
    "deepnote_output_heights": [
     117.1875
    ],
    "deepnote_cell_type": "code"
   },
   "outputs": [
    {
     "output_type": "execute_result",
     "execution_count": 25,
     "data": {
      "text/plain": "{'n_estimators': [1500, 1600],\n 'max_features': ['auto'],\n 'max_depth': [80, 90],\n 'min_samples_split': [5],\n 'min_samples_leaf': [1],\n 'bootstrap': [True]}"
     },
     "metadata": {}
    }
   ],
   "execution_count": null
  },
  {
   "cell_type": "code",
   "source": "# Use the random grid to search for best hyperparameters\n# First create the base model to tune\nrf = RandomForestRegressor()\n# Random search of parameters, using 3 fold cross validation, \n# search across 100 different combinations, and use all available cores\nrf_random = GridSearchCV(estimator = rf, param_grid = random_grid, cv = 2, verbose=2, n_jobs = -1)\n# Fit the random search model\nrf_random.fit(X_train, y_train)",
   "metadata": {
    "tags": [],
    "cell_id": "00017-2d8182b5-61fb-4df8-91b9-23f6db92f79c",
    "deepnote_to_be_reexecuted": false,
    "source_hash": "987407c0",
    "execution_start": 1640023587536,
    "execution_millis": 221896,
    "deepnote_output_heights": [
     null,
     117.1875
    ],
    "deepnote_cell_type": "code"
   },
   "outputs": [
    {
     "name": "stdout",
     "text": "Fitting 2 folds for each of 4 candidates, totalling 8 fits\n",
     "output_type": "stream",
     "data": {}
    },
    {
     "output_type": "execute_result",
     "execution_count": 28,
     "data": {
      "text/plain": "GridSearchCV(cv=2, estimator=RandomForestRegressor(), n_jobs=-1,\n             param_grid={'bootstrap': [True], 'max_depth': [80, 90],\n                         'max_features': ['auto'], 'min_samples_leaf': [1],\n                         'min_samples_split': [5],\n                         'n_estimators': [1500, 1600]},\n             verbose=2)"
     },
     "metadata": {}
    }
   ],
   "execution_count": null
  },
  {
   "cell_type": "code",
   "source": "rf_random.best_params_",
   "metadata": {
    "tags": [],
    "cell_id": "00018-242f0a33-47d1-4171-b1ad-c20d9862ee9b",
    "deepnote_to_be_reexecuted": false,
    "source_hash": "bdb41631",
    "execution_start": 1640023809431,
    "deepnote_output_heights": [
     117.1875
    ],
    "deepnote_cell_type": "code"
   },
   "outputs": [
    {
     "output_type": "execute_result",
     "execution_count": 29,
     "data": {
      "text/plain": "{'bootstrap': True,\n 'max_depth': 80,\n 'max_features': 'auto',\n 'min_samples_leaf': 1,\n 'min_samples_split': 5,\n 'n_estimators': 1500}"
     },
     "metadata": {}
    }
   ],
   "execution_count": null
  },
  {
   "cell_type": "code",
   "source": "from sklearn.ensemble import RandomForestRegressor\nfrom sklearn.metrics import mean_absolute_error\n\nperfect_random_forest = RandomForestRegressor(n_estimators=1600, min_samples_split=5, min_samples_leaf=1, max_features='auto', max_depth=90, bootstrap=True)\nperfect_random_forest.fit(X_train, y_train)\n\nperfect_random_forest_predictions = perfect_random_forest.predict(X_test)\n\nmean_absolute_error(y_test, perfect_random_forest_predictions)",
   "metadata": {
    "tags": [],
    "cell_id": "00019-84a5b30c-9480-42d6-b9cd-19db1b4c7a87",
    "deepnote_to_be_reexecuted": false,
    "source_hash": "409d21a",
    "execution_start": 1640024091223,
    "execution_millis": 51942,
    "deepnote_output_heights": [
     21.1875
    ],
    "deepnote_cell_type": "code"
   },
   "outputs": [
    {
     "output_type": "execute_result",
     "execution_count": 30,
     "data": {
      "text/plain": "1505.7430207729938"
     },
     "metadata": {}
    }
   ],
   "execution_count": null
  },
  {
   "cell_type": "code",
   "source": "",
   "metadata": {
    "tags": [],
    "cell_id": "00020-9b8a6524-52d0-4b77-8616-1f1250b2d848",
    "deepnote_cell_type": "code"
   },
   "outputs": [],
   "execution_count": null
  },
  {
   "cell_type": "markdown",
   "source": "<a style='text-decoration:none;line-height:16px;display:flex;color:#5B5B62;padding:10px;justify-content:end;' href='https://deepnote.com?utm_source=created-in-deepnote-cell&projectId=cdc9cd43-5b20-441c-8bab-8b3805811d55' target=\"_blank\">\n<img alt='Created in deepnote.com' style='display:inline;max-height:16px;margin:0px;margin-right:7.5px;' src='data:image/svg+xml;base64,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' > </img>\nCreated in <span style='font-weight:600;margin-left:4px;'>Deepnote</span></a>",
   "metadata": {
    "tags": [],
    "created_in_deepnote_cell": true,
    "deepnote_cell_type": "markdown"
   }
  }
 ],
 "nbformat": 4,
 "nbformat_minor": 2,
 "metadata": {
  "orig_nbformat": 2,
  "deepnote": {
   "is_reactive": false
  },
  "deepnote_notebook_id": "f8546334-8b66-4b7d-b5fa-e44c974d446d",
  "deepnote_execution_queue": []
 }
}