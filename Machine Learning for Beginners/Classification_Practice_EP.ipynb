{
 "cells": [
  {
   "cell_type": "code",
   "metadata": {
    "tags": [],
    "cell_id": "00000-8af61601-5e9a-4bb0-9d96-00119aaaeb4a",
    "deepnote_to_be_reexecuted": false,
    "source_hash": "f9592a08",
    "execution_start": 1641408440741,
    "execution_millis": 4,
    "deepnote_cell_type": "code"
   },
   "source": "# Import Libraries\nimport pandas as pd\nimport numpy as np",
   "outputs": [],
   "execution_count": null
  },
  {
   "cell_type": "code",
   "source": "# create the dataframe from a csv file\ndata = pd.read_csv('data/mushrooms.csv')\ndata",
   "metadata": {
    "tags": [],
    "cell_id": "00001-36aac746-5902-4b7e-8604-5ce598baaff2",
    "deepnote_to_be_reexecuted": false,
    "source_hash": "5c00a28c",
    "execution_start": 1641408540712,
    "execution_millis": 515,
    "deepnote_cell_type": "code"
   },
   "outputs": [
    {
     "output_type": "execute_result",
     "execution_count": 2,
     "data": {
      "application/vnd.deepnote.dataframe.v3+json": {
       "column_count": 23,
       "row_count": 8124,
       "columns": [
        {
         "name": "class",
         "dtype": "object",
         "stats": {
          "unique_count": 2,
          "nan_count": 0,
          "categories": [
           {
            "name": "e",
            "count": 4208
           },
           {
            "name": "p",
            "count": 3916
           }
          ]
         }
        },
        {
         "name": "cap-shape",
         "dtype": "object",
         "stats": {
          "unique_count": 6,
          "nan_count": 0,
          "categories": [
           {
            "name": "x",
            "count": 3656
           },
           {
            "name": "f",
            "count": 3152
           },
           {
            "name": "4 others",
            "count": 1316
           }
          ]
         }
        },
        {
         "name": "cap-surface",
         "dtype": "object",
         "stats": {
          "unique_count": 4,
          "nan_count": 0,
          "categories": [
           {
            "name": "y",
            "count": 3244
           },
           {
            "name": "s",
            "count": 2556
           },
           {
            "name": "2 others",
            "count": 2324
           }
          ]
         }
        },
        {
         "name": "cap-color",
         "dtype": "object",
         "stats": {
          "unique_count": 10,
          "nan_count": 0,
          "categories": [
           {
            "name": "n",
            "count": 2284
           },
           {
            "name": "g",
            "count": 1840
           },
           {
            "name": "8 others",
            "count": 4000
           }
          ]
         }
        },
        {
         "name": "bruises",
         "dtype": "object",
         "stats": {
          "unique_count": 2,
          "nan_count": 0,
          "categories": [
           {
            "name": "f",
            "count": 4748
           },
           {
            "name": "t",
            "count": 3376
           }
          ]
         }
        },
        {
         "name": "odor",
         "dtype": "object",
         "stats": {
          "unique_count": 9,
          "nan_count": 0,
          "categories": [
           {
            "name": "n",
            "count": 3528
           },
           {
            "name": "f",
            "count": 2160
           },
           {
            "name": "7 others",
            "count": 2436
           }
          ]
         }
        },
        {
         "name": "gill-attachment",
         "dtype": "object",
         "stats": {
          "unique_count": 2,
          "nan_count": 0,
          "categories": [
           {
            "name": "f",
            "count": 7914
           },
           {
            "name": "a",
            "count": 210
           }
          ]
         }
        },
        {
         "name": "gill-spacing",
         "dtype": "object",
         "stats": {
          "unique_count": 2,
          "nan_count": 0,
          "categories": [
           {
            "name": "c",
            "count": 6812
           },
           {
            "name": "w",
            "count": 1312
           }
          ]
         }
        },
        {
         "name": "gill-size",
         "dtype": "object",
         "stats": {
          "unique_count": 2,
          "nan_count": 0,
          "categories": [
           {
            "name": "b",
            "count": 5612
           },
           {
            "name": "n",
            "count": 2512
           }
          ]
         }
        },
        {
         "name": "gill-color",
         "dtype": "object",
         "stats": {
          "unique_count": 12,
          "nan_count": 0,
          "categories": [
           {
            "name": "b",
            "count": 1728
           },
           {
            "name": "p",
            "count": 1492
           },
           {
            "name": "10 others",
            "count": 4904
           }
          ]
         }
        },
        {
         "name": "stalk-shape",
         "dtype": "object",
         "stats": {
          "unique_count": 2,
          "nan_count": 0,
          "categories": [
           {
            "name": "t",
            "count": 4608
           },
           {
            "name": "e",
            "count": 3516
           }
          ]
         }
        },
        {
         "name": "stalk-root",
         "dtype": "object",
         "stats": {
          "unique_count": 5,
          "nan_count": 0,
          "categories": [
           {
            "name": "b",
            "count": 3776
           },
           {
            "name": "?",
            "count": 2480
           },
           {
            "name": "3 others",
            "count": 1868
           }
          ]
         }
        },
        {
         "name": "stalk-surface-above-ring",
         "dtype": "object"
        },
        {
         "name": "stalk-surface-below-ring",
         "dtype": "object"
        },
        {
         "name": "stalk-color-above-ring",
         "dtype": "object"
        },
        {
         "name": "stalk-color-below-ring",
         "dtype": "object"
        },
        {
         "name": "veil-type",
         "dtype": "object"
        },
        {
         "name": "veil-color",
         "dtype": "object"
        },
        {
         "name": "ring-number",
         "dtype": "object"
        },
        {
         "name": "ring-type",
         "dtype": "object"
        },
        {
         "name": "spore-print-color",
         "dtype": "object"
        },
        {
         "name": "population",
         "dtype": "object"
        },
        {
         "name": "habitat",
         "dtype": "object"
        },
        {
         "name": "_deepnote_index_column",
         "dtype": "int64"
        }
       ],
       "rows": [
        {
         "class": "p",
         "cap-shape": "x",
         "cap-surface": "s",
         "cap-color": "n",
         "bruises": "t",
         "odor": "p",
         "gill-attachment": "f",
         "gill-spacing": "c",
         "gill-size": "n",
         "gill-color": "k",
         "stalk-shape": "e",
         "stalk-root": "e",
         "stalk-surface-above-ring": "s",
         "stalk-surface-below-ring": "s",
         "stalk-color-above-ring": "w",
         "stalk-color-below-ring": "w",
         "veil-type": "p",
         "veil-color": "w",
         "ring-number": "o",
         "ring-type": "p",
         "spore-print-color": "k",
         "population": "s",
         "habitat": "u",
         "_deepnote_index_column": 0
        },
        {
         "class": "e",
         "cap-shape": "x",
         "cap-surface": "s",
         "cap-color": "y",
         "bruises": "t",
         "odor": "a",
         "gill-attachment": "f",
         "gill-spacing": "c",
         "gill-size": "b",
         "gill-color": "k",
         "stalk-shape": "e",
         "stalk-root": "c",
         "stalk-surface-above-ring": "s",
         "stalk-surface-below-ring": "s",
         "stalk-color-above-ring": "w",
         "stalk-color-below-ring": "w",
         "veil-type": "p",
         "veil-color": "w",
         "ring-number": "o",
         "ring-type": "p",
         "spore-print-color": "n",
         "population": "n",
         "habitat": "g",
         "_deepnote_index_column": 1
        },
        {
         "class": "e",
         "cap-shape": "b",
         "cap-surface": "s",
         "cap-color": "w",
         "bruises": "t",
         "odor": "l",
         "gill-attachment": "f",
         "gill-spacing": "c",
         "gill-size": "b",
         "gill-color": "n",
         "stalk-shape": "e",
         "stalk-root": "c",
         "stalk-surface-above-ring": "s",
         "stalk-surface-below-ring": "s",
         "stalk-color-above-ring": "w",
         "stalk-color-below-ring": "w",
         "veil-type": "p",
         "veil-color": "w",
         "ring-number": "o",
         "ring-type": "p",
         "spore-print-color": "n",
         "population": "n",
         "habitat": "m",
         "_deepnote_index_column": 2
        },
        {
         "class": "p",
         "cap-shape": "x",
         "cap-surface": "y",
         "cap-color": "w",
         "bruises": "t",
         "odor": "p",
         "gill-attachment": "f",
         "gill-spacing": "c",
         "gill-size": "n",
         "gill-color": "n",
         "stalk-shape": "e",
         "stalk-root": "e",
         "stalk-surface-above-ring": "s",
         "stalk-surface-below-ring": "s",
         "stalk-color-above-ring": "w",
         "stalk-color-below-ring": "w",
         "veil-type": "p",
         "veil-color": "w",
         "ring-number": "o",
         "ring-type": "p",
         "spore-print-color": "k",
         "population": "s",
         "habitat": "u",
         "_deepnote_index_column": 3
        },
        {
         "class": "e",
         "cap-shape": "x",
         "cap-surface": "s",
         "cap-color": "g",
         "bruises": "f",
         "odor": "n",
         "gill-attachment": "f",
         "gill-spacing": "w",
         "gill-size": "b",
         "gill-color": "k",
         "stalk-shape": "t",
         "stalk-root": "e",
         "stalk-surface-above-ring": "s",
         "stalk-surface-below-ring": "s",
         "stalk-color-above-ring": "w",
         "stalk-color-below-ring": "w",
         "veil-type": "p",
         "veil-color": "w",
         "ring-number": "o",
         "ring-type": "e",
         "spore-print-color": "n",
         "population": "a",
         "habitat": "g",
         "_deepnote_index_column": 4
        },
        {
         "class": "e",
         "cap-shape": "x",
         "cap-surface": "y",
         "cap-color": "y",
         "bruises": "t",
         "odor": "a",
         "gill-attachment": "f",
         "gill-spacing": "c",
         "gill-size": "b",
         "gill-color": "n",
         "stalk-shape": "e",
         "stalk-root": "c",
         "stalk-surface-above-ring": "s",
         "stalk-surface-below-ring": "s",
         "stalk-color-above-ring": "w",
         "stalk-color-below-ring": "w",
         "veil-type": "p",
         "veil-color": "w",
         "ring-number": "o",
         "ring-type": "p",
         "spore-print-color": "k",
         "population": "n",
         "habitat": "g",
         "_deepnote_index_column": 5
        },
        {
         "class": "e",
         "cap-shape": "b",
         "cap-surface": "s",
         "cap-color": "w",
         "bruises": "t",
         "odor": "a",
         "gill-attachment": "f",
         "gill-spacing": "c",
         "gill-size": "b",
         "gill-color": "g",
         "stalk-shape": "e",
         "stalk-root": "c",
         "stalk-surface-above-ring": "s",
         "stalk-surface-below-ring": "s",
         "stalk-color-above-ring": "w",
         "stalk-color-below-ring": "w",
         "veil-type": "p",
         "veil-color": "w",
         "ring-number": "o",
         "ring-type": "p",
         "spore-print-color": "k",
         "population": "n",
         "habitat": "m",
         "_deepnote_index_column": 6
        },
        {
         "class": "e",
         "cap-shape": "b",
         "cap-surface": "y",
         "cap-color": "w",
         "bruises": "t",
         "odor": "l",
         "gill-attachment": "f",
         "gill-spacing": "c",
         "gill-size": "b",
         "gill-color": "n",
         "stalk-shape": "e",
         "stalk-root": "c",
         "stalk-surface-above-ring": "s",
         "stalk-surface-below-ring": "s",
         "stalk-color-above-ring": "w",
         "stalk-color-below-ring": "w",
         "veil-type": "p",
         "veil-color": "w",
         "ring-number": "o",
         "ring-type": "p",
         "spore-print-color": "n",
         "population": "s",
         "habitat": "m",
         "_deepnote_index_column": 7
        },
        {
         "class": "p",
         "cap-shape": "x",
         "cap-surface": "y",
         "cap-color": "w",
         "bruises": "t",
         "odor": "p",
         "gill-attachment": "f",
         "gill-spacing": "c",
         "gill-size": "n",
         "gill-color": "p",
         "stalk-shape": "e",
         "stalk-root": "e",
         "stalk-surface-above-ring": "s",
         "stalk-surface-below-ring": "s",
         "stalk-color-above-ring": "w",
         "stalk-color-below-ring": "w",
         "veil-type": "p",
         "veil-color": "w",
         "ring-number": "o",
         "ring-type": "p",
         "spore-print-color": "k",
         "population": "v",
         "habitat": "g",
         "_deepnote_index_column": 8
        },
        {
         "class": "e",
         "cap-shape": "b",
         "cap-surface": "s",
         "cap-color": "y",
         "bruises": "t",
         "odor": "a",
         "gill-attachment": "f",
         "gill-spacing": "c",
         "gill-size": "b",
         "gill-color": "g",
         "stalk-shape": "e",
         "stalk-root": "c",
         "stalk-surface-above-ring": "s",
         "stalk-surface-below-ring": "s",
         "stalk-color-above-ring": "w",
         "stalk-color-below-ring": "w",
         "veil-type": "p",
         "veil-color": "w",
         "ring-number": "o",
         "ring-type": "p",
         "spore-print-color": "k",
         "population": "s",
         "habitat": "m",
         "_deepnote_index_column": 9
        }
       ]
      },
      "text/plain": "     class cap-shape cap-surface cap-color bruises odor gill-attachment  \\\n0        p         x           s         n       t    p               f   \n1        e         x           s         y       t    a               f   \n2        e         b           s         w       t    l               f   \n3        p         x           y         w       t    p               f   \n4        e         x           s         g       f    n               f   \n...    ...       ...         ...       ...     ...  ...             ...   \n8119     e         k           s         n       f    n               a   \n8120     e         x           s         n       f    n               a   \n8121     e         f           s         n       f    n               a   \n8122     p         k           y         n       f    y               f   \n8123     e         x           s         n       f    n               a   \n\n     gill-spacing gill-size gill-color  ... stalk-surface-below-ring  \\\n0               c         n          k  ...                        s   \n1               c         b          k  ...                        s   \n2               c         b          n  ...                        s   \n3               c         n          n  ...                        s   \n4               w         b          k  ...                        s   \n...           ...       ...        ...  ...                      ...   \n8119            c         b          y  ...                        s   \n8120            c         b          y  ...                        s   \n8121            c         b          n  ...                        s   \n8122            c         n          b  ...                        k   \n8123            c         b          y  ...                        s   \n\n     stalk-color-above-ring stalk-color-below-ring veil-type veil-color  \\\n0                         w                      w         p          w   \n1                         w                      w         p          w   \n2                         w                      w         p          w   \n3                         w                      w         p          w   \n4                         w                      w         p          w   \n...                     ...                    ...       ...        ...   \n8119                      o                      o         p          o   \n8120                      o                      o         p          n   \n8121                      o                      o         p          o   \n8122                      w                      w         p          w   \n8123                      o                      o         p          o   \n\n     ring-number ring-type spore-print-color population habitat  \n0              o         p                 k          s       u  \n1              o         p                 n          n       g  \n2              o         p                 n          n       m  \n3              o         p                 k          s       u  \n4              o         e                 n          a       g  \n...          ...       ...               ...        ...     ...  \n8119           o         p                 b          c       l  \n8120           o         p                 b          v       l  \n8121           o         p                 b          c       l  \n8122           o         e                 w          v       l  \n8123           o         p                 o          c       l  \n\n[8124 rows x 23 columns]",
      "text/html": "<div>\n<style scoped>\n    .dataframe tbody tr th:only-of-type {\n        vertical-align: middle;\n    }\n\n    .dataframe tbody tr th {\n        vertical-align: top;\n    }\n\n    .dataframe thead th {\n        text-align: right;\n    }\n</style>\n<table border=\"1\" class=\"dataframe\">\n  <thead>\n    <tr style=\"text-align: right;\">\n      <th></th>\n      <th>class</th>\n      <th>cap-shape</th>\n      <th>cap-surface</th>\n      <th>cap-color</th>\n      <th>bruises</th>\n      <th>odor</th>\n      <th>gill-attachment</th>\n      <th>gill-spacing</th>\n      <th>gill-size</th>\n      <th>gill-color</th>\n      <th>...</th>\n      <th>stalk-surface-below-ring</th>\n      <th>stalk-color-above-ring</th>\n      <th>stalk-color-below-ring</th>\n      <th>veil-type</th>\n      <th>veil-color</th>\n      <th>ring-number</th>\n      <th>ring-type</th>\n      <th>spore-print-color</th>\n      <th>population</th>\n      <th>habitat</th>\n    </tr>\n  </thead>\n  <tbody>\n    <tr>\n      <th>0</th>\n      <td>p</td>\n      <td>x</td>\n      <td>s</td>\n      <td>n</td>\n      <td>t</td>\n      <td>p</td>\n      <td>f</td>\n      <td>c</td>\n      <td>n</td>\n      <td>k</td>\n      <td>...</td>\n      <td>s</td>\n      <td>w</td>\n      <td>w</td>\n      <td>p</td>\n      <td>w</td>\n      <td>o</td>\n      <td>p</td>\n      <td>k</td>\n      <td>s</td>\n      <td>u</td>\n    </tr>\n    <tr>\n      <th>1</th>\n      <td>e</td>\n      <td>x</td>\n      <td>s</td>\n      <td>y</td>\n      <td>t</td>\n      <td>a</td>\n      <td>f</td>\n      <td>c</td>\n      <td>b</td>\n      <td>k</td>\n      <td>...</td>\n      <td>s</td>\n      <td>w</td>\n      <td>w</td>\n      <td>p</td>\n      <td>w</td>\n      <td>o</td>\n      <td>p</td>\n      <td>n</td>\n      <td>n</td>\n      <td>g</td>\n    </tr>\n    <tr>\n      <th>2</th>\n      <td>e</td>\n      <td>b</td>\n      <td>s</td>\n      <td>w</td>\n      <td>t</td>\n      <td>l</td>\n      <td>f</td>\n      <td>c</td>\n      <td>b</td>\n      <td>n</td>\n      <td>...</td>\n      <td>s</td>\n      <td>w</td>\n      <td>w</td>\n      <td>p</td>\n      <td>w</td>\n      <td>o</td>\n      <td>p</td>\n      <td>n</td>\n      <td>n</td>\n      <td>m</td>\n    </tr>\n    <tr>\n      <th>3</th>\n      <td>p</td>\n      <td>x</td>\n      <td>y</td>\n      <td>w</td>\n      <td>t</td>\n      <td>p</td>\n      <td>f</td>\n      <td>c</td>\n      <td>n</td>\n      <td>n</td>\n      <td>...</td>\n      <td>s</td>\n      <td>w</td>\n      <td>w</td>\n      <td>p</td>\n      <td>w</td>\n      <td>o</td>\n      <td>p</td>\n      <td>k</td>\n      <td>s</td>\n      <td>u</td>\n    </tr>\n    <tr>\n      <th>4</th>\n      <td>e</td>\n      <td>x</td>\n      <td>s</td>\n      <td>g</td>\n      <td>f</td>\n      <td>n</td>\n      <td>f</td>\n      <td>w</td>\n      <td>b</td>\n      <td>k</td>\n      <td>...</td>\n      <td>s</td>\n      <td>w</td>\n      <td>w</td>\n      <td>p</td>\n      <td>w</td>\n      <td>o</td>\n      <td>e</td>\n      <td>n</td>\n      <td>a</td>\n      <td>g</td>\n    </tr>\n    <tr>\n      <th>...</th>\n      <td>...</td>\n      <td>...</td>\n      <td>...</td>\n      <td>...</td>\n      <td>...</td>\n      <td>...</td>\n      <td>...</td>\n      <td>...</td>\n      <td>...</td>\n      <td>...</td>\n      <td>...</td>\n      <td>...</td>\n      <td>...</td>\n      <td>...</td>\n      <td>...</td>\n      <td>...</td>\n      <td>...</td>\n      <td>...</td>\n      <td>...</td>\n      <td>...</td>\n      <td>...</td>\n    </tr>\n    <tr>\n      <th>8119</th>\n      <td>e</td>\n      <td>k</td>\n      <td>s</td>\n      <td>n</td>\n      <td>f</td>\n      <td>n</td>\n      <td>a</td>\n      <td>c</td>\n      <td>b</td>\n      <td>y</td>\n      <td>...</td>\n      <td>s</td>\n      <td>o</td>\n      <td>o</td>\n      <td>p</td>\n      <td>o</td>\n      <td>o</td>\n      <td>p</td>\n      <td>b</td>\n      <td>c</td>\n      <td>l</td>\n    </tr>\n    <tr>\n      <th>8120</th>\n      <td>e</td>\n      <td>x</td>\n      <td>s</td>\n      <td>n</td>\n      <td>f</td>\n      <td>n</td>\n      <td>a</td>\n      <td>c</td>\n      <td>b</td>\n      <td>y</td>\n      <td>...</td>\n      <td>s</td>\n      <td>o</td>\n      <td>o</td>\n      <td>p</td>\n      <td>n</td>\n      <td>o</td>\n      <td>p</td>\n      <td>b</td>\n      <td>v</td>\n      <td>l</td>\n    </tr>\n    <tr>\n      <th>8121</th>\n      <td>e</td>\n      <td>f</td>\n      <td>s</td>\n      <td>n</td>\n      <td>f</td>\n      <td>n</td>\n      <td>a</td>\n      <td>c</td>\n      <td>b</td>\n      <td>n</td>\n      <td>...</td>\n      <td>s</td>\n      <td>o</td>\n      <td>o</td>\n      <td>p</td>\n      <td>o</td>\n      <td>o</td>\n      <td>p</td>\n      <td>b</td>\n      <td>c</td>\n      <td>l</td>\n    </tr>\n    <tr>\n      <th>8122</th>\n      <td>p</td>\n      <td>k</td>\n      <td>y</td>\n      <td>n</td>\n      <td>f</td>\n      <td>y</td>\n      <td>f</td>\n      <td>c</td>\n      <td>n</td>\n      <td>b</td>\n      <td>...</td>\n      <td>k</td>\n      <td>w</td>\n      <td>w</td>\n      <td>p</td>\n      <td>w</td>\n      <td>o</td>\n      <td>e</td>\n      <td>w</td>\n      <td>v</td>\n      <td>l</td>\n    </tr>\n    <tr>\n      <th>8123</th>\n      <td>e</td>\n      <td>x</td>\n      <td>s</td>\n      <td>n</td>\n      <td>f</td>\n      <td>n</td>\n      <td>a</td>\n      <td>c</td>\n      <td>b</td>\n      <td>y</td>\n      <td>...</td>\n      <td>s</td>\n      <td>o</td>\n      <td>o</td>\n      <td>p</td>\n      <td>o</td>\n      <td>o</td>\n      <td>p</td>\n      <td>o</td>\n      <td>c</td>\n      <td>l</td>\n    </tr>\n  </tbody>\n</table>\n<p>8124 rows × 23 columns</p>\n</div>"
     },
     "metadata": {}
    }
   ],
   "execution_count": null
  },
  {
   "cell_type": "code",
   "source": "# Removed columns with one unique value\ndata = data.drop(columns=data.nunique()[data.nunique() == 1].index)",
   "metadata": {
    "tags": [],
    "cell_id": "00002-c3493aa4-4259-494c-83e4-0dc7c66f66f7",
    "deepnote_to_be_reexecuted": false,
    "source_hash": "273827c3",
    "execution_start": 1641408578766,
    "execution_millis": 141,
    "deepnote_cell_type": "code"
   },
   "outputs": [],
   "execution_count": null
  },
  {
   "cell_type": "code",
   "source": "# Check for missing data\nmissing_values = [np.nan, \"\", \" \", None]\n\ndata.isin(missing_values).mean().sort_values(ascending=False) * 100",
   "metadata": {
    "tags": [],
    "cell_id": "00003-b2044403-65b8-4344-88b8-a4080c216a11",
    "deepnote_to_be_reexecuted": false,
    "source_hash": "6399bacb",
    "execution_start": 1641408667333,
    "execution_millis": 2,
    "deepnote_output_heights": [
     443.3125
    ],
    "deepnote_cell_type": "code"
   },
   "outputs": [
    {
     "output_type": "execute_result",
     "execution_count": 5,
     "data": {
      "text/plain": "class                       0.0\ncap-shape                   0.0\npopulation                  0.0\nspore-print-color           0.0\nring-type                   0.0\nring-number                 0.0\nveil-color                  0.0\nstalk-color-below-ring      0.0\nstalk-color-above-ring      0.0\nstalk-surface-below-ring    0.0\nstalk-surface-above-ring    0.0\nstalk-root                  0.0\nstalk-shape                 0.0\ngill-color                  0.0\ngill-size                   0.0\ngill-spacing                0.0\ngill-attachment             0.0\nodor                        0.0\nbruises                     0.0\ncap-color                   0.0\ncap-surface                 0.0\nhabitat                     0.0\ndtype: float64"
     },
     "metadata": {}
    }
   ],
   "execution_count": null
  },
  {
   "cell_type": "code",
   "source": "# Select Target Column\n# In this example we will predict on \"class\"\nX = data.drop(columns=\"class\")\ny = data[\"class\"]",
   "metadata": {
    "tags": [],
    "cell_id": "00004-17772a2f-7081-41af-884f-e4d863571fd1",
    "deepnote_to_be_reexecuted": false,
    "source_hash": "a2c27cb8",
    "execution_start": 1641408858993,
    "execution_millis": 1,
    "deepnote_cell_type": "code"
   },
   "outputs": [],
   "execution_count": null
  },
  {
   "cell_type": "code",
   "source": "# Encode variables\n# drop the first column to avoid the dummy variable trap\nX = pd.get_dummies(X, drop_first=True)\nX",
   "metadata": {
    "tags": [],
    "cell_id": "00005-6abfd718-84b0-4e68-8faa-765e5ab4ab00",
    "deepnote_to_be_reexecuted": false,
    "source_hash": "7498b2cf",
    "execution_start": 1641408906111,
    "execution_millis": 324,
    "deepnote_cell_type": "code"
   },
   "outputs": [
    {
     "output_type": "execute_result",
     "execution_count": 7,
     "data": {
      "application/vnd.deepnote.dataframe.v3+json": {
       "column_count": 95,
       "row_count": 8124,
       "columns": [
        {
         "name": "cap-shape_c",
         "dtype": "uint8",
         "stats": {
          "unique_count": 2,
          "nan_count": 0,
          "min": "0",
          "max": "1",
          "histogram": [
           {
            "bin_start": 0,
            "bin_end": 0.1,
            "count": 8120
           },
           {
            "bin_start": 0.1,
            "bin_end": 0.2,
            "count": 0
           },
           {
            "bin_start": 0.2,
            "bin_end": 0.30000000000000004,
            "count": 0
           },
           {
            "bin_start": 0.30000000000000004,
            "bin_end": 0.4,
            "count": 0
           },
           {
            "bin_start": 0.4,
            "bin_end": 0.5,
            "count": 0
           },
           {
            "bin_start": 0.5,
            "bin_end": 0.6000000000000001,
            "count": 0
           },
           {
            "bin_start": 0.6000000000000001,
            "bin_end": 0.7000000000000001,
            "count": 0
           },
           {
            "bin_start": 0.7000000000000001,
            "bin_end": 0.8,
            "count": 0
           },
           {
            "bin_start": 0.8,
            "bin_end": 0.9,
            "count": 0
           },
           {
            "bin_start": 0.9,
            "bin_end": 1,
            "count": 4
           }
          ]
         }
        },
        {
         "name": "cap-shape_f",
         "dtype": "uint8",
         "stats": {
          "unique_count": 2,
          "nan_count": 0,
          "min": "0",
          "max": "1",
          "histogram": [
           {
            "bin_start": 0,
            "bin_end": 0.1,
            "count": 4972
           },
           {
            "bin_start": 0.1,
            "bin_end": 0.2,
            "count": 0
           },
           {
            "bin_start": 0.2,
            "bin_end": 0.30000000000000004,
            "count": 0
           },
           {
            "bin_start": 0.30000000000000004,
            "bin_end": 0.4,
            "count": 0
           },
           {
            "bin_start": 0.4,
            "bin_end": 0.5,
            "count": 0
           },
           {
            "bin_start": 0.5,
            "bin_end": 0.6000000000000001,
            "count": 0
           },
           {
            "bin_start": 0.6000000000000001,
            "bin_end": 0.7000000000000001,
            "count": 0
           },
           {
            "bin_start": 0.7000000000000001,
            "bin_end": 0.8,
            "count": 0
           },
           {
            "bin_start": 0.8,
            "bin_end": 0.9,
            "count": 0
           },
           {
            "bin_start": 0.9,
            "bin_end": 1,
            "count": 3152
           }
          ]
         }
        },
        {
         "name": "cap-shape_k",
         "dtype": "uint8",
         "stats": {
          "unique_count": 2,
          "nan_count": 0,
          "min": "0",
          "max": "1",
          "histogram": [
           {
            "bin_start": 0,
            "bin_end": 0.1,
            "count": 7296
           },
           {
            "bin_start": 0.1,
            "bin_end": 0.2,
            "count": 0
           },
           {
            "bin_start": 0.2,
            "bin_end": 0.30000000000000004,
            "count": 0
           },
           {
            "bin_start": 0.30000000000000004,
            "bin_end": 0.4,
            "count": 0
           },
           {
            "bin_start": 0.4,
            "bin_end": 0.5,
            "count": 0
           },
           {
            "bin_start": 0.5,
            "bin_end": 0.6000000000000001,
            "count": 0
           },
           {
            "bin_start": 0.6000000000000001,
            "bin_end": 0.7000000000000001,
            "count": 0
           },
           {
            "bin_start": 0.7000000000000001,
            "bin_end": 0.8,
            "count": 0
           },
           {
            "bin_start": 0.8,
            "bin_end": 0.9,
            "count": 0
           },
           {
            "bin_start": 0.9,
            "bin_end": 1,
            "count": 828
           }
          ]
         }
        },
        {
         "name": "cap-shape_s",
         "dtype": "uint8",
         "stats": {
          "unique_count": 2,
          "nan_count": 0,
          "min": "0",
          "max": "1",
          "histogram": [
           {
            "bin_start": 0,
            "bin_end": 0.1,
            "count": 8092
           },
           {
            "bin_start": 0.1,
            "bin_end": 0.2,
            "count": 0
           },
           {
            "bin_start": 0.2,
            "bin_end": 0.30000000000000004,
            "count": 0
           },
           {
            "bin_start": 0.30000000000000004,
            "bin_end": 0.4,
            "count": 0
           },
           {
            "bin_start": 0.4,
            "bin_end": 0.5,
            "count": 0
           },
           {
            "bin_start": 0.5,
            "bin_end": 0.6000000000000001,
            "count": 0
           },
           {
            "bin_start": 0.6000000000000001,
            "bin_end": 0.7000000000000001,
            "count": 0
           },
           {
            "bin_start": 0.7000000000000001,
            "bin_end": 0.8,
            "count": 0
           },
           {
            "bin_start": 0.8,
            "bin_end": 0.9,
            "count": 0
           },
           {
            "bin_start": 0.9,
            "bin_end": 1,
            "count": 32
           }
          ]
         }
        },
        {
         "name": "cap-shape_x",
         "dtype": "uint8",
         "stats": {
          "unique_count": 2,
          "nan_count": 0,
          "min": "0",
          "max": "1",
          "histogram": [
           {
            "bin_start": 0,
            "bin_end": 0.1,
            "count": 4468
           },
           {
            "bin_start": 0.1,
            "bin_end": 0.2,
            "count": 0
           },
           {
            "bin_start": 0.2,
            "bin_end": 0.30000000000000004,
            "count": 0
           },
           {
            "bin_start": 0.30000000000000004,
            "bin_end": 0.4,
            "count": 0
           },
           {
            "bin_start": 0.4,
            "bin_end": 0.5,
            "count": 0
           },
           {
            "bin_start": 0.5,
            "bin_end": 0.6000000000000001,
            "count": 0
           },
           {
            "bin_start": 0.6000000000000001,
            "bin_end": 0.7000000000000001,
            "count": 0
           },
           {
            "bin_start": 0.7000000000000001,
            "bin_end": 0.8,
            "count": 0
           },
           {
            "bin_start": 0.8,
            "bin_end": 0.9,
            "count": 0
           },
           {
            "bin_start": 0.9,
            "bin_end": 1,
            "count": 3656
           }
          ]
         }
        },
        {
         "name": "cap-surface_g",
         "dtype": "uint8",
         "stats": {
          "unique_count": 2,
          "nan_count": 0,
          "min": "0",
          "max": "1",
          "histogram": [
           {
            "bin_start": 0,
            "bin_end": 0.1,
            "count": 8120
           },
           {
            "bin_start": 0.1,
            "bin_end": 0.2,
            "count": 0
           },
           {
            "bin_start": 0.2,
            "bin_end": 0.30000000000000004,
            "count": 0
           },
           {
            "bin_start": 0.30000000000000004,
            "bin_end": 0.4,
            "count": 0
           },
           {
            "bin_start": 0.4,
            "bin_end": 0.5,
            "count": 0
           },
           {
            "bin_start": 0.5,
            "bin_end": 0.6000000000000001,
            "count": 0
           },
           {
            "bin_start": 0.6000000000000001,
            "bin_end": 0.7000000000000001,
            "count": 0
           },
           {
            "bin_start": 0.7000000000000001,
            "bin_end": 0.8,
            "count": 0
           },
           {
            "bin_start": 0.8,
            "bin_end": 0.9,
            "count": 0
           },
           {
            "bin_start": 0.9,
            "bin_end": 1,
            "count": 4
           }
          ]
         }
        },
        {
         "name": "cap-surface_s",
         "dtype": "uint8",
         "stats": {
          "unique_count": 2,
          "nan_count": 0,
          "min": "0",
          "max": "1",
          "histogram": [
           {
            "bin_start": 0,
            "bin_end": 0.1,
            "count": 5568
           },
           {
            "bin_start": 0.1,
            "bin_end": 0.2,
            "count": 0
           },
           {
            "bin_start": 0.2,
            "bin_end": 0.30000000000000004,
            "count": 0
           },
           {
            "bin_start": 0.30000000000000004,
            "bin_end": 0.4,
            "count": 0
           },
           {
            "bin_start": 0.4,
            "bin_end": 0.5,
            "count": 0
           },
           {
            "bin_start": 0.5,
            "bin_end": 0.6000000000000001,
            "count": 0
           },
           {
            "bin_start": 0.6000000000000001,
            "bin_end": 0.7000000000000001,
            "count": 0
           },
           {
            "bin_start": 0.7000000000000001,
            "bin_end": 0.8,
            "count": 0
           },
           {
            "bin_start": 0.8,
            "bin_end": 0.9,
            "count": 0
           },
           {
            "bin_start": 0.9,
            "bin_end": 1,
            "count": 2556
           }
          ]
         }
        },
        {
         "name": "cap-surface_y",
         "dtype": "uint8",
         "stats": {
          "unique_count": 2,
          "nan_count": 0,
          "min": "0",
          "max": "1",
          "histogram": [
           {
            "bin_start": 0,
            "bin_end": 0.1,
            "count": 4880
           },
           {
            "bin_start": 0.1,
            "bin_end": 0.2,
            "count": 0
           },
           {
            "bin_start": 0.2,
            "bin_end": 0.30000000000000004,
            "count": 0
           },
           {
            "bin_start": 0.30000000000000004,
            "bin_end": 0.4,
            "count": 0
           },
           {
            "bin_start": 0.4,
            "bin_end": 0.5,
            "count": 0
           },
           {
            "bin_start": 0.5,
            "bin_end": 0.6000000000000001,
            "count": 0
           },
           {
            "bin_start": 0.6000000000000001,
            "bin_end": 0.7000000000000001,
            "count": 0
           },
           {
            "bin_start": 0.7000000000000001,
            "bin_end": 0.8,
            "count": 0
           },
           {
            "bin_start": 0.8,
            "bin_end": 0.9,
            "count": 0
           },
           {
            "bin_start": 0.9,
            "bin_end": 1,
            "count": 3244
           }
          ]
         }
        },
        {
         "name": "cap-color_c",
         "dtype": "uint8",
         "stats": {
          "unique_count": 2,
          "nan_count": 0,
          "min": "0",
          "max": "1",
          "histogram": [
           {
            "bin_start": 0,
            "bin_end": 0.1,
            "count": 8080
           },
           {
            "bin_start": 0.1,
            "bin_end": 0.2,
            "count": 0
           },
           {
            "bin_start": 0.2,
            "bin_end": 0.30000000000000004,
            "count": 0
           },
           {
            "bin_start": 0.30000000000000004,
            "bin_end": 0.4,
            "count": 0
           },
           {
            "bin_start": 0.4,
            "bin_end": 0.5,
            "count": 0
           },
           {
            "bin_start": 0.5,
            "bin_end": 0.6000000000000001,
            "count": 0
           },
           {
            "bin_start": 0.6000000000000001,
            "bin_end": 0.7000000000000001,
            "count": 0
           },
           {
            "bin_start": 0.7000000000000001,
            "bin_end": 0.8,
            "count": 0
           },
           {
            "bin_start": 0.8,
            "bin_end": 0.9,
            "count": 0
           },
           {
            "bin_start": 0.9,
            "bin_end": 1,
            "count": 44
           }
          ]
         }
        },
        {
         "name": "cap-color_e",
         "dtype": "uint8",
         "stats": {
          "unique_count": 2,
          "nan_count": 0,
          "min": "0",
          "max": "1",
          "histogram": [
           {
            "bin_start": 0,
            "bin_end": 0.1,
            "count": 6624
           },
           {
            "bin_start": 0.1,
            "bin_end": 0.2,
            "count": 0
           },
           {
            "bin_start": 0.2,
            "bin_end": 0.30000000000000004,
            "count": 0
           },
           {
            "bin_start": 0.30000000000000004,
            "bin_end": 0.4,
            "count": 0
           },
           {
            "bin_start": 0.4,
            "bin_end": 0.5,
            "count": 0
           },
           {
            "bin_start": 0.5,
            "bin_end": 0.6000000000000001,
            "count": 0
           },
           {
            "bin_start": 0.6000000000000001,
            "bin_end": 0.7000000000000001,
            "count": 0
           },
           {
            "bin_start": 0.7000000000000001,
            "bin_end": 0.8,
            "count": 0
           },
           {
            "bin_start": 0.8,
            "bin_end": 0.9,
            "count": 0
           },
           {
            "bin_start": 0.9,
            "bin_end": 1,
            "count": 1500
           }
          ]
         }
        },
        {
         "name": "cap-color_g",
         "dtype": "uint8",
         "stats": {
          "unique_count": 2,
          "nan_count": 0,
          "min": "0",
          "max": "1",
          "histogram": [
           {
            "bin_start": 0,
            "bin_end": 0.1,
            "count": 6284
           },
           {
            "bin_start": 0.1,
            "bin_end": 0.2,
            "count": 0
           },
           {
            "bin_start": 0.2,
            "bin_end": 0.30000000000000004,
            "count": 0
           },
           {
            "bin_start": 0.30000000000000004,
            "bin_end": 0.4,
            "count": 0
           },
           {
            "bin_start": 0.4,
            "bin_end": 0.5,
            "count": 0
           },
           {
            "bin_start": 0.5,
            "bin_end": 0.6000000000000001,
            "count": 0
           },
           {
            "bin_start": 0.6000000000000001,
            "bin_end": 0.7000000000000001,
            "count": 0
           },
           {
            "bin_start": 0.7000000000000001,
            "bin_end": 0.8,
            "count": 0
           },
           {
            "bin_start": 0.8,
            "bin_end": 0.9,
            "count": 0
           },
           {
            "bin_start": 0.9,
            "bin_end": 1,
            "count": 1840
           }
          ]
         }
        },
        {
         "name": "cap-color_n",
         "dtype": "uint8",
         "stats": {
          "unique_count": 2,
          "nan_count": 0,
          "min": "0",
          "max": "1",
          "histogram": [
           {
            "bin_start": 0,
            "bin_end": 0.1,
            "count": 5840
           },
           {
            "bin_start": 0.1,
            "bin_end": 0.2,
            "count": 0
           },
           {
            "bin_start": 0.2,
            "bin_end": 0.30000000000000004,
            "count": 0
           },
           {
            "bin_start": 0.30000000000000004,
            "bin_end": 0.4,
            "count": 0
           },
           {
            "bin_start": 0.4,
            "bin_end": 0.5,
            "count": 0
           },
           {
            "bin_start": 0.5,
            "bin_end": 0.6000000000000001,
            "count": 0
           },
           {
            "bin_start": 0.6000000000000001,
            "bin_end": 0.7000000000000001,
            "count": 0
           },
           {
            "bin_start": 0.7000000000000001,
            "bin_end": 0.8,
            "count": 0
           },
           {
            "bin_start": 0.8,
            "bin_end": 0.9,
            "count": 0
           },
           {
            "bin_start": 0.9,
            "bin_end": 1,
            "count": 2284
           }
          ]
         }
        },
        {
         "name": "cap-color_p",
         "dtype": "uint8"
        },
        {
         "name": "cap-color_r",
         "dtype": "uint8"
        },
        {
         "name": "cap-color_u",
         "dtype": "uint8"
        },
        {
         "name": "cap-color_w",
         "dtype": "uint8"
        },
        {
         "name": "cap-color_y",
         "dtype": "uint8"
        },
        {
         "name": "bruises_t",
         "dtype": "uint8"
        },
        {
         "name": "odor_c",
         "dtype": "uint8"
        },
        {
         "name": "odor_f",
         "dtype": "uint8"
        },
        {
         "name": "odor_l",
         "dtype": "uint8"
        },
        {
         "name": "odor_m",
         "dtype": "uint8"
        },
        {
         "name": "odor_n",
         "dtype": "uint8"
        },
        {
         "name": "odor_p",
         "dtype": "uint8"
        },
        {
         "name": "odor_s",
         "dtype": "uint8"
        },
        {
         "name": "odor_y",
         "dtype": "uint8"
        },
        {
         "name": "gill-attachment_f",
         "dtype": "uint8"
        },
        {
         "name": "gill-spacing_w",
         "dtype": "uint8"
        },
        {
         "name": "gill-size_n",
         "dtype": "uint8"
        },
        {
         "name": "gill-color_e",
         "dtype": "uint8"
        },
        {
         "name": "gill-color_g",
         "dtype": "uint8"
        },
        {
         "name": "gill-color_h",
         "dtype": "uint8"
        },
        {
         "name": "gill-color_k",
         "dtype": "uint8"
        },
        {
         "name": "gill-color_n",
         "dtype": "uint8"
        },
        {
         "name": "gill-color_o",
         "dtype": "uint8"
        },
        {
         "name": "gill-color_p",
         "dtype": "uint8"
        },
        {
         "name": "gill-color_r",
         "dtype": "uint8"
        },
        {
         "name": "gill-color_u",
         "dtype": "uint8"
        },
        {
         "name": "gill-color_w",
         "dtype": "uint8"
        },
        {
         "name": "gill-color_y",
         "dtype": "uint8"
        },
        {
         "name": "stalk-shape_t",
         "dtype": "uint8"
        },
        {
         "name": "stalk-root_b",
         "dtype": "uint8"
        },
        {
         "name": "stalk-root_c",
         "dtype": "uint8"
        },
        {
         "name": "stalk-root_e",
         "dtype": "uint8"
        },
        {
         "name": "stalk-root_r",
         "dtype": "uint8"
        },
        {
         "name": "stalk-surface-above-ring_k",
         "dtype": "uint8"
        },
        {
         "name": "stalk-surface-above-ring_s",
         "dtype": "uint8"
        },
        {
         "name": "stalk-surface-above-ring_y",
         "dtype": "uint8"
        },
        {
         "name": "stalk-surface-below-ring_k",
         "dtype": "uint8"
        },
        {
         "name": "stalk-surface-below-ring_s",
         "dtype": "uint8"
        },
        {
         "name": "stalk-surface-below-ring_y",
         "dtype": "uint8"
        },
        {
         "name": "stalk-color-above-ring_c",
         "dtype": "uint8"
        },
        {
         "name": "stalk-color-above-ring_e",
         "dtype": "uint8"
        },
        {
         "name": "stalk-color-above-ring_g",
         "dtype": "uint8"
        },
        {
         "name": "stalk-color-above-ring_n",
         "dtype": "uint8"
        },
        {
         "name": "stalk-color-above-ring_o",
         "dtype": "uint8"
        },
        {
         "name": "stalk-color-above-ring_p",
         "dtype": "uint8"
        },
        {
         "name": "stalk-color-above-ring_w",
         "dtype": "uint8"
        },
        {
         "name": "stalk-color-above-ring_y",
         "dtype": "uint8"
        },
        {
         "name": "stalk-color-below-ring_c",
         "dtype": "uint8"
        },
        {
         "name": "stalk-color-below-ring_e",
         "dtype": "uint8"
        },
        {
         "name": "stalk-color-below-ring_g",
         "dtype": "uint8"
        },
        {
         "name": "stalk-color-below-ring_n",
         "dtype": "uint8"
        },
        {
         "name": "stalk-color-below-ring_o",
         "dtype": "uint8"
        },
        {
         "name": "stalk-color-below-ring_p",
         "dtype": "uint8"
        },
        {
         "name": "stalk-color-below-ring_w",
         "dtype": "uint8"
        },
        {
         "name": "stalk-color-below-ring_y",
         "dtype": "uint8"
        },
        {
         "name": "veil-color_o",
         "dtype": "uint8"
        },
        {
         "name": "veil-color_w",
         "dtype": "uint8"
        },
        {
         "name": "veil-color_y",
         "dtype": "uint8"
        },
        {
         "name": "ring-number_o",
         "dtype": "uint8"
        },
        {
         "name": "ring-number_t",
         "dtype": "uint8"
        },
        {
         "name": "ring-type_f",
         "dtype": "uint8"
        },
        {
         "name": "ring-type_l",
         "dtype": "uint8"
        },
        {
         "name": "ring-type_n",
         "dtype": "uint8"
        },
        {
         "name": "ring-type_p",
         "dtype": "uint8"
        },
        {
         "name": "spore-print-color_h",
         "dtype": "uint8"
        },
        {
         "name": "spore-print-color_k",
         "dtype": "uint8"
        },
        {
         "name": "spore-print-color_n",
         "dtype": "uint8"
        },
        {
         "name": "spore-print-color_o",
         "dtype": "uint8"
        },
        {
         "name": "spore-print-color_r",
         "dtype": "uint8"
        },
        {
         "name": "spore-print-color_u",
         "dtype": "uint8"
        },
        {
         "name": "spore-print-color_w",
         "dtype": "uint8"
        },
        {
         "name": "spore-print-color_y",
         "dtype": "uint8"
        },
        {
         "name": "population_c",
         "dtype": "uint8"
        },
        {
         "name": "population_n",
         "dtype": "uint8"
        },
        {
         "name": "population_s",
         "dtype": "uint8"
        },
        {
         "name": "population_v",
         "dtype": "uint8"
        },
        {
         "name": "population_y",
         "dtype": "uint8"
        },
        {
         "name": "habitat_g",
         "dtype": "uint8"
        },
        {
         "name": "habitat_l",
         "dtype": "uint8"
        },
        {
         "name": "habitat_m",
         "dtype": "uint8"
        },
        {
         "name": "habitat_p",
         "dtype": "uint8"
        },
        {
         "name": "habitat_u",
         "dtype": "uint8"
        },
        {
         "name": "habitat_w",
         "dtype": "uint8"
        },
        {
         "name": "_deepnote_index_column",
         "dtype": "int64"
        }
       ],
       "rows": [
        {
         "cap-shape_c": 0,
         "cap-shape_f": 0,
         "cap-shape_k": 0,
         "cap-shape_s": 0,
         "cap-shape_x": 1,
         "cap-surface_g": 0,
         "cap-surface_s": 1,
         "cap-surface_y": 0,
         "cap-color_c": 0,
         "cap-color_e": 0,
         "cap-color_g": 0,
         "cap-color_n": 1,
         "cap-color_p": 0,
         "cap-color_r": 0,
         "cap-color_u": 0,
         "cap-color_w": 0,
         "cap-color_y": 0,
         "bruises_t": 1,
         "odor_c": 0,
         "odor_f": 0,
         "odor_l": 0,
         "odor_m": 0,
         "odor_n": 0,
         "odor_p": 1,
         "odor_s": 0,
         "odor_y": 0,
         "gill-attachment_f": 1,
         "gill-spacing_w": 0,
         "gill-size_n": 1,
         "gill-color_e": 0,
         "gill-color_g": 0,
         "gill-color_h": 0,
         "gill-color_k": 1,
         "gill-color_n": 0,
         "gill-color_o": 0,
         "gill-color_p": 0,
         "gill-color_r": 0,
         "gill-color_u": 0,
         "gill-color_w": 0,
         "gill-color_y": 0,
         "stalk-shape_t": 0,
         "stalk-root_b": 0,
         "stalk-root_c": 0,
         "stalk-root_e": 1,
         "stalk-root_r": 0,
         "stalk-surface-above-ring_k": 0,
         "stalk-surface-above-ring_s": 1,
         "stalk-surface-above-ring_y": 0,
         "stalk-surface-below-ring_k": 0,
         "stalk-surface-below-ring_s": 1,
         "stalk-surface-below-ring_y": 0,
         "stalk-color-above-ring_c": 0,
         "stalk-color-above-ring_e": 0,
         "stalk-color-above-ring_g": 0,
         "stalk-color-above-ring_n": 0,
         "stalk-color-above-ring_o": 0,
         "stalk-color-above-ring_p": 0,
         "stalk-color-above-ring_w": 1,
         "stalk-color-above-ring_y": 0,
         "stalk-color-below-ring_c": 0,
         "stalk-color-below-ring_e": 0,
         "stalk-color-below-ring_g": 0,
         "stalk-color-below-ring_n": 0,
         "stalk-color-below-ring_o": 0,
         "stalk-color-below-ring_p": 0,
         "stalk-color-below-ring_w": 1,
         "stalk-color-below-ring_y": 0,
         "veil-color_o": 0,
         "veil-color_w": 1,
         "veil-color_y": 0,
         "ring-number_o": 1,
         "ring-number_t": 0,
         "ring-type_f": 0,
         "ring-type_l": 0,
         "ring-type_n": 0,
         "ring-type_p": 1,
         "spore-print-color_h": 0,
         "spore-print-color_k": 1,
         "spore-print-color_n": 0,
         "spore-print-color_o": 0,
         "spore-print-color_r": 0,
         "spore-print-color_u": 0,
         "spore-print-color_w": 0,
         "spore-print-color_y": 0,
         "population_c": 0,
         "population_n": 0,
         "population_s": 1,
         "population_v": 0,
         "population_y": 0,
         "habitat_g": 0,
         "habitat_l": 0,
         "habitat_m": 0,
         "habitat_p": 0,
         "habitat_u": 1,
         "habitat_w": 0,
         "_deepnote_index_column": 0
        },
        {
         "cap-shape_c": 0,
         "cap-shape_f": 0,
         "cap-shape_k": 0,
         "cap-shape_s": 0,
         "cap-shape_x": 1,
         "cap-surface_g": 0,
         "cap-surface_s": 1,
         "cap-surface_y": 0,
         "cap-color_c": 0,
         "cap-color_e": 0,
         "cap-color_g": 0,
         "cap-color_n": 0,
         "cap-color_p": 0,
         "cap-color_r": 0,
         "cap-color_u": 0,
         "cap-color_w": 0,
         "cap-color_y": 1,
         "bruises_t": 1,
         "odor_c": 0,
         "odor_f": 0,
         "odor_l": 0,
         "odor_m": 0,
         "odor_n": 0,
         "odor_p": 0,
         "odor_s": 0,
         "odor_y": 0,
         "gill-attachment_f": 1,
         "gill-spacing_w": 0,
         "gill-size_n": 0,
         "gill-color_e": 0,
         "gill-color_g": 0,
         "gill-color_h": 0,
         "gill-color_k": 1,
         "gill-color_n": 0,
         "gill-color_o": 0,
         "gill-color_p": 0,
         "gill-color_r": 0,
         "gill-color_u": 0,
         "gill-color_w": 0,
         "gill-color_y": 0,
         "stalk-shape_t": 0,
         "stalk-root_b": 0,
         "stalk-root_c": 1,
         "stalk-root_e": 0,
         "stalk-root_r": 0,
         "stalk-surface-above-ring_k": 0,
         "stalk-surface-above-ring_s": 1,
         "stalk-surface-above-ring_y": 0,
         "stalk-surface-below-ring_k": 0,
         "stalk-surface-below-ring_s": 1,
         "stalk-surface-below-ring_y": 0,
         "stalk-color-above-ring_c": 0,
         "stalk-color-above-ring_e": 0,
         "stalk-color-above-ring_g": 0,
         "stalk-color-above-ring_n": 0,
         "stalk-color-above-ring_o": 0,
         "stalk-color-above-ring_p": 0,
         "stalk-color-above-ring_w": 1,
         "stalk-color-above-ring_y": 0,
         "stalk-color-below-ring_c": 0,
         "stalk-color-below-ring_e": 0,
         "stalk-color-below-ring_g": 0,
         "stalk-color-below-ring_n": 0,
         "stalk-color-below-ring_o": 0,
         "stalk-color-below-ring_p": 0,
         "stalk-color-below-ring_w": 1,
         "stalk-color-below-ring_y": 0,
         "veil-color_o": 0,
         "veil-color_w": 1,
         "veil-color_y": 0,
         "ring-number_o": 1,
         "ring-number_t": 0,
         "ring-type_f": 0,
         "ring-type_l": 0,
         "ring-type_n": 0,
         "ring-type_p": 1,
         "spore-print-color_h": 0,
         "spore-print-color_k": 0,
         "spore-print-color_n": 1,
         "spore-print-color_o": 0,
         "spore-print-color_r": 0,
         "spore-print-color_u": 0,
         "spore-print-color_w": 0,
         "spore-print-color_y": 0,
         "population_c": 0,
         "population_n": 1,
         "population_s": 0,
         "population_v": 0,
         "population_y": 0,
         "habitat_g": 1,
         "habitat_l": 0,
         "habitat_m": 0,
         "habitat_p": 0,
         "habitat_u": 0,
         "habitat_w": 0,
         "_deepnote_index_column": 1
        },
        {
         "cap-shape_c": 0,
         "cap-shape_f": 0,
         "cap-shape_k": 0,
         "cap-shape_s": 0,
         "cap-shape_x": 0,
         "cap-surface_g": 0,
         "cap-surface_s": 1,
         "cap-surface_y": 0,
         "cap-color_c": 0,
         "cap-color_e": 0,
         "cap-color_g": 0,
         "cap-color_n": 0,
         "cap-color_p": 0,
         "cap-color_r": 0,
         "cap-color_u": 0,
         "cap-color_w": 1,
         "cap-color_y": 0,
         "bruises_t": 1,
         "odor_c": 0,
         "odor_f": 0,
         "odor_l": 1,
         "odor_m": 0,
         "odor_n": 0,
         "odor_p": 0,
         "odor_s": 0,
         "odor_y": 0,
         "gill-attachment_f": 1,
         "gill-spacing_w": 0,
         "gill-size_n": 0,
         "gill-color_e": 0,
         "gill-color_g": 0,
         "gill-color_h": 0,
         "gill-color_k": 0,
         "gill-color_n": 1,
         "gill-color_o": 0,
         "gill-color_p": 0,
         "gill-color_r": 0,
         "gill-color_u": 0,
         "gill-color_w": 0,
         "gill-color_y": 0,
         "stalk-shape_t": 0,
         "stalk-root_b": 0,
         "stalk-root_c": 1,
         "stalk-root_e": 0,
         "stalk-root_r": 0,
         "stalk-surface-above-ring_k": 0,
         "stalk-surface-above-ring_s": 1,
         "stalk-surface-above-ring_y": 0,
         "stalk-surface-below-ring_k": 0,
         "stalk-surface-below-ring_s": 1,
         "stalk-surface-below-ring_y": 0,
         "stalk-color-above-ring_c": 0,
         "stalk-color-above-ring_e": 0,
         "stalk-color-above-ring_g": 0,
         "stalk-color-above-ring_n": 0,
         "stalk-color-above-ring_o": 0,
         "stalk-color-above-ring_p": 0,
         "stalk-color-above-ring_w": 1,
         "stalk-color-above-ring_y": 0,
         "stalk-color-below-ring_c": 0,
         "stalk-color-below-ring_e": 0,
         "stalk-color-below-ring_g": 0,
         "stalk-color-below-ring_n": 0,
         "stalk-color-below-ring_o": 0,
         "stalk-color-below-ring_p": 0,
         "stalk-color-below-ring_w": 1,
         "stalk-color-below-ring_y": 0,
         "veil-color_o": 0,
         "veil-color_w": 1,
         "veil-color_y": 0,
         "ring-number_o": 1,
         "ring-number_t": 0,
         "ring-type_f": 0,
         "ring-type_l": 0,
         "ring-type_n": 0,
         "ring-type_p": 1,
         "spore-print-color_h": 0,
         "spore-print-color_k": 0,
         "spore-print-color_n": 1,
         "spore-print-color_o": 0,
         "spore-print-color_r": 0,
         "spore-print-color_u": 0,
         "spore-print-color_w": 0,
         "spore-print-color_y": 0,
         "population_c": 0,
         "population_n": 1,
         "population_s": 0,
         "population_v": 0,
         "population_y": 0,
         "habitat_g": 0,
         "habitat_l": 0,
         "habitat_m": 1,
         "habitat_p": 0,
         "habitat_u": 0,
         "habitat_w": 0,
         "_deepnote_index_column": 2
        },
        {
         "cap-shape_c": 0,
         "cap-shape_f": 0,
         "cap-shape_k": 0,
         "cap-shape_s": 0,
         "cap-shape_x": 1,
         "cap-surface_g": 0,
         "cap-surface_s": 0,
         "cap-surface_y": 1,
         "cap-color_c": 0,
         "cap-color_e": 0,
         "cap-color_g": 0,
         "cap-color_n": 0,
         "cap-color_p": 0,
         "cap-color_r": 0,
         "cap-color_u": 0,
         "cap-color_w": 1,
         "cap-color_y": 0,
         "bruises_t": 1,
         "odor_c": 0,
         "odor_f": 0,
         "odor_l": 0,
         "odor_m": 0,
         "odor_n": 0,
         "odor_p": 1,
         "odor_s": 0,
         "odor_y": 0,
         "gill-attachment_f": 1,
         "gill-spacing_w": 0,
         "gill-size_n": 1,
         "gill-color_e": 0,
         "gill-color_g": 0,
         "gill-color_h": 0,
         "gill-color_k": 0,
         "gill-color_n": 1,
         "gill-color_o": 0,
         "gill-color_p": 0,
         "gill-color_r": 0,
         "gill-color_u": 0,
         "gill-color_w": 0,
         "gill-color_y": 0,
         "stalk-shape_t": 0,
         "stalk-root_b": 0,
         "stalk-root_c": 0,
         "stalk-root_e": 1,
         "stalk-root_r": 0,
         "stalk-surface-above-ring_k": 0,
         "stalk-surface-above-ring_s": 1,
         "stalk-surface-above-ring_y": 0,
         "stalk-surface-below-ring_k": 0,
         "stalk-surface-below-ring_s": 1,
         "stalk-surface-below-ring_y": 0,
         "stalk-color-above-ring_c": 0,
         "stalk-color-above-ring_e": 0,
         "stalk-color-above-ring_g": 0,
         "stalk-color-above-ring_n": 0,
         "stalk-color-above-ring_o": 0,
         "stalk-color-above-ring_p": 0,
         "stalk-color-above-ring_w": 1,
         "stalk-color-above-ring_y": 0,
         "stalk-color-below-ring_c": 0,
         "stalk-color-below-ring_e": 0,
         "stalk-color-below-ring_g": 0,
         "stalk-color-below-ring_n": 0,
         "stalk-color-below-ring_o": 0,
         "stalk-color-below-ring_p": 0,
         "stalk-color-below-ring_w": 1,
         "stalk-color-below-ring_y": 0,
         "veil-color_o": 0,
         "veil-color_w": 1,
         "veil-color_y": 0,
         "ring-number_o": 1,
         "ring-number_t": 0,
         "ring-type_f": 0,
         "ring-type_l": 0,
         "ring-type_n": 0,
         "ring-type_p": 1,
         "spore-print-color_h": 0,
         "spore-print-color_k": 1,
         "spore-print-color_n": 0,
         "spore-print-color_o": 0,
         "spore-print-color_r": 0,
         "spore-print-color_u": 0,
         "spore-print-color_w": 0,
         "spore-print-color_y": 0,
         "population_c": 0,
         "population_n": 0,
         "population_s": 1,
         "population_v": 0,
         "population_y": 0,
         "habitat_g": 0,
         "habitat_l": 0,
         "habitat_m": 0,
         "habitat_p": 0,
         "habitat_u": 1,
         "habitat_w": 0,
         "_deepnote_index_column": 3
        },
        {
         "cap-shape_c": 0,
         "cap-shape_f": 0,
         "cap-shape_k": 0,
         "cap-shape_s": 0,
         "cap-shape_x": 1,
         "cap-surface_g": 0,
         "cap-surface_s": 1,
         "cap-surface_y": 0,
         "cap-color_c": 0,
         "cap-color_e": 0,
         "cap-color_g": 1,
         "cap-color_n": 0,
         "cap-color_p": 0,
         "cap-color_r": 0,
         "cap-color_u": 0,
         "cap-color_w": 0,
         "cap-color_y": 0,
         "bruises_t": 0,
         "odor_c": 0,
         "odor_f": 0,
         "odor_l": 0,
         "odor_m": 0,
         "odor_n": 1,
         "odor_p": 0,
         "odor_s": 0,
         "odor_y": 0,
         "gill-attachment_f": 1,
         "gill-spacing_w": 1,
         "gill-size_n": 0,
         "gill-color_e": 0,
         "gill-color_g": 0,
         "gill-color_h": 0,
         "gill-color_k": 1,
         "gill-color_n": 0,
         "gill-color_o": 0,
         "gill-color_p": 0,
         "gill-color_r": 0,
         "gill-color_u": 0,
         "gill-color_w": 0,
         "gill-color_y": 0,
         "stalk-shape_t": 1,
         "stalk-root_b": 0,
         "stalk-root_c": 0,
         "stalk-root_e": 1,
         "stalk-root_r": 0,
         "stalk-surface-above-ring_k": 0,
         "stalk-surface-above-ring_s": 1,
         "stalk-surface-above-ring_y": 0,
         "stalk-surface-below-ring_k": 0,
         "stalk-surface-below-ring_s": 1,
         "stalk-surface-below-ring_y": 0,
         "stalk-color-above-ring_c": 0,
         "stalk-color-above-ring_e": 0,
         "stalk-color-above-ring_g": 0,
         "stalk-color-above-ring_n": 0,
         "stalk-color-above-ring_o": 0,
         "stalk-color-above-ring_p": 0,
         "stalk-color-above-ring_w": 1,
         "stalk-color-above-ring_y": 0,
         "stalk-color-below-ring_c": 0,
         "stalk-color-below-ring_e": 0,
         "stalk-color-below-ring_g": 0,
         "stalk-color-below-ring_n": 0,
         "stalk-color-below-ring_o": 0,
         "stalk-color-below-ring_p": 0,
         "stalk-color-below-ring_w": 1,
         "stalk-color-below-ring_y": 0,
         "veil-color_o": 0,
         "veil-color_w": 1,
         "veil-color_y": 0,
         "ring-number_o": 1,
         "ring-number_t": 0,
         "ring-type_f": 0,
         "ring-type_l": 0,
         "ring-type_n": 0,
         "ring-type_p": 0,
         "spore-print-color_h": 0,
         "spore-print-color_k": 0,
         "spore-print-color_n": 1,
         "spore-print-color_o": 0,
         "spore-print-color_r": 0,
         "spore-print-color_u": 0,
         "spore-print-color_w": 0,
         "spore-print-color_y": 0,
         "population_c": 0,
         "population_n": 0,
         "population_s": 0,
         "population_v": 0,
         "population_y": 0,
         "habitat_g": 1,
         "habitat_l": 0,
         "habitat_m": 0,
         "habitat_p": 0,
         "habitat_u": 0,
         "habitat_w": 0,
         "_deepnote_index_column": 4
        },
        {
         "cap-shape_c": 0,
         "cap-shape_f": 0,
         "cap-shape_k": 0,
         "cap-shape_s": 0,
         "cap-shape_x": 1,
         "cap-surface_g": 0,
         "cap-surface_s": 0,
         "cap-surface_y": 1,
         "cap-color_c": 0,
         "cap-color_e": 0,
         "cap-color_g": 0,
         "cap-color_n": 0,
         "cap-color_p": 0,
         "cap-color_r": 0,
         "cap-color_u": 0,
         "cap-color_w": 0,
         "cap-color_y": 1,
         "bruises_t": 1,
         "odor_c": 0,
         "odor_f": 0,
         "odor_l": 0,
         "odor_m": 0,
         "odor_n": 0,
         "odor_p": 0,
         "odor_s": 0,
         "odor_y": 0,
         "gill-attachment_f": 1,
         "gill-spacing_w": 0,
         "gill-size_n": 0,
         "gill-color_e": 0,
         "gill-color_g": 0,
         "gill-color_h": 0,
         "gill-color_k": 0,
         "gill-color_n": 1,
         "gill-color_o": 0,
         "gill-color_p": 0,
         "gill-color_r": 0,
         "gill-color_u": 0,
         "gill-color_w": 0,
         "gill-color_y": 0,
         "stalk-shape_t": 0,
         "stalk-root_b": 0,
         "stalk-root_c": 1,
         "stalk-root_e": 0,
         "stalk-root_r": 0,
         "stalk-surface-above-ring_k": 0,
         "stalk-surface-above-ring_s": 1,
         "stalk-surface-above-ring_y": 0,
         "stalk-surface-below-ring_k": 0,
         "stalk-surface-below-ring_s": 1,
         "stalk-surface-below-ring_y": 0,
         "stalk-color-above-ring_c": 0,
         "stalk-color-above-ring_e": 0,
         "stalk-color-above-ring_g": 0,
         "stalk-color-above-ring_n": 0,
         "stalk-color-above-ring_o": 0,
         "stalk-color-above-ring_p": 0,
         "stalk-color-above-ring_w": 1,
         "stalk-color-above-ring_y": 0,
         "stalk-color-below-ring_c": 0,
         "stalk-color-below-ring_e": 0,
         "stalk-color-below-ring_g": 0,
         "stalk-color-below-ring_n": 0,
         "stalk-color-below-ring_o": 0,
         "stalk-color-below-ring_p": 0,
         "stalk-color-below-ring_w": 1,
         "stalk-color-below-ring_y": 0,
         "veil-color_o": 0,
         "veil-color_w": 1,
         "veil-color_y": 0,
         "ring-number_o": 1,
         "ring-number_t": 0,
         "ring-type_f": 0,
         "ring-type_l": 0,
         "ring-type_n": 0,
         "ring-type_p": 1,
         "spore-print-color_h": 0,
         "spore-print-color_k": 1,
         "spore-print-color_n": 0,
         "spore-print-color_o": 0,
         "spore-print-color_r": 0,
         "spore-print-color_u": 0,
         "spore-print-color_w": 0,
         "spore-print-color_y": 0,
         "population_c": 0,
         "population_n": 1,
         "population_s": 0,
         "population_v": 0,
         "population_y": 0,
         "habitat_g": 1,
         "habitat_l": 0,
         "habitat_m": 0,
         "habitat_p": 0,
         "habitat_u": 0,
         "habitat_w": 0,
         "_deepnote_index_column": 5
        },
        {
         "cap-shape_c": 0,
         "cap-shape_f": 0,
         "cap-shape_k": 0,
         "cap-shape_s": 0,
         "cap-shape_x": 0,
         "cap-surface_g": 0,
         "cap-surface_s": 1,
         "cap-surface_y": 0,
         "cap-color_c": 0,
         "cap-color_e": 0,
         "cap-color_g": 0,
         "cap-color_n": 0,
         "cap-color_p": 0,
         "cap-color_r": 0,
         "cap-color_u": 0,
         "cap-color_w": 1,
         "cap-color_y": 0,
         "bruises_t": 1,
         "odor_c": 0,
         "odor_f": 0,
         "odor_l": 0,
         "odor_m": 0,
         "odor_n": 0,
         "odor_p": 0,
         "odor_s": 0,
         "odor_y": 0,
         "gill-attachment_f": 1,
         "gill-spacing_w": 0,
         "gill-size_n": 0,
         "gill-color_e": 0,
         "gill-color_g": 1,
         "gill-color_h": 0,
         "gill-color_k": 0,
         "gill-color_n": 0,
         "gill-color_o": 0,
         "gill-color_p": 0,
         "gill-color_r": 0,
         "gill-color_u": 0,
         "gill-color_w": 0,
         "gill-color_y": 0,
         "stalk-shape_t": 0,
         "stalk-root_b": 0,
         "stalk-root_c": 1,
         "stalk-root_e": 0,
         "stalk-root_r": 0,
         "stalk-surface-above-ring_k": 0,
         "stalk-surface-above-ring_s": 1,
         "stalk-surface-above-ring_y": 0,
         "stalk-surface-below-ring_k": 0,
         "stalk-surface-below-ring_s": 1,
         "stalk-surface-below-ring_y": 0,
         "stalk-color-above-ring_c": 0,
         "stalk-color-above-ring_e": 0,
         "stalk-color-above-ring_g": 0,
         "stalk-color-above-ring_n": 0,
         "stalk-color-above-ring_o": 0,
         "stalk-color-above-ring_p": 0,
         "stalk-color-above-ring_w": 1,
         "stalk-color-above-ring_y": 0,
         "stalk-color-below-ring_c": 0,
         "stalk-color-below-ring_e": 0,
         "stalk-color-below-ring_g": 0,
         "stalk-color-below-ring_n": 0,
         "stalk-color-below-ring_o": 0,
         "stalk-color-below-ring_p": 0,
         "stalk-color-below-ring_w": 1,
         "stalk-color-below-ring_y": 0,
         "veil-color_o": 0,
         "veil-color_w": 1,
         "veil-color_y": 0,
         "ring-number_o": 1,
         "ring-number_t": 0,
         "ring-type_f": 0,
         "ring-type_l": 0,
         "ring-type_n": 0,
         "ring-type_p": 1,
         "spore-print-color_h": 0,
         "spore-print-color_k": 1,
         "spore-print-color_n": 0,
         "spore-print-color_o": 0,
         "spore-print-color_r": 0,
         "spore-print-color_u": 0,
         "spore-print-color_w": 0,
         "spore-print-color_y": 0,
         "population_c": 0,
         "population_n": 1,
         "population_s": 0,
         "population_v": 0,
         "population_y": 0,
         "habitat_g": 0,
         "habitat_l": 0,
         "habitat_m": 1,
         "habitat_p": 0,
         "habitat_u": 0,
         "habitat_w": 0,
         "_deepnote_index_column": 6
        },
        {
         "cap-shape_c": 0,
         "cap-shape_f": 0,
         "cap-shape_k": 0,
         "cap-shape_s": 0,
         "cap-shape_x": 0,
         "cap-surface_g": 0,
         "cap-surface_s": 0,
         "cap-surface_y": 1,
         "cap-color_c": 0,
         "cap-color_e": 0,
         "cap-color_g": 0,
         "cap-color_n": 0,
         "cap-color_p": 0,
         "cap-color_r": 0,
         "cap-color_u": 0,
         "cap-color_w": 1,
         "cap-color_y": 0,
         "bruises_t": 1,
         "odor_c": 0,
         "odor_f": 0,
         "odor_l": 1,
         "odor_m": 0,
         "odor_n": 0,
         "odor_p": 0,
         "odor_s": 0,
         "odor_y": 0,
         "gill-attachment_f": 1,
         "gill-spacing_w": 0,
         "gill-size_n": 0,
         "gill-color_e": 0,
         "gill-color_g": 0,
         "gill-color_h": 0,
         "gill-color_k": 0,
         "gill-color_n": 1,
         "gill-color_o": 0,
         "gill-color_p": 0,
         "gill-color_r": 0,
         "gill-color_u": 0,
         "gill-color_w": 0,
         "gill-color_y": 0,
         "stalk-shape_t": 0,
         "stalk-root_b": 0,
         "stalk-root_c": 1,
         "stalk-root_e": 0,
         "stalk-root_r": 0,
         "stalk-surface-above-ring_k": 0,
         "stalk-surface-above-ring_s": 1,
         "stalk-surface-above-ring_y": 0,
         "stalk-surface-below-ring_k": 0,
         "stalk-surface-below-ring_s": 1,
         "stalk-surface-below-ring_y": 0,
         "stalk-color-above-ring_c": 0,
         "stalk-color-above-ring_e": 0,
         "stalk-color-above-ring_g": 0,
         "stalk-color-above-ring_n": 0,
         "stalk-color-above-ring_o": 0,
         "stalk-color-above-ring_p": 0,
         "stalk-color-above-ring_w": 1,
         "stalk-color-above-ring_y": 0,
         "stalk-color-below-ring_c": 0,
         "stalk-color-below-ring_e": 0,
         "stalk-color-below-ring_g": 0,
         "stalk-color-below-ring_n": 0,
         "stalk-color-below-ring_o": 0,
         "stalk-color-below-ring_p": 0,
         "stalk-color-below-ring_w": 1,
         "stalk-color-below-ring_y": 0,
         "veil-color_o": 0,
         "veil-color_w": 1,
         "veil-color_y": 0,
         "ring-number_o": 1,
         "ring-number_t": 0,
         "ring-type_f": 0,
         "ring-type_l": 0,
         "ring-type_n": 0,
         "ring-type_p": 1,
         "spore-print-color_h": 0,
         "spore-print-color_k": 0,
         "spore-print-color_n": 1,
         "spore-print-color_o": 0,
         "spore-print-color_r": 0,
         "spore-print-color_u": 0,
         "spore-print-color_w": 0,
         "spore-print-color_y": 0,
         "population_c": 0,
         "population_n": 0,
         "population_s": 1,
         "population_v": 0,
         "population_y": 0,
         "habitat_g": 0,
         "habitat_l": 0,
         "habitat_m": 1,
         "habitat_p": 0,
         "habitat_u": 0,
         "habitat_w": 0,
         "_deepnote_index_column": 7
        },
        {
         "cap-shape_c": 0,
         "cap-shape_f": 0,
         "cap-shape_k": 0,
         "cap-shape_s": 0,
         "cap-shape_x": 1,
         "cap-surface_g": 0,
         "cap-surface_s": 0,
         "cap-surface_y": 1,
         "cap-color_c": 0,
         "cap-color_e": 0,
         "cap-color_g": 0,
         "cap-color_n": 0,
         "cap-color_p": 0,
         "cap-color_r": 0,
         "cap-color_u": 0,
         "cap-color_w": 1,
         "cap-color_y": 0,
         "bruises_t": 1,
         "odor_c": 0,
         "odor_f": 0,
         "odor_l": 0,
         "odor_m": 0,
         "odor_n": 0,
         "odor_p": 1,
         "odor_s": 0,
         "odor_y": 0,
         "gill-attachment_f": 1,
         "gill-spacing_w": 0,
         "gill-size_n": 1,
         "gill-color_e": 0,
         "gill-color_g": 0,
         "gill-color_h": 0,
         "gill-color_k": 0,
         "gill-color_n": 0,
         "gill-color_o": 0,
         "gill-color_p": 1,
         "gill-color_r": 0,
         "gill-color_u": 0,
         "gill-color_w": 0,
         "gill-color_y": 0,
         "stalk-shape_t": 0,
         "stalk-root_b": 0,
         "stalk-root_c": 0,
         "stalk-root_e": 1,
         "stalk-root_r": 0,
         "stalk-surface-above-ring_k": 0,
         "stalk-surface-above-ring_s": 1,
         "stalk-surface-above-ring_y": 0,
         "stalk-surface-below-ring_k": 0,
         "stalk-surface-below-ring_s": 1,
         "stalk-surface-below-ring_y": 0,
         "stalk-color-above-ring_c": 0,
         "stalk-color-above-ring_e": 0,
         "stalk-color-above-ring_g": 0,
         "stalk-color-above-ring_n": 0,
         "stalk-color-above-ring_o": 0,
         "stalk-color-above-ring_p": 0,
         "stalk-color-above-ring_w": 1,
         "stalk-color-above-ring_y": 0,
         "stalk-color-below-ring_c": 0,
         "stalk-color-below-ring_e": 0,
         "stalk-color-below-ring_g": 0,
         "stalk-color-below-ring_n": 0,
         "stalk-color-below-ring_o": 0,
         "stalk-color-below-ring_p": 0,
         "stalk-color-below-ring_w": 1,
         "stalk-color-below-ring_y": 0,
         "veil-color_o": 0,
         "veil-color_w": 1,
         "veil-color_y": 0,
         "ring-number_o": 1,
         "ring-number_t": 0,
         "ring-type_f": 0,
         "ring-type_l": 0,
         "ring-type_n": 0,
         "ring-type_p": 1,
         "spore-print-color_h": 0,
         "spore-print-color_k": 1,
         "spore-print-color_n": 0,
         "spore-print-color_o": 0,
         "spore-print-color_r": 0,
         "spore-print-color_u": 0,
         "spore-print-color_w": 0,
         "spore-print-color_y": 0,
         "population_c": 0,
         "population_n": 0,
         "population_s": 0,
         "population_v": 1,
         "population_y": 0,
         "habitat_g": 1,
         "habitat_l": 0,
         "habitat_m": 0,
         "habitat_p": 0,
         "habitat_u": 0,
         "habitat_w": 0,
         "_deepnote_index_column": 8
        },
        {
         "cap-shape_c": 0,
         "cap-shape_f": 0,
         "cap-shape_k": 0,
         "cap-shape_s": 0,
         "cap-shape_x": 0,
         "cap-surface_g": 0,
         "cap-surface_s": 1,
         "cap-surface_y": 0,
         "cap-color_c": 0,
         "cap-color_e": 0,
         "cap-color_g": 0,
         "cap-color_n": 0,
         "cap-color_p": 0,
         "cap-color_r": 0,
         "cap-color_u": 0,
         "cap-color_w": 0,
         "cap-color_y": 1,
         "bruises_t": 1,
         "odor_c": 0,
         "odor_f": 0,
         "odor_l": 0,
         "odor_m": 0,
         "odor_n": 0,
         "odor_p": 0,
         "odor_s": 0,
         "odor_y": 0,
         "gill-attachment_f": 1,
         "gill-spacing_w": 0,
         "gill-size_n": 0,
         "gill-color_e": 0,
         "gill-color_g": 1,
         "gill-color_h": 0,
         "gill-color_k": 0,
         "gill-color_n": 0,
         "gill-color_o": 0,
         "gill-color_p": 0,
         "gill-color_r": 0,
         "gill-color_u": 0,
         "gill-color_w": 0,
         "gill-color_y": 0,
         "stalk-shape_t": 0,
         "stalk-root_b": 0,
         "stalk-root_c": 1,
         "stalk-root_e": 0,
         "stalk-root_r": 0,
         "stalk-surface-above-ring_k": 0,
         "stalk-surface-above-ring_s": 1,
         "stalk-surface-above-ring_y": 0,
         "stalk-surface-below-ring_k": 0,
         "stalk-surface-below-ring_s": 1,
         "stalk-surface-below-ring_y": 0,
         "stalk-color-above-ring_c": 0,
         "stalk-color-above-ring_e": 0,
         "stalk-color-above-ring_g": 0,
         "stalk-color-above-ring_n": 0,
         "stalk-color-above-ring_o": 0,
         "stalk-color-above-ring_p": 0,
         "stalk-color-above-ring_w": 1,
         "stalk-color-above-ring_y": 0,
         "stalk-color-below-ring_c": 0,
         "stalk-color-below-ring_e": 0,
         "stalk-color-below-ring_g": 0,
         "stalk-color-below-ring_n": 0,
         "stalk-color-below-ring_o": 0,
         "stalk-color-below-ring_p": 0,
         "stalk-color-below-ring_w": 1,
         "stalk-color-below-ring_y": 0,
         "veil-color_o": 0,
         "veil-color_w": 1,
         "veil-color_y": 0,
         "ring-number_o": 1,
         "ring-number_t": 0,
         "ring-type_f": 0,
         "ring-type_l": 0,
         "ring-type_n": 0,
         "ring-type_p": 1,
         "spore-print-color_h": 0,
         "spore-print-color_k": 1,
         "spore-print-color_n": 0,
         "spore-print-color_o": 0,
         "spore-print-color_r": 0,
         "spore-print-color_u": 0,
         "spore-print-color_w": 0,
         "spore-print-color_y": 0,
         "population_c": 0,
         "population_n": 0,
         "population_s": 1,
         "population_v": 0,
         "population_y": 0,
         "habitat_g": 0,
         "habitat_l": 0,
         "habitat_m": 1,
         "habitat_p": 0,
         "habitat_u": 0,
         "habitat_w": 0,
         "_deepnote_index_column": 9
        }
       ]
      },
      "text/plain": "      cap-shape_c  cap-shape_f  cap-shape_k  cap-shape_s  cap-shape_x  \\\n0               0            0            0            0            1   \n1               0            0            0            0            1   \n2               0            0            0            0            0   \n3               0            0            0            0            1   \n4               0            0            0            0            1   \n...           ...          ...          ...          ...          ...   \n8119            0            0            1            0            0   \n8120            0            0            0            0            1   \n8121            0            1            0            0            0   \n8122            0            0            1            0            0   \n8123            0            0            0            0            1   \n\n      cap-surface_g  cap-surface_s  cap-surface_y  cap-color_c  cap-color_e  \\\n0                 0              1              0            0            0   \n1                 0              1              0            0            0   \n2                 0              1              0            0            0   \n3                 0              0              1            0            0   \n4                 0              1              0            0            0   \n...             ...            ...            ...          ...          ...   \n8119              0              1              0            0            0   \n8120              0              1              0            0            0   \n8121              0              1              0            0            0   \n8122              0              0              1            0            0   \n8123              0              1              0            0            0   \n\n      ...  population_n  population_s  population_v  population_y  habitat_g  \\\n0     ...             0             1             0             0          0   \n1     ...             1             0             0             0          1   \n2     ...             1             0             0             0          0   \n3     ...             0             1             0             0          0   \n4     ...             0             0             0             0          1   \n...   ...           ...           ...           ...           ...        ...   \n8119  ...             0             0             0             0          0   \n8120  ...             0             0             1             0          0   \n8121  ...             0             0             0             0          0   \n8122  ...             0             0             1             0          0   \n8123  ...             0             0             0             0          0   \n\n      habitat_l  habitat_m  habitat_p  habitat_u  habitat_w  \n0             0          0          0          1          0  \n1             0          0          0          0          0  \n2             0          1          0          0          0  \n3             0          0          0          1          0  \n4             0          0          0          0          0  \n...         ...        ...        ...        ...        ...  \n8119          1          0          0          0          0  \n8120          1          0          0          0          0  \n8121          1          0          0          0          0  \n8122          1          0          0          0          0  \n8123          1          0          0          0          0  \n\n[8124 rows x 95 columns]",
      "text/html": "<div>\n<style scoped>\n    .dataframe tbody tr th:only-of-type {\n        vertical-align: middle;\n    }\n\n    .dataframe tbody tr th {\n        vertical-align: top;\n    }\n\n    .dataframe thead th {\n        text-align: right;\n    }\n</style>\n<table border=\"1\" class=\"dataframe\">\n  <thead>\n    <tr style=\"text-align: right;\">\n      <th></th>\n      <th>cap-shape_c</th>\n      <th>cap-shape_f</th>\n      <th>cap-shape_k</th>\n      <th>cap-shape_s</th>\n      <th>cap-shape_x</th>\n      <th>cap-surface_g</th>\n      <th>cap-surface_s</th>\n      <th>cap-surface_y</th>\n      <th>cap-color_c</th>\n      <th>cap-color_e</th>\n      <th>...</th>\n      <th>population_n</th>\n      <th>population_s</th>\n      <th>population_v</th>\n      <th>population_y</th>\n      <th>habitat_g</th>\n      <th>habitat_l</th>\n      <th>habitat_m</th>\n      <th>habitat_p</th>\n      <th>habitat_u</th>\n      <th>habitat_w</th>\n    </tr>\n  </thead>\n  <tbody>\n    <tr>\n      <th>0</th>\n      <td>0</td>\n      <td>0</td>\n      <td>0</td>\n      <td>0</td>\n      <td>1</td>\n      <td>0</td>\n      <td>1</td>\n      <td>0</td>\n      <td>0</td>\n      <td>0</td>\n      <td>...</td>\n      <td>0</td>\n      <td>1</td>\n      <td>0</td>\n      <td>0</td>\n      <td>0</td>\n      <td>0</td>\n      <td>0</td>\n      <td>0</td>\n      <td>1</td>\n      <td>0</td>\n    </tr>\n    <tr>\n      <th>1</th>\n      <td>0</td>\n      <td>0</td>\n      <td>0</td>\n      <td>0</td>\n      <td>1</td>\n      <td>0</td>\n      <td>1</td>\n      <td>0</td>\n      <td>0</td>\n      <td>0</td>\n      <td>...</td>\n      <td>1</td>\n      <td>0</td>\n      <td>0</td>\n      <td>0</td>\n      <td>1</td>\n      <td>0</td>\n      <td>0</td>\n      <td>0</td>\n      <td>0</td>\n      <td>0</td>\n    </tr>\n    <tr>\n      <th>2</th>\n      <td>0</td>\n      <td>0</td>\n      <td>0</td>\n      <td>0</td>\n      <td>0</td>\n      <td>0</td>\n      <td>1</td>\n      <td>0</td>\n      <td>0</td>\n      <td>0</td>\n      <td>...</td>\n      <td>1</td>\n      <td>0</td>\n      <td>0</td>\n      <td>0</td>\n      <td>0</td>\n      <td>0</td>\n      <td>1</td>\n      <td>0</td>\n      <td>0</td>\n      <td>0</td>\n    </tr>\n    <tr>\n      <th>3</th>\n      <td>0</td>\n      <td>0</td>\n      <td>0</td>\n      <td>0</td>\n      <td>1</td>\n      <td>0</td>\n      <td>0</td>\n      <td>1</td>\n      <td>0</td>\n      <td>0</td>\n      <td>...</td>\n      <td>0</td>\n      <td>1</td>\n      <td>0</td>\n      <td>0</td>\n      <td>0</td>\n      <td>0</td>\n      <td>0</td>\n      <td>0</td>\n      <td>1</td>\n      <td>0</td>\n    </tr>\n    <tr>\n      <th>4</th>\n      <td>0</td>\n      <td>0</td>\n      <td>0</td>\n      <td>0</td>\n      <td>1</td>\n      <td>0</td>\n      <td>1</td>\n      <td>0</td>\n      <td>0</td>\n      <td>0</td>\n      <td>...</td>\n      <td>0</td>\n      <td>0</td>\n      <td>0</td>\n      <td>0</td>\n      <td>1</td>\n      <td>0</td>\n      <td>0</td>\n      <td>0</td>\n      <td>0</td>\n      <td>0</td>\n    </tr>\n    <tr>\n      <th>...</th>\n      <td>...</td>\n      <td>...</td>\n      <td>...</td>\n      <td>...</td>\n      <td>...</td>\n      <td>...</td>\n      <td>...</td>\n      <td>...</td>\n      <td>...</td>\n      <td>...</td>\n      <td>...</td>\n      <td>...</td>\n      <td>...</td>\n      <td>...</td>\n      <td>...</td>\n      <td>...</td>\n      <td>...</td>\n      <td>...</td>\n      <td>...</td>\n      <td>...</td>\n      <td>...</td>\n    </tr>\n    <tr>\n      <th>8119</th>\n      <td>0</td>\n      <td>0</td>\n      <td>1</td>\n      <td>0</td>\n      <td>0</td>\n      <td>0</td>\n      <td>1</td>\n      <td>0</td>\n      <td>0</td>\n      <td>0</td>\n      <td>...</td>\n      <td>0</td>\n      <td>0</td>\n      <td>0</td>\n      <td>0</td>\n      <td>0</td>\n      <td>1</td>\n      <td>0</td>\n      <td>0</td>\n      <td>0</td>\n      <td>0</td>\n    </tr>\n    <tr>\n      <th>8120</th>\n      <td>0</td>\n      <td>0</td>\n      <td>0</td>\n      <td>0</td>\n      <td>1</td>\n      <td>0</td>\n      <td>1</td>\n      <td>0</td>\n      <td>0</td>\n      <td>0</td>\n      <td>...</td>\n      <td>0</td>\n      <td>0</td>\n      <td>1</td>\n      <td>0</td>\n      <td>0</td>\n      <td>1</td>\n      <td>0</td>\n      <td>0</td>\n      <td>0</td>\n      <td>0</td>\n    </tr>\n    <tr>\n      <th>8121</th>\n      <td>0</td>\n      <td>1</td>\n      <td>0</td>\n      <td>0</td>\n      <td>0</td>\n      <td>0</td>\n      <td>1</td>\n      <td>0</td>\n      <td>0</td>\n      <td>0</td>\n      <td>...</td>\n      <td>0</td>\n      <td>0</td>\n      <td>0</td>\n      <td>0</td>\n      <td>0</td>\n      <td>1</td>\n      <td>0</td>\n      <td>0</td>\n      <td>0</td>\n      <td>0</td>\n    </tr>\n    <tr>\n      <th>8122</th>\n      <td>0</td>\n      <td>0</td>\n      <td>1</td>\n      <td>0</td>\n      <td>0</td>\n      <td>0</td>\n      <td>0</td>\n      <td>1</td>\n      <td>0</td>\n      <td>0</td>\n      <td>...</td>\n      <td>0</td>\n      <td>0</td>\n      <td>1</td>\n      <td>0</td>\n      <td>0</td>\n      <td>1</td>\n      <td>0</td>\n      <td>0</td>\n      <td>0</td>\n      <td>0</td>\n    </tr>\n    <tr>\n      <th>8123</th>\n      <td>0</td>\n      <td>0</td>\n      <td>0</td>\n      <td>0</td>\n      <td>1</td>\n      <td>0</td>\n      <td>1</td>\n      <td>0</td>\n      <td>0</td>\n      <td>0</td>\n      <td>...</td>\n      <td>0</td>\n      <td>0</td>\n      <td>0</td>\n      <td>0</td>\n      <td>0</td>\n      <td>1</td>\n      <td>0</td>\n      <td>0</td>\n      <td>0</td>\n      <td>0</td>\n    </tr>\n  </tbody>\n</table>\n<p>8124 rows × 95 columns</p>\n</div>"
     },
     "metadata": {}
    }
   ],
   "execution_count": null
  },
  {
   "cell_type": "code",
   "source": "# Split the data into Train - Test\nfrom sklearn.model_selection import train_test_split\n\nX_train, X_test, y_train, y_test = train_test_split(X, y)",
   "metadata": {
    "tags": [],
    "cell_id": "00006-f79d9275-43ad-4829-a8ae-6ac381b2242b",
    "deepnote_to_be_reexecuted": false,
    "source_hash": "fe6e8929",
    "execution_start": 1641408971495,
    "execution_millis": 757,
    "deepnote_cell_type": "code"
   },
   "outputs": [],
   "execution_count": null
  },
  {
   "cell_type": "code",
   "source": "### Model Algorithm Selection ###\n## 1. Logistic Regression ##\nfrom sklearn.linear_model import LogisticRegression\nfrom sklearn.metrics import accuracy_score\n\nlog_reg = LogisticRegression().fit(X_train, y_train)\nlog_predictions = log_reg.predict(X_test)\naccuracy_score(log_predictions, y_test)",
   "metadata": {
    "tags": [],
    "cell_id": "00007-9011ad24-3bad-4630-8ac8-9b31ebf0b9d8",
    "deepnote_to_be_reexecuted": false,
    "source_hash": "5dd3069d",
    "execution_start": 1641409177637,
    "execution_millis": 128,
    "deepnote_output_heights": [
     21.1875
    ],
    "deepnote_cell_type": "code"
   },
   "outputs": [
    {
     "output_type": "execute_result",
     "execution_count": 9,
     "data": {
      "text/plain": "1.0"
     },
     "metadata": {}
    }
   ],
   "execution_count": null
  },
  {
   "cell_type": "code",
   "source": "## 2. Random Forest Classifier ##\nfrom sklearn.ensemble import RandomForestClassifier\nfrom sklearn.metrics import accuracy_score\n\nrandom_forest_class = RandomForestClassifier()\nrandom_forest_class.fit(X_train, y_train)\nrf_predictions = log_reg.predict(X_test)\naccuracy_score(rf_predictions, y_test)",
   "metadata": {
    "tags": [],
    "cell_id": "00008-b237c0f9-65dc-4cdd-b6ed-6cdf4b604753",
    "deepnote_to_be_reexecuted": false,
    "source_hash": "9b7cf8e2",
    "execution_start": 1641409198170,
    "execution_millis": 605,
    "deepnote_output_heights": [
     21.1875
    ],
    "deepnote_cell_type": "code"
   },
   "outputs": [
    {
     "output_type": "execute_result",
     "execution_count": 10,
     "data": {
      "text/plain": "1.0"
     },
     "metadata": {}
    }
   ],
   "execution_count": null
  },
  {
   "cell_type": "code",
   "source": "## 3. Boosting - LightGBM (Gradient Boosting Model) ##\n! pip install lightgbm\n\nimport lightgbm as lgb\nclf = lgb.LGBMClassifier()\nclf.fit(X_train, y_train)\nlight_gbm_predictions = clf.predict(X_test)\naccuracy_score(light_gbm_predictions, y_test)\n",
   "metadata": {
    "tags": [],
    "cell_id": "00009-5b4ca035-cd30-4d48-b3c7-3b091712d58c",
    "deepnote_to_be_reexecuted": false,
    "source_hash": "34543214",
    "execution_start": 1641409213701,
    "execution_millis": 5889,
    "deepnote_output_heights": [
     null,
     21.1875
    ],
    "deepnote_cell_type": "code"
   },
   "outputs": [
    {
     "name": "stdout",
     "text": "Collecting lightgbm\n  Downloading lightgbm-3.3.1-py3-none-manylinux1_x86_64.whl (2.0 MB)\n\u001b[K     |████████████████████████████████| 2.0 MB 20.9 MB/s \n\u001b[?25hRequirement already satisfied: scipy in /shared-libs/python3.7/py/lib/python3.7/site-packages (from lightgbm) (1.7.3)\nRequirement already satisfied: scikit-learn!=0.22.0 in /shared-libs/python3.7/py/lib/python3.7/site-packages (from lightgbm) (1.0.1)\nRequirement already satisfied: wheel in /usr/local/lib/python3.7/site-packages (from lightgbm) (0.37.0)\nRequirement already satisfied: numpy in /shared-libs/python3.7/py/lib/python3.7/site-packages (from lightgbm) (1.19.5)\nRequirement already satisfied: threadpoolctl>=2.0.0 in /shared-libs/python3.7/py/lib/python3.7/site-packages (from scikit-learn!=0.22.0->lightgbm) (3.0.0)\nRequirement already satisfied: joblib>=0.11 in /shared-libs/python3.7/py/lib/python3.7/site-packages (from scikit-learn!=0.22.0->lightgbm) (1.1.0)\nInstalling collected packages: lightgbm\nSuccessfully installed lightgbm-3.3.1\n\u001b[33mWARNING: You are using pip version 20.1.1; however, version 21.3.1 is available.\nYou should consider upgrading via the '/root/venv/bin/python -m pip install --upgrade pip' command.\u001b[0m\n",
     "output_type": "stream",
     "data": {}
    },
    {
     "output_type": "execute_result",
     "execution_count": 11,
     "data": {
      "text/plain": "1.0"
     },
     "metadata": {}
    }
   ],
   "execution_count": null
  },
  {
   "cell_type": "code",
   "source": "# Confusion Matrix\nimport seaborn as sns\nfrom sklearn.metrics import confusion_matrix\n\ndef confusion_matrix_plotter(predictions, actuals):\n    cf_matrix = confusion_matrix(rf_predictions, y_test)\n    group_names = ['True Neg','False Pos','False Neg','True Pos']\n    group_counts = [\"{0:0.0f}\".format(value) for value in\n                    cf_matrix.flatten()]\n    group_percentages = [\"{0:.2%}\".format(value) for value in\n                        cf_matrix.flatten()/np.sum(cf_matrix)]\n    labels = [f\"{v1}\\n{v2}\\n{v3}\" for v1, v2, v3 in\n            zip(group_names,group_counts,group_percentages)]\n    labels = np.asarray(labels).reshape(2,2)\n    return sns.heatmap(cf_matrix, annot=labels, fmt=\"\", cmap='Blues')\n\nconfusion_matrix_plotter(light_gbm_predictions, y_test)",
   "metadata": {
    "tags": [],
    "cell_id": "00010-17a2dfdf-27bf-4e7c-97b3-8dff10bf988d",
    "deepnote_to_be_reexecuted": false,
    "source_hash": "81603663",
    "execution_start": 1641410087797,
    "execution_millis": 1886,
    "deepnote_output_heights": [
     21.1875,
     250
    ],
    "deepnote_cell_type": "code"
   },
   "outputs": [
    {
     "output_type": "execute_result",
     "execution_count": 12,
     "data": {
      "text/plain": "<AxesSubplot:>"
     },
     "metadata": {}
    },
    {
     "data": {
      "text/plain": "<Figure size 432x288 with 2 Axes>",
      "image/png": "[encoded data removed]"
     },
     "metadata": {
      "needs_background": "light",
      "image/png": {
       "width": 358,
       "height": 248
      }
     },
     "output_type": "display_data"
    }
   ],
   "execution_count": null
  },
  {
   "cell_type": "code",
   "source": "# Area Under the Curve (AUC)\n# True Postive Rate (Sensitivity)\n# True Negativie Rate (Specificity)\n# Fale Positive Rate\n\nimport sklearn.metrics as metrics\n# calculate the fpr and tpr for all thresholds of the classification\nprobs = random_forest_class.predict_proba(X_test)\npreds = probs[:,1]\ny_test = y_test.map({'e':1, 'p':0})\nfpr, tpr, threshold = metrics.roc_curve(y_test, preds)\nroc_auc = metrics.auc(tpr, fpr)\n\n# method I: plt\nimport matplotlib.pyplot as plt\nplt.title('Receiver Operating Characteristic')\nplt.plot(tpr, fpr, 'b', label = 'AUC = %0.2f' % roc_auc)\nplt.legend(loc = 'lower right')\nplt.plot([0, 1], [0, 1],'r--')\nplt.xlim([-0.1, 1.1])\nplt.ylim([0.0, 1.1])\nplt.ylabel('True Positive Rate')\nplt.xlabel('False Positive Rate')\nplt.show()",
   "metadata": {
    "tags": [],
    "cell_id": "00011-6384a8f3-5558-4f67-b9a0-879e95da7338",
    "deepnote_to_be_reexecuted": false,
    "source_hash": "10727595",
    "execution_start": 1641410666273,
    "execution_millis": 277,
    "deepnote_output_heights": [
     280
    ],
    "deepnote_cell_type": "code"
   },
   "outputs": [
    {
     "data": {
      "text/plain": "<Figure size 432x288 with 1 Axes>",
      "image/png": "[encoded data removed]"
     },
     "metadata": {
      "needs_background": "light",
      "image/png": {
       "width": 386,
       "height": 278
      }
     },
     "output_type": "display_data"
    }
   ],
   "execution_count": null
  },
  {
   "cell_type": "code",
   "source": "# Determine F1 Score\nfrom sklearn.metrics import f1_score\n\nf1_score(y_true = y_test, y_pred = y_test)",
   "metadata": {
    "tags": [],
    "cell_id": "00012-2a067747-a3fb-4014-bcb5-1bd5d2814ee9",
    "deepnote_to_be_reexecuted": false,
    "source_hash": "befeec14",
    "execution_start": 1641410962497,
    "execution_millis": 26,
    "deepnote_output_heights": [
     21.1875
    ],
    "deepnote_cell_type": "code"
   },
   "outputs": [
    {
     "output_type": "execute_result",
     "execution_count": 19,
     "data": {
      "text/plain": "1.0"
     },
     "metadata": {}
    }
   ],
   "execution_count": null
  },
  {
   "cell_type": "code",
   "source": "",
   "metadata": {
    "tags": [],
    "cell_id": "00013-f83566e4-bff5-4d17-a35e-4519c6cf4d0f",
    "deepnote_cell_type": "code"
   },
   "outputs": [],
   "execution_count": null
  },
  {
   "cell_type": "markdown",
   "source": "<a style='text-decoration:none;line-height:16px;display:flex;color:#5B5B62;padding:10px;justify-content:end;' href='https://deepnote.com?utm_source=created-in-deepnote-cell&projectId=cc843f04-8de7-4926-8946-57fb094cb8ec' target=\"_blank\">\n<img alt='Created in deepnote.com' style='display:inline;max-height:16px;margin:0px;margin-right:7.5px;' src='data:image/svg+xml;base64,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' > </img>\nCreated in <span style='font-weight:600;margin-left:4px;'>Deepnote</span></a>",
   "metadata": {
    "tags": [],
    "created_in_deepnote_cell": true,
    "deepnote_cell_type": "markdown"
   }
  }
 ],
 "nbformat": 4,
 "nbformat_minor": 2,
 "metadata": {
  "orig_nbformat": 2,
  "deepnote": {
   "is_reactive": false
  },
  "deepnote_notebook_id": "09be9255-c09c-4626-92e2-80f05a76f4a0",
  "deepnote_execution_queue": []
 }
}