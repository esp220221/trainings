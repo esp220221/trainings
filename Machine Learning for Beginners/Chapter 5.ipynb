{
 "cells": [
  {
   "cell_type": "code",
   "metadata": {
    "tags": [],
    "cell_id": "00000-44394345-c4c4-4b87-a924-db1b08e815b9",
    "deepnote_to_be_reexecuted": false,
    "source_hash": "c76c7c51",
    "execution_start": 1640016818535,
    "execution_millis": 999549,
    "deepnote_cell_type": "code"
   },
   "source": "import pandas as pd\nimport numpy as np",
   "execution_count": null,
   "outputs": []
  },
  {
   "cell_type": "code",
   "metadata": {
    "tags": [],
    "cell_id": "00001-666c042c-7919-465d-9d44-7029c85ff2f4",
    "deepnote_to_be_reexecuted": false,
    "source_hash": "8dae45e5",
    "execution_start": 1640016818587,
    "execution_millis": 428,
    "deepnote_cell_type": "code"
   },
   "source": "career_data = pd.read_csv(\"data/career_data.csv\", dtype={\"postal_code\":str})\ncareer_data.head()",
   "execution_count": null,
   "outputs": [
    {
     "output_type": "execute_result",
     "execution_count": 2,
     "data": {
      "application/vnd.deepnote.dataframe.v3+json": {
       "column_count": 30,
       "row_count": 5,
       "columns": [
        {
         "name": "uniq_id",
         "dtype": "object",
         "stats": {
          "unique_count": 5,
          "nan_count": 0,
          "categories": [
           {
            "name": "9a457ef257fecf231693a6ba08f50293",
            "count": 1
           },
           {
            "name": "ba471e2faf6f79caf22cddebbedbc0e8",
            "count": 1
           },
           {
            "name": "3 others",
            "count": 3
           }
          ]
         }
        },
        {
         "name": "crawl_timestamp",
         "dtype": "object",
         "stats": {
          "unique_count": 5,
          "nan_count": 0,
          "categories": [
           {
            "name": "2020-06-26 01:54:03 +0000",
            "count": 1
           },
           {
            "name": "2020-05-17 01:21:05 +0000",
            "count": 1
           },
           {
            "name": "3 others",
            "count": 3
           }
          ]
         }
        },
        {
         "name": "job_title",
         "dtype": "object",
         "stats": {
          "unique_count": 5,
          "nan_count": 0,
          "categories": [
           {
            "name": "Asphalt/Concrete Senior Project Manager",
            "count": 1
           },
           {
            "name": "Amazon Warehouse Team - Full Time",
            "count": 1
           },
           {
            "name": "3 others",
            "count": 3
           }
          ]
         }
        },
        {
         "name": "company_name",
         "dtype": "object",
         "stats": {
          "unique_count": 4,
          "nan_count": 0,
          "categories": [
           {
            "name": "Amazon Fulfillment",
            "count": 2
           },
           {
            "name": "GPAC",
            "count": 1
           },
           {
            "name": "2 others",
            "count": 2
           }
          ]
         }
        },
        {
         "name": "post_date",
         "dtype": "object",
         "stats": {
          "unique_count": 5,
          "nan_count": 0,
          "categories": [
           {
            "name": "2020-06-25",
            "count": 1
           },
           {
            "name": "2020-05-16",
            "count": 1
           },
           {
            "name": "3 others",
            "count": 3
           }
          ]
         }
        },
        {
         "name": "job_type",
         "dtype": "object",
         "stats": {
          "unique_count": 1,
          "nan_count": 0,
          "categories": [
           {
            "name": "Full-Time",
            "count": 5
           }
          ]
         }
        },
        {
         "name": "inferred_salary_time_unit",
         "dtype": "object",
         "stats": {
          "unique_count": 2,
          "nan_count": 0,
          "categories": [
           {
            "name": "/",
            "count": 4
           },
           {
            "name": "/hour",
            "count": 1
           }
          ]
         }
        },
        {
         "name": "salary_offered",
         "dtype": "object",
         "stats": {
          "unique_count": 5,
          "nan_count": 0,
          "categories": [
           {
            "name": "$99,642.00",
            "count": 1
           },
           {
            "name": "$58,626.00",
            "count": 1
           },
           {
            "name": "3 others",
            "count": 3
           }
          ]
         }
        },
        {
         "name": "job_board",
         "dtype": "object",
         "stats": {
          "unique_count": 1,
          "nan_count": 0,
          "categories": [
           {
            "name": "careerbuilder",
            "count": 5
           }
          ]
         }
        },
        {
         "name": "geo",
         "dtype": "object",
         "stats": {
          "unique_count": 1,
          "nan_count": 0,
          "categories": [
           {
            "name": "usa",
            "count": 5
           }
          ]
         }
        },
        {
         "name": "job_post_lang",
         "dtype": "object",
         "stats": {
          "unique_count": 1,
          "nan_count": 0,
          "categories": [
           {
            "name": "en-us",
            "count": 5
           }
          ]
         }
        },
        {
         "name": "valid_through",
         "dtype": "object",
         "stats": {
          "unique_count": 5,
          "nan_count": 0,
          "categories": [
           {
            "name": "2020-07-24",
            "count": 1
           },
           {
            "name": "2020-06-15",
            "count": 1
           },
           {
            "name": "3 others",
            "count": 3
           }
          ]
         }
        },
        {
         "name": "postdate_yyyymmdd",
         "dtype": "int64",
         "stats": {
          "unique_count": 5,
          "nan_count": 0,
          "min": "20200516",
          "max": "20200626",
          "histogram": [
           {
            "bin_start": 20200516,
            "bin_end": 20200527,
            "count": 2
           },
           {
            "bin_start": 20200527,
            "bin_end": 20200538,
            "count": 0
           },
           {
            "bin_start": 20200538,
            "bin_end": 20200549,
            "count": 0
           },
           {
            "bin_start": 20200549,
            "bin_end": 20200560,
            "count": 0
           },
           {
            "bin_start": 20200560,
            "bin_end": 20200571,
            "count": 0
           },
           {
            "bin_start": 20200571,
            "bin_end": 20200582,
            "count": 0
           },
           {
            "bin_start": 20200582,
            "bin_end": 20200593,
            "count": 0
           },
           {
            "bin_start": 20200593,
            "bin_end": 20200604,
            "count": 1
           },
           {
            "bin_start": 20200604,
            "bin_end": 20200615,
            "count": 0
           },
           {
            "bin_start": 20200615,
            "bin_end": 20200626,
            "count": 2
           }
          ]
         }
        },
        {
         "name": "last_expiry_check_date",
         "dtype": "object",
         "stats": {
          "unique_count": 5,
          "nan_count": 0,
          "categories": [
           {
            "name": "2020.06.26",
            "count": 1
           },
           {
            "name": "2020.05.17",
            "count": 1
           },
           {
            "name": "3 others",
            "count": 3
           }
          ]
         }
        },
        {
         "name": "latest_expiry_check_date",
         "dtype": "object",
         "stats": {
          "unique_count": 5,
          "nan_count": 0,
          "categories": [
           {
            "name": "2020-06-26",
            "count": 1
           },
           {
            "name": "2020-05-17",
            "count": 1
           },
           {
            "name": "3 others",
            "count": 3
           }
          ]
         }
        },
        {
         "name": "duplicate_status",
         "dtype": "float64",
         "stats": {
          "unique_count": 0,
          "nan_count": 5,
          "min": null,
          "max": null,
          "histogram": [
           {
            "bin_start": 0,
            "bin_end": 0.1,
            "count": 0
           },
           {
            "bin_start": 0.1,
            "bin_end": 0.2,
            "count": 0
           },
           {
            "bin_start": 0.2,
            "bin_end": 0.30000000000000004,
            "count": 0
           },
           {
            "bin_start": 0.30000000000000004,
            "bin_end": 0.4,
            "count": 0
           },
           {
            "bin_start": 0.4,
            "bin_end": 0.5,
            "count": 0
           },
           {
            "bin_start": 0.5,
            "bin_end": 0.6000000000000001,
            "count": 0
           },
           {
            "bin_start": 0.6000000000000001,
            "bin_end": 0.7000000000000001,
            "count": 0
           },
           {
            "bin_start": 0.7000000000000001,
            "bin_end": 0.8,
            "count": 0
           },
           {
            "bin_start": 0.8,
            "bin_end": 0.9,
            "count": 0
           },
           {
            "bin_start": 0.9,
            "bin_end": 1,
            "count": 0
           }
          ]
         }
        },
        {
         "name": "postdate_in_indexname_format",
         "dtype": "object",
         "stats": {
          "unique_count": 4,
          "nan_count": 0,
          "categories": [
           {
            "name": "2020.06.22",
            "count": 2
           },
           {
            "name": "2020.05.11",
            "count": 1
           },
           {
            "name": "2 others",
            "count": 2
           }
          ]
         }
        },
        {
         "name": "inferred_city",
         "dtype": "object",
         "stats": {
          "unique_count": 5,
          "nan_count": 0,
          "categories": [
           {
            "name": "Houston",
            "count": 1
           },
           {
            "name": "Cincinnati",
            "count": 1
           },
           {
            "name": "3 others",
            "count": 3
           }
          ]
         }
        },
        {
         "name": "inferred_state",
         "dtype": "object",
         "stats": {
          "unique_count": 5,
          "nan_count": 0,
          "categories": [
           {
            "name": "Texas",
            "count": 1
           },
           {
            "name": "Ohio",
            "count": 1
           },
           {
            "name": "3 others",
            "count": 3
           }
          ]
         }
        },
        {
         "name": "inferred_country",
         "dtype": "object",
         "stats": {
          "unique_count": 1,
          "nan_count": 0,
          "categories": [
           {
            "name": "United states",
            "count": 5
           }
          ]
         }
        },
        {
         "name": "fitness_score",
         "dtype": "int64",
         "stats": {
          "unique_count": 1,
          "nan_count": 0,
          "min": "10",
          "max": "10",
          "histogram": [
           {
            "bin_start": 9.5,
            "bin_end": 9.6,
            "count": 0
           },
           {
            "bin_start": 9.6,
            "bin_end": 9.7,
            "count": 0
           },
           {
            "bin_start": 9.7,
            "bin_end": 9.8,
            "count": 0
           },
           {
            "bin_start": 9.8,
            "bin_end": 9.9,
            "count": 0
           },
           {
            "bin_start": 9.9,
            "bin_end": 10,
            "count": 0
           },
           {
            "bin_start": 10,
            "bin_end": 10.1,
            "count": 5
           },
           {
            "bin_start": 10.1,
            "bin_end": 10.2,
            "count": 0
           },
           {
            "bin_start": 10.2,
            "bin_end": 10.3,
            "count": 0
           },
           {
            "bin_start": 10.3,
            "bin_end": 10.4,
            "count": 0
           },
           {
            "bin_start": 10.4,
            "bin_end": 10.5,
            "count": 0
           }
          ]
         }
        },
        {
         "name": "inferred_salary_from",
         "dtype": "object",
         "stats": {
          "unique_count": 1,
          "nan_count": 4,
          "categories": [
           {
            "name": "14.00",
            "count": 1
           },
           {
            "name": "Missing",
            "count": 4
           }
          ]
         }
        },
        {
         "name": "inferred_salary_to",
         "dtype": "object",
         "stats": {
          "unique_count": 1,
          "nan_count": 4,
          "categories": [
           {
            "name": "14.00",
            "count": 1
           },
           {
            "name": "Missing",
            "count": 4
           }
          ]
         }
        },
        {
         "name": "inferred_salary_currency",
         "dtype": "object",
         "stats": {
          "unique_count": 1,
          "nan_count": 4,
          "categories": [
           {
            "name": "$",
            "count": 1
           },
           {
            "name": "Missing",
            "count": 4
           }
          ]
         }
        },
        {
         "name": "is_consumed_job",
         "dtype": "object",
         "stats": {
          "unique_count": 0,
          "nan_count": 5,
          "categories": [
           {
            "name": "Missing",
            "count": 5
           }
          ]
         }
        },
        {
         "name": "job_requirements",
         "dtype": "object",
         "stats": {
          "unique_count": 0,
          "nan_count": 5,
          "categories": [
           {
            "name": "Missing",
            "count": 5
           }
          ]
         }
        },
        {
         "name": "contact_email",
         "dtype": "object",
         "stats": {
          "unique_count": 0,
          "nan_count": 5,
          "categories": [
           {
            "name": "Missing",
            "count": 5
           }
          ]
         }
        },
        {
         "name": "test_contact_email",
         "dtype": "float64",
         "stats": {
          "unique_count": 0,
          "nan_count": 5,
          "min": null,
          "max": null,
          "histogram": [
           {
            "bin_start": 0,
            "bin_end": 0.1,
            "count": 0
           },
           {
            "bin_start": 0.1,
            "bin_end": 0.2,
            "count": 0
           },
           {
            "bin_start": 0.2,
            "bin_end": 0.30000000000000004,
            "count": 0
           },
           {
            "bin_start": 0.30000000000000004,
            "bin_end": 0.4,
            "count": 0
           },
           {
            "bin_start": 0.4,
            "bin_end": 0.5,
            "count": 0
           },
           {
            "bin_start": 0.5,
            "bin_end": 0.6000000000000001,
            "count": 0
           },
           {
            "bin_start": 0.6000000000000001,
            "bin_end": 0.7000000000000001,
            "count": 0
           },
           {
            "bin_start": 0.7000000000000001,
            "bin_end": 0.8,
            "count": 0
           },
           {
            "bin_start": 0.8,
            "bin_end": 0.9,
            "count": 0
           },
           {
            "bin_start": 0.9,
            "bin_end": 1,
            "count": 0
           }
          ]
         }
        },
        {
         "name": "post_date_unix_time",
         "dtype": "int64",
         "stats": {
          "unique_count": 5,
          "nan_count": 0,
          "min": "1589587200",
          "max": "1593129600",
          "histogram": [
           {
            "bin_start": 1589587200,
            "bin_end": 1589941440,
            "count": 1
           },
           {
            "bin_start": 1589941440,
            "bin_end": 1590295680,
            "count": 1
           },
           {
            "bin_start": 1590295680,
            "bin_end": 1590649920,
            "count": 0
           },
           {
            "bin_start": 1590649920,
            "bin_end": 1591004160,
            "count": 0
           },
           {
            "bin_start": 1591004160,
            "bin_end": 1591358400,
            "count": 1
           },
           {
            "bin_start": 1591358400,
            "bin_end": 1591712640,
            "count": 0
           },
           {
            "bin_start": 1591712640,
            "bin_end": 1592066880,
            "count": 0
           },
           {
            "bin_start": 1592066880,
            "bin_end": 1592421120,
            "count": 0
           },
           {
            "bin_start": 1592421120,
            "bin_end": 1592775360,
            "count": 0
           },
           {
            "bin_start": 1592775360,
            "bin_end": 1593129600,
            "count": 2
           }
          ]
         }
        },
        {
         "name": "postal_code",
         "dtype": "object",
         "stats": {
          "unique_count": 5,
          "nan_count": 0,
          "categories": [
           {
            "name": "43961",
            "count": 1
           },
           {
            "name": "50467",
            "count": 1
           },
           {
            "name": "3 others",
            "count": 3
           }
          ]
         }
        },
        {
         "name": "_deepnote_index_column",
         "dtype": "int64"
        }
       ],
       "rows": [
        {
         "uniq_id": "9a457ef257fecf231693a6ba08f50293",
         "crawl_timestamp": "2020-06-26 01:54:03 +0000",
         "job_title": "Asphalt/Concrete Senior Project Manager",
         "company_name": "GPAC",
         "post_date": "2020-06-25",
         "job_type": "Full-Time",
         "inferred_salary_time_unit": "/",
         "salary_offered": "$99,642.00",
         "job_board": "careerbuilder",
         "geo": "usa",
         "job_post_lang": "en-us",
         "valid_through": "2020-07-24",
         "postdate_yyyymmdd": 20200625,
         "last_expiry_check_date": "2020.06.26",
         "latest_expiry_check_date": "2020-06-26",
         "duplicate_status": "nan",
         "postdate_in_indexname_format": "2020.06.22",
         "inferred_city": "Houston",
         "inferred_state": "Texas",
         "inferred_country": "United states",
         "fitness_score": 10,
         "inferred_salary_from": "nan",
         "inferred_salary_to": "nan",
         "inferred_salary_currency": "nan",
         "is_consumed_job": "nan",
         "job_requirements": "nan",
         "contact_email": "nan",
         "test_contact_email": "nan",
         "post_date_unix_time": 1593043200,
         "postal_code": "43961",
         "_deepnote_index_column": 0
        },
        {
         "uniq_id": "ba471e2faf6f79caf22cddebbedbc0e8",
         "crawl_timestamp": "2020-05-17 01:21:05 +0000",
         "job_title": "Amazon Warehouse Team - Full Time",
         "company_name": "Amazon Fulfillment",
         "post_date": "2020-05-16",
         "job_type": "Full-Time",
         "inferred_salary_time_unit": "/",
         "salary_offered": "$58,626.00",
         "job_board": "careerbuilder",
         "geo": "usa",
         "job_post_lang": "en-us",
         "valid_through": "2020-06-15",
         "postdate_yyyymmdd": 20200516,
         "last_expiry_check_date": "2020.05.17",
         "latest_expiry_check_date": "2020-05-17",
         "duplicate_status": "nan",
         "postdate_in_indexname_format": "2020.05.11",
         "inferred_city": "Cincinnati",
         "inferred_state": "Ohio",
         "inferred_country": "United states",
         "fitness_score": 10,
         "inferred_salary_from": "nan",
         "inferred_salary_to": "nan",
         "inferred_salary_currency": "nan",
         "is_consumed_job": "nan",
         "job_requirements": "nan",
         "contact_email": "nan",
         "test_contact_email": "nan",
         "post_date_unix_time": 1589587200,
         "postal_code": "50467",
         "_deepnote_index_column": 1
        },
        {
         "uniq_id": "6f00bd02d63c633b5af453366f25c21e",
         "crawl_timestamp": "2020-06-27 04:53:42 +0000",
         "job_title": "Amazon Warehouse Associate - Morning Shifts Available",
         "company_name": "Amazon Fulfillment",
         "post_date": "2020-06-26",
         "job_type": "Full-Time",
         "inferred_salary_time_unit": "/",
         "salary_offered": "$67,450.00",
         "job_board": "careerbuilder",
         "geo": "usa",
         "job_post_lang": "en-us",
         "valid_through": "2020-07-25",
         "postdate_yyyymmdd": 20200626,
         "last_expiry_check_date": "2020.06.27",
         "latest_expiry_check_date": "2020-06-27",
         "duplicate_status": "nan",
         "postdate_in_indexname_format": "2020.06.22",
         "inferred_city": "Peabody",
         "inferred_state": "Massachusetts",
         "inferred_country": "United states",
         "fitness_score": 10,
         "inferred_salary_from": "nan",
         "inferred_salary_to": "nan",
         "inferred_salary_currency": "nan",
         "is_consumed_job": "nan",
         "job_requirements": "nan",
         "contact_email": "nan",
         "test_contact_email": "nan",
         "post_date_unix_time": 1593129600,
         "postal_code": "42620",
         "_deepnote_index_column": 2
        },
        {
         "uniq_id": "8ad0d00bfa23cfd7b7c364b8ae72085f",
         "crawl_timestamp": "2020-06-03 01:21:32 +0000",
         "job_title": "Assembly Electrical",
         "company_name": "Manpower",
         "post_date": "2020-06-02",
         "job_type": "Full-Time",
         "inferred_salary_time_unit": "/hour",
         "salary_offered": "$47,467.00",
         "job_board": "careerbuilder",
         "geo": "usa",
         "job_post_lang": "en-us",
         "valid_through": "2020-07-01",
         "postdate_yyyymmdd": 20200602,
         "last_expiry_check_date": "2020.06.03",
         "latest_expiry_check_date": "2020-06-03",
         "duplicate_status": "nan",
         "postdate_in_indexname_format": "2020.06.01",
         "inferred_city": "Villard",
         "inferred_state": "Minnesota",
         "inferred_country": "United states",
         "fitness_score": 10,
         "inferred_salary_from": "14.00",
         "inferred_salary_to": "14.00",
         "inferred_salary_currency": "$",
         "is_consumed_job": "nan",
         "job_requirements": "nan",
         "contact_email": "nan",
         "test_contact_email": "nan",
         "post_date_unix_time": 1591056000,
         "postal_code": "97275",
         "_deepnote_index_column": 3
        },
        {
         "uniq_id": "31753dc342a1b2a07db712454c0d5f87",
         "crawl_timestamp": "2020-05-23 01:19:07 +0000",
         "job_title": "Graphics Designer",
         "company_name": "The North West Company - U.S.",
         "post_date": "2020-05-22",
         "job_type": "Full-Time",
         "inferred_salary_time_unit": "/",
         "salary_offered": "$136,684.00",
         "job_board": "careerbuilder",
         "geo": "usa",
         "job_post_lang": "en-us",
         "valid_through": "2020-06-21",
         "postdate_yyyymmdd": 20200522,
         "last_expiry_check_date": "2020.05.23",
         "latest_expiry_check_date": "2020-05-23",
         "duplicate_status": "nan",
         "postdate_in_indexname_format": "2020.05.22",
         "inferred_city": "Anchorage",
         "inferred_state": "Alaska",
         "inferred_country": "United states",
         "fitness_score": 10,
         "inferred_salary_from": "nan",
         "inferred_salary_to": "nan",
         "inferred_salary_currency": "nan",
         "is_consumed_job": "nan",
         "job_requirements": "nan",
         "contact_email": "nan",
         "test_contact_email": "nan",
         "post_date_unix_time": 1590105600,
         "postal_code": "37765",
         "_deepnote_index_column": 4
        }
       ]
      },
      "text/plain": "                            uniq_id            crawl_timestamp  \\\n0  9a457ef257fecf231693a6ba08f50293  2020-06-26 01:54:03 +0000   \n1  ba471e2faf6f79caf22cddebbedbc0e8  2020-05-17 01:21:05 +0000   \n2  6f00bd02d63c633b5af453366f25c21e  2020-06-27 04:53:42 +0000   \n3  8ad0d00bfa23cfd7b7c364b8ae72085f  2020-06-03 01:21:32 +0000   \n4  31753dc342a1b2a07db712454c0d5f87  2020-05-23 01:19:07 +0000   \n\n                                           job_title  \\\n0            Asphalt/Concrete Senior Project Manager   \n1                  Amazon Warehouse Team - Full Time   \n2  Amazon Warehouse Associate - Morning Shifts Av...   \n3                                Assembly Electrical   \n4                                  Graphics Designer   \n\n                    company_name   post_date   job_type  \\\n0                           GPAC  2020-06-25  Full-Time   \n1             Amazon Fulfillment  2020-05-16  Full-Time   \n2             Amazon Fulfillment  2020-06-26  Full-Time   \n3                       Manpower  2020-06-02  Full-Time   \n4  The North West Company - U.S.  2020-05-22  Full-Time   \n\n  inferred_salary_time_unit salary_offered      job_board  geo  ...  \\\n0                         /     $99,642.00  careerbuilder  usa  ...   \n1                         /     $58,626.00  careerbuilder  usa  ...   \n2                         /     $67,450.00  careerbuilder  usa  ...   \n3                     /hour     $47,467.00  careerbuilder  usa  ...   \n4                         /    $136,684.00  careerbuilder  usa  ...   \n\n  fitness_score inferred_salary_from  inferred_salary_to  \\\n0            10                  NaN                 NaN   \n1            10                  NaN                 NaN   \n2            10                  NaN                 NaN   \n3            10                14.00               14.00   \n4            10                  NaN                 NaN   \n\n  inferred_salary_currency is_consumed_job  job_requirements contact_email  \\\n0                      NaN             NaN               NaN           NaN   \n1                      NaN             NaN               NaN           NaN   \n2                      NaN             NaN               NaN           NaN   \n3                        $             NaN               NaN           NaN   \n4                      NaN             NaN               NaN           NaN   \n\n  test_contact_email post_date_unix_time postal_code  \n0                NaN          1593043200       43961  \n1                NaN          1589587200       50467  \n2                NaN          1593129600       42620  \n3                NaN          1591056000       97275  \n4                NaN          1590105600       37765  \n\n[5 rows x 30 columns]",
      "text/html": "<div>\n<style scoped>\n    .dataframe tbody tr th:only-of-type {\n        vertical-align: middle;\n    }\n\n    .dataframe tbody tr th {\n        vertical-align: top;\n    }\n\n    .dataframe thead th {\n        text-align: right;\n    }\n</style>\n<table border=\"1\" class=\"dataframe\">\n  <thead>\n    <tr style=\"text-align: right;\">\n      <th></th>\n      <th>uniq_id</th>\n      <th>crawl_timestamp</th>\n      <th>job_title</th>\n      <th>company_name</th>\n      <th>post_date</th>\n      <th>job_type</th>\n      <th>inferred_salary_time_unit</th>\n      <th>salary_offered</th>\n      <th>job_board</th>\n      <th>geo</th>\n      <th>...</th>\n      <th>fitness_score</th>\n      <th>inferred_salary_from</th>\n      <th>inferred_salary_to</th>\n      <th>inferred_salary_currency</th>\n      <th>is_consumed_job</th>\n      <th>job_requirements</th>\n      <th>contact_email</th>\n      <th>test_contact_email</th>\n      <th>post_date_unix_time</th>\n      <th>postal_code</th>\n    </tr>\n  </thead>\n  <tbody>\n    <tr>\n      <th>0</th>\n      <td>9a457ef257fecf231693a6ba08f50293</td>\n      <td>2020-06-26 01:54:03 +0000</td>\n      <td>Asphalt/Concrete Senior Project Manager</td>\n      <td>GPAC</td>\n      <td>2020-06-25</td>\n      <td>Full-Time</td>\n      <td>/</td>\n      <td>$99,642.00</td>\n      <td>careerbuilder</td>\n      <td>usa</td>\n      <td>...</td>\n      <td>10</td>\n      <td>NaN</td>\n      <td>NaN</td>\n      <td>NaN</td>\n      <td>NaN</td>\n      <td>NaN</td>\n      <td>NaN</td>\n      <td>NaN</td>\n      <td>1593043200</td>\n      <td>43961</td>\n    </tr>\n    <tr>\n      <th>1</th>\n      <td>ba471e2faf6f79caf22cddebbedbc0e8</td>\n      <td>2020-05-17 01:21:05 +0000</td>\n      <td>Amazon Warehouse Team - Full Time</td>\n      <td>Amazon Fulfillment</td>\n      <td>2020-05-16</td>\n      <td>Full-Time</td>\n      <td>/</td>\n      <td>$58,626.00</td>\n      <td>careerbuilder</td>\n      <td>usa</td>\n      <td>...</td>\n      <td>10</td>\n      <td>NaN</td>\n      <td>NaN</td>\n      <td>NaN</td>\n      <td>NaN</td>\n      <td>NaN</td>\n      <td>NaN</td>\n      <td>NaN</td>\n      <td>1589587200</td>\n      <td>50467</td>\n    </tr>\n    <tr>\n      <th>2</th>\n      <td>6f00bd02d63c633b5af453366f25c21e</td>\n      <td>2020-06-27 04:53:42 +0000</td>\n      <td>Amazon Warehouse Associate - Morning Shifts Av...</td>\n      <td>Amazon Fulfillment</td>\n      <td>2020-06-26</td>\n      <td>Full-Time</td>\n      <td>/</td>\n      <td>$67,450.00</td>\n      <td>careerbuilder</td>\n      <td>usa</td>\n      <td>...</td>\n      <td>10</td>\n      <td>NaN</td>\n      <td>NaN</td>\n      <td>NaN</td>\n      <td>NaN</td>\n      <td>NaN</td>\n      <td>NaN</td>\n      <td>NaN</td>\n      <td>1593129600</td>\n      <td>42620</td>\n    </tr>\n    <tr>\n      <th>3</th>\n      <td>8ad0d00bfa23cfd7b7c364b8ae72085f</td>\n      <td>2020-06-03 01:21:32 +0000</td>\n      <td>Assembly Electrical</td>\n      <td>Manpower</td>\n      <td>2020-06-02</td>\n      <td>Full-Time</td>\n      <td>/hour</td>\n      <td>$47,467.00</td>\n      <td>careerbuilder</td>\n      <td>usa</td>\n      <td>...</td>\n      <td>10</td>\n      <td>14.00</td>\n      <td>14.00</td>\n      <td>$</td>\n      <td>NaN</td>\n      <td>NaN</td>\n      <td>NaN</td>\n      <td>NaN</td>\n      <td>1591056000</td>\n      <td>97275</td>\n    </tr>\n    <tr>\n      <th>4</th>\n      <td>31753dc342a1b2a07db712454c0d5f87</td>\n      <td>2020-05-23 01:19:07 +0000</td>\n      <td>Graphics Designer</td>\n      <td>The North West Company - U.S.</td>\n      <td>2020-05-22</td>\n      <td>Full-Time</td>\n      <td>/</td>\n      <td>$136,684.00</td>\n      <td>careerbuilder</td>\n      <td>usa</td>\n      <td>...</td>\n      <td>10</td>\n      <td>NaN</td>\n      <td>NaN</td>\n      <td>NaN</td>\n      <td>NaN</td>\n      <td>NaN</td>\n      <td>NaN</td>\n      <td>NaN</td>\n      <td>1590105600</td>\n      <td>37765</td>\n    </tr>\n  </tbody>\n</table>\n<p>5 rows × 30 columns</p>\n</div>"
     },
     "metadata": {}
    }
   ]
  },
  {
   "cell_type": "code",
   "metadata": {
    "tags": [],
    "cell_id": "00002-83f83ed0-1e6b-4299-8655-63b2a3c3f036",
    "deepnote_to_be_reexecuted": false,
    "source_hash": "6f314b4a",
    "execution_start": 1640016819091,
    "execution_millis": 46,
    "deepnote_output_heights": [
     21.1875
    ],
    "deepnote_cell_type": "code"
   },
   "source": "len(career_data.columns)",
   "execution_count": null,
   "outputs": [
    {
     "output_type": "execute_result",
     "execution_count": 3,
     "data": {
      "text/plain": "30"
     },
     "metadata": {}
    }
   ]
  },
  {
   "cell_type": "code",
   "metadata": {
    "tags": [],
    "cell_id": "00003-de8e835f-a9de-4c0a-8ac7-1b655986668f",
    "deepnote_to_be_reexecuted": false,
    "source_hash": "b21b1e58",
    "execution_start": 1640016819136,
    "execution_millis": 44,
    "deepnote_output_heights": [
     597.1875
    ],
    "deepnote_cell_type": "code"
   },
   "source": "career_data.nunique()",
   "execution_count": null,
   "outputs": [
    {
     "output_type": "execute_result",
     "execution_count": 4,
     "data": {
      "text/plain": "uniq_id                         3000\ncrawl_timestamp                 2968\njob_title                       2096\ncompany_name                     747\npost_date                         81\njob_type                           9\ninferred_salary_time_unit         13\nsalary_offered                  2967\njob_board                          1\ngeo                                1\njob_post_lang                      1\nvalid_through                     83\npostdate_yyyymmdd                 81\nlast_expiry_check_date            76\nlatest_expiry_check_date          76\nduplicate_status                   0\npostdate_in_indexname_format      10\ninferred_city                   1400\ninferred_state                    51\ninferred_country                   1\nfitness_score                      1\ninferred_salary_from             122\ninferred_salary_to               140\ninferred_salary_currency           1\nis_consumed_job                    1\njob_requirements                   1\ncontact_email                      1\ntest_contact_email                 0\npost_date_unix_time               81\npostal_code                     2960\ndtype: int64"
     },
     "metadata": {}
    }
   ]
  },
  {
   "cell_type": "code",
   "metadata": {
    "tags": [],
    "cell_id": "00004-499be9c4-c42c-477d-aebd-eb46bd5729a4",
    "deepnote_to_be_reexecuted": false,
    "source_hash": "8074682a",
    "execution_start": 1640016819180,
    "execution_millis": 139,
    "deepnote_output_heights": [
     78.796875
    ],
    "deepnote_cell_type": "code"
   },
   "source": "columns_to_drop = career_data.nunique()[career_data.nunique() == 1].index\ncolumns_to_drop",
   "execution_count": null,
   "outputs": [
    {
     "output_type": "execute_result",
     "execution_count": 5,
     "data": {
      "text/plain": "Index(['job_board', 'geo', 'job_post_lang', 'inferred_country',\n       'fitness_score', 'inferred_salary_currency', 'is_consumed_job',\n       'job_requirements', 'contact_email'],\n      dtype='object')"
     },
     "metadata": {}
    }
   ]
  },
  {
   "cell_type": "code",
   "metadata": {
    "tags": [],
    "cell_id": "00005-09552b12-0b8f-4097-b4ab-a69fc4d41617",
    "deepnote_to_be_reexecuted": false,
    "source_hash": "a994ecdd",
    "execution_start": 1640016819341,
    "execution_millis": 763,
    "deepnote_cell_type": "code"
   },
   "source": "career_data_dropped_cols = career_data.copy()\ncareer_data_dropped_cols = career_data_dropped_cols.drop(columns=columns_to_drop)\ncareer_data_dropped_cols",
   "execution_count": null,
   "outputs": [
    {
     "output_type": "execute_result",
     "execution_count": 6,
     "data": {
      "application/vnd.deepnote.dataframe.v3+json": {
       "column_count": 21,
       "row_count": 3000,
       "columns": [
        {
         "name": "uniq_id",
         "dtype": "object",
         "stats": {
          "unique_count": 3000,
          "nan_count": 0,
          "categories": [
           {
            "name": "9a457ef257fecf231693a6ba08f50293",
            "count": 1
           },
           {
            "name": "ba471e2faf6f79caf22cddebbedbc0e8",
            "count": 1
           },
           {
            "name": "2998 others",
            "count": 2998
           }
          ]
         }
        },
        {
         "name": "crawl_timestamp",
         "dtype": "object",
         "stats": {
          "unique_count": 2968,
          "nan_count": 0,
          "categories": [
           {
            "name": "2020-04-22 02:14:58 +0000",
            "count": 2
           },
           {
            "name": "2020-05-23 01:24:39 +0000",
            "count": 2
           },
           {
            "name": "2966 others",
            "count": 2996
           }
          ]
         }
        },
        {
         "name": "job_title",
         "dtype": "object",
         "stats": {
          "unique_count": 2096,
          "nan_count": 0,
          "categories": [
           {
            "name": "Retail Merchandiser",
            "count": 33
           },
           {
            "name": "Amazon Picker/Packer",
            "count": 27
           },
           {
            "name": "2094 others",
            "count": 2940
           }
          ]
         }
        },
        {
         "name": "company_name",
         "dtype": "object",
         "stats": {
          "unique_count": 747,
          "nan_count": 0,
          "categories": [
           {
            "name": "Amazon Fulfillment",
            "count": 794
           },
           {
            "name": "GPAC",
            "count": 85
           },
           {
            "name": "745 others",
            "count": 2121
           }
          ]
         }
        },
        {
         "name": "post_date",
         "dtype": "object",
         "stats": {
          "unique_count": 81,
          "nan_count": 0,
          "categories": [
           {
            "name": "2020-04-28",
            "count": 123
           },
           {
            "name": "2020-06-23",
            "count": 123
           },
           {
            "name": "79 others",
            "count": 2754
           }
          ]
         }
        },
        {
         "name": "job_type",
         "dtype": "object",
         "stats": {
          "unique_count": 9,
          "nan_count": 16,
          "categories": [
           {
            "name": "Full-Time",
            "count": 2316
           },
           {
            "name": "8 others",
            "count": 668
           },
           {
            "name": "Missing",
            "count": 16
           }
          ]
         }
        },
        {
         "name": "inferred_salary_time_unit",
         "dtype": "object",
         "stats": {
          "unique_count": 13,
          "nan_count": 0,
          "categories": [
           {
            "name": "/",
            "count": 2607
           },
           {
            "name": "/hour",
            "count": 220
           },
           {
            "name": "11 others",
            "count": 173
           }
          ]
         }
        },
        {
         "name": "salary_offered",
         "dtype": "object",
         "stats": {
          "unique_count": 2967,
          "nan_count": 0,
          "categories": [
           {
            "name": "$117,248.00",
            "count": 2
           },
           {
            "name": "$117,911.00",
            "count": 2
           },
           {
            "name": "2965 others",
            "count": 2996
           }
          ]
         }
        },
        {
         "name": "valid_through",
         "dtype": "object",
         "stats": {
          "unique_count": 83,
          "nan_count": 0,
          "categories": [
           {
            "name": "2020-05-27",
            "count": 123
           },
           {
            "name": "2020-07-22",
            "count": 123
           },
           {
            "name": "81 others",
            "count": 2754
           }
          ]
         }
        },
        {
         "name": "postdate_yyyymmdd",
         "dtype": "int64",
         "stats": {
          "unique_count": 81,
          "nan_count": 0,
          "min": "20200330",
          "max": "20200629",
          "histogram": [
           {
            "bin_start": 20200330,
            "bin_end": 20200359.9,
            "count": 17
           },
           {
            "bin_start": 20200359.9,
            "bin_end": 20200389.8,
            "count": 0
           },
           {
            "bin_start": 20200389.8,
            "bin_end": 20200419.7,
            "count": 147
           },
           {
            "bin_start": 20200419.7,
            "bin_end": 20200449.6,
            "count": 289
           },
           {
            "bin_start": 20200449.6,
            "bin_end": 20200479.5,
            "count": 0
           },
           {
            "bin_start": 20200479.5,
            "bin_end": 20200509.4,
            "count": 322
           },
           {
            "bin_start": 20200509.4,
            "bin_end": 20200539.3,
            "count": 1059
           },
           {
            "bin_start": 20200539.3,
            "bin_end": 20200569.2,
            "count": 0
           },
           {
            "bin_start": 20200569.2,
            "bin_end": 20200599.1,
            "count": 0
           },
           {
            "bin_start": 20200599.1,
            "bin_end": 20200629,
            "count": 1166
           }
          ]
         }
        },
        {
         "name": "last_expiry_check_date",
         "dtype": "object",
         "stats": {
          "unique_count": 76,
          "nan_count": 0,
          "categories": [
           {
            "name": "2020.04.29",
            "count": 124
           },
           {
            "name": "2020.06.24",
            "count": 122
           },
           {
            "name": "74 others",
            "count": 2754
           }
          ]
         }
        },
        {
         "name": "latest_expiry_check_date",
         "dtype": "object",
         "stats": {
          "unique_count": 76,
          "nan_count": 0,
          "categories": [
           {
            "name": "2020-04-29",
            "count": 124
           },
           {
            "name": "2020-06-24",
            "count": 122
           },
           {
            "name": "74 others",
            "count": 2754
           }
          ]
         }
        },
        {
         "name": "duplicate_status",
         "dtype": "float64",
         "stats": {
          "unique_count": 0,
          "nan_count": 3000,
          "min": null,
          "max": null,
          "histogram": [
           {
            "bin_start": 0,
            "bin_end": 0.1,
            "count": 0
           },
           {
            "bin_start": 0.1,
            "bin_end": 0.2,
            "count": 0
           },
           {
            "bin_start": 0.2,
            "bin_end": 0.30000000000000004,
            "count": 0
           },
           {
            "bin_start": 0.30000000000000004,
            "bin_end": 0.4,
            "count": 0
           },
           {
            "bin_start": 0.4,
            "bin_end": 0.5,
            "count": 0
           },
           {
            "bin_start": 0.5,
            "bin_end": 0.6000000000000001,
            "count": 0
           },
           {
            "bin_start": 0.6000000000000001,
            "bin_end": 0.7000000000000001,
            "count": 0
           },
           {
            "bin_start": 0.7000000000000001,
            "bin_end": 0.8,
            "count": 0
           },
           {
            "bin_start": 0.8,
            "bin_end": 0.9,
            "count": 0
           },
           {
            "bin_start": 0.9,
            "bin_end": 1,
            "count": 0
           }
          ]
         }
        },
        {
         "name": "postdate_in_indexname_format",
         "dtype": "object",
         "stats": {
          "unique_count": 10,
          "nan_count": 0,
          "categories": [
           {
            "name": "2020.05.11",
            "count": 666
           },
           {
            "name": "2020.06.11",
            "count": 420
           },
           {
            "name": "8 others",
            "count": 1914
           }
          ]
         }
        },
        {
         "name": "inferred_city",
         "dtype": "object",
         "stats": {
          "unique_count": 1400,
          "nan_count": 205,
          "categories": [
           {
            "name": "Boston",
            "count": 26
           },
           {
            "name": "1399 others",
            "count": 2769
           },
           {
            "name": "Missing",
            "count": 205
           }
          ]
         }
        },
        {
         "name": "inferred_state",
         "dtype": "object",
         "stats": {
          "unique_count": 51,
          "nan_count": 0,
          "categories": [
           {
            "name": "California",
            "count": 275
           },
           {
            "name": "Massachusetts",
            "count": 172
           },
           {
            "name": "49 others",
            "count": 2553
           }
          ]
         }
        },
        {
         "name": "inferred_salary_from",
         "dtype": "object",
         "stats": {
          "unique_count": 122,
          "nan_count": 2614,
          "categories": [
           {
            "name": "9.50",
            "count": 33
           },
           {
            "name": "121 others",
            "count": 353
           },
           {
            "name": "Missing",
            "count": 2614
           }
          ]
         }
        },
        {
         "name": "inferred_salary_to",
         "dtype": "object",
         "stats": {
          "unique_count": 140,
          "nan_count": 2614,
          "categories": [
           {
            "name": "16.00",
            "count": 43
           },
           {
            "name": "139 others",
            "count": 343
           },
           {
            "name": "Missing",
            "count": 2614
           }
          ]
         }
        },
        {
         "name": "test_contact_email",
         "dtype": "float64",
         "stats": {
          "unique_count": 0,
          "nan_count": 3000,
          "min": null,
          "max": null,
          "histogram": [
           {
            "bin_start": 0,
            "bin_end": 0.1,
            "count": 0
           },
           {
            "bin_start": 0.1,
            "bin_end": 0.2,
            "count": 0
           },
           {
            "bin_start": 0.2,
            "bin_end": 0.30000000000000004,
            "count": 0
           },
           {
            "bin_start": 0.30000000000000004,
            "bin_end": 0.4,
            "count": 0
           },
           {
            "bin_start": 0.4,
            "bin_end": 0.5,
            "count": 0
           },
           {
            "bin_start": 0.5,
            "bin_end": 0.6000000000000001,
            "count": 0
           },
           {
            "bin_start": 0.6000000000000001,
            "bin_end": 0.7000000000000001,
            "count": 0
           },
           {
            "bin_start": 0.7000000000000001,
            "bin_end": 0.8,
            "count": 0
           },
           {
            "bin_start": 0.8,
            "bin_end": 0.9,
            "count": 0
           },
           {
            "bin_start": 0.9,
            "bin_end": 1,
            "count": 0
           }
          ]
         }
        },
        {
         "name": "post_date_unix_time",
         "dtype": "int64",
         "stats": {
          "unique_count": 81,
          "nan_count": 0,
          "min": "1585526400",
          "max": "1593388800",
          "histogram": [
           {
            "bin_start": 1585526400,
            "bin_end": 1586312640,
            "count": 60
           },
           {
            "bin_start": 1586312640,
            "bin_end": 1587098880,
            "count": 104
           },
           {
            "bin_start": 1587098880,
            "bin_end": 1587885120,
            "count": 45
           },
           {
            "bin_start": 1587885120,
            "bin_end": 1588671360,
            "count": 368
           },
           {
            "bin_start": 1588671360,
            "bin_end": 1589457600,
            "count": 438
           },
           {
            "bin_start": 1589457600,
            "bin_end": 1590243840,
            "count": 559
           },
           {
            "bin_start": 1590243840,
            "bin_end": 1591030080,
            "count": 313
           },
           {
            "bin_start": 1591030080,
            "bin_end": 1591816320,
            "count": 345
           },
           {
            "bin_start": 1591816320,
            "bin_end": 1592602560,
            "count": 383
           },
           {
            "bin_start": 1592602560,
            "bin_end": 1593388800,
            "count": 385
           }
          ]
         }
        },
        {
         "name": "postal_code",
         "dtype": "object",
         "stats": {
          "unique_count": 2960,
          "nan_count": 0,
          "categories": [
           {
            "name": "33665",
            "count": 2
           },
           {
            "name": "94507",
            "count": 2
           },
           {
            "name": "2958 others",
            "count": 2996
           }
          ]
         }
        },
        {
         "name": "_deepnote_index_column",
         "dtype": "int64"
        }
       ],
       "rows": [
        {
         "uniq_id": "9a457ef257fecf231693a6ba08f50293",
         "crawl_timestamp": "2020-06-26 01:54:03 +0000",
         "job_title": "Asphalt/Concrete Senior Project Manager",
         "company_name": "GPAC",
         "post_date": "2020-06-25",
         "job_type": "Full-Time",
         "inferred_salary_time_unit": "/",
         "salary_offered": "$99,642.00",
         "valid_through": "2020-07-24",
         "postdate_yyyymmdd": 20200625,
         "last_expiry_check_date": "2020.06.26",
         "latest_expiry_check_date": "2020-06-26",
         "duplicate_status": "nan",
         "postdate_in_indexname_format": "2020.06.22",
         "inferred_city": "Houston",
         "inferred_state": "Texas",
         "inferred_salary_from": "nan",
         "inferred_salary_to": "nan",
         "test_contact_email": "nan",
         "post_date_unix_time": 1593043200,
         "postal_code": "43961",
         "_deepnote_index_column": 0
        },
        {
         "uniq_id": "ba471e2faf6f79caf22cddebbedbc0e8",
         "crawl_timestamp": "2020-05-17 01:21:05 +0000",
         "job_title": "Amazon Warehouse Team - Full Time",
         "company_name": "Amazon Fulfillment",
         "post_date": "2020-05-16",
         "job_type": "Full-Time",
         "inferred_salary_time_unit": "/",
         "salary_offered": "$58,626.00",
         "valid_through": "2020-06-15",
         "postdate_yyyymmdd": 20200516,
         "last_expiry_check_date": "2020.05.17",
         "latest_expiry_check_date": "2020-05-17",
         "duplicate_status": "nan",
         "postdate_in_indexname_format": "2020.05.11",
         "inferred_city": "Cincinnati",
         "inferred_state": "Ohio",
         "inferred_salary_from": "nan",
         "inferred_salary_to": "nan",
         "test_contact_email": "nan",
         "post_date_unix_time": 1589587200,
         "postal_code": "50467",
         "_deepnote_index_column": 1
        },
        {
         "uniq_id": "6f00bd02d63c633b5af453366f25c21e",
         "crawl_timestamp": "2020-06-27 04:53:42 +0000",
         "job_title": "Amazon Warehouse Associate - Morning Shifts Available",
         "company_name": "Amazon Fulfillment",
         "post_date": "2020-06-26",
         "job_type": "Full-Time",
         "inferred_salary_time_unit": "/",
         "salary_offered": "$67,450.00",
         "valid_through": "2020-07-25",
         "postdate_yyyymmdd": 20200626,
         "last_expiry_check_date": "2020.06.27",
         "latest_expiry_check_date": "2020-06-27",
         "duplicate_status": "nan",
         "postdate_in_indexname_format": "2020.06.22",
         "inferred_city": "Peabody",
         "inferred_state": "Massachusetts",
         "inferred_salary_from": "nan",
         "inferred_salary_to": "nan",
         "test_contact_email": "nan",
         "post_date_unix_time": 1593129600,
         "postal_code": "42620",
         "_deepnote_index_column": 2
        },
        {
         "uniq_id": "8ad0d00bfa23cfd7b7c364b8ae72085f",
         "crawl_timestamp": "2020-06-03 01:21:32 +0000",
         "job_title": "Assembly Electrical",
         "company_name": "Manpower",
         "post_date": "2020-06-02",
         "job_type": "Full-Time",
         "inferred_salary_time_unit": "/hour",
         "salary_offered": "$47,467.00",
         "valid_through": "2020-07-01",
         "postdate_yyyymmdd": 20200602,
         "last_expiry_check_date": "2020.06.03",
         "latest_expiry_check_date": "2020-06-03",
         "duplicate_status": "nan",
         "postdate_in_indexname_format": "2020.06.01",
         "inferred_city": "Villard",
         "inferred_state": "Minnesota",
         "inferred_salary_from": "14.00",
         "inferred_salary_to": "14.00",
         "test_contact_email": "nan",
         "post_date_unix_time": 1591056000,
         "postal_code": "97275",
         "_deepnote_index_column": 3
        },
        {
         "uniq_id": "31753dc342a1b2a07db712454c0d5f87",
         "crawl_timestamp": "2020-05-23 01:19:07 +0000",
         "job_title": "Graphics Designer",
         "company_name": "The North West Company - U.S.",
         "post_date": "2020-05-22",
         "job_type": "Full-Time",
         "inferred_salary_time_unit": "/",
         "salary_offered": "$136,684.00",
         "valid_through": "2020-06-21",
         "postdate_yyyymmdd": 20200522,
         "last_expiry_check_date": "2020.05.23",
         "latest_expiry_check_date": "2020-05-23",
         "duplicate_status": "nan",
         "postdate_in_indexname_format": "2020.05.22",
         "inferred_city": "Anchorage",
         "inferred_state": "Alaska",
         "inferred_salary_from": "nan",
         "inferred_salary_to": "nan",
         "test_contact_email": "nan",
         "post_date_unix_time": 1590105600,
         "postal_code": "37765",
         "_deepnote_index_column": 4
        },
        {
         "uniq_id": "d8bbd27764ff850f5cd05dfa3289ff66",
         "crawl_timestamp": "2020-05-25 10:04:56 +0000",
         "job_title": "Customer Service Representative, Full or Part Time",
         "company_name": "Circle K",
         "post_date": "2020-05-24",
         "job_type": "Full-Time",
         "inferred_salary_time_unit": "/",
         "salary_offered": "$142,796.00",
         "valid_through": "2020-06-23",
         "postdate_yyyymmdd": 20200524,
         "last_expiry_check_date": "2020.05.25",
         "latest_expiry_check_date": "2020-05-25",
         "duplicate_status": "nan",
         "postdate_in_indexname_format": "2020.05.22",
         "inferred_city": "Urbana",
         "inferred_state": "Illinois",
         "inferred_salary_from": "nan",
         "inferred_salary_to": "nan",
         "test_contact_email": "nan",
         "post_date_unix_time": 1590278400,
         "postal_code": "16152",
         "_deepnote_index_column": 5
        },
        {
         "uniq_id": "b716cdee3b40360f88be08b4cc75d598",
         "crawl_timestamp": "2020-05-23 01:13:40 +0000",
         "job_title": "Receptionist",
         "company_name": "Genesis Healthcare Corporation",
         "post_date": "2020-05-22",
         "job_type": "Per Diem",
         "inferred_salary_time_unit": "/",
         "salary_offered": "$129,869.00",
         "valid_through": "2020-06-21",
         "postdate_yyyymmdd": 20200522,
         "last_expiry_check_date": "2020.05.23",
         "latest_expiry_check_date": "2020-05-23",
         "duplicate_status": "nan",
         "postdate_in_indexname_format": "2020.05.22",
         "inferred_city": "nan",
         "inferred_state": "New jersey",
         "inferred_salary_from": "nan",
         "inferred_salary_to": "nan",
         "test_contact_email": "nan",
         "post_date_unix_time": 1590105600,
         "postal_code": "06009",
         "_deepnote_index_column": 6
        },
        {
         "uniq_id": "94e46cabddc4e30277870061fc6a06ea",
         "crawl_timestamp": "2020-06-25 01:48:48 +0000",
         "job_title": "U-Haul Moving Center General Manager",
         "company_name": "Talentify",
         "post_date": "2020-06-24",
         "job_type": "Full-Time",
         "inferred_salary_time_unit": "/",
         "salary_offered": "$129,477.00",
         "valid_through": "2020-07-23",
         "postdate_yyyymmdd": 20200624,
         "last_expiry_check_date": "2020.06.25",
         "latest_expiry_check_date": "2020-06-25",
         "duplicate_status": "nan",
         "postdate_in_indexname_format": "2020.06.22",
         "inferred_city": "Gretna",
         "inferred_state": "Louisiana",
         "inferred_salary_from": "nan",
         "inferred_salary_to": "nan",
         "test_contact_email": "nan",
         "post_date_unix_time": 1592956800,
         "postal_code": "42948",
         "_deepnote_index_column": 7
        },
        {
         "uniq_id": "e7da38a3d35f799fd532590c5137e65c",
         "crawl_timestamp": "2020-05-18 01:07:37 +0000",
         "job_title": "Staff Accountant",
         "company_name": "Volt",
         "post_date": "2020-05-17",
         "job_type": "Full-Time",
         "inferred_salary_time_unit": "/",
         "salary_offered": "$132,072.00",
         "valid_through": "2020-06-16",
         "postdate_yyyymmdd": 20200517,
         "last_expiry_check_date": "2020.05.18",
         "latest_expiry_check_date": "2020-05-18",
         "duplicate_status": "nan",
         "postdate_in_indexname_format": "2020.05.11",
         "inferred_city": "Stockton",
         "inferred_state": "California",
         "inferred_salary_from": "nan",
         "inferred_salary_to": "nan",
         "test_contact_email": "nan",
         "post_date_unix_time": 1589673600,
         "postal_code": "44841",
         "_deepnote_index_column": 8
        },
        {
         "uniq_id": "6248457c6236cce48b3277bddfc8b8a6",
         "crawl_timestamp": "2020-05-29 01:16:51 +0000",
         "job_title": "Package Handler (Non-DOT)/Part Time/PM Shift/Sunday 6:00PM-11:30PM/Monday through Friday 6:30PM-11:…",
         "company_name": "FedEx",
         "post_date": "2020-05-28",
         "job_type": "Part-Time",
         "inferred_salary_time_unit": "/",
         "salary_offered": "$124,602.00",
         "valid_through": "2020-06-27",
         "postdate_yyyymmdd": 20200528,
         "last_expiry_check_date": "2020.05.29",
         "latest_expiry_check_date": "2020-05-29",
         "duplicate_status": "nan",
         "postdate_in_indexname_format": "2020.05.22",
         "inferred_city": "Tampa",
         "inferred_state": "Florida",
         "inferred_salary_from": "nan",
         "inferred_salary_to": "nan",
         "test_contact_email": "nan",
         "post_date_unix_time": 1590624000,
         "postal_code": "42032",
         "_deepnote_index_column": 9
        }
       ]
      },
      "text/plain": "                               uniq_id            crawl_timestamp  \\\n0     9a457ef257fecf231693a6ba08f50293  2020-06-26 01:54:03 +0000   \n1     ba471e2faf6f79caf22cddebbedbc0e8  2020-05-17 01:21:05 +0000   \n2     6f00bd02d63c633b5af453366f25c21e  2020-06-27 04:53:42 +0000   \n3     8ad0d00bfa23cfd7b7c364b8ae72085f  2020-06-03 01:21:32 +0000   \n4     31753dc342a1b2a07db712454c0d5f87  2020-05-23 01:19:07 +0000   \n...                                ...                        ...   \n2995  a56efdccbe87fea387e2edd3b1ec9faa  2020-05-19 01:21:18 +0000   \n2996  5605b833679597515f7205180b50ea9f  2020-06-12 01:45:25 +0000   \n2997  c74525996c267187b2be11c3c01f3a34  2020-04-30 01:47:25 +0000   \n2998  ee4a13cfc9ce0cb2d66b54b30d5732e6  2020-06-12 00:57:31 +0000   \n2999  6093631d5e9c136e0b3808e0eaeffb31  2020-05-07 02:51:11 +0000   \n\n                                              job_title  \\\n0               Asphalt/Concrete Senior Project Manager   \n1                     Amazon Warehouse Team - Full Time   \n2     Amazon Warehouse Associate - Morning Shifts Av...   \n3                                   Assembly Electrical   \n4                                     Graphics Designer   \n...                                                 ...   \n2995                                       Store Hourly   \n2996           SAP FICA IS-U Architect (Posted 6-11-20)   \n2997                              Data Entry Specialist   \n2998  Warehouse Associate (Seasonal/ Part-Time/ Full...   \n2999       Amazon Warehouse Team Member -Earn up to $15   \n\n                       company_name   post_date       job_type  \\\n0                              GPAC  2020-06-25      Full-Time   \n1                Amazon Fulfillment  2020-05-16      Full-Time   \n2                Amazon Fulfillment  2020-06-26      Full-Time   \n3                          Manpower  2020-06-02      Full-Time   \n4     The North West Company - U.S.  2020-05-22      Full-Time   \n...                             ...         ...            ...   \n2995             Advance Auto Parts  2020-05-18      Full-Time   \n2996               Donnelly & Moore  2020-06-11     Contractor   \n2997                    Robert Half  2020-04-29  Seasonal/Temp   \n2998             Amazon Fulfillment  2020-06-11      Part-Time   \n2999             Amazon Fulfillment  2020-05-06      Full-Time   \n\n     inferred_salary_time_unit salary_offered valid_through  \\\n0                            /     $99,642.00    2020-07-24   \n1                            /     $58,626.00    2020-06-15   \n2                            /     $67,450.00    2020-07-25   \n3                        /hour     $47,467.00    2020-07-01   \n4                            /    $136,684.00    2020-06-21   \n...                        ...            ...           ...   \n2995                         /     $63,152.00    2020-06-17   \n2996                        /0    $108,575.00    2020-07-10   \n2997                     /hour     $88,469.00    2020-05-28   \n2998                         /    $102,933.00    2020-07-10   \n2999                         /     $82,329.00    2020-06-05   \n\n      postdate_yyyymmdd  ... latest_expiry_check_date duplicate_status  \\\n0              20200625  ...               2020-06-26              NaN   \n1              20200516  ...               2020-05-17              NaN   \n2              20200626  ...               2020-06-27              NaN   \n3              20200602  ...               2020-06-03              NaN   \n4              20200522  ...               2020-05-23              NaN   \n...                 ...  ...                      ...              ...   \n2995           20200518  ...               2020-05-19              NaN   \n2996           20200611  ...               2020-06-12              NaN   \n2997           20200429  ...               2020-04-30              NaN   \n2998           20200611  ...               2020-06-12              NaN   \n2999           20200506  ...               2020-05-07              NaN   \n\n      postdate_in_indexname_format inferred_city  inferred_state  \\\n0                       2020.06.22       Houston           Texas   \n1                       2020.05.11    Cincinnati            Ohio   \n2                       2020.06.22       Peabody   Massachusetts   \n3                       2020.06.01       Villard       Minnesota   \n4                       2020.05.22     Anchorage          Alaska   \n...                            ...           ...             ...   \n2995                    2020.05.11   Wake forest  North carolina   \n2996                    2020.06.11  White plains        New york   \n2997                    2020.04.22      Martinez      California   \n2998                    2020.06.11        Rahway      New jersey   \n2999                    2020.05.01        Queens        New york   \n\n     inferred_salary_from inferred_salary_to test_contact_email  \\\n0                     NaN                NaN                NaN   \n1                     NaN                NaN                NaN   \n2                     NaN                NaN                NaN   \n3                   14.00              14.00                NaN   \n4                     NaN                NaN                NaN   \n...                   ...                ...                ...   \n2995                  NaN                NaN                NaN   \n2996                    0                  0                NaN   \n2997                16.00              18.00                NaN   \n2998                  NaN                NaN                NaN   \n2999                  NaN                NaN                NaN   \n\n      post_date_unix_time  postal_code  \n0              1593043200        43961  \n1              1589587200        50467  \n2              1593129600        42620  \n3              1591056000        97275  \n4              1590105600        37765  \n...                   ...          ...  \n2995           1589760000        27460  \n2996           1591833600        74603  \n2997           1588118400        08709  \n2998           1591833600        41693  \n2999           1588723200        96169  \n\n[3000 rows x 21 columns]",
      "text/html": "<div>\n<style scoped>\n    .dataframe tbody tr th:only-of-type {\n        vertical-align: middle;\n    }\n\n    .dataframe tbody tr th {\n        vertical-align: top;\n    }\n\n    .dataframe thead th {\n        text-align: right;\n    }\n</style>\n<table border=\"1\" class=\"dataframe\">\n  <thead>\n    <tr style=\"text-align: right;\">\n      <th></th>\n      <th>uniq_id</th>\n      <th>crawl_timestamp</th>\n      <th>job_title</th>\n      <th>company_name</th>\n      <th>post_date</th>\n      <th>job_type</th>\n      <th>inferred_salary_time_unit</th>\n      <th>salary_offered</th>\n      <th>valid_through</th>\n      <th>postdate_yyyymmdd</th>\n      <th>...</th>\n      <th>latest_expiry_check_date</th>\n      <th>duplicate_status</th>\n      <th>postdate_in_indexname_format</th>\n      <th>inferred_city</th>\n      <th>inferred_state</th>\n      <th>inferred_salary_from</th>\n      <th>inferred_salary_to</th>\n      <th>test_contact_email</th>\n      <th>post_date_unix_time</th>\n      <th>postal_code</th>\n    </tr>\n  </thead>\n  <tbody>\n    <tr>\n      <th>0</th>\n      <td>9a457ef257fecf231693a6ba08f50293</td>\n      <td>2020-06-26 01:54:03 +0000</td>\n      <td>Asphalt/Concrete Senior Project Manager</td>\n      <td>GPAC</td>\n      <td>2020-06-25</td>\n      <td>Full-Time</td>\n      <td>/</td>\n      <td>$99,642.00</td>\n      <td>2020-07-24</td>\n      <td>20200625</td>\n      <td>...</td>\n      <td>2020-06-26</td>\n      <td>NaN</td>\n      <td>2020.06.22</td>\n      <td>Houston</td>\n      <td>Texas</td>\n      <td>NaN</td>\n      <td>NaN</td>\n      <td>NaN</td>\n      <td>1593043200</td>\n      <td>43961</td>\n    </tr>\n    <tr>\n      <th>1</th>\n      <td>ba471e2faf6f79caf22cddebbedbc0e8</td>\n      <td>2020-05-17 01:21:05 +0000</td>\n      <td>Amazon Warehouse Team - Full Time</td>\n      <td>Amazon Fulfillment</td>\n      <td>2020-05-16</td>\n      <td>Full-Time</td>\n      <td>/</td>\n      <td>$58,626.00</td>\n      <td>2020-06-15</td>\n      <td>20200516</td>\n      <td>...</td>\n      <td>2020-05-17</td>\n      <td>NaN</td>\n      <td>2020.05.11</td>\n      <td>Cincinnati</td>\n      <td>Ohio</td>\n      <td>NaN</td>\n      <td>NaN</td>\n      <td>NaN</td>\n      <td>1589587200</td>\n      <td>50467</td>\n    </tr>\n    <tr>\n      <th>2</th>\n      <td>6f00bd02d63c633b5af453366f25c21e</td>\n      <td>2020-06-27 04:53:42 +0000</td>\n      <td>Amazon Warehouse Associate - Morning Shifts Av...</td>\n      <td>Amazon Fulfillment</td>\n      <td>2020-06-26</td>\n      <td>Full-Time</td>\n      <td>/</td>\n      <td>$67,450.00</td>\n      <td>2020-07-25</td>\n      <td>20200626</td>\n      <td>...</td>\n      <td>2020-06-27</td>\n      <td>NaN</td>\n      <td>2020.06.22</td>\n      <td>Peabody</td>\n      <td>Massachusetts</td>\n      <td>NaN</td>\n      <td>NaN</td>\n      <td>NaN</td>\n      <td>1593129600</td>\n      <td>42620</td>\n    </tr>\n    <tr>\n      <th>3</th>\n      <td>8ad0d00bfa23cfd7b7c364b8ae72085f</td>\n      <td>2020-06-03 01:21:32 +0000</td>\n      <td>Assembly Electrical</td>\n      <td>Manpower</td>\n      <td>2020-06-02</td>\n      <td>Full-Time</td>\n      <td>/hour</td>\n      <td>$47,467.00</td>\n      <td>2020-07-01</td>\n      <td>20200602</td>\n      <td>...</td>\n      <td>2020-06-03</td>\n      <td>NaN</td>\n      <td>2020.06.01</td>\n      <td>Villard</td>\n      <td>Minnesota</td>\n      <td>14.00</td>\n      <td>14.00</td>\n      <td>NaN</td>\n      <td>1591056000</td>\n      <td>97275</td>\n    </tr>\n    <tr>\n      <th>4</th>\n      <td>31753dc342a1b2a07db712454c0d5f87</td>\n      <td>2020-05-23 01:19:07 +0000</td>\n      <td>Graphics Designer</td>\n      <td>The North West Company - U.S.</td>\n      <td>2020-05-22</td>\n      <td>Full-Time</td>\n      <td>/</td>\n      <td>$136,684.00</td>\n      <td>2020-06-21</td>\n      <td>20200522</td>\n      <td>...</td>\n      <td>2020-05-23</td>\n      <td>NaN</td>\n      <td>2020.05.22</td>\n      <td>Anchorage</td>\n      <td>Alaska</td>\n      <td>NaN</td>\n      <td>NaN</td>\n      <td>NaN</td>\n      <td>1590105600</td>\n      <td>37765</td>\n    </tr>\n    <tr>\n      <th>...</th>\n      <td>...</td>\n      <td>...</td>\n      <td>...</td>\n      <td>...</td>\n      <td>...</td>\n      <td>...</td>\n      <td>...</td>\n      <td>...</td>\n      <td>...</td>\n      <td>...</td>\n      <td>...</td>\n      <td>...</td>\n      <td>...</td>\n      <td>...</td>\n      <td>...</td>\n      <td>...</td>\n      <td>...</td>\n      <td>...</td>\n      <td>...</td>\n      <td>...</td>\n      <td>...</td>\n    </tr>\n    <tr>\n      <th>2995</th>\n      <td>a56efdccbe87fea387e2edd3b1ec9faa</td>\n      <td>2020-05-19 01:21:18 +0000</td>\n      <td>Store Hourly</td>\n      <td>Advance Auto Parts</td>\n      <td>2020-05-18</td>\n      <td>Full-Time</td>\n      <td>/</td>\n      <td>$63,152.00</td>\n      <td>2020-06-17</td>\n      <td>20200518</td>\n      <td>...</td>\n      <td>2020-05-19</td>\n      <td>NaN</td>\n      <td>2020.05.11</td>\n      <td>Wake forest</td>\n      <td>North carolina</td>\n      <td>NaN</td>\n      <td>NaN</td>\n      <td>NaN</td>\n      <td>1589760000</td>\n      <td>27460</td>\n    </tr>\n    <tr>\n      <th>2996</th>\n      <td>5605b833679597515f7205180b50ea9f</td>\n      <td>2020-06-12 01:45:25 +0000</td>\n      <td>SAP FICA IS-U Architect (Posted 6-11-20)</td>\n      <td>Donnelly &amp; Moore</td>\n      <td>2020-06-11</td>\n      <td>Contractor</td>\n      <td>/0</td>\n      <td>$108,575.00</td>\n      <td>2020-07-10</td>\n      <td>20200611</td>\n      <td>...</td>\n      <td>2020-06-12</td>\n      <td>NaN</td>\n      <td>2020.06.11</td>\n      <td>White plains</td>\n      <td>New york</td>\n      <td>0</td>\n      <td>0</td>\n      <td>NaN</td>\n      <td>1591833600</td>\n      <td>74603</td>\n    </tr>\n    <tr>\n      <th>2997</th>\n      <td>c74525996c267187b2be11c3c01f3a34</td>\n      <td>2020-04-30 01:47:25 +0000</td>\n      <td>Data Entry Specialist</td>\n      <td>Robert Half</td>\n      <td>2020-04-29</td>\n      <td>Seasonal/Temp</td>\n      <td>/hour</td>\n      <td>$88,469.00</td>\n      <td>2020-05-28</td>\n      <td>20200429</td>\n      <td>...</td>\n      <td>2020-04-30</td>\n      <td>NaN</td>\n      <td>2020.04.22</td>\n      <td>Martinez</td>\n      <td>California</td>\n      <td>16.00</td>\n      <td>18.00</td>\n      <td>NaN</td>\n      <td>1588118400</td>\n      <td>08709</td>\n    </tr>\n    <tr>\n      <th>2998</th>\n      <td>ee4a13cfc9ce0cb2d66b54b30d5732e6</td>\n      <td>2020-06-12 00:57:31 +0000</td>\n      <td>Warehouse Associate (Seasonal/ Part-Time/ Full...</td>\n      <td>Amazon Fulfillment</td>\n      <td>2020-06-11</td>\n      <td>Part-Time</td>\n      <td>/</td>\n      <td>$102,933.00</td>\n      <td>2020-07-10</td>\n      <td>20200611</td>\n      <td>...</td>\n      <td>2020-06-12</td>\n      <td>NaN</td>\n      <td>2020.06.11</td>\n      <td>Rahway</td>\n      <td>New jersey</td>\n      <td>NaN</td>\n      <td>NaN</td>\n      <td>NaN</td>\n      <td>1591833600</td>\n      <td>41693</td>\n    </tr>\n    <tr>\n      <th>2999</th>\n      <td>6093631d5e9c136e0b3808e0eaeffb31</td>\n      <td>2020-05-07 02:51:11 +0000</td>\n      <td>Amazon Warehouse Team Member -Earn up to $15</td>\n      <td>Amazon Fulfillment</td>\n      <td>2020-05-06</td>\n      <td>Full-Time</td>\n      <td>/</td>\n      <td>$82,329.00</td>\n      <td>2020-06-05</td>\n      <td>20200506</td>\n      <td>...</td>\n      <td>2020-05-07</td>\n      <td>NaN</td>\n      <td>2020.05.01</td>\n      <td>Queens</td>\n      <td>New york</td>\n      <td>NaN</td>\n      <td>NaN</td>\n      <td>NaN</td>\n      <td>1588723200</td>\n      <td>96169</td>\n    </tr>\n  </tbody>\n</table>\n<p>3000 rows × 21 columns</p>\n</div>"
     },
     "metadata": {}
    }
   ]
  },
  {
   "cell_type": "code",
   "metadata": {
    "tags": [],
    "cell_id": "00006-63fbd6ca-bc59-4697-b02b-9c04a4a2a7bc",
    "deepnote_to_be_reexecuted": false,
    "source_hash": "5a89189",
    "execution_start": 1640016820113,
    "execution_millis": 604964,
    "deepnote_output_heights": [
     21.1875
    ],
    "deepnote_cell_type": "code"
   },
   "source": "len(career_data_dropped_cols.columns)",
   "execution_count": null,
   "outputs": [
    {
     "output_type": "execute_result",
     "execution_count": 7,
     "data": {
      "text/plain": "21"
     },
     "metadata": {}
    }
   ]
  },
  {
   "cell_type": "code",
   "metadata": {
    "tags": [],
    "cell_id": "00007-50b496a5-ef4c-4371-946d-89a67f33a354",
    "deepnote_to_be_reexecuted": false,
    "source_hash": "c7eca9c9",
    "execution_start": 1640016820176,
    "execution_millis": 740,
    "deepnote_cell_type": "code"
   },
   "source": "career_data_dropped_cols = career_data_dropped_cols.dropna(axis=1, how='all')\ncareer_data_dropped_cols",
   "execution_count": null,
   "outputs": [
    {
     "output_type": "execute_result",
     "execution_count": 8,
     "data": {
      "application/vnd.deepnote.dataframe.v3+json": {
       "column_count": 19,
       "row_count": 3000,
       "columns": [
        {
         "name": "uniq_id",
         "dtype": "object",
         "stats": {
          "unique_count": 3000,
          "nan_count": 0,
          "categories": [
           {
            "name": "9a457ef257fecf231693a6ba08f50293",
            "count": 1
           },
           {
            "name": "ba471e2faf6f79caf22cddebbedbc0e8",
            "count": 1
           },
           {
            "name": "2998 others",
            "count": 2998
           }
          ]
         }
        },
        {
         "name": "crawl_timestamp",
         "dtype": "object",
         "stats": {
          "unique_count": 2968,
          "nan_count": 0,
          "categories": [
           {
            "name": "2020-04-22 02:14:58 +0000",
            "count": 2
           },
           {
            "name": "2020-05-23 01:24:39 +0000",
            "count": 2
           },
           {
            "name": "2966 others",
            "count": 2996
           }
          ]
         }
        },
        {
         "name": "job_title",
         "dtype": "object",
         "stats": {
          "unique_count": 2096,
          "nan_count": 0,
          "categories": [
           {
            "name": "Retail Merchandiser",
            "count": 33
           },
           {
            "name": "Amazon Picker/Packer",
            "count": 27
           },
           {
            "name": "2094 others",
            "count": 2940
           }
          ]
         }
        },
        {
         "name": "company_name",
         "dtype": "object",
         "stats": {
          "unique_count": 747,
          "nan_count": 0,
          "categories": [
           {
            "name": "Amazon Fulfillment",
            "count": 794
           },
           {
            "name": "GPAC",
            "count": 85
           },
           {
            "name": "745 others",
            "count": 2121
           }
          ]
         }
        },
        {
         "name": "post_date",
         "dtype": "object",
         "stats": {
          "unique_count": 81,
          "nan_count": 0,
          "categories": [
           {
            "name": "2020-04-28",
            "count": 123
           },
           {
            "name": "2020-06-23",
            "count": 123
           },
           {
            "name": "79 others",
            "count": 2754
           }
          ]
         }
        },
        {
         "name": "job_type",
         "dtype": "object",
         "stats": {
          "unique_count": 9,
          "nan_count": 16,
          "categories": [
           {
            "name": "Full-Time",
            "count": 2316
           },
           {
            "name": "8 others",
            "count": 668
           },
           {
            "name": "Missing",
            "count": 16
           }
          ]
         }
        },
        {
         "name": "inferred_salary_time_unit",
         "dtype": "object",
         "stats": {
          "unique_count": 13,
          "nan_count": 0,
          "categories": [
           {
            "name": "/",
            "count": 2607
           },
           {
            "name": "/hour",
            "count": 220
           },
           {
            "name": "11 others",
            "count": 173
           }
          ]
         }
        },
        {
         "name": "salary_offered",
         "dtype": "object",
         "stats": {
          "unique_count": 2967,
          "nan_count": 0,
          "categories": [
           {
            "name": "$117,248.00",
            "count": 2
           },
           {
            "name": "$117,911.00",
            "count": 2
           },
           {
            "name": "2965 others",
            "count": 2996
           }
          ]
         }
        },
        {
         "name": "valid_through",
         "dtype": "object",
         "stats": {
          "unique_count": 83,
          "nan_count": 0,
          "categories": [
           {
            "name": "2020-05-27",
            "count": 123
           },
           {
            "name": "2020-07-22",
            "count": 123
           },
           {
            "name": "81 others",
            "count": 2754
           }
          ]
         }
        },
        {
         "name": "postdate_yyyymmdd",
         "dtype": "int64",
         "stats": {
          "unique_count": 81,
          "nan_count": 0,
          "min": "20200330",
          "max": "20200629",
          "histogram": [
           {
            "bin_start": 20200330,
            "bin_end": 20200359.9,
            "count": 17
           },
           {
            "bin_start": 20200359.9,
            "bin_end": 20200389.8,
            "count": 0
           },
           {
            "bin_start": 20200389.8,
            "bin_end": 20200419.7,
            "count": 147
           },
           {
            "bin_start": 20200419.7,
            "bin_end": 20200449.6,
            "count": 289
           },
           {
            "bin_start": 20200449.6,
            "bin_end": 20200479.5,
            "count": 0
           },
           {
            "bin_start": 20200479.5,
            "bin_end": 20200509.4,
            "count": 322
           },
           {
            "bin_start": 20200509.4,
            "bin_end": 20200539.3,
            "count": 1059
           },
           {
            "bin_start": 20200539.3,
            "bin_end": 20200569.2,
            "count": 0
           },
           {
            "bin_start": 20200569.2,
            "bin_end": 20200599.1,
            "count": 0
           },
           {
            "bin_start": 20200599.1,
            "bin_end": 20200629,
            "count": 1166
           }
          ]
         }
        },
        {
         "name": "last_expiry_check_date",
         "dtype": "object",
         "stats": {
          "unique_count": 76,
          "nan_count": 0,
          "categories": [
           {
            "name": "2020.04.29",
            "count": 124
           },
           {
            "name": "2020.06.24",
            "count": 122
           },
           {
            "name": "74 others",
            "count": 2754
           }
          ]
         }
        },
        {
         "name": "latest_expiry_check_date",
         "dtype": "object",
         "stats": {
          "unique_count": 76,
          "nan_count": 0,
          "categories": [
           {
            "name": "2020-04-29",
            "count": 124
           },
           {
            "name": "2020-06-24",
            "count": 122
           },
           {
            "name": "74 others",
            "count": 2754
           }
          ]
         }
        },
        {
         "name": "postdate_in_indexname_format",
         "dtype": "object",
         "stats": {
          "unique_count": 10,
          "nan_count": 0,
          "categories": [
           {
            "name": "2020.05.11",
            "count": 666
           },
           {
            "name": "2020.06.11",
            "count": 420
           },
           {
            "name": "8 others",
            "count": 1914
           }
          ]
         }
        },
        {
         "name": "inferred_city",
         "dtype": "object",
         "stats": {
          "unique_count": 1400,
          "nan_count": 205,
          "categories": [
           {
            "name": "Boston",
            "count": 26
           },
           {
            "name": "1399 others",
            "count": 2769
           },
           {
            "name": "Missing",
            "count": 205
           }
          ]
         }
        },
        {
         "name": "inferred_state",
         "dtype": "object",
         "stats": {
          "unique_count": 51,
          "nan_count": 0,
          "categories": [
           {
            "name": "California",
            "count": 275
           },
           {
            "name": "Massachusetts",
            "count": 172
           },
           {
            "name": "49 others",
            "count": 2553
           }
          ]
         }
        },
        {
         "name": "inferred_salary_from",
         "dtype": "object",
         "stats": {
          "unique_count": 122,
          "nan_count": 2614,
          "categories": [
           {
            "name": "9.50",
            "count": 33
           },
           {
            "name": "121 others",
            "count": 353
           },
           {
            "name": "Missing",
            "count": 2614
           }
          ]
         }
        },
        {
         "name": "inferred_salary_to",
         "dtype": "object",
         "stats": {
          "unique_count": 140,
          "nan_count": 2614,
          "categories": [
           {
            "name": "16.00",
            "count": 43
           },
           {
            "name": "139 others",
            "count": 343
           },
           {
            "name": "Missing",
            "count": 2614
           }
          ]
         }
        },
        {
         "name": "post_date_unix_time",
         "dtype": "int64",
         "stats": {
          "unique_count": 81,
          "nan_count": 0,
          "min": "1585526400",
          "max": "1593388800",
          "histogram": [
           {
            "bin_start": 1585526400,
            "bin_end": 1586312640,
            "count": 60
           },
           {
            "bin_start": 1586312640,
            "bin_end": 1587098880,
            "count": 104
           },
           {
            "bin_start": 1587098880,
            "bin_end": 1587885120,
            "count": 45
           },
           {
            "bin_start": 1587885120,
            "bin_end": 1588671360,
            "count": 368
           },
           {
            "bin_start": 1588671360,
            "bin_end": 1589457600,
            "count": 438
           },
           {
            "bin_start": 1589457600,
            "bin_end": 1590243840,
            "count": 559
           },
           {
            "bin_start": 1590243840,
            "bin_end": 1591030080,
            "count": 313
           },
           {
            "bin_start": 1591030080,
            "bin_end": 1591816320,
            "count": 345
           },
           {
            "bin_start": 1591816320,
            "bin_end": 1592602560,
            "count": 383
           },
           {
            "bin_start": 1592602560,
            "bin_end": 1593388800,
            "count": 385
           }
          ]
         }
        },
        {
         "name": "postal_code",
         "dtype": "object",
         "stats": {
          "unique_count": 2960,
          "nan_count": 0,
          "categories": [
           {
            "name": "33665",
            "count": 2
           },
           {
            "name": "94507",
            "count": 2
           },
           {
            "name": "2958 others",
            "count": 2996
           }
          ]
         }
        },
        {
         "name": "_deepnote_index_column",
         "dtype": "int64"
        }
       ],
       "rows": [
        {
         "uniq_id": "9a457ef257fecf231693a6ba08f50293",
         "crawl_timestamp": "2020-06-26 01:54:03 +0000",
         "job_title": "Asphalt/Concrete Senior Project Manager",
         "company_name": "GPAC",
         "post_date": "2020-06-25",
         "job_type": "Full-Time",
         "inferred_salary_time_unit": "/",
         "salary_offered": "$99,642.00",
         "valid_through": "2020-07-24",
         "postdate_yyyymmdd": 20200625,
         "last_expiry_check_date": "2020.06.26",
         "latest_expiry_check_date": "2020-06-26",
         "postdate_in_indexname_format": "2020.06.22",
         "inferred_city": "Houston",
         "inferred_state": "Texas",
         "inferred_salary_from": "nan",
         "inferred_salary_to": "nan",
         "post_date_unix_time": 1593043200,
         "postal_code": "43961",
         "_deepnote_index_column": 0
        },
        {
         "uniq_id": "ba471e2faf6f79caf22cddebbedbc0e8",
         "crawl_timestamp": "2020-05-17 01:21:05 +0000",
         "job_title": "Amazon Warehouse Team - Full Time",
         "company_name": "Amazon Fulfillment",
         "post_date": "2020-05-16",
         "job_type": "Full-Time",
         "inferred_salary_time_unit": "/",
         "salary_offered": "$58,626.00",
         "valid_through": "2020-06-15",
         "postdate_yyyymmdd": 20200516,
         "last_expiry_check_date": "2020.05.17",
         "latest_expiry_check_date": "2020-05-17",
         "postdate_in_indexname_format": "2020.05.11",
         "inferred_city": "Cincinnati",
         "inferred_state": "Ohio",
         "inferred_salary_from": "nan",
         "inferred_salary_to": "nan",
         "post_date_unix_time": 1589587200,
         "postal_code": "50467",
         "_deepnote_index_column": 1
        },
        {
         "uniq_id": "6f00bd02d63c633b5af453366f25c21e",
         "crawl_timestamp": "2020-06-27 04:53:42 +0000",
         "job_title": "Amazon Warehouse Associate - Morning Shifts Available",
         "company_name": "Amazon Fulfillment",
         "post_date": "2020-06-26",
         "job_type": "Full-Time",
         "inferred_salary_time_unit": "/",
         "salary_offered": "$67,450.00",
         "valid_through": "2020-07-25",
         "postdate_yyyymmdd": 20200626,
         "last_expiry_check_date": "2020.06.27",
         "latest_expiry_check_date": "2020-06-27",
         "postdate_in_indexname_format": "2020.06.22",
         "inferred_city": "Peabody",
         "inferred_state": "Massachusetts",
         "inferred_salary_from": "nan",
         "inferred_salary_to": "nan",
         "post_date_unix_time": 1593129600,
         "postal_code": "42620",
         "_deepnote_index_column": 2
        },
        {
         "uniq_id": "8ad0d00bfa23cfd7b7c364b8ae72085f",
         "crawl_timestamp": "2020-06-03 01:21:32 +0000",
         "job_title": "Assembly Electrical",
         "company_name": "Manpower",
         "post_date": "2020-06-02",
         "job_type": "Full-Time",
         "inferred_salary_time_unit": "/hour",
         "salary_offered": "$47,467.00",
         "valid_through": "2020-07-01",
         "postdate_yyyymmdd": 20200602,
         "last_expiry_check_date": "2020.06.03",
         "latest_expiry_check_date": "2020-06-03",
         "postdate_in_indexname_format": "2020.06.01",
         "inferred_city": "Villard",
         "inferred_state": "Minnesota",
         "inferred_salary_from": "14.00",
         "inferred_salary_to": "14.00",
         "post_date_unix_time": 1591056000,
         "postal_code": "97275",
         "_deepnote_index_column": 3
        },
        {
         "uniq_id": "31753dc342a1b2a07db712454c0d5f87",
         "crawl_timestamp": "2020-05-23 01:19:07 +0000",
         "job_title": "Graphics Designer",
         "company_name": "The North West Company - U.S.",
         "post_date": "2020-05-22",
         "job_type": "Full-Time",
         "inferred_salary_time_unit": "/",
         "salary_offered": "$136,684.00",
         "valid_through": "2020-06-21",
         "postdate_yyyymmdd": 20200522,
         "last_expiry_check_date": "2020.05.23",
         "latest_expiry_check_date": "2020-05-23",
         "postdate_in_indexname_format": "2020.05.22",
         "inferred_city": "Anchorage",
         "inferred_state": "Alaska",
         "inferred_salary_from": "nan",
         "inferred_salary_to": "nan",
         "post_date_unix_time": 1590105600,
         "postal_code": "37765",
         "_deepnote_index_column": 4
        },
        {
         "uniq_id": "d8bbd27764ff850f5cd05dfa3289ff66",
         "crawl_timestamp": "2020-05-25 10:04:56 +0000",
         "job_title": "Customer Service Representative, Full or Part Time",
         "company_name": "Circle K",
         "post_date": "2020-05-24",
         "job_type": "Full-Time",
         "inferred_salary_time_unit": "/",
         "salary_offered": "$142,796.00",
         "valid_through": "2020-06-23",
         "postdate_yyyymmdd": 20200524,
         "last_expiry_check_date": "2020.05.25",
         "latest_expiry_check_date": "2020-05-25",
         "postdate_in_indexname_format": "2020.05.22",
         "inferred_city": "Urbana",
         "inferred_state": "Illinois",
         "inferred_salary_from": "nan",
         "inferred_salary_to": "nan",
         "post_date_unix_time": 1590278400,
         "postal_code": "16152",
         "_deepnote_index_column": 5
        },
        {
         "uniq_id": "b716cdee3b40360f88be08b4cc75d598",
         "crawl_timestamp": "2020-05-23 01:13:40 +0000",
         "job_title": "Receptionist",
         "company_name": "Genesis Healthcare Corporation",
         "post_date": "2020-05-22",
         "job_type": "Per Diem",
         "inferred_salary_time_unit": "/",
         "salary_offered": "$129,869.00",
         "valid_through": "2020-06-21",
         "postdate_yyyymmdd": 20200522,
         "last_expiry_check_date": "2020.05.23",
         "latest_expiry_check_date": "2020-05-23",
         "postdate_in_indexname_format": "2020.05.22",
         "inferred_city": "nan",
         "inferred_state": "New jersey",
         "inferred_salary_from": "nan",
         "inferred_salary_to": "nan",
         "post_date_unix_time": 1590105600,
         "postal_code": "06009",
         "_deepnote_index_column": 6
        },
        {
         "uniq_id": "94e46cabddc4e30277870061fc6a06ea",
         "crawl_timestamp": "2020-06-25 01:48:48 +0000",
         "job_title": "U-Haul Moving Center General Manager",
         "company_name": "Talentify",
         "post_date": "2020-06-24",
         "job_type": "Full-Time",
         "inferred_salary_time_unit": "/",
         "salary_offered": "$129,477.00",
         "valid_through": "2020-07-23",
         "postdate_yyyymmdd": 20200624,
         "last_expiry_check_date": "2020.06.25",
         "latest_expiry_check_date": "2020-06-25",
         "postdate_in_indexname_format": "2020.06.22",
         "inferred_city": "Gretna",
         "inferred_state": "Louisiana",
         "inferred_salary_from": "nan",
         "inferred_salary_to": "nan",
         "post_date_unix_time": 1592956800,
         "postal_code": "42948",
         "_deepnote_index_column": 7
        },
        {
         "uniq_id": "e7da38a3d35f799fd532590c5137e65c",
         "crawl_timestamp": "2020-05-18 01:07:37 +0000",
         "job_title": "Staff Accountant",
         "company_name": "Volt",
         "post_date": "2020-05-17",
         "job_type": "Full-Time",
         "inferred_salary_time_unit": "/",
         "salary_offered": "$132,072.00",
         "valid_through": "2020-06-16",
         "postdate_yyyymmdd": 20200517,
         "last_expiry_check_date": "2020.05.18",
         "latest_expiry_check_date": "2020-05-18",
         "postdate_in_indexname_format": "2020.05.11",
         "inferred_city": "Stockton",
         "inferred_state": "California",
         "inferred_salary_from": "nan",
         "inferred_salary_to": "nan",
         "post_date_unix_time": 1589673600,
         "postal_code": "44841",
         "_deepnote_index_column": 8
        },
        {
         "uniq_id": "6248457c6236cce48b3277bddfc8b8a6",
         "crawl_timestamp": "2020-05-29 01:16:51 +0000",
         "job_title": "Package Handler (Non-DOT)/Part Time/PM Shift/Sunday 6:00PM-11:30PM/Monday through Friday 6:30PM-11:…",
         "company_name": "FedEx",
         "post_date": "2020-05-28",
         "job_type": "Part-Time",
         "inferred_salary_time_unit": "/",
         "salary_offered": "$124,602.00",
         "valid_through": "2020-06-27",
         "postdate_yyyymmdd": 20200528,
         "last_expiry_check_date": "2020.05.29",
         "latest_expiry_check_date": "2020-05-29",
         "postdate_in_indexname_format": "2020.05.22",
         "inferred_city": "Tampa",
         "inferred_state": "Florida",
         "inferred_salary_from": "nan",
         "inferred_salary_to": "nan",
         "post_date_unix_time": 1590624000,
         "postal_code": "42032",
         "_deepnote_index_column": 9
        }
       ]
      },
      "text/plain": "                               uniq_id            crawl_timestamp  \\\n0     9a457ef257fecf231693a6ba08f50293  2020-06-26 01:54:03 +0000   \n1     ba471e2faf6f79caf22cddebbedbc0e8  2020-05-17 01:21:05 +0000   \n2     6f00bd02d63c633b5af453366f25c21e  2020-06-27 04:53:42 +0000   \n3     8ad0d00bfa23cfd7b7c364b8ae72085f  2020-06-03 01:21:32 +0000   \n4     31753dc342a1b2a07db712454c0d5f87  2020-05-23 01:19:07 +0000   \n...                                ...                        ...   \n2995  a56efdccbe87fea387e2edd3b1ec9faa  2020-05-19 01:21:18 +0000   \n2996  5605b833679597515f7205180b50ea9f  2020-06-12 01:45:25 +0000   \n2997  c74525996c267187b2be11c3c01f3a34  2020-04-30 01:47:25 +0000   \n2998  ee4a13cfc9ce0cb2d66b54b30d5732e6  2020-06-12 00:57:31 +0000   \n2999  6093631d5e9c136e0b3808e0eaeffb31  2020-05-07 02:51:11 +0000   \n\n                                              job_title  \\\n0               Asphalt/Concrete Senior Project Manager   \n1                     Amazon Warehouse Team - Full Time   \n2     Amazon Warehouse Associate - Morning Shifts Av...   \n3                                   Assembly Electrical   \n4                                     Graphics Designer   \n...                                                 ...   \n2995                                       Store Hourly   \n2996           SAP FICA IS-U Architect (Posted 6-11-20)   \n2997                              Data Entry Specialist   \n2998  Warehouse Associate (Seasonal/ Part-Time/ Full...   \n2999       Amazon Warehouse Team Member -Earn up to $15   \n\n                       company_name   post_date       job_type  \\\n0                              GPAC  2020-06-25      Full-Time   \n1                Amazon Fulfillment  2020-05-16      Full-Time   \n2                Amazon Fulfillment  2020-06-26      Full-Time   \n3                          Manpower  2020-06-02      Full-Time   \n4     The North West Company - U.S.  2020-05-22      Full-Time   \n...                             ...         ...            ...   \n2995             Advance Auto Parts  2020-05-18      Full-Time   \n2996               Donnelly & Moore  2020-06-11     Contractor   \n2997                    Robert Half  2020-04-29  Seasonal/Temp   \n2998             Amazon Fulfillment  2020-06-11      Part-Time   \n2999             Amazon Fulfillment  2020-05-06      Full-Time   \n\n     inferred_salary_time_unit salary_offered valid_through  \\\n0                            /     $99,642.00    2020-07-24   \n1                            /     $58,626.00    2020-06-15   \n2                            /     $67,450.00    2020-07-25   \n3                        /hour     $47,467.00    2020-07-01   \n4                            /    $136,684.00    2020-06-21   \n...                        ...            ...           ...   \n2995                         /     $63,152.00    2020-06-17   \n2996                        /0    $108,575.00    2020-07-10   \n2997                     /hour     $88,469.00    2020-05-28   \n2998                         /    $102,933.00    2020-07-10   \n2999                         /     $82,329.00    2020-06-05   \n\n      postdate_yyyymmdd last_expiry_check_date latest_expiry_check_date  \\\n0              20200625             2020.06.26               2020-06-26   \n1              20200516             2020.05.17               2020-05-17   \n2              20200626             2020.06.27               2020-06-27   \n3              20200602             2020.06.03               2020-06-03   \n4              20200522             2020.05.23               2020-05-23   \n...                 ...                    ...                      ...   \n2995           20200518             2020.05.19               2020-05-19   \n2996           20200611             2020.06.12               2020-06-12   \n2997           20200429             2020.04.30               2020-04-30   \n2998           20200611             2020.06.12               2020-06-12   \n2999           20200506             2020.05.07               2020-05-07   \n\n     postdate_in_indexname_format inferred_city  inferred_state  \\\n0                      2020.06.22       Houston           Texas   \n1                      2020.05.11    Cincinnati            Ohio   \n2                      2020.06.22       Peabody   Massachusetts   \n3                      2020.06.01       Villard       Minnesota   \n4                      2020.05.22     Anchorage          Alaska   \n...                           ...           ...             ...   \n2995                   2020.05.11   Wake forest  North carolina   \n2996                   2020.06.11  White plains        New york   \n2997                   2020.04.22      Martinez      California   \n2998                   2020.06.11        Rahway      New jersey   \n2999                   2020.05.01        Queens        New york   \n\n     inferred_salary_from inferred_salary_to  post_date_unix_time postal_code  \n0                     NaN                NaN           1593043200       43961  \n1                     NaN                NaN           1589587200       50467  \n2                     NaN                NaN           1593129600       42620  \n3                   14.00              14.00           1591056000       97275  \n4                     NaN                NaN           1590105600       37765  \n...                   ...                ...                  ...         ...  \n2995                  NaN                NaN           1589760000       27460  \n2996                    0                  0           1591833600       74603  \n2997                16.00              18.00           1588118400       08709  \n2998                  NaN                NaN           1591833600       41693  \n2999                  NaN                NaN           1588723200       96169  \n\n[3000 rows x 19 columns]",
      "text/html": "<div>\n<style scoped>\n    .dataframe tbody tr th:only-of-type {\n        vertical-align: middle;\n    }\n\n    .dataframe tbody tr th {\n        vertical-align: top;\n    }\n\n    .dataframe thead th {\n        text-align: right;\n    }\n</style>\n<table border=\"1\" class=\"dataframe\">\n  <thead>\n    <tr style=\"text-align: right;\">\n      <th></th>\n      <th>uniq_id</th>\n      <th>crawl_timestamp</th>\n      <th>job_title</th>\n      <th>company_name</th>\n      <th>post_date</th>\n      <th>job_type</th>\n      <th>inferred_salary_time_unit</th>\n      <th>salary_offered</th>\n      <th>valid_through</th>\n      <th>postdate_yyyymmdd</th>\n      <th>last_expiry_check_date</th>\n      <th>latest_expiry_check_date</th>\n      <th>postdate_in_indexname_format</th>\n      <th>inferred_city</th>\n      <th>inferred_state</th>\n      <th>inferred_salary_from</th>\n      <th>inferred_salary_to</th>\n      <th>post_date_unix_time</th>\n      <th>postal_code</th>\n    </tr>\n  </thead>\n  <tbody>\n    <tr>\n      <th>0</th>\n      <td>9a457ef257fecf231693a6ba08f50293</td>\n      <td>2020-06-26 01:54:03 +0000</td>\n      <td>Asphalt/Concrete Senior Project Manager</td>\n      <td>GPAC</td>\n      <td>2020-06-25</td>\n      <td>Full-Time</td>\n      <td>/</td>\n      <td>$99,642.00</td>\n      <td>2020-07-24</td>\n      <td>20200625</td>\n      <td>2020.06.26</td>\n      <td>2020-06-26</td>\n      <td>2020.06.22</td>\n      <td>Houston</td>\n      <td>Texas</td>\n      <td>NaN</td>\n      <td>NaN</td>\n      <td>1593043200</td>\n      <td>43961</td>\n    </tr>\n    <tr>\n      <th>1</th>\n      <td>ba471e2faf6f79caf22cddebbedbc0e8</td>\n      <td>2020-05-17 01:21:05 +0000</td>\n      <td>Amazon Warehouse Team - Full Time</td>\n      <td>Amazon Fulfillment</td>\n      <td>2020-05-16</td>\n      <td>Full-Time</td>\n      <td>/</td>\n      <td>$58,626.00</td>\n      <td>2020-06-15</td>\n      <td>20200516</td>\n      <td>2020.05.17</td>\n      <td>2020-05-17</td>\n      <td>2020.05.11</td>\n      <td>Cincinnati</td>\n      <td>Ohio</td>\n      <td>NaN</td>\n      <td>NaN</td>\n      <td>1589587200</td>\n      <td>50467</td>\n    </tr>\n    <tr>\n      <th>2</th>\n      <td>6f00bd02d63c633b5af453366f25c21e</td>\n      <td>2020-06-27 04:53:42 +0000</td>\n      <td>Amazon Warehouse Associate - Morning Shifts Av...</td>\n      <td>Amazon Fulfillment</td>\n      <td>2020-06-26</td>\n      <td>Full-Time</td>\n      <td>/</td>\n      <td>$67,450.00</td>\n      <td>2020-07-25</td>\n      <td>20200626</td>\n      <td>2020.06.27</td>\n      <td>2020-06-27</td>\n      <td>2020.06.22</td>\n      <td>Peabody</td>\n      <td>Massachusetts</td>\n      <td>NaN</td>\n      <td>NaN</td>\n      <td>1593129600</td>\n      <td>42620</td>\n    </tr>\n    <tr>\n      <th>3</th>\n      <td>8ad0d00bfa23cfd7b7c364b8ae72085f</td>\n      <td>2020-06-03 01:21:32 +0000</td>\n      <td>Assembly Electrical</td>\n      <td>Manpower</td>\n      <td>2020-06-02</td>\n      <td>Full-Time</td>\n      <td>/hour</td>\n      <td>$47,467.00</td>\n      <td>2020-07-01</td>\n      <td>20200602</td>\n      <td>2020.06.03</td>\n      <td>2020-06-03</td>\n      <td>2020.06.01</td>\n      <td>Villard</td>\n      <td>Minnesota</td>\n      <td>14.00</td>\n      <td>14.00</td>\n      <td>1591056000</td>\n      <td>97275</td>\n    </tr>\n    <tr>\n      <th>4</th>\n      <td>31753dc342a1b2a07db712454c0d5f87</td>\n      <td>2020-05-23 01:19:07 +0000</td>\n      <td>Graphics Designer</td>\n      <td>The North West Company - U.S.</td>\n      <td>2020-05-22</td>\n      <td>Full-Time</td>\n      <td>/</td>\n      <td>$136,684.00</td>\n      <td>2020-06-21</td>\n      <td>20200522</td>\n      <td>2020.05.23</td>\n      <td>2020-05-23</td>\n      <td>2020.05.22</td>\n      <td>Anchorage</td>\n      <td>Alaska</td>\n      <td>NaN</td>\n      <td>NaN</td>\n      <td>1590105600</td>\n      <td>37765</td>\n    </tr>\n    <tr>\n      <th>...</th>\n      <td>...</td>\n      <td>...</td>\n      <td>...</td>\n      <td>...</td>\n      <td>...</td>\n      <td>...</td>\n      <td>...</td>\n      <td>...</td>\n      <td>...</td>\n      <td>...</td>\n      <td>...</td>\n      <td>...</td>\n      <td>...</td>\n      <td>...</td>\n      <td>...</td>\n      <td>...</td>\n      <td>...</td>\n      <td>...</td>\n      <td>...</td>\n    </tr>\n    <tr>\n      <th>2995</th>\n      <td>a56efdccbe87fea387e2edd3b1ec9faa</td>\n      <td>2020-05-19 01:21:18 +0000</td>\n      <td>Store Hourly</td>\n      <td>Advance Auto Parts</td>\n      <td>2020-05-18</td>\n      <td>Full-Time</td>\n      <td>/</td>\n      <td>$63,152.00</td>\n      <td>2020-06-17</td>\n      <td>20200518</td>\n      <td>2020.05.19</td>\n      <td>2020-05-19</td>\n      <td>2020.05.11</td>\n      <td>Wake forest</td>\n      <td>North carolina</td>\n      <td>NaN</td>\n      <td>NaN</td>\n      <td>1589760000</td>\n      <td>27460</td>\n    </tr>\n    <tr>\n      <th>2996</th>\n      <td>5605b833679597515f7205180b50ea9f</td>\n      <td>2020-06-12 01:45:25 +0000</td>\n      <td>SAP FICA IS-U Architect (Posted 6-11-20)</td>\n      <td>Donnelly &amp; Moore</td>\n      <td>2020-06-11</td>\n      <td>Contractor</td>\n      <td>/0</td>\n      <td>$108,575.00</td>\n      <td>2020-07-10</td>\n      <td>20200611</td>\n      <td>2020.06.12</td>\n      <td>2020-06-12</td>\n      <td>2020.06.11</td>\n      <td>White plains</td>\n      <td>New york</td>\n      <td>0</td>\n      <td>0</td>\n      <td>1591833600</td>\n      <td>74603</td>\n    </tr>\n    <tr>\n      <th>2997</th>\n      <td>c74525996c267187b2be11c3c01f3a34</td>\n      <td>2020-04-30 01:47:25 +0000</td>\n      <td>Data Entry Specialist</td>\n      <td>Robert Half</td>\n      <td>2020-04-29</td>\n      <td>Seasonal/Temp</td>\n      <td>/hour</td>\n      <td>$88,469.00</td>\n      <td>2020-05-28</td>\n      <td>20200429</td>\n      <td>2020.04.30</td>\n      <td>2020-04-30</td>\n      <td>2020.04.22</td>\n      <td>Martinez</td>\n      <td>California</td>\n      <td>16.00</td>\n      <td>18.00</td>\n      <td>1588118400</td>\n      <td>08709</td>\n    </tr>\n    <tr>\n      <th>2998</th>\n      <td>ee4a13cfc9ce0cb2d66b54b30d5732e6</td>\n      <td>2020-06-12 00:57:31 +0000</td>\n      <td>Warehouse Associate (Seasonal/ Part-Time/ Full...</td>\n      <td>Amazon Fulfillment</td>\n      <td>2020-06-11</td>\n      <td>Part-Time</td>\n      <td>/</td>\n      <td>$102,933.00</td>\n      <td>2020-07-10</td>\n      <td>20200611</td>\n      <td>2020.06.12</td>\n      <td>2020-06-12</td>\n      <td>2020.06.11</td>\n      <td>Rahway</td>\n      <td>New jersey</td>\n      <td>NaN</td>\n      <td>NaN</td>\n      <td>1591833600</td>\n      <td>41693</td>\n    </tr>\n    <tr>\n      <th>2999</th>\n      <td>6093631d5e9c136e0b3808e0eaeffb31</td>\n      <td>2020-05-07 02:51:11 +0000</td>\n      <td>Amazon Warehouse Team Member -Earn up to $15</td>\n      <td>Amazon Fulfillment</td>\n      <td>2020-05-06</td>\n      <td>Full-Time</td>\n      <td>/</td>\n      <td>$82,329.00</td>\n      <td>2020-06-05</td>\n      <td>20200506</td>\n      <td>2020.05.07</td>\n      <td>2020-05-07</td>\n      <td>2020.05.01</td>\n      <td>Queens</td>\n      <td>New york</td>\n      <td>NaN</td>\n      <td>NaN</td>\n      <td>1588723200</td>\n      <td>96169</td>\n    </tr>\n  </tbody>\n</table>\n<p>3000 rows × 19 columns</p>\n</div>"
     },
     "metadata": {}
    }
   ]
  },
  {
   "cell_type": "code",
   "metadata": {
    "tags": [],
    "cell_id": "00008-f70e6f2e-3727-46ce-82eb-505301721542",
    "deepnote_to_be_reexecuted": false,
    "source_hash": "5a89189",
    "execution_start": 1640016820939,
    "execution_millis": 0,
    "deepnote_output_heights": [
     21.1875
    ],
    "deepnote_cell_type": "code"
   },
   "source": "len(career_data_dropped_cols.columns)",
   "execution_count": null,
   "outputs": [
    {
     "output_type": "execute_result",
     "execution_count": 9,
     "data": {
      "text/plain": "19"
     },
     "metadata": {}
    }
   ]
  },
  {
   "cell_type": "code",
   "metadata": {
    "tags": [],
    "cell_id": "00009-2fa33be6-9d63-4967-8445-54ece643dcbb",
    "deepnote_to_be_reexecuted": false,
    "source_hash": "27157431",
    "execution_start": 1640016820973,
    "execution_millis": 292728,
    "deepnote_output_heights": [
     386
    ],
    "deepnote_cell_type": "code"
   },
   "source": "career_data_dropped_cols.dtypes",
   "execution_count": null,
   "outputs": [
    {
     "output_type": "execute_result",
     "execution_count": 10,
     "data": {
      "text/plain": "uniq_id                         object\ncrawl_timestamp                 object\njob_title                       object\ncompany_name                    object\npost_date                       object\njob_type                        object\ninferred_salary_time_unit       object\nsalary_offered                  object\nvalid_through                   object\npostdate_yyyymmdd                int64\nlast_expiry_check_date          object\nlatest_expiry_check_date        object\npostdate_in_indexname_format    object\ninferred_city                   object\ninferred_state                  object\ninferred_salary_from            object\ninferred_salary_to              object\npost_date_unix_time              int64\npostal_code                     object\ndtype: object"
     },
     "metadata": {}
    }
   ]
  },
  {
   "cell_type": "code",
   "metadata": {
    "tags": [],
    "cell_id": "00010-a4add0c3-75b1-457b-99eb-8a1ebcf6c621",
    "deepnote_to_be_reexecuted": false,
    "source_hash": "527344e3",
    "execution_start": 1640016821005,
    "execution_millis": 244886,
    "deepnote_output_heights": [
     232.390625
    ],
    "deepnote_cell_type": "code"
   },
   "source": "career_data_dropped_cols['salary_offered']",
   "execution_count": null,
   "outputs": [
    {
     "output_type": "execute_result",
     "execution_count": 11,
     "data": {
      "text/plain": "0        $99,642.00\n1        $58,626.00\n2        $67,450.00\n3        $47,467.00\n4       $136,684.00\n           ...     \n2995     $63,152.00\n2996    $108,575.00\n2997     $88,469.00\n2998    $102,933.00\n2999     $82,329.00\nName: salary_offered, Length: 3000, dtype: object"
     },
     "metadata": {}
    }
   ]
  },
  {
   "cell_type": "code",
   "metadata": {
    "tags": [],
    "cell_id": "00011-e7433efe-5705-4231-96ca-6d2bbbdfee1b",
    "deepnote_to_be_reexecuted": false,
    "source_hash": "23729c9f",
    "execution_start": 1640016821032,
    "execution_millis": 13,
    "deepnote_output_heights": [
     232.390625
    ],
    "deepnote_cell_type": "code"
   },
   "source": "career_data_dtype_change = career_data_dropped_cols.copy()\ncareer_data_dtype_change[\"salary_offered\"] = career_data_dtype_change[\"salary_offered\"].apply(lambda x: x.replace('$', '').replace(',', '')).astype(float)\ncareer_data_dtype_change[\"salary_offered\"]",
   "execution_count": null,
   "outputs": [
    {
     "output_type": "execute_result",
     "execution_count": 12,
     "data": {
      "text/plain": "0        99642.0\n1        58626.0\n2        67450.0\n3        47467.0\n4       136684.0\n          ...   \n2995     63152.0\n2996    108575.0\n2997     88469.0\n2998    102933.0\n2999     82329.0\nName: salary_offered, Length: 3000, dtype: float64"
     },
     "metadata": {}
    }
   ]
  },
  {
   "cell_type": "code",
   "metadata": {
    "tags": [],
    "cell_id": "00012-ed347317-905e-400b-a070-e2635fbbef54",
    "deepnote_to_be_reexecuted": false,
    "source_hash": "585f6cb7",
    "execution_start": 1640016821060,
    "execution_millis": 19,
    "deepnote_output_heights": [
     386
    ],
    "deepnote_cell_type": "code"
   },
   "source": "career_data_dtype_change.dtypes",
   "execution_count": null,
   "outputs": [
    {
     "output_type": "execute_result",
     "execution_count": 13,
     "data": {
      "text/plain": "uniq_id                          object\ncrawl_timestamp                  object\njob_title                        object\ncompany_name                     object\npost_date                        object\njob_type                         object\ninferred_salary_time_unit        object\nsalary_offered                  float64\nvalid_through                    object\npostdate_yyyymmdd                 int64\nlast_expiry_check_date           object\nlatest_expiry_check_date         object\npostdate_in_indexname_format     object\ninferred_city                    object\ninferred_state                   object\ninferred_salary_from             object\ninferred_salary_to               object\npost_date_unix_time               int64\npostal_code                      object\ndtype: object"
     },
     "metadata": {}
    }
   ]
  },
  {
   "cell_type": "code",
   "metadata": {
    "tags": [],
    "cell_id": "00013-da03e354-5b52-48d5-a210-c822e65ea6ed",
    "deepnote_to_be_reexecuted": false,
    "source_hash": "6c128d48",
    "execution_start": 1640016926815,
    "execution_millis": 206,
    "deepnote_cell_type": "code"
   },
   "source": "career_data_dtype_change[\n    [\n        \"crawl_timestamp\",\n        \"valid_through\",\n        \"postdate_yyyymmdd\",\n        \"last_expiry_check_date\",\n        \"latest_expiry_check_date\",\n        \"postdate_in_indexname_format\",\n    ]\n]\n",
   "execution_count": null,
   "outputs": [
    {
     "output_type": "execute_result",
     "execution_count": 14,
     "data": {
      "application/vnd.deepnote.dataframe.v3+json": {
       "column_count": 6,
       "row_count": 3000,
       "columns": [
        {
         "name": "crawl_timestamp",
         "dtype": "object",
         "stats": {
          "unique_count": 2968,
          "nan_count": 0,
          "categories": [
           {
            "name": "2020-04-22 02:14:58 +0000",
            "count": 2
           },
           {
            "name": "2020-05-23 01:24:39 +0000",
            "count": 2
           },
           {
            "name": "2966 others",
            "count": 2996
           }
          ]
         }
        },
        {
         "name": "valid_through",
         "dtype": "object",
         "stats": {
          "unique_count": 83,
          "nan_count": 0,
          "categories": [
           {
            "name": "2020-05-27",
            "count": 123
           },
           {
            "name": "2020-07-22",
            "count": 123
           },
           {
            "name": "81 others",
            "count": 2754
           }
          ]
         }
        },
        {
         "name": "postdate_yyyymmdd",
         "dtype": "int64",
         "stats": {
          "unique_count": 81,
          "nan_count": 0,
          "min": "20200330",
          "max": "20200629",
          "histogram": [
           {
            "bin_start": 20200330,
            "bin_end": 20200359.9,
            "count": 17
           },
           {
            "bin_start": 20200359.9,
            "bin_end": 20200389.8,
            "count": 0
           },
           {
            "bin_start": 20200389.8,
            "bin_end": 20200419.7,
            "count": 147
           },
           {
            "bin_start": 20200419.7,
            "bin_end": 20200449.6,
            "count": 289
           },
           {
            "bin_start": 20200449.6,
            "bin_end": 20200479.5,
            "count": 0
           },
           {
            "bin_start": 20200479.5,
            "bin_end": 20200509.4,
            "count": 322
           },
           {
            "bin_start": 20200509.4,
            "bin_end": 20200539.3,
            "count": 1059
           },
           {
            "bin_start": 20200539.3,
            "bin_end": 20200569.2,
            "count": 0
           },
           {
            "bin_start": 20200569.2,
            "bin_end": 20200599.1,
            "count": 0
           },
           {
            "bin_start": 20200599.1,
            "bin_end": 20200629,
            "count": 1166
           }
          ]
         }
        },
        {
         "name": "last_expiry_check_date",
         "dtype": "object",
         "stats": {
          "unique_count": 76,
          "nan_count": 0,
          "categories": [
           {
            "name": "2020.04.29",
            "count": 124
           },
           {
            "name": "2020.06.24",
            "count": 122
           },
           {
            "name": "74 others",
            "count": 2754
           }
          ]
         }
        },
        {
         "name": "latest_expiry_check_date",
         "dtype": "object",
         "stats": {
          "unique_count": 76,
          "nan_count": 0,
          "categories": [
           {
            "name": "2020-04-29",
            "count": 124
           },
           {
            "name": "2020-06-24",
            "count": 122
           },
           {
            "name": "74 others",
            "count": 2754
           }
          ]
         }
        },
        {
         "name": "postdate_in_indexname_format",
         "dtype": "object",
         "stats": {
          "unique_count": 10,
          "nan_count": 0,
          "categories": [
           {
            "name": "2020.05.11",
            "count": 666
           },
           {
            "name": "2020.06.11",
            "count": 420
           },
           {
            "name": "8 others",
            "count": 1914
           }
          ]
         }
        },
        {
         "name": "_deepnote_index_column",
         "dtype": "int64"
        }
       ],
       "rows": [
        {
         "crawl_timestamp": "2020-06-26 01:54:03 +0000",
         "valid_through": "2020-07-24",
         "postdate_yyyymmdd": 20200625,
         "last_expiry_check_date": "2020.06.26",
         "latest_expiry_check_date": "2020-06-26",
         "postdate_in_indexname_format": "2020.06.22",
         "_deepnote_index_column": 0
        },
        {
         "crawl_timestamp": "2020-05-17 01:21:05 +0000",
         "valid_through": "2020-06-15",
         "postdate_yyyymmdd": 20200516,
         "last_expiry_check_date": "2020.05.17",
         "latest_expiry_check_date": "2020-05-17",
         "postdate_in_indexname_format": "2020.05.11",
         "_deepnote_index_column": 1
        },
        {
         "crawl_timestamp": "2020-06-27 04:53:42 +0000",
         "valid_through": "2020-07-25",
         "postdate_yyyymmdd": 20200626,
         "last_expiry_check_date": "2020.06.27",
         "latest_expiry_check_date": "2020-06-27",
         "postdate_in_indexname_format": "2020.06.22",
         "_deepnote_index_column": 2
        },
        {
         "crawl_timestamp": "2020-06-03 01:21:32 +0000",
         "valid_through": "2020-07-01",
         "postdate_yyyymmdd": 20200602,
         "last_expiry_check_date": "2020.06.03",
         "latest_expiry_check_date": "2020-06-03",
         "postdate_in_indexname_format": "2020.06.01",
         "_deepnote_index_column": 3
        },
        {
         "crawl_timestamp": "2020-05-23 01:19:07 +0000",
         "valid_through": "2020-06-21",
         "postdate_yyyymmdd": 20200522,
         "last_expiry_check_date": "2020.05.23",
         "latest_expiry_check_date": "2020-05-23",
         "postdate_in_indexname_format": "2020.05.22",
         "_deepnote_index_column": 4
        },
        {
         "crawl_timestamp": "2020-05-25 10:04:56 +0000",
         "valid_through": "2020-06-23",
         "postdate_yyyymmdd": 20200524,
         "last_expiry_check_date": "2020.05.25",
         "latest_expiry_check_date": "2020-05-25",
         "postdate_in_indexname_format": "2020.05.22",
         "_deepnote_index_column": 5
        },
        {
         "crawl_timestamp": "2020-05-23 01:13:40 +0000",
         "valid_through": "2020-06-21",
         "postdate_yyyymmdd": 20200522,
         "last_expiry_check_date": "2020.05.23",
         "latest_expiry_check_date": "2020-05-23",
         "postdate_in_indexname_format": "2020.05.22",
         "_deepnote_index_column": 6
        },
        {
         "crawl_timestamp": "2020-06-25 01:48:48 +0000",
         "valid_through": "2020-07-23",
         "postdate_yyyymmdd": 20200624,
         "last_expiry_check_date": "2020.06.25",
         "latest_expiry_check_date": "2020-06-25",
         "postdate_in_indexname_format": "2020.06.22",
         "_deepnote_index_column": 7
        },
        {
         "crawl_timestamp": "2020-05-18 01:07:37 +0000",
         "valid_through": "2020-06-16",
         "postdate_yyyymmdd": 20200517,
         "last_expiry_check_date": "2020.05.18",
         "latest_expiry_check_date": "2020-05-18",
         "postdate_in_indexname_format": "2020.05.11",
         "_deepnote_index_column": 8
        },
        {
         "crawl_timestamp": "2020-05-29 01:16:51 +0000",
         "valid_through": "2020-06-27",
         "postdate_yyyymmdd": 20200528,
         "last_expiry_check_date": "2020.05.29",
         "latest_expiry_check_date": "2020-05-29",
         "postdate_in_indexname_format": "2020.05.22",
         "_deepnote_index_column": 9
        }
       ]
      },
      "text/plain": "                crawl_timestamp valid_through  postdate_yyyymmdd  \\\n0     2020-06-26 01:54:03 +0000    2020-07-24           20200625   \n1     2020-05-17 01:21:05 +0000    2020-06-15           20200516   \n2     2020-06-27 04:53:42 +0000    2020-07-25           20200626   \n3     2020-06-03 01:21:32 +0000    2020-07-01           20200602   \n4     2020-05-23 01:19:07 +0000    2020-06-21           20200522   \n...                         ...           ...                ...   \n2995  2020-05-19 01:21:18 +0000    2020-06-17           20200518   \n2996  2020-06-12 01:45:25 +0000    2020-07-10           20200611   \n2997  2020-04-30 01:47:25 +0000    2020-05-28           20200429   \n2998  2020-06-12 00:57:31 +0000    2020-07-10           20200611   \n2999  2020-05-07 02:51:11 +0000    2020-06-05           20200506   \n\n     last_expiry_check_date latest_expiry_check_date  \\\n0                2020.06.26               2020-06-26   \n1                2020.05.17               2020-05-17   \n2                2020.06.27               2020-06-27   \n3                2020.06.03               2020-06-03   \n4                2020.05.23               2020-05-23   \n...                     ...                      ...   \n2995             2020.05.19               2020-05-19   \n2996             2020.06.12               2020-06-12   \n2997             2020.04.30               2020-04-30   \n2998             2020.06.12               2020-06-12   \n2999             2020.05.07               2020-05-07   \n\n     postdate_in_indexname_format  \n0                      2020.06.22  \n1                      2020.05.11  \n2                      2020.06.22  \n3                      2020.06.01  \n4                      2020.05.22  \n...                           ...  \n2995                   2020.05.11  \n2996                   2020.06.11  \n2997                   2020.04.22  \n2998                   2020.06.11  \n2999                   2020.05.01  \n\n[3000 rows x 6 columns]",
      "text/html": "<div>\n<style scoped>\n    .dataframe tbody tr th:only-of-type {\n        vertical-align: middle;\n    }\n\n    .dataframe tbody tr th {\n        vertical-align: top;\n    }\n\n    .dataframe thead th {\n        text-align: right;\n    }\n</style>\n<table border=\"1\" class=\"dataframe\">\n  <thead>\n    <tr style=\"text-align: right;\">\n      <th></th>\n      <th>crawl_timestamp</th>\n      <th>valid_through</th>\n      <th>postdate_yyyymmdd</th>\n      <th>last_expiry_check_date</th>\n      <th>latest_expiry_check_date</th>\n      <th>postdate_in_indexname_format</th>\n    </tr>\n  </thead>\n  <tbody>\n    <tr>\n      <th>0</th>\n      <td>2020-06-26 01:54:03 +0000</td>\n      <td>2020-07-24</td>\n      <td>20200625</td>\n      <td>2020.06.26</td>\n      <td>2020-06-26</td>\n      <td>2020.06.22</td>\n    </tr>\n    <tr>\n      <th>1</th>\n      <td>2020-05-17 01:21:05 +0000</td>\n      <td>2020-06-15</td>\n      <td>20200516</td>\n      <td>2020.05.17</td>\n      <td>2020-05-17</td>\n      <td>2020.05.11</td>\n    </tr>\n    <tr>\n      <th>2</th>\n      <td>2020-06-27 04:53:42 +0000</td>\n      <td>2020-07-25</td>\n      <td>20200626</td>\n      <td>2020.06.27</td>\n      <td>2020-06-27</td>\n      <td>2020.06.22</td>\n    </tr>\n    <tr>\n      <th>3</th>\n      <td>2020-06-03 01:21:32 +0000</td>\n      <td>2020-07-01</td>\n      <td>20200602</td>\n      <td>2020.06.03</td>\n      <td>2020-06-03</td>\n      <td>2020.06.01</td>\n    </tr>\n    <tr>\n      <th>4</th>\n      <td>2020-05-23 01:19:07 +0000</td>\n      <td>2020-06-21</td>\n      <td>20200522</td>\n      <td>2020.05.23</td>\n      <td>2020-05-23</td>\n      <td>2020.05.22</td>\n    </tr>\n    <tr>\n      <th>...</th>\n      <td>...</td>\n      <td>...</td>\n      <td>...</td>\n      <td>...</td>\n      <td>...</td>\n      <td>...</td>\n    </tr>\n    <tr>\n      <th>2995</th>\n      <td>2020-05-19 01:21:18 +0000</td>\n      <td>2020-06-17</td>\n      <td>20200518</td>\n      <td>2020.05.19</td>\n      <td>2020-05-19</td>\n      <td>2020.05.11</td>\n    </tr>\n    <tr>\n      <th>2996</th>\n      <td>2020-06-12 01:45:25 +0000</td>\n      <td>2020-07-10</td>\n      <td>20200611</td>\n      <td>2020.06.12</td>\n      <td>2020-06-12</td>\n      <td>2020.06.11</td>\n    </tr>\n    <tr>\n      <th>2997</th>\n      <td>2020-04-30 01:47:25 +0000</td>\n      <td>2020-05-28</td>\n      <td>20200429</td>\n      <td>2020.04.30</td>\n      <td>2020-04-30</td>\n      <td>2020.04.22</td>\n    </tr>\n    <tr>\n      <th>2998</th>\n      <td>2020-06-12 00:57:31 +0000</td>\n      <td>2020-07-10</td>\n      <td>20200611</td>\n      <td>2020.06.12</td>\n      <td>2020-06-12</td>\n      <td>2020.06.11</td>\n    </tr>\n    <tr>\n      <th>2999</th>\n      <td>2020-05-07 02:51:11 +0000</td>\n      <td>2020-06-05</td>\n      <td>20200506</td>\n      <td>2020.05.07</td>\n      <td>2020-05-07</td>\n      <td>2020.05.01</td>\n    </tr>\n  </tbody>\n</table>\n<p>3000 rows × 6 columns</p>\n</div>"
     },
     "metadata": {}
    }
   ]
  },
  {
   "cell_type": "code",
   "metadata": {
    "tags": [],
    "cell_id": "00014-a18cb639-6019-4a06-84a8-f6ce8cefa1ff",
    "deepnote_to_be_reexecuted": false,
    "source_hash": "ba63d3e9",
    "execution_start": 1640017015591,
    "execution_millis": 1187,
    "deepnote_cell_type": "code"
   },
   "source": "career_data_dtype_change[\"crawl_timestamp\"] = pd.to_datetime(career_data_dropped_cols[\"crawl_timestamp\"])\ncareer_data_dtype_change[\"postdate_yyyymmdd\"] = pd.to_datetime(career_data_dtype_change[\"postdate_yyyymmdd\"], format=\"%Y%m%d\")\ncareer_data_dtype_change",
   "execution_count": null,
   "outputs": [
    {
     "output_type": "execute_result",
     "execution_count": 15,
     "data": {
      "application/vnd.deepnote.dataframe.v3+json": {
       "column_count": 19,
       "row_count": 3000,
       "columns": [
        {
         "name": "uniq_id",
         "dtype": "object",
         "stats": {
          "unique_count": 3000,
          "nan_count": 0,
          "categories": [
           {
            "name": "9a457ef257fecf231693a6ba08f50293",
            "count": 1
           },
           {
            "name": "ba471e2faf6f79caf22cddebbedbc0e8",
            "count": 1
           },
           {
            "name": "2998 others",
            "count": 2998
           }
          ]
         }
        },
        {
         "name": "crawl_timestamp",
         "dtype": "datetime64[ns, UTC]",
         "stats": {
          "unique_count": 2968,
          "nan_count": 0,
          "min": "2020-04-01 03:08:09+00:00",
          "max": "2020-06-30 02:58:59+00:00",
          "histogram": [
           {
            "bin_start": 1585710489000000000,
            "bin_end": 1586488034000000000,
            "count": 64
           },
           {
            "bin_start": 1586488034000000000,
            "bin_end": 1587265579000000000,
            "count": 99
           },
           {
            "bin_start": 1587265579000000000,
            "bin_end": 1588043124000000000,
            "count": 73
           },
           {
            "bin_start": 1588043124000000000,
            "bin_end": 1588820669000000000,
            "count": 405
           },
           {
            "bin_start": 1588820669000000000,
            "bin_end": 1589598214000000000,
            "count": 465
           },
           {
            "bin_start": 1589598214000000000,
            "bin_end": 1590375759000000000,
            "count": 453
           },
           {
            "bin_start": 1590375759000000000,
            "bin_end": 1591153304000000000,
            "count": 368
           },
           {
            "bin_start": 1591153304000000000,
            "bin_end": 1591930849000000000,
            "count": 362
           },
           {
            "bin_start": 1591930849000000000,
            "bin_end": 1592708394000000000,
            "count": 338
           },
           {
            "bin_start": 1592708394000000000,
            "bin_end": 1593485939000000000,
            "count": 373
           }
          ]
         }
        },
        {
         "name": "job_title",
         "dtype": "object",
         "stats": {
          "unique_count": 2096,
          "nan_count": 0,
          "categories": [
           {
            "name": "Retail Merchandiser",
            "count": 33
           },
           {
            "name": "Amazon Picker/Packer",
            "count": 27
           },
           {
            "name": "2094 others",
            "count": 2940
           }
          ]
         }
        },
        {
         "name": "company_name",
         "dtype": "object",
         "stats": {
          "unique_count": 747,
          "nan_count": 0,
          "categories": [
           {
            "name": "Amazon Fulfillment",
            "count": 794
           },
           {
            "name": "GPAC",
            "count": 85
           },
           {
            "name": "745 others",
            "count": 2121
           }
          ]
         }
        },
        {
         "name": "post_date",
         "dtype": "object",
         "stats": {
          "unique_count": 81,
          "nan_count": 0,
          "categories": [
           {
            "name": "2020-04-28",
            "count": 123
           },
           {
            "name": "2020-06-23",
            "count": 123
           },
           {
            "name": "79 others",
            "count": 2754
           }
          ]
         }
        },
        {
         "name": "job_type",
         "dtype": "object",
         "stats": {
          "unique_count": 9,
          "nan_count": 16,
          "categories": [
           {
            "name": "Full-Time",
            "count": 2316
           },
           {
            "name": "8 others",
            "count": 668
           },
           {
            "name": "Missing",
            "count": 16
           }
          ]
         }
        },
        {
         "name": "inferred_salary_time_unit",
         "dtype": "object",
         "stats": {
          "unique_count": 13,
          "nan_count": 0,
          "categories": [
           {
            "name": "/",
            "count": 2607
           },
           {
            "name": "/hour",
            "count": 220
           },
           {
            "name": "11 others",
            "count": 173
           }
          ]
         }
        },
        {
         "name": "salary_offered",
         "dtype": "float64",
         "stats": {
          "unique_count": 2967,
          "nan_count": 0,
          "min": "25029.0",
          "max": "149999.0",
          "histogram": [
           {
            "bin_start": 25029,
            "bin_end": 37526,
            "count": 280
           },
           {
            "bin_start": 37526,
            "bin_end": 50023,
            "count": 276
           },
           {
            "bin_start": 50023,
            "bin_end": 62520,
            "count": 299
           },
           {
            "bin_start": 62520,
            "bin_end": 75017,
            "count": 318
           },
           {
            "bin_start": 75017,
            "bin_end": 87514,
            "count": 322
           },
           {
            "bin_start": 87514,
            "bin_end": 100011,
            "count": 315
           },
           {
            "bin_start": 100011,
            "bin_end": 112508,
            "count": 282
           },
           {
            "bin_start": 112508,
            "bin_end": 125005,
            "count": 288
           },
           {
            "bin_start": 125005,
            "bin_end": 137502,
            "count": 313
           },
           {
            "bin_start": 137502,
            "bin_end": 149999,
            "count": 307
           }
          ]
         }
        },
        {
         "name": "valid_through",
         "dtype": "object",
         "stats": {
          "unique_count": 83,
          "nan_count": 0,
          "categories": [
           {
            "name": "2020-05-27",
            "count": 123
           },
           {
            "name": "2020-07-22",
            "count": 123
           },
           {
            "name": "81 others",
            "count": 2754
           }
          ]
         }
        },
        {
         "name": "postdate_yyyymmdd",
         "dtype": "datetime64[ns]",
         "stats": {
          "unique_count": 81,
          "nan_count": 0,
          "min": "2020-03-30 00:00:00",
          "max": "2020-06-29 00:00:00",
          "histogram": [
           {
            "bin_start": 1585526400000000000,
            "bin_end": 1586312640000000000,
            "count": 60
           },
           {
            "bin_start": 1586312640000000000,
            "bin_end": 1587098880000000000,
            "count": 104
           },
           {
            "bin_start": 1587098880000000000,
            "bin_end": 1587885120000000000,
            "count": 45
           },
           {
            "bin_start": 1587885120000000000,
            "bin_end": 1588671360000000000,
            "count": 368
           },
           {
            "bin_start": 1588671360000000000,
            "bin_end": 1589457600000000000,
            "count": 438
           },
           {
            "bin_start": 1589457600000000000,
            "bin_end": 1590243840000000000,
            "count": 559
           },
           {
            "bin_start": 1590243840000000000,
            "bin_end": 1591030080000000000,
            "count": 313
           },
           {
            "bin_start": 1591030080000000000,
            "bin_end": 1591816320000000000,
            "count": 345
           },
           {
            "bin_start": 1591816320000000000,
            "bin_end": 1592602560000000000,
            "count": 383
           },
           {
            "bin_start": 1592602560000000000,
            "bin_end": 1593388800000000000,
            "count": 385
           }
          ]
         }
        },
        {
         "name": "last_expiry_check_date",
         "dtype": "object",
         "stats": {
          "unique_count": 76,
          "nan_count": 0,
          "categories": [
           {
            "name": "2020.04.29",
            "count": 124
           },
           {
            "name": "2020.06.24",
            "count": 122
           },
           {
            "name": "74 others",
            "count": 2754
           }
          ]
         }
        },
        {
         "name": "latest_expiry_check_date",
         "dtype": "object",
         "stats": {
          "unique_count": 76,
          "nan_count": 0,
          "categories": [
           {
            "name": "2020-04-29",
            "count": 124
           },
           {
            "name": "2020-06-24",
            "count": 122
           },
           {
            "name": "74 others",
            "count": 2754
           }
          ]
         }
        },
        {
         "name": "postdate_in_indexname_format",
         "dtype": "object",
         "stats": {
          "unique_count": 10,
          "nan_count": 0,
          "categories": [
           {
            "name": "2020.05.11",
            "count": 666
           },
           {
            "name": "2020.06.11",
            "count": 420
           },
           {
            "name": "8 others",
            "count": 1914
           }
          ]
         }
        },
        {
         "name": "inferred_city",
         "dtype": "object",
         "stats": {
          "unique_count": 1400,
          "nan_count": 205,
          "categories": [
           {
            "name": "Boston",
            "count": 26
           },
           {
            "name": "1399 others",
            "count": 2769
           },
           {
            "name": "Missing",
            "count": 205
           }
          ]
         }
        },
        {
         "name": "inferred_state",
         "dtype": "object",
         "stats": {
          "unique_count": 51,
          "nan_count": 0,
          "categories": [
           {
            "name": "California",
            "count": 275
           },
           {
            "name": "Massachusetts",
            "count": 172
           },
           {
            "name": "49 others",
            "count": 2553
           }
          ]
         }
        },
        {
         "name": "inferred_salary_from",
         "dtype": "object",
         "stats": {
          "unique_count": 122,
          "nan_count": 2614,
          "categories": [
           {
            "name": "9.50",
            "count": 33
           },
           {
            "name": "121 others",
            "count": 353
           },
           {
            "name": "Missing",
            "count": 2614
           }
          ]
         }
        },
        {
         "name": "inferred_salary_to",
         "dtype": "object",
         "stats": {
          "unique_count": 140,
          "nan_count": 2614,
          "categories": [
           {
            "name": "16.00",
            "count": 43
           },
           {
            "name": "139 others",
            "count": 343
           },
           {
            "name": "Missing",
            "count": 2614
           }
          ]
         }
        },
        {
         "name": "post_date_unix_time",
         "dtype": "int64",
         "stats": {
          "unique_count": 81,
          "nan_count": 0,
          "min": "1585526400",
          "max": "1593388800",
          "histogram": [
           {
            "bin_start": 1585526400,
            "bin_end": 1586312640,
            "count": 60
           },
           {
            "bin_start": 1586312640,
            "bin_end": 1587098880,
            "count": 104
           },
           {
            "bin_start": 1587098880,
            "bin_end": 1587885120,
            "count": 45
           },
           {
            "bin_start": 1587885120,
            "bin_end": 1588671360,
            "count": 368
           },
           {
            "bin_start": 1588671360,
            "bin_end": 1589457600,
            "count": 438
           },
           {
            "bin_start": 1589457600,
            "bin_end": 1590243840,
            "count": 559
           },
           {
            "bin_start": 1590243840,
            "bin_end": 1591030080,
            "count": 313
           },
           {
            "bin_start": 1591030080,
            "bin_end": 1591816320,
            "count": 345
           },
           {
            "bin_start": 1591816320,
            "bin_end": 1592602560,
            "count": 383
           },
           {
            "bin_start": 1592602560,
            "bin_end": 1593388800,
            "count": 385
           }
          ]
         }
        },
        {
         "name": "postal_code",
         "dtype": "object",
         "stats": {
          "unique_count": 2960,
          "nan_count": 0,
          "categories": [
           {
            "name": "33665",
            "count": 2
           },
           {
            "name": "94507",
            "count": 2
           },
           {
            "name": "2958 others",
            "count": 2996
           }
          ]
         }
        },
        {
         "name": "_deepnote_index_column",
         "dtype": "int64"
        }
       ],
       "rows": [
        {
         "uniq_id": "9a457ef257fecf231693a6ba08f50293",
         "crawl_timestamp": "2020-06-26T01:54:03.000000",
         "job_title": "Asphalt/Concrete Senior Project Manager",
         "company_name": "GPAC",
         "post_date": "2020-06-25",
         "job_type": "Full-Time",
         "inferred_salary_time_unit": "/",
         "salary_offered": 99642,
         "valid_through": "2020-07-24",
         "postdate_yyyymmdd": "2020-06-25T00:00:00.000000",
         "last_expiry_check_date": "2020.06.26",
         "latest_expiry_check_date": "2020-06-26",
         "postdate_in_indexname_format": "2020.06.22",
         "inferred_city": "Houston",
         "inferred_state": "Texas",
         "inferred_salary_from": "nan",
         "inferred_salary_to": "nan",
         "post_date_unix_time": 1593043200,
         "postal_code": "43961",
         "_deepnote_index_column": 0
        },
        {
         "uniq_id": "ba471e2faf6f79caf22cddebbedbc0e8",
         "crawl_timestamp": "2020-05-17T01:21:05.000000",
         "job_title": "Amazon Warehouse Team - Full Time",
         "company_name": "Amazon Fulfillment",
         "post_date": "2020-05-16",
         "job_type": "Full-Time",
         "inferred_salary_time_unit": "/",
         "salary_offered": 58626,
         "valid_through": "2020-06-15",
         "postdate_yyyymmdd": "2020-05-16T00:00:00.000000",
         "last_expiry_check_date": "2020.05.17",
         "latest_expiry_check_date": "2020-05-17",
         "postdate_in_indexname_format": "2020.05.11",
         "inferred_city": "Cincinnati",
         "inferred_state": "Ohio",
         "inferred_salary_from": "nan",
         "inferred_salary_to": "nan",
         "post_date_unix_time": 1589587200,
         "postal_code": "50467",
         "_deepnote_index_column": 1
        },
        {
         "uniq_id": "6f00bd02d63c633b5af453366f25c21e",
         "crawl_timestamp": "2020-06-27T04:53:42.000000",
         "job_title": "Amazon Warehouse Associate - Morning Shifts Available",
         "company_name": "Amazon Fulfillment",
         "post_date": "2020-06-26",
         "job_type": "Full-Time",
         "inferred_salary_time_unit": "/",
         "salary_offered": 67450,
         "valid_through": "2020-07-25",
         "postdate_yyyymmdd": "2020-06-26T00:00:00.000000",
         "last_expiry_check_date": "2020.06.27",
         "latest_expiry_check_date": "2020-06-27",
         "postdate_in_indexname_format": "2020.06.22",
         "inferred_city": "Peabody",
         "inferred_state": "Massachusetts",
         "inferred_salary_from": "nan",
         "inferred_salary_to": "nan",
         "post_date_unix_time": 1593129600,
         "postal_code": "42620",
         "_deepnote_index_column": 2
        },
        {
         "uniq_id": "8ad0d00bfa23cfd7b7c364b8ae72085f",
         "crawl_timestamp": "2020-06-03T01:21:32.000000",
         "job_title": "Assembly Electrical",
         "company_name": "Manpower",
         "post_date": "2020-06-02",
         "job_type": "Full-Time",
         "inferred_salary_time_unit": "/hour",
         "salary_offered": 47467,
         "valid_through": "2020-07-01",
         "postdate_yyyymmdd": "2020-06-02T00:00:00.000000",
         "last_expiry_check_date": "2020.06.03",
         "latest_expiry_check_date": "2020-06-03",
         "postdate_in_indexname_format": "2020.06.01",
         "inferred_city": "Villard",
         "inferred_state": "Minnesota",
         "inferred_salary_from": "14.00",
         "inferred_salary_to": "14.00",
         "post_date_unix_time": 1591056000,
         "postal_code": "97275",
         "_deepnote_index_column": 3
        },
        {
         "uniq_id": "31753dc342a1b2a07db712454c0d5f87",
         "crawl_timestamp": "2020-05-23T01:19:07.000000",
         "job_title": "Graphics Designer",
         "company_name": "The North West Company - U.S.",
         "post_date": "2020-05-22",
         "job_type": "Full-Time",
         "inferred_salary_time_unit": "/",
         "salary_offered": 136684,
         "valid_through": "2020-06-21",
         "postdate_yyyymmdd": "2020-05-22T00:00:00.000000",
         "last_expiry_check_date": "2020.05.23",
         "latest_expiry_check_date": "2020-05-23",
         "postdate_in_indexname_format": "2020.05.22",
         "inferred_city": "Anchorage",
         "inferred_state": "Alaska",
         "inferred_salary_from": "nan",
         "inferred_salary_to": "nan",
         "post_date_unix_time": 1590105600,
         "postal_code": "37765",
         "_deepnote_index_column": 4
        },
        {
         "uniq_id": "d8bbd27764ff850f5cd05dfa3289ff66",
         "crawl_timestamp": "2020-05-25T10:04:56.000000",
         "job_title": "Customer Service Representative, Full or Part Time",
         "company_name": "Circle K",
         "post_date": "2020-05-24",
         "job_type": "Full-Time",
         "inferred_salary_time_unit": "/",
         "salary_offered": 142796,
         "valid_through": "2020-06-23",
         "postdate_yyyymmdd": "2020-05-24T00:00:00.000000",
         "last_expiry_check_date": "2020.05.25",
         "latest_expiry_check_date": "2020-05-25",
         "postdate_in_indexname_format": "2020.05.22",
         "inferred_city": "Urbana",
         "inferred_state": "Illinois",
         "inferred_salary_from": "nan",
         "inferred_salary_to": "nan",
         "post_date_unix_time": 1590278400,
         "postal_code": "16152",
         "_deepnote_index_column": 5
        },
        {
         "uniq_id": "b716cdee3b40360f88be08b4cc75d598",
         "crawl_timestamp": "2020-05-23T01:13:40.000000",
         "job_title": "Receptionist",
         "company_name": "Genesis Healthcare Corporation",
         "post_date": "2020-05-22",
         "job_type": "Per Diem",
         "inferred_salary_time_unit": "/",
         "salary_offered": 129869,
         "valid_through": "2020-06-21",
         "postdate_yyyymmdd": "2020-05-22T00:00:00.000000",
         "last_expiry_check_date": "2020.05.23",
         "latest_expiry_check_date": "2020-05-23",
         "postdate_in_indexname_format": "2020.05.22",
         "inferred_city": "nan",
         "inferred_state": "New jersey",
         "inferred_salary_from": "nan",
         "inferred_salary_to": "nan",
         "post_date_unix_time": 1590105600,
         "postal_code": "06009",
         "_deepnote_index_column": 6
        },
        {
         "uniq_id": "94e46cabddc4e30277870061fc6a06ea",
         "crawl_timestamp": "2020-06-25T01:48:48.000000",
         "job_title": "U-Haul Moving Center General Manager",
         "company_name": "Talentify",
         "post_date": "2020-06-24",
         "job_type": "Full-Time",
         "inferred_salary_time_unit": "/",
         "salary_offered": 129477,
         "valid_through": "2020-07-23",
         "postdate_yyyymmdd": "2020-06-24T00:00:00.000000",
         "last_expiry_check_date": "2020.06.25",
         "latest_expiry_check_date": "2020-06-25",
         "postdate_in_indexname_format": "2020.06.22",
         "inferred_city": "Gretna",
         "inferred_state": "Louisiana",
         "inferred_salary_from": "nan",
         "inferred_salary_to": "nan",
         "post_date_unix_time": 1592956800,
         "postal_code": "42948",
         "_deepnote_index_column": 7
        },
        {
         "uniq_id": "e7da38a3d35f799fd532590c5137e65c",
         "crawl_timestamp": "2020-05-18T01:07:37.000000",
         "job_title": "Staff Accountant",
         "company_name": "Volt",
         "post_date": "2020-05-17",
         "job_type": "Full-Time",
         "inferred_salary_time_unit": "/",
         "salary_offered": 132072,
         "valid_through": "2020-06-16",
         "postdate_yyyymmdd": "2020-05-17T00:00:00.000000",
         "last_expiry_check_date": "2020.05.18",
         "latest_expiry_check_date": "2020-05-18",
         "postdate_in_indexname_format": "2020.05.11",
         "inferred_city": "Stockton",
         "inferred_state": "California",
         "inferred_salary_from": "nan",
         "inferred_salary_to": "nan",
         "post_date_unix_time": 1589673600,
         "postal_code": "44841",
         "_deepnote_index_column": 8
        },
        {
         "uniq_id": "6248457c6236cce48b3277bddfc8b8a6",
         "crawl_timestamp": "2020-05-29T01:16:51.000000",
         "job_title": "Package Handler (Non-DOT)/Part Time/PM Shift/Sunday 6:00PM-11:30PM/Monday through Friday 6:30PM-11:…",
         "company_name": "FedEx",
         "post_date": "2020-05-28",
         "job_type": "Part-Time",
         "inferred_salary_time_unit": "/",
         "salary_offered": 124602,
         "valid_through": "2020-06-27",
         "postdate_yyyymmdd": "2020-05-28T00:00:00.000000",
         "last_expiry_check_date": "2020.05.29",
         "latest_expiry_check_date": "2020-05-29",
         "postdate_in_indexname_format": "2020.05.22",
         "inferred_city": "Tampa",
         "inferred_state": "Florida",
         "inferred_salary_from": "nan",
         "inferred_salary_to": "nan",
         "post_date_unix_time": 1590624000,
         "postal_code": "42032",
         "_deepnote_index_column": 9
        }
       ]
      },
      "text/plain": "                               uniq_id           crawl_timestamp  \\\n0     9a457ef257fecf231693a6ba08f50293 2020-06-26 01:54:03+00:00   \n1     ba471e2faf6f79caf22cddebbedbc0e8 2020-05-17 01:21:05+00:00   \n2     6f00bd02d63c633b5af453366f25c21e 2020-06-27 04:53:42+00:00   \n3     8ad0d00bfa23cfd7b7c364b8ae72085f 2020-06-03 01:21:32+00:00   \n4     31753dc342a1b2a07db712454c0d5f87 2020-05-23 01:19:07+00:00   \n...                                ...                       ...   \n2995  a56efdccbe87fea387e2edd3b1ec9faa 2020-05-19 01:21:18+00:00   \n2996  5605b833679597515f7205180b50ea9f 2020-06-12 01:45:25+00:00   \n2997  c74525996c267187b2be11c3c01f3a34 2020-04-30 01:47:25+00:00   \n2998  ee4a13cfc9ce0cb2d66b54b30d5732e6 2020-06-12 00:57:31+00:00   \n2999  6093631d5e9c136e0b3808e0eaeffb31 2020-05-07 02:51:11+00:00   \n\n                                              job_title  \\\n0               Asphalt/Concrete Senior Project Manager   \n1                     Amazon Warehouse Team - Full Time   \n2     Amazon Warehouse Associate - Morning Shifts Av...   \n3                                   Assembly Electrical   \n4                                     Graphics Designer   \n...                                                 ...   \n2995                                       Store Hourly   \n2996           SAP FICA IS-U Architect (Posted 6-11-20)   \n2997                              Data Entry Specialist   \n2998  Warehouse Associate (Seasonal/ Part-Time/ Full...   \n2999       Amazon Warehouse Team Member -Earn up to $15   \n\n                       company_name   post_date       job_type  \\\n0                              GPAC  2020-06-25      Full-Time   \n1                Amazon Fulfillment  2020-05-16      Full-Time   \n2                Amazon Fulfillment  2020-06-26      Full-Time   \n3                          Manpower  2020-06-02      Full-Time   \n4     The North West Company - U.S.  2020-05-22      Full-Time   \n...                             ...         ...            ...   \n2995             Advance Auto Parts  2020-05-18      Full-Time   \n2996               Donnelly & Moore  2020-06-11     Contractor   \n2997                    Robert Half  2020-04-29  Seasonal/Temp   \n2998             Amazon Fulfillment  2020-06-11      Part-Time   \n2999             Amazon Fulfillment  2020-05-06      Full-Time   \n\n     inferred_salary_time_unit  salary_offered valid_through  \\\n0                            /         99642.0    2020-07-24   \n1                            /         58626.0    2020-06-15   \n2                            /         67450.0    2020-07-25   \n3                        /hour         47467.0    2020-07-01   \n4                            /        136684.0    2020-06-21   \n...                        ...             ...           ...   \n2995                         /         63152.0    2020-06-17   \n2996                        /0        108575.0    2020-07-10   \n2997                     /hour         88469.0    2020-05-28   \n2998                         /        102933.0    2020-07-10   \n2999                         /         82329.0    2020-06-05   \n\n     postdate_yyyymmdd last_expiry_check_date latest_expiry_check_date  \\\n0           2020-06-25             2020.06.26               2020-06-26   \n1           2020-05-16             2020.05.17               2020-05-17   \n2           2020-06-26             2020.06.27               2020-06-27   \n3           2020-06-02             2020.06.03               2020-06-03   \n4           2020-05-22             2020.05.23               2020-05-23   \n...                ...                    ...                      ...   \n2995        2020-05-18             2020.05.19               2020-05-19   \n2996        2020-06-11             2020.06.12               2020-06-12   \n2997        2020-04-29             2020.04.30               2020-04-30   \n2998        2020-06-11             2020.06.12               2020-06-12   \n2999        2020-05-06             2020.05.07               2020-05-07   \n\n     postdate_in_indexname_format inferred_city  inferred_state  \\\n0                      2020.06.22       Houston           Texas   \n1                      2020.05.11    Cincinnati            Ohio   \n2                      2020.06.22       Peabody   Massachusetts   \n3                      2020.06.01       Villard       Minnesota   \n4                      2020.05.22     Anchorage          Alaska   \n...                           ...           ...             ...   \n2995                   2020.05.11   Wake forest  North carolina   \n2996                   2020.06.11  White plains        New york   \n2997                   2020.04.22      Martinez      California   \n2998                   2020.06.11        Rahway      New jersey   \n2999                   2020.05.01        Queens        New york   \n\n     inferred_salary_from inferred_salary_to  post_date_unix_time postal_code  \n0                     NaN                NaN           1593043200       43961  \n1                     NaN                NaN           1589587200       50467  \n2                     NaN                NaN           1593129600       42620  \n3                   14.00              14.00           1591056000       97275  \n4                     NaN                NaN           1590105600       37765  \n...                   ...                ...                  ...         ...  \n2995                  NaN                NaN           1589760000       27460  \n2996                    0                  0           1591833600       74603  \n2997                16.00              18.00           1588118400       08709  \n2998                  NaN                NaN           1591833600       41693  \n2999                  NaN                NaN           1588723200       96169  \n\n[3000 rows x 19 columns]",
      "text/html": "<div>\n<style scoped>\n    .dataframe tbody tr th:only-of-type {\n        vertical-align: middle;\n    }\n\n    .dataframe tbody tr th {\n        vertical-align: top;\n    }\n\n    .dataframe thead th {\n        text-align: right;\n    }\n</style>\n<table border=\"1\" class=\"dataframe\">\n  <thead>\n    <tr style=\"text-align: right;\">\n      <th></th>\n      <th>uniq_id</th>\n      <th>crawl_timestamp</th>\n      <th>job_title</th>\n      <th>company_name</th>\n      <th>post_date</th>\n      <th>job_type</th>\n      <th>inferred_salary_time_unit</th>\n      <th>salary_offered</th>\n      <th>valid_through</th>\n      <th>postdate_yyyymmdd</th>\n      <th>last_expiry_check_date</th>\n      <th>latest_expiry_check_date</th>\n      <th>postdate_in_indexname_format</th>\n      <th>inferred_city</th>\n      <th>inferred_state</th>\n      <th>inferred_salary_from</th>\n      <th>inferred_salary_to</th>\n      <th>post_date_unix_time</th>\n      <th>postal_code</th>\n    </tr>\n  </thead>\n  <tbody>\n    <tr>\n      <th>0</th>\n      <td>9a457ef257fecf231693a6ba08f50293</td>\n      <td>2020-06-26 01:54:03+00:00</td>\n      <td>Asphalt/Concrete Senior Project Manager</td>\n      <td>GPAC</td>\n      <td>2020-06-25</td>\n      <td>Full-Time</td>\n      <td>/</td>\n      <td>99642.0</td>\n      <td>2020-07-24</td>\n      <td>2020-06-25</td>\n      <td>2020.06.26</td>\n      <td>2020-06-26</td>\n      <td>2020.06.22</td>\n      <td>Houston</td>\n      <td>Texas</td>\n      <td>NaN</td>\n      <td>NaN</td>\n      <td>1593043200</td>\n      <td>43961</td>\n    </tr>\n    <tr>\n      <th>1</th>\n      <td>ba471e2faf6f79caf22cddebbedbc0e8</td>\n      <td>2020-05-17 01:21:05+00:00</td>\n      <td>Amazon Warehouse Team - Full Time</td>\n      <td>Amazon Fulfillment</td>\n      <td>2020-05-16</td>\n      <td>Full-Time</td>\n      <td>/</td>\n      <td>58626.0</td>\n      <td>2020-06-15</td>\n      <td>2020-05-16</td>\n      <td>2020.05.17</td>\n      <td>2020-05-17</td>\n      <td>2020.05.11</td>\n      <td>Cincinnati</td>\n      <td>Ohio</td>\n      <td>NaN</td>\n      <td>NaN</td>\n      <td>1589587200</td>\n      <td>50467</td>\n    </tr>\n    <tr>\n      <th>2</th>\n      <td>6f00bd02d63c633b5af453366f25c21e</td>\n      <td>2020-06-27 04:53:42+00:00</td>\n      <td>Amazon Warehouse Associate - Morning Shifts Av...</td>\n      <td>Amazon Fulfillment</td>\n      <td>2020-06-26</td>\n      <td>Full-Time</td>\n      <td>/</td>\n      <td>67450.0</td>\n      <td>2020-07-25</td>\n      <td>2020-06-26</td>\n      <td>2020.06.27</td>\n      <td>2020-06-27</td>\n      <td>2020.06.22</td>\n      <td>Peabody</td>\n      <td>Massachusetts</td>\n      <td>NaN</td>\n      <td>NaN</td>\n      <td>1593129600</td>\n      <td>42620</td>\n    </tr>\n    <tr>\n      <th>3</th>\n      <td>8ad0d00bfa23cfd7b7c364b8ae72085f</td>\n      <td>2020-06-03 01:21:32+00:00</td>\n      <td>Assembly Electrical</td>\n      <td>Manpower</td>\n      <td>2020-06-02</td>\n      <td>Full-Time</td>\n      <td>/hour</td>\n      <td>47467.0</td>\n      <td>2020-07-01</td>\n      <td>2020-06-02</td>\n      <td>2020.06.03</td>\n      <td>2020-06-03</td>\n      <td>2020.06.01</td>\n      <td>Villard</td>\n      <td>Minnesota</td>\n      <td>14.00</td>\n      <td>14.00</td>\n      <td>1591056000</td>\n      <td>97275</td>\n    </tr>\n    <tr>\n      <th>4</th>\n      <td>31753dc342a1b2a07db712454c0d5f87</td>\n      <td>2020-05-23 01:19:07+00:00</td>\n      <td>Graphics Designer</td>\n      <td>The North West Company - U.S.</td>\n      <td>2020-05-22</td>\n      <td>Full-Time</td>\n      <td>/</td>\n      <td>136684.0</td>\n      <td>2020-06-21</td>\n      <td>2020-05-22</td>\n      <td>2020.05.23</td>\n      <td>2020-05-23</td>\n      <td>2020.05.22</td>\n      <td>Anchorage</td>\n      <td>Alaska</td>\n      <td>NaN</td>\n      <td>NaN</td>\n      <td>1590105600</td>\n      <td>37765</td>\n    </tr>\n    <tr>\n      <th>...</th>\n      <td>...</td>\n      <td>...</td>\n      <td>...</td>\n      <td>...</td>\n      <td>...</td>\n      <td>...</td>\n      <td>...</td>\n      <td>...</td>\n      <td>...</td>\n      <td>...</td>\n      <td>...</td>\n      <td>...</td>\n      <td>...</td>\n      <td>...</td>\n      <td>...</td>\n      <td>...</td>\n      <td>...</td>\n      <td>...</td>\n      <td>...</td>\n    </tr>\n    <tr>\n      <th>2995</th>\n      <td>a56efdccbe87fea387e2edd3b1ec9faa</td>\n      <td>2020-05-19 01:21:18+00:00</td>\n      <td>Store Hourly</td>\n      <td>Advance Auto Parts</td>\n      <td>2020-05-18</td>\n      <td>Full-Time</td>\n      <td>/</td>\n      <td>63152.0</td>\n      <td>2020-06-17</td>\n      <td>2020-05-18</td>\n      <td>2020.05.19</td>\n      <td>2020-05-19</td>\n      <td>2020.05.11</td>\n      <td>Wake forest</td>\n      <td>North carolina</td>\n      <td>NaN</td>\n      <td>NaN</td>\n      <td>1589760000</td>\n      <td>27460</td>\n    </tr>\n    <tr>\n      <th>2996</th>\n      <td>5605b833679597515f7205180b50ea9f</td>\n      <td>2020-06-12 01:45:25+00:00</td>\n      <td>SAP FICA IS-U Architect (Posted 6-11-20)</td>\n      <td>Donnelly &amp; Moore</td>\n      <td>2020-06-11</td>\n      <td>Contractor</td>\n      <td>/0</td>\n      <td>108575.0</td>\n      <td>2020-07-10</td>\n      <td>2020-06-11</td>\n      <td>2020.06.12</td>\n      <td>2020-06-12</td>\n      <td>2020.06.11</td>\n      <td>White plains</td>\n      <td>New york</td>\n      <td>0</td>\n      <td>0</td>\n      <td>1591833600</td>\n      <td>74603</td>\n    </tr>\n    <tr>\n      <th>2997</th>\n      <td>c74525996c267187b2be11c3c01f3a34</td>\n      <td>2020-04-30 01:47:25+00:00</td>\n      <td>Data Entry Specialist</td>\n      <td>Robert Half</td>\n      <td>2020-04-29</td>\n      <td>Seasonal/Temp</td>\n      <td>/hour</td>\n      <td>88469.0</td>\n      <td>2020-05-28</td>\n      <td>2020-04-29</td>\n      <td>2020.04.30</td>\n      <td>2020-04-30</td>\n      <td>2020.04.22</td>\n      <td>Martinez</td>\n      <td>California</td>\n      <td>16.00</td>\n      <td>18.00</td>\n      <td>1588118400</td>\n      <td>08709</td>\n    </tr>\n    <tr>\n      <th>2998</th>\n      <td>ee4a13cfc9ce0cb2d66b54b30d5732e6</td>\n      <td>2020-06-12 00:57:31+00:00</td>\n      <td>Warehouse Associate (Seasonal/ Part-Time/ Full...</td>\n      <td>Amazon Fulfillment</td>\n      <td>2020-06-11</td>\n      <td>Part-Time</td>\n      <td>/</td>\n      <td>102933.0</td>\n      <td>2020-07-10</td>\n      <td>2020-06-11</td>\n      <td>2020.06.12</td>\n      <td>2020-06-12</td>\n      <td>2020.06.11</td>\n      <td>Rahway</td>\n      <td>New jersey</td>\n      <td>NaN</td>\n      <td>NaN</td>\n      <td>1591833600</td>\n      <td>41693</td>\n    </tr>\n    <tr>\n      <th>2999</th>\n      <td>6093631d5e9c136e0b3808e0eaeffb31</td>\n      <td>2020-05-07 02:51:11+00:00</td>\n      <td>Amazon Warehouse Team Member -Earn up to $15</td>\n      <td>Amazon Fulfillment</td>\n      <td>2020-05-06</td>\n      <td>Full-Time</td>\n      <td>/</td>\n      <td>82329.0</td>\n      <td>2020-06-05</td>\n      <td>2020-05-06</td>\n      <td>2020.05.07</td>\n      <td>2020-05-07</td>\n      <td>2020.05.01</td>\n      <td>Queens</td>\n      <td>New york</td>\n      <td>NaN</td>\n      <td>NaN</td>\n      <td>1588723200</td>\n      <td>96169</td>\n    </tr>\n  </tbody>\n</table>\n<p>3000 rows × 19 columns</p>\n</div>"
     },
     "metadata": {}
    }
   ]
  },
  {
   "cell_type": "code",
   "metadata": {
    "tags": [],
    "cell_id": "00015-32e48f36-5e01-46d0-a899-d9c9f4fbbd21",
    "deepnote_to_be_reexecuted": false,
    "source_hash": "9c575479",
    "execution_start": 1640017303763,
    "execution_millis": 72,
    "deepnote_output_heights": [
     386
    ],
    "deepnote_cell_type": "code"
   },
   "source": "missing_values = [np.nan, \"\", \" \", None]\n\ncareer_data_dtype_change.isin(missing_values).mean().sort_values(ascending=False) * 100",
   "execution_count": null,
   "outputs": [
    {
     "output_type": "execute_result",
     "execution_count": 16,
     "data": {
      "text/plain": "inferred_salary_to              87.133333\ninferred_salary_from            87.133333\ninferred_city                    6.833333\njob_type                         0.533333\nuniq_id                          0.000000\nlast_expiry_check_date           0.000000\npost_date_unix_time              0.000000\ninferred_state                   0.000000\npostdate_in_indexname_format     0.000000\nlatest_expiry_check_date         0.000000\npostdate_yyyymmdd                0.000000\ncrawl_timestamp                  0.000000\nvalid_through                    0.000000\nsalary_offered                   0.000000\ninferred_salary_time_unit        0.000000\npost_date                        0.000000\ncompany_name                     0.000000\njob_title                        0.000000\npostal_code                      0.000000\ndtype: float64"
     },
     "metadata": {}
    }
   ]
  },
  {
   "cell_type": "code",
   "metadata": {
    "tags": [],
    "cell_id": "00016-09be6db1-e11b-4425-b446-7a9278833b3d",
    "deepnote_to_be_reexecuted": false,
    "source_hash": "7b2c7252",
    "execution_start": 1640017413431,
    "execution_millis": 770,
    "deepnote_cell_type": "code"
   },
   "source": "columns_to_drop = career_data_dtype_change.isin(missing_values).mean()[(career_data_dtype_change.isin(missing_values).mean()) > 0.86].index\n\ncareer_data_missing_values = career_data_dtype_change.copy()\ncareer_data_missing_values = career_data_missing_values.drop(columns=columns_to_drop)\ncareer_data_missing_values",
   "execution_count": null,
   "outputs": [
    {
     "output_type": "execute_result",
     "execution_count": 17,
     "data": {
      "application/vnd.deepnote.dataframe.v3+json": {
       "column_count": 17,
       "row_count": 3000,
       "columns": [
        {
         "name": "uniq_id",
         "dtype": "object",
         "stats": {
          "unique_count": 3000,
          "nan_count": 0,
          "categories": [
           {
            "name": "9a457ef257fecf231693a6ba08f50293",
            "count": 1
           },
           {
            "name": "ba471e2faf6f79caf22cddebbedbc0e8",
            "count": 1
           },
           {
            "name": "2998 others",
            "count": 2998
           }
          ]
         }
        },
        {
         "name": "crawl_timestamp",
         "dtype": "datetime64[ns, UTC]",
         "stats": {
          "unique_count": 2968,
          "nan_count": 0,
          "min": "2020-04-01 03:08:09+00:00",
          "max": "2020-06-30 02:58:59+00:00",
          "histogram": [
           {
            "bin_start": 1585710489000000000,
            "bin_end": 1586488034000000000,
            "count": 64
           },
           {
            "bin_start": 1586488034000000000,
            "bin_end": 1587265579000000000,
            "count": 99
           },
           {
            "bin_start": 1587265579000000000,
            "bin_end": 1588043124000000000,
            "count": 73
           },
           {
            "bin_start": 1588043124000000000,
            "bin_end": 1588820669000000000,
            "count": 405
           },
           {
            "bin_start": 1588820669000000000,
            "bin_end": 1589598214000000000,
            "count": 465
           },
           {
            "bin_start": 1589598214000000000,
            "bin_end": 1590375759000000000,
            "count": 453
           },
           {
            "bin_start": 1590375759000000000,
            "bin_end": 1591153304000000000,
            "count": 368
           },
           {
            "bin_start": 1591153304000000000,
            "bin_end": 1591930849000000000,
            "count": 362
           },
           {
            "bin_start": 1591930849000000000,
            "bin_end": 1592708394000000000,
            "count": 338
           },
           {
            "bin_start": 1592708394000000000,
            "bin_end": 1593485939000000000,
            "count": 373
           }
          ]
         }
        },
        {
         "name": "job_title",
         "dtype": "object",
         "stats": {
          "unique_count": 2096,
          "nan_count": 0,
          "categories": [
           {
            "name": "Retail Merchandiser",
            "count": 33
           },
           {
            "name": "Amazon Picker/Packer",
            "count": 27
           },
           {
            "name": "2094 others",
            "count": 2940
           }
          ]
         }
        },
        {
         "name": "company_name",
         "dtype": "object",
         "stats": {
          "unique_count": 747,
          "nan_count": 0,
          "categories": [
           {
            "name": "Amazon Fulfillment",
            "count": 794
           },
           {
            "name": "GPAC",
            "count": 85
           },
           {
            "name": "745 others",
            "count": 2121
           }
          ]
         }
        },
        {
         "name": "post_date",
         "dtype": "object",
         "stats": {
          "unique_count": 81,
          "nan_count": 0,
          "categories": [
           {
            "name": "2020-04-28",
            "count": 123
           },
           {
            "name": "2020-06-23",
            "count": 123
           },
           {
            "name": "79 others",
            "count": 2754
           }
          ]
         }
        },
        {
         "name": "job_type",
         "dtype": "object",
         "stats": {
          "unique_count": 9,
          "nan_count": 16,
          "categories": [
           {
            "name": "Full-Time",
            "count": 2316
           },
           {
            "name": "8 others",
            "count": 668
           },
           {
            "name": "Missing",
            "count": 16
           }
          ]
         }
        },
        {
         "name": "inferred_salary_time_unit",
         "dtype": "object",
         "stats": {
          "unique_count": 13,
          "nan_count": 0,
          "categories": [
           {
            "name": "/",
            "count": 2607
           },
           {
            "name": "/hour",
            "count": 220
           },
           {
            "name": "11 others",
            "count": 173
           }
          ]
         }
        },
        {
         "name": "salary_offered",
         "dtype": "float64",
         "stats": {
          "unique_count": 2967,
          "nan_count": 0,
          "min": "25029.0",
          "max": "149999.0",
          "histogram": [
           {
            "bin_start": 25029,
            "bin_end": 37526,
            "count": 280
           },
           {
            "bin_start": 37526,
            "bin_end": 50023,
            "count": 276
           },
           {
            "bin_start": 50023,
            "bin_end": 62520,
            "count": 299
           },
           {
            "bin_start": 62520,
            "bin_end": 75017,
            "count": 318
           },
           {
            "bin_start": 75017,
            "bin_end": 87514,
            "count": 322
           },
           {
            "bin_start": 87514,
            "bin_end": 100011,
            "count": 315
           },
           {
            "bin_start": 100011,
            "bin_end": 112508,
            "count": 282
           },
           {
            "bin_start": 112508,
            "bin_end": 125005,
            "count": 288
           },
           {
            "bin_start": 125005,
            "bin_end": 137502,
            "count": 313
           },
           {
            "bin_start": 137502,
            "bin_end": 149999,
            "count": 307
           }
          ]
         }
        },
        {
         "name": "valid_through",
         "dtype": "object",
         "stats": {
          "unique_count": 83,
          "nan_count": 0,
          "categories": [
           {
            "name": "2020-05-27",
            "count": 123
           },
           {
            "name": "2020-07-22",
            "count": 123
           },
           {
            "name": "81 others",
            "count": 2754
           }
          ]
         }
        },
        {
         "name": "postdate_yyyymmdd",
         "dtype": "datetime64[ns]",
         "stats": {
          "unique_count": 81,
          "nan_count": 0,
          "min": "2020-03-30 00:00:00",
          "max": "2020-06-29 00:00:00",
          "histogram": [
           {
            "bin_start": 1585526400000000000,
            "bin_end": 1586312640000000000,
            "count": 60
           },
           {
            "bin_start": 1586312640000000000,
            "bin_end": 1587098880000000000,
            "count": 104
           },
           {
            "bin_start": 1587098880000000000,
            "bin_end": 1587885120000000000,
            "count": 45
           },
           {
            "bin_start": 1587885120000000000,
            "bin_end": 1588671360000000000,
            "count": 368
           },
           {
            "bin_start": 1588671360000000000,
            "bin_end": 1589457600000000000,
            "count": 438
           },
           {
            "bin_start": 1589457600000000000,
            "bin_end": 1590243840000000000,
            "count": 559
           },
           {
            "bin_start": 1590243840000000000,
            "bin_end": 1591030080000000000,
            "count": 313
           },
           {
            "bin_start": 1591030080000000000,
            "bin_end": 1591816320000000000,
            "count": 345
           },
           {
            "bin_start": 1591816320000000000,
            "bin_end": 1592602560000000000,
            "count": 383
           },
           {
            "bin_start": 1592602560000000000,
            "bin_end": 1593388800000000000,
            "count": 385
           }
          ]
         }
        },
        {
         "name": "last_expiry_check_date",
         "dtype": "object",
         "stats": {
          "unique_count": 76,
          "nan_count": 0,
          "categories": [
           {
            "name": "2020.04.29",
            "count": 124
           },
           {
            "name": "2020.06.24",
            "count": 122
           },
           {
            "name": "74 others",
            "count": 2754
           }
          ]
         }
        },
        {
         "name": "latest_expiry_check_date",
         "dtype": "object",
         "stats": {
          "unique_count": 76,
          "nan_count": 0,
          "categories": [
           {
            "name": "2020-04-29",
            "count": 124
           },
           {
            "name": "2020-06-24",
            "count": 122
           },
           {
            "name": "74 others",
            "count": 2754
           }
          ]
         }
        },
        {
         "name": "postdate_in_indexname_format",
         "dtype": "object",
         "stats": {
          "unique_count": 10,
          "nan_count": 0,
          "categories": [
           {
            "name": "2020.05.11",
            "count": 666
           },
           {
            "name": "2020.06.11",
            "count": 420
           },
           {
            "name": "8 others",
            "count": 1914
           }
          ]
         }
        },
        {
         "name": "inferred_city",
         "dtype": "object",
         "stats": {
          "unique_count": 1400,
          "nan_count": 205,
          "categories": [
           {
            "name": "Boston",
            "count": 26
           },
           {
            "name": "1399 others",
            "count": 2769
           },
           {
            "name": "Missing",
            "count": 205
           }
          ]
         }
        },
        {
         "name": "inferred_state",
         "dtype": "object",
         "stats": {
          "unique_count": 51,
          "nan_count": 0,
          "categories": [
           {
            "name": "California",
            "count": 275
           },
           {
            "name": "Massachusetts",
            "count": 172
           },
           {
            "name": "49 others",
            "count": 2553
           }
          ]
         }
        },
        {
         "name": "post_date_unix_time",
         "dtype": "int64",
         "stats": {
          "unique_count": 81,
          "nan_count": 0,
          "min": "1585526400",
          "max": "1593388800",
          "histogram": [
           {
            "bin_start": 1585526400,
            "bin_end": 1586312640,
            "count": 60
           },
           {
            "bin_start": 1586312640,
            "bin_end": 1587098880,
            "count": 104
           },
           {
            "bin_start": 1587098880,
            "bin_end": 1587885120,
            "count": 45
           },
           {
            "bin_start": 1587885120,
            "bin_end": 1588671360,
            "count": 368
           },
           {
            "bin_start": 1588671360,
            "bin_end": 1589457600,
            "count": 438
           },
           {
            "bin_start": 1589457600,
            "bin_end": 1590243840,
            "count": 559
           },
           {
            "bin_start": 1590243840,
            "bin_end": 1591030080,
            "count": 313
           },
           {
            "bin_start": 1591030080,
            "bin_end": 1591816320,
            "count": 345
           },
           {
            "bin_start": 1591816320,
            "bin_end": 1592602560,
            "count": 383
           },
           {
            "bin_start": 1592602560,
            "bin_end": 1593388800,
            "count": 385
           }
          ]
         }
        },
        {
         "name": "postal_code",
         "dtype": "object",
         "stats": {
          "unique_count": 2960,
          "nan_count": 0,
          "categories": [
           {
            "name": "33665",
            "count": 2
           },
           {
            "name": "94507",
            "count": 2
           },
           {
            "name": "2958 others",
            "count": 2996
           }
          ]
         }
        },
        {
         "name": "_deepnote_index_column",
         "dtype": "int64"
        }
       ],
       "rows": [
        {
         "uniq_id": "9a457ef257fecf231693a6ba08f50293",
         "crawl_timestamp": "2020-06-26T01:54:03.000000",
         "job_title": "Asphalt/Concrete Senior Project Manager",
         "company_name": "GPAC",
         "post_date": "2020-06-25",
         "job_type": "Full-Time",
         "inferred_salary_time_unit": "/",
         "salary_offered": 99642,
         "valid_through": "2020-07-24",
         "postdate_yyyymmdd": "2020-06-25T00:00:00.000000",
         "last_expiry_check_date": "2020.06.26",
         "latest_expiry_check_date": "2020-06-26",
         "postdate_in_indexname_format": "2020.06.22",
         "inferred_city": "Houston",
         "inferred_state": "Texas",
         "post_date_unix_time": 1593043200,
         "postal_code": "43961",
         "_deepnote_index_column": 0
        },
        {
         "uniq_id": "ba471e2faf6f79caf22cddebbedbc0e8",
         "crawl_timestamp": "2020-05-17T01:21:05.000000",
         "job_title": "Amazon Warehouse Team - Full Time",
         "company_name": "Amazon Fulfillment",
         "post_date": "2020-05-16",
         "job_type": "Full-Time",
         "inferred_salary_time_unit": "/",
         "salary_offered": 58626,
         "valid_through": "2020-06-15",
         "postdate_yyyymmdd": "2020-05-16T00:00:00.000000",
         "last_expiry_check_date": "2020.05.17",
         "latest_expiry_check_date": "2020-05-17",
         "postdate_in_indexname_format": "2020.05.11",
         "inferred_city": "Cincinnati",
         "inferred_state": "Ohio",
         "post_date_unix_time": 1589587200,
         "postal_code": "50467",
         "_deepnote_index_column": 1
        },
        {
         "uniq_id": "6f00bd02d63c633b5af453366f25c21e",
         "crawl_timestamp": "2020-06-27T04:53:42.000000",
         "job_title": "Amazon Warehouse Associate - Morning Shifts Available",
         "company_name": "Amazon Fulfillment",
         "post_date": "2020-06-26",
         "job_type": "Full-Time",
         "inferred_salary_time_unit": "/",
         "salary_offered": 67450,
         "valid_through": "2020-07-25",
         "postdate_yyyymmdd": "2020-06-26T00:00:00.000000",
         "last_expiry_check_date": "2020.06.27",
         "latest_expiry_check_date": "2020-06-27",
         "postdate_in_indexname_format": "2020.06.22",
         "inferred_city": "Peabody",
         "inferred_state": "Massachusetts",
         "post_date_unix_time": 1593129600,
         "postal_code": "42620",
         "_deepnote_index_column": 2
        },
        {
         "uniq_id": "8ad0d00bfa23cfd7b7c364b8ae72085f",
         "crawl_timestamp": "2020-06-03T01:21:32.000000",
         "job_title": "Assembly Electrical",
         "company_name": "Manpower",
         "post_date": "2020-06-02",
         "job_type": "Full-Time",
         "inferred_salary_time_unit": "/hour",
         "salary_offered": 47467,
         "valid_through": "2020-07-01",
         "postdate_yyyymmdd": "2020-06-02T00:00:00.000000",
         "last_expiry_check_date": "2020.06.03",
         "latest_expiry_check_date": "2020-06-03",
         "postdate_in_indexname_format": "2020.06.01",
         "inferred_city": "Villard",
         "inferred_state": "Minnesota",
         "post_date_unix_time": 1591056000,
         "postal_code": "97275",
         "_deepnote_index_column": 3
        },
        {
         "uniq_id": "31753dc342a1b2a07db712454c0d5f87",
         "crawl_timestamp": "2020-05-23T01:19:07.000000",
         "job_title": "Graphics Designer",
         "company_name": "The North West Company - U.S.",
         "post_date": "2020-05-22",
         "job_type": "Full-Time",
         "inferred_salary_time_unit": "/",
         "salary_offered": 136684,
         "valid_through": "2020-06-21",
         "postdate_yyyymmdd": "2020-05-22T00:00:00.000000",
         "last_expiry_check_date": "2020.05.23",
         "latest_expiry_check_date": "2020-05-23",
         "postdate_in_indexname_format": "2020.05.22",
         "inferred_city": "Anchorage",
         "inferred_state": "Alaska",
         "post_date_unix_time": 1590105600,
         "postal_code": "37765",
         "_deepnote_index_column": 4
        },
        {
         "uniq_id": "d8bbd27764ff850f5cd05dfa3289ff66",
         "crawl_timestamp": "2020-05-25T10:04:56.000000",
         "job_title": "Customer Service Representative, Full or Part Time",
         "company_name": "Circle K",
         "post_date": "2020-05-24",
         "job_type": "Full-Time",
         "inferred_salary_time_unit": "/",
         "salary_offered": 142796,
         "valid_through": "2020-06-23",
         "postdate_yyyymmdd": "2020-05-24T00:00:00.000000",
         "last_expiry_check_date": "2020.05.25",
         "latest_expiry_check_date": "2020-05-25",
         "postdate_in_indexname_format": "2020.05.22",
         "inferred_city": "Urbana",
         "inferred_state": "Illinois",
         "post_date_unix_time": 1590278400,
         "postal_code": "16152",
         "_deepnote_index_column": 5
        },
        {
         "uniq_id": "b716cdee3b40360f88be08b4cc75d598",
         "crawl_timestamp": "2020-05-23T01:13:40.000000",
         "job_title": "Receptionist",
         "company_name": "Genesis Healthcare Corporation",
         "post_date": "2020-05-22",
         "job_type": "Per Diem",
         "inferred_salary_time_unit": "/",
         "salary_offered": 129869,
         "valid_through": "2020-06-21",
         "postdate_yyyymmdd": "2020-05-22T00:00:00.000000",
         "last_expiry_check_date": "2020.05.23",
         "latest_expiry_check_date": "2020-05-23",
         "postdate_in_indexname_format": "2020.05.22",
         "inferred_city": "nan",
         "inferred_state": "New jersey",
         "post_date_unix_time": 1590105600,
         "postal_code": "06009",
         "_deepnote_index_column": 6
        },
        {
         "uniq_id": "94e46cabddc4e30277870061fc6a06ea",
         "crawl_timestamp": "2020-06-25T01:48:48.000000",
         "job_title": "U-Haul Moving Center General Manager",
         "company_name": "Talentify",
         "post_date": "2020-06-24",
         "job_type": "Full-Time",
         "inferred_salary_time_unit": "/",
         "salary_offered": 129477,
         "valid_through": "2020-07-23",
         "postdate_yyyymmdd": "2020-06-24T00:00:00.000000",
         "last_expiry_check_date": "2020.06.25",
         "latest_expiry_check_date": "2020-06-25",
         "postdate_in_indexname_format": "2020.06.22",
         "inferred_city": "Gretna",
         "inferred_state": "Louisiana",
         "post_date_unix_time": 1592956800,
         "postal_code": "42948",
         "_deepnote_index_column": 7
        },
        {
         "uniq_id": "e7da38a3d35f799fd532590c5137e65c",
         "crawl_timestamp": "2020-05-18T01:07:37.000000",
         "job_title": "Staff Accountant",
         "company_name": "Volt",
         "post_date": "2020-05-17",
         "job_type": "Full-Time",
         "inferred_salary_time_unit": "/",
         "salary_offered": 132072,
         "valid_through": "2020-06-16",
         "postdate_yyyymmdd": "2020-05-17T00:00:00.000000",
         "last_expiry_check_date": "2020.05.18",
         "latest_expiry_check_date": "2020-05-18",
         "postdate_in_indexname_format": "2020.05.11",
         "inferred_city": "Stockton",
         "inferred_state": "California",
         "post_date_unix_time": 1589673600,
         "postal_code": "44841",
         "_deepnote_index_column": 8
        },
        {
         "uniq_id": "6248457c6236cce48b3277bddfc8b8a6",
         "crawl_timestamp": "2020-05-29T01:16:51.000000",
         "job_title": "Package Handler (Non-DOT)/Part Time/PM Shift/Sunday 6:00PM-11:30PM/Monday through Friday 6:30PM-11:…",
         "company_name": "FedEx",
         "post_date": "2020-05-28",
         "job_type": "Part-Time",
         "inferred_salary_time_unit": "/",
         "salary_offered": 124602,
         "valid_through": "2020-06-27",
         "postdate_yyyymmdd": "2020-05-28T00:00:00.000000",
         "last_expiry_check_date": "2020.05.29",
         "latest_expiry_check_date": "2020-05-29",
         "postdate_in_indexname_format": "2020.05.22",
         "inferred_city": "Tampa",
         "inferred_state": "Florida",
         "post_date_unix_time": 1590624000,
         "postal_code": "42032",
         "_deepnote_index_column": 9
        }
       ]
      },
      "text/plain": "                               uniq_id           crawl_timestamp  \\\n0     9a457ef257fecf231693a6ba08f50293 2020-06-26 01:54:03+00:00   \n1     ba471e2faf6f79caf22cddebbedbc0e8 2020-05-17 01:21:05+00:00   \n2     6f00bd02d63c633b5af453366f25c21e 2020-06-27 04:53:42+00:00   \n3     8ad0d00bfa23cfd7b7c364b8ae72085f 2020-06-03 01:21:32+00:00   \n4     31753dc342a1b2a07db712454c0d5f87 2020-05-23 01:19:07+00:00   \n...                                ...                       ...   \n2995  a56efdccbe87fea387e2edd3b1ec9faa 2020-05-19 01:21:18+00:00   \n2996  5605b833679597515f7205180b50ea9f 2020-06-12 01:45:25+00:00   \n2997  c74525996c267187b2be11c3c01f3a34 2020-04-30 01:47:25+00:00   \n2998  ee4a13cfc9ce0cb2d66b54b30d5732e6 2020-06-12 00:57:31+00:00   \n2999  6093631d5e9c136e0b3808e0eaeffb31 2020-05-07 02:51:11+00:00   \n\n                                              job_title  \\\n0               Asphalt/Concrete Senior Project Manager   \n1                     Amazon Warehouse Team - Full Time   \n2     Amazon Warehouse Associate - Morning Shifts Av...   \n3                                   Assembly Electrical   \n4                                     Graphics Designer   \n...                                                 ...   \n2995                                       Store Hourly   \n2996           SAP FICA IS-U Architect (Posted 6-11-20)   \n2997                              Data Entry Specialist   \n2998  Warehouse Associate (Seasonal/ Part-Time/ Full...   \n2999       Amazon Warehouse Team Member -Earn up to $15   \n\n                       company_name   post_date       job_type  \\\n0                              GPAC  2020-06-25      Full-Time   \n1                Amazon Fulfillment  2020-05-16      Full-Time   \n2                Amazon Fulfillment  2020-06-26      Full-Time   \n3                          Manpower  2020-06-02      Full-Time   \n4     The North West Company - U.S.  2020-05-22      Full-Time   \n...                             ...         ...            ...   \n2995             Advance Auto Parts  2020-05-18      Full-Time   \n2996               Donnelly & Moore  2020-06-11     Contractor   \n2997                    Robert Half  2020-04-29  Seasonal/Temp   \n2998             Amazon Fulfillment  2020-06-11      Part-Time   \n2999             Amazon Fulfillment  2020-05-06      Full-Time   \n\n     inferred_salary_time_unit  salary_offered valid_through  \\\n0                            /         99642.0    2020-07-24   \n1                            /         58626.0    2020-06-15   \n2                            /         67450.0    2020-07-25   \n3                        /hour         47467.0    2020-07-01   \n4                            /        136684.0    2020-06-21   \n...                        ...             ...           ...   \n2995                         /         63152.0    2020-06-17   \n2996                        /0        108575.0    2020-07-10   \n2997                     /hour         88469.0    2020-05-28   \n2998                         /        102933.0    2020-07-10   \n2999                         /         82329.0    2020-06-05   \n\n     postdate_yyyymmdd last_expiry_check_date latest_expiry_check_date  \\\n0           2020-06-25             2020.06.26               2020-06-26   \n1           2020-05-16             2020.05.17               2020-05-17   \n2           2020-06-26             2020.06.27               2020-06-27   \n3           2020-06-02             2020.06.03               2020-06-03   \n4           2020-05-22             2020.05.23               2020-05-23   \n...                ...                    ...                      ...   \n2995        2020-05-18             2020.05.19               2020-05-19   \n2996        2020-06-11             2020.06.12               2020-06-12   \n2997        2020-04-29             2020.04.30               2020-04-30   \n2998        2020-06-11             2020.06.12               2020-06-12   \n2999        2020-05-06             2020.05.07               2020-05-07   \n\n     postdate_in_indexname_format inferred_city  inferred_state  \\\n0                      2020.06.22       Houston           Texas   \n1                      2020.05.11    Cincinnati            Ohio   \n2                      2020.06.22       Peabody   Massachusetts   \n3                      2020.06.01       Villard       Minnesota   \n4                      2020.05.22     Anchorage          Alaska   \n...                           ...           ...             ...   \n2995                   2020.05.11   Wake forest  North carolina   \n2996                   2020.06.11  White plains        New york   \n2997                   2020.04.22      Martinez      California   \n2998                   2020.06.11        Rahway      New jersey   \n2999                   2020.05.01        Queens        New york   \n\n      post_date_unix_time postal_code  \n0              1593043200       43961  \n1              1589587200       50467  \n2              1593129600       42620  \n3              1591056000       97275  \n4              1590105600       37765  \n...                   ...         ...  \n2995           1589760000       27460  \n2996           1591833600       74603  \n2997           1588118400       08709  \n2998           1591833600       41693  \n2999           1588723200       96169  \n\n[3000 rows x 17 columns]",
      "text/html": "<div>\n<style scoped>\n    .dataframe tbody tr th:only-of-type {\n        vertical-align: middle;\n    }\n\n    .dataframe tbody tr th {\n        vertical-align: top;\n    }\n\n    .dataframe thead th {\n        text-align: right;\n    }\n</style>\n<table border=\"1\" class=\"dataframe\">\n  <thead>\n    <tr style=\"text-align: right;\">\n      <th></th>\n      <th>uniq_id</th>\n      <th>crawl_timestamp</th>\n      <th>job_title</th>\n      <th>company_name</th>\n      <th>post_date</th>\n      <th>job_type</th>\n      <th>inferred_salary_time_unit</th>\n      <th>salary_offered</th>\n      <th>valid_through</th>\n      <th>postdate_yyyymmdd</th>\n      <th>last_expiry_check_date</th>\n      <th>latest_expiry_check_date</th>\n      <th>postdate_in_indexname_format</th>\n      <th>inferred_city</th>\n      <th>inferred_state</th>\n      <th>post_date_unix_time</th>\n      <th>postal_code</th>\n    </tr>\n  </thead>\n  <tbody>\n    <tr>\n      <th>0</th>\n      <td>9a457ef257fecf231693a6ba08f50293</td>\n      <td>2020-06-26 01:54:03+00:00</td>\n      <td>Asphalt/Concrete Senior Project Manager</td>\n      <td>GPAC</td>\n      <td>2020-06-25</td>\n      <td>Full-Time</td>\n      <td>/</td>\n      <td>99642.0</td>\n      <td>2020-07-24</td>\n      <td>2020-06-25</td>\n      <td>2020.06.26</td>\n      <td>2020-06-26</td>\n      <td>2020.06.22</td>\n      <td>Houston</td>\n      <td>Texas</td>\n      <td>1593043200</td>\n      <td>43961</td>\n    </tr>\n    <tr>\n      <th>1</th>\n      <td>ba471e2faf6f79caf22cddebbedbc0e8</td>\n      <td>2020-05-17 01:21:05+00:00</td>\n      <td>Amazon Warehouse Team - Full Time</td>\n      <td>Amazon Fulfillment</td>\n      <td>2020-05-16</td>\n      <td>Full-Time</td>\n      <td>/</td>\n      <td>58626.0</td>\n      <td>2020-06-15</td>\n      <td>2020-05-16</td>\n      <td>2020.05.17</td>\n      <td>2020-05-17</td>\n      <td>2020.05.11</td>\n      <td>Cincinnati</td>\n      <td>Ohio</td>\n      <td>1589587200</td>\n      <td>50467</td>\n    </tr>\n    <tr>\n      <th>2</th>\n      <td>6f00bd02d63c633b5af453366f25c21e</td>\n      <td>2020-06-27 04:53:42+00:00</td>\n      <td>Amazon Warehouse Associate - Morning Shifts Av...</td>\n      <td>Amazon Fulfillment</td>\n      <td>2020-06-26</td>\n      <td>Full-Time</td>\n      <td>/</td>\n      <td>67450.0</td>\n      <td>2020-07-25</td>\n      <td>2020-06-26</td>\n      <td>2020.06.27</td>\n      <td>2020-06-27</td>\n      <td>2020.06.22</td>\n      <td>Peabody</td>\n      <td>Massachusetts</td>\n      <td>1593129600</td>\n      <td>42620</td>\n    </tr>\n    <tr>\n      <th>3</th>\n      <td>8ad0d00bfa23cfd7b7c364b8ae72085f</td>\n      <td>2020-06-03 01:21:32+00:00</td>\n      <td>Assembly Electrical</td>\n      <td>Manpower</td>\n      <td>2020-06-02</td>\n      <td>Full-Time</td>\n      <td>/hour</td>\n      <td>47467.0</td>\n      <td>2020-07-01</td>\n      <td>2020-06-02</td>\n      <td>2020.06.03</td>\n      <td>2020-06-03</td>\n      <td>2020.06.01</td>\n      <td>Villard</td>\n      <td>Minnesota</td>\n      <td>1591056000</td>\n      <td>97275</td>\n    </tr>\n    <tr>\n      <th>4</th>\n      <td>31753dc342a1b2a07db712454c0d5f87</td>\n      <td>2020-05-23 01:19:07+00:00</td>\n      <td>Graphics Designer</td>\n      <td>The North West Company - U.S.</td>\n      <td>2020-05-22</td>\n      <td>Full-Time</td>\n      <td>/</td>\n      <td>136684.0</td>\n      <td>2020-06-21</td>\n      <td>2020-05-22</td>\n      <td>2020.05.23</td>\n      <td>2020-05-23</td>\n      <td>2020.05.22</td>\n      <td>Anchorage</td>\n      <td>Alaska</td>\n      <td>1590105600</td>\n      <td>37765</td>\n    </tr>\n    <tr>\n      <th>...</th>\n      <td>...</td>\n      <td>...</td>\n      <td>...</td>\n      <td>...</td>\n      <td>...</td>\n      <td>...</td>\n      <td>...</td>\n      <td>...</td>\n      <td>...</td>\n      <td>...</td>\n      <td>...</td>\n      <td>...</td>\n      <td>...</td>\n      <td>...</td>\n      <td>...</td>\n      <td>...</td>\n      <td>...</td>\n    </tr>\n    <tr>\n      <th>2995</th>\n      <td>a56efdccbe87fea387e2edd3b1ec9faa</td>\n      <td>2020-05-19 01:21:18+00:00</td>\n      <td>Store Hourly</td>\n      <td>Advance Auto Parts</td>\n      <td>2020-05-18</td>\n      <td>Full-Time</td>\n      <td>/</td>\n      <td>63152.0</td>\n      <td>2020-06-17</td>\n      <td>2020-05-18</td>\n      <td>2020.05.19</td>\n      <td>2020-05-19</td>\n      <td>2020.05.11</td>\n      <td>Wake forest</td>\n      <td>North carolina</td>\n      <td>1589760000</td>\n      <td>27460</td>\n    </tr>\n    <tr>\n      <th>2996</th>\n      <td>5605b833679597515f7205180b50ea9f</td>\n      <td>2020-06-12 01:45:25+00:00</td>\n      <td>SAP FICA IS-U Architect (Posted 6-11-20)</td>\n      <td>Donnelly &amp; Moore</td>\n      <td>2020-06-11</td>\n      <td>Contractor</td>\n      <td>/0</td>\n      <td>108575.0</td>\n      <td>2020-07-10</td>\n      <td>2020-06-11</td>\n      <td>2020.06.12</td>\n      <td>2020-06-12</td>\n      <td>2020.06.11</td>\n      <td>White plains</td>\n      <td>New york</td>\n      <td>1591833600</td>\n      <td>74603</td>\n    </tr>\n    <tr>\n      <th>2997</th>\n      <td>c74525996c267187b2be11c3c01f3a34</td>\n      <td>2020-04-30 01:47:25+00:00</td>\n      <td>Data Entry Specialist</td>\n      <td>Robert Half</td>\n      <td>2020-04-29</td>\n      <td>Seasonal/Temp</td>\n      <td>/hour</td>\n      <td>88469.0</td>\n      <td>2020-05-28</td>\n      <td>2020-04-29</td>\n      <td>2020.04.30</td>\n      <td>2020-04-30</td>\n      <td>2020.04.22</td>\n      <td>Martinez</td>\n      <td>California</td>\n      <td>1588118400</td>\n      <td>08709</td>\n    </tr>\n    <tr>\n      <th>2998</th>\n      <td>ee4a13cfc9ce0cb2d66b54b30d5732e6</td>\n      <td>2020-06-12 00:57:31+00:00</td>\n      <td>Warehouse Associate (Seasonal/ Part-Time/ Full...</td>\n      <td>Amazon Fulfillment</td>\n      <td>2020-06-11</td>\n      <td>Part-Time</td>\n      <td>/</td>\n      <td>102933.0</td>\n      <td>2020-07-10</td>\n      <td>2020-06-11</td>\n      <td>2020.06.12</td>\n      <td>2020-06-12</td>\n      <td>2020.06.11</td>\n      <td>Rahway</td>\n      <td>New jersey</td>\n      <td>1591833600</td>\n      <td>41693</td>\n    </tr>\n    <tr>\n      <th>2999</th>\n      <td>6093631d5e9c136e0b3808e0eaeffb31</td>\n      <td>2020-05-07 02:51:11+00:00</td>\n      <td>Amazon Warehouse Team Member -Earn up to $15</td>\n      <td>Amazon Fulfillment</td>\n      <td>2020-05-06</td>\n      <td>Full-Time</td>\n      <td>/</td>\n      <td>82329.0</td>\n      <td>2020-06-05</td>\n      <td>2020-05-06</td>\n      <td>2020.05.07</td>\n      <td>2020-05-07</td>\n      <td>2020.05.01</td>\n      <td>Queens</td>\n      <td>New york</td>\n      <td>1588723200</td>\n      <td>96169</td>\n    </tr>\n  </tbody>\n</table>\n<p>3000 rows × 17 columns</p>\n</div>"
     },
     "metadata": {}
    }
   ]
  },
  {
   "cell_type": "code",
   "metadata": {
    "tags": [],
    "cell_id": "00017-226a2c95-0d96-4ef0-a796-2a64a1d38e84",
    "deepnote_to_be_reexecuted": false,
    "source_hash": "58c918e6",
    "execution_start": 1640017451077,
    "execution_millis": 22,
    "deepnote_output_heights": [
     21.1875
    ],
    "deepnote_cell_type": "code"
   },
   "source": "len(career_data_missing_values.columns)",
   "execution_count": null,
   "outputs": [
    {
     "output_type": "execute_result",
     "execution_count": 18,
     "data": {
      "text/plain": "17"
     },
     "metadata": {}
    }
   ]
  },
  {
   "cell_type": "code",
   "metadata": {
    "tags": [],
    "cell_id": "00018-0cb32fc6-2e6c-46b6-b8a0-3973d783c687",
    "deepnote_to_be_reexecuted": false,
    "source_hash": "b47d43cb",
    "execution_start": 1640017583055,
    "execution_millis": 64,
    "deepnote_output_heights": [
     347.59375
    ],
    "deepnote_cell_type": "code"
   },
   "source": "missing_values = [np.nan, \"\", \" \", None]\n\ncareer_data_missing_values.isin(missing_values).mean().sort_values(ascending=False) * 100",
   "execution_count": null,
   "outputs": [
    {
     "output_type": "execute_result",
     "execution_count": 19,
     "data": {
      "text/plain": "inferred_city                   6.833333\njob_type                        0.533333\nuniq_id                         0.000000\npostdate_yyyymmdd               0.000000\npost_date_unix_time             0.000000\ninferred_state                  0.000000\npostdate_in_indexname_format    0.000000\nlatest_expiry_check_date        0.000000\nlast_expiry_check_date          0.000000\nvalid_through                   0.000000\ncrawl_timestamp                 0.000000\nsalary_offered                  0.000000\ninferred_salary_time_unit       0.000000\npost_date                       0.000000\ncompany_name                    0.000000\njob_title                       0.000000\npostal_code                     0.000000\ndtype: float64"
     },
     "metadata": {}
    }
   ]
  },
  {
   "cell_type": "code",
   "metadata": {
    "tags": [],
    "cell_id": "00023-10081757-1604-4a3f-b6f1-ff1110166106",
    "deepnote_to_be_reexecuted": false,
    "source_hash": "f4b33a9",
    "execution_start": 1640019221938,
    "execution_millis": 119,
    "deepnote_output_heights": [
     611
    ],
    "deepnote_cell_type": "code"
   },
   "source": "inferred_city_mapping = career_data_missing_values.groupby(['inferred_state'])[\"inferred_city\"].agg(lambda x:x.value_counts().index[0]).to_dict()\ninferred_city_mapping",
   "execution_count": null,
   "outputs": [
    {
     "output_type": "execute_result",
     "execution_count": 33,
     "data": {
      "text/plain": "{'Alabama': 'Montgomery',\n 'Alaska': 'Anchorage',\n 'Arizona': 'Phoenix',\n 'Arkansas': 'Fort smith',\n 'California': 'Los angeles',\n 'Colorado': 'Denver',\n 'Connecticut': 'Hartford',\n 'Delaware': 'Wilmington',\n 'District of columbia': 'Washington',\n 'Florida': 'Orlando',\n 'Georgia': 'Atlanta',\n 'Hawaii': 'Pearl city',\n 'Idaho': 'Boise',\n 'Illinois': 'Chicago',\n 'Indiana': 'Indianapolis',\n 'Iowa': 'Des moines',\n 'Kansas': 'Wichita',\n 'Kentucky': 'Louisville',\n 'Louisiana': 'Baton rouge',\n 'Maine': 'Scarborough',\n 'Maryland': 'Baltimore',\n 'Massachusetts': 'Boston',\n 'Michigan': 'Grand rapids',\n 'Minnesota': 'Minneapolis',\n 'Mississippi': 'Jackson',\n 'Missouri': 'Saint louis',\n 'Montana': 'Billings',\n 'Nebraska': 'Omaha',\n 'Nevada': 'Las vegas',\n 'New hampshire': 'Manchester',\n 'New jersey': 'Franklin',\n 'New mexico': 'Albuquerque',\n 'New york': 'New york',\n 'North carolina': 'Charlotte',\n 'North dakota': 'Fargo',\n 'Ohio': 'Cincinnati',\n 'Oklahoma': 'Tulsa',\n 'Oregon': 'Portland',\n 'Pennsylvania': 'Philadelphia',\n 'Rhode island': 'Providence',\n 'South carolina': 'Columbia',\n 'South dakota': 'Sioux falls',\n 'Tennessee': 'Nashville',\n 'Texas': 'San antonio',\n 'Utah': 'Salt lake city',\n 'Vermont': 'Brattleboro',\n 'Virginia': 'Chesapeake',\n 'Washington': 'Seattle',\n 'West virginia': 'Martinsburg',\n 'Wisconsin': 'Madison',\n 'Wyoming': 'Cheyenne'}"
     },
     "metadata": {}
    }
   ]
  },
  {
   "cell_type": "code",
   "metadata": {
    "tags": [],
    "cell_id": "00020-25db1497-c40d-4d9a-a13d-95dc75b9830e",
    "deepnote_to_be_reexecuted": false,
    "source_hash": "f0c2b609",
    "execution_start": 1640019264249,
    "execution_millis": 488,
    "deepnote_cell_type": "code"
   },
   "source": "career_data_missing_values[\"inferred_city\"] = career_data_missing_values[\"inferred_city\"].fillna(career_data_missing_values[\"inferred_state\"].map(inferred_city_mapping))\ncareer_data_missing_values",
   "execution_count": null,
   "outputs": [
    {
     "output_type": "execute_result",
     "execution_count": 34,
     "data": {
      "application/vnd.deepnote.dataframe.v3+json": {
       "column_count": 17,
       "row_count": 3000,
       "columns": [
        {
         "name": "uniq_id",
         "dtype": "object",
         "stats": {
          "unique_count": 3000,
          "nan_count": 0,
          "categories": [
           {
            "name": "9a457ef257fecf231693a6ba08f50293",
            "count": 1
           },
           {
            "name": "ba471e2faf6f79caf22cddebbedbc0e8",
            "count": 1
           },
           {
            "name": "2998 others",
            "count": 2998
           }
          ]
         }
        },
        {
         "name": "crawl_timestamp",
         "dtype": "datetime64[ns, UTC]",
         "stats": {
          "unique_count": 2968,
          "nan_count": 0,
          "min": "2020-04-01 03:08:09+00:00",
          "max": "2020-06-30 02:58:59+00:00",
          "histogram": [
           {
            "bin_start": 1585710489000000000,
            "bin_end": 1586488034000000000,
            "count": 64
           },
           {
            "bin_start": 1586488034000000000,
            "bin_end": 1587265579000000000,
            "count": 99
           },
           {
            "bin_start": 1587265579000000000,
            "bin_end": 1588043124000000000,
            "count": 73
           },
           {
            "bin_start": 1588043124000000000,
            "bin_end": 1588820669000000000,
            "count": 405
           },
           {
            "bin_start": 1588820669000000000,
            "bin_end": 1589598214000000000,
            "count": 465
           },
           {
            "bin_start": 1589598214000000000,
            "bin_end": 1590375759000000000,
            "count": 453
           },
           {
            "bin_start": 1590375759000000000,
            "bin_end": 1591153304000000000,
            "count": 368
           },
           {
            "bin_start": 1591153304000000000,
            "bin_end": 1591930849000000000,
            "count": 362
           },
           {
            "bin_start": 1591930849000000000,
            "bin_end": 1592708394000000000,
            "count": 338
           },
           {
            "bin_start": 1592708394000000000,
            "bin_end": 1593485939000000000,
            "count": 373
           }
          ]
         }
        },
        {
         "name": "job_title",
         "dtype": "object",
         "stats": {
          "unique_count": 2096,
          "nan_count": 0,
          "categories": [
           {
            "name": "Retail Merchandiser",
            "count": 33
           },
           {
            "name": "Amazon Picker/Packer",
            "count": 27
           },
           {
            "name": "2094 others",
            "count": 2940
           }
          ]
         }
        },
        {
         "name": "company_name",
         "dtype": "object",
         "stats": {
          "unique_count": 747,
          "nan_count": 0,
          "categories": [
           {
            "name": "Amazon Fulfillment",
            "count": 794
           },
           {
            "name": "GPAC",
            "count": 85
           },
           {
            "name": "745 others",
            "count": 2121
           }
          ]
         }
        },
        {
         "name": "post_date",
         "dtype": "object",
         "stats": {
          "unique_count": 81,
          "nan_count": 0,
          "categories": [
           {
            "name": "2020-04-28",
            "count": 123
           },
           {
            "name": "2020-06-23",
            "count": 123
           },
           {
            "name": "79 others",
            "count": 2754
           }
          ]
         }
        },
        {
         "name": "job_type",
         "dtype": "object",
         "stats": {
          "unique_count": 9,
          "nan_count": 16,
          "categories": [
           {
            "name": "Full-Time",
            "count": 2316
           },
           {
            "name": "8 others",
            "count": 668
           },
           {
            "name": "Missing",
            "count": 16
           }
          ]
         }
        },
        {
         "name": "inferred_salary_time_unit",
         "dtype": "object",
         "stats": {
          "unique_count": 13,
          "nan_count": 0,
          "categories": [
           {
            "name": "/",
            "count": 2607
           },
           {
            "name": "/hour",
            "count": 220
           },
           {
            "name": "11 others",
            "count": 173
           }
          ]
         }
        },
        {
         "name": "salary_offered",
         "dtype": "float64",
         "stats": {
          "unique_count": 2967,
          "nan_count": 0,
          "min": "25029.0",
          "max": "149999.0",
          "histogram": [
           {
            "bin_start": 25029,
            "bin_end": 37526,
            "count": 280
           },
           {
            "bin_start": 37526,
            "bin_end": 50023,
            "count": 276
           },
           {
            "bin_start": 50023,
            "bin_end": 62520,
            "count": 299
           },
           {
            "bin_start": 62520,
            "bin_end": 75017,
            "count": 318
           },
           {
            "bin_start": 75017,
            "bin_end": 87514,
            "count": 322
           },
           {
            "bin_start": 87514,
            "bin_end": 100011,
            "count": 315
           },
           {
            "bin_start": 100011,
            "bin_end": 112508,
            "count": 282
           },
           {
            "bin_start": 112508,
            "bin_end": 125005,
            "count": 288
           },
           {
            "bin_start": 125005,
            "bin_end": 137502,
            "count": 313
           },
           {
            "bin_start": 137502,
            "bin_end": 149999,
            "count": 307
           }
          ]
         }
        },
        {
         "name": "valid_through",
         "dtype": "object",
         "stats": {
          "unique_count": 83,
          "nan_count": 0,
          "categories": [
           {
            "name": "2020-05-27",
            "count": 123
           },
           {
            "name": "2020-07-22",
            "count": 123
           },
           {
            "name": "81 others",
            "count": 2754
           }
          ]
         }
        },
        {
         "name": "postdate_yyyymmdd",
         "dtype": "datetime64[ns]",
         "stats": {
          "unique_count": 81,
          "nan_count": 0,
          "min": "2020-03-30 00:00:00",
          "max": "2020-06-29 00:00:00",
          "histogram": [
           {
            "bin_start": 1585526400000000000,
            "bin_end": 1586312640000000000,
            "count": 60
           },
           {
            "bin_start": 1586312640000000000,
            "bin_end": 1587098880000000000,
            "count": 104
           },
           {
            "bin_start": 1587098880000000000,
            "bin_end": 1587885120000000000,
            "count": 45
           },
           {
            "bin_start": 1587885120000000000,
            "bin_end": 1588671360000000000,
            "count": 368
           },
           {
            "bin_start": 1588671360000000000,
            "bin_end": 1589457600000000000,
            "count": 438
           },
           {
            "bin_start": 1589457600000000000,
            "bin_end": 1590243840000000000,
            "count": 559
           },
           {
            "bin_start": 1590243840000000000,
            "bin_end": 1591030080000000000,
            "count": 313
           },
           {
            "bin_start": 1591030080000000000,
            "bin_end": 1591816320000000000,
            "count": 345
           },
           {
            "bin_start": 1591816320000000000,
            "bin_end": 1592602560000000000,
            "count": 383
           },
           {
            "bin_start": 1592602560000000000,
            "bin_end": 1593388800000000000,
            "count": 385
           }
          ]
         }
        },
        {
         "name": "last_expiry_check_date",
         "dtype": "object",
         "stats": {
          "unique_count": 76,
          "nan_count": 0,
          "categories": [
           {
            "name": "2020.04.29",
            "count": 124
           },
           {
            "name": "2020.06.24",
            "count": 122
           },
           {
            "name": "74 others",
            "count": 2754
           }
          ]
         }
        },
        {
         "name": "latest_expiry_check_date",
         "dtype": "object",
         "stats": {
          "unique_count": 76,
          "nan_count": 0,
          "categories": [
           {
            "name": "2020-04-29",
            "count": 124
           },
           {
            "name": "2020-06-24",
            "count": 122
           },
           {
            "name": "74 others",
            "count": 2754
           }
          ]
         }
        },
        {
         "name": "postdate_in_indexname_format",
         "dtype": "object",
         "stats": {
          "unique_count": 10,
          "nan_count": 0,
          "categories": [
           {
            "name": "2020.05.11",
            "count": 666
           },
           {
            "name": "2020.06.11",
            "count": 420
           },
           {
            "name": "8 others",
            "count": 1914
           }
          ]
         }
        },
        {
         "name": "inferred_city",
         "dtype": "object",
         "stats": {
          "unique_count": 1400,
          "nan_count": 0,
          "categories": [
           {
            "name": "Boston",
            "count": 72
           },
           {
            "name": "Franklin",
            "count": 42
           },
           {
            "name": "1398 others",
            "count": 2886
           }
          ]
         }
        },
        {
         "name": "inferred_state",
         "dtype": "object",
         "stats": {
          "unique_count": 51,
          "nan_count": 0,
          "categories": [
           {
            "name": "California",
            "count": 275
           },
           {
            "name": "Massachusetts",
            "count": 172
           },
           {
            "name": "49 others",
            "count": 2553
           }
          ]
         }
        },
        {
         "name": "post_date_unix_time",
         "dtype": "int64",
         "stats": {
          "unique_count": 81,
          "nan_count": 0,
          "min": "1585526400",
          "max": "1593388800",
          "histogram": [
           {
            "bin_start": 1585526400,
            "bin_end": 1586312640,
            "count": 60
           },
           {
            "bin_start": 1586312640,
            "bin_end": 1587098880,
            "count": 104
           },
           {
            "bin_start": 1587098880,
            "bin_end": 1587885120,
            "count": 45
           },
           {
            "bin_start": 1587885120,
            "bin_end": 1588671360,
            "count": 368
           },
           {
            "bin_start": 1588671360,
            "bin_end": 1589457600,
            "count": 438
           },
           {
            "bin_start": 1589457600,
            "bin_end": 1590243840,
            "count": 559
           },
           {
            "bin_start": 1590243840,
            "bin_end": 1591030080,
            "count": 313
           },
           {
            "bin_start": 1591030080,
            "bin_end": 1591816320,
            "count": 345
           },
           {
            "bin_start": 1591816320,
            "bin_end": 1592602560,
            "count": 383
           },
           {
            "bin_start": 1592602560,
            "bin_end": 1593388800,
            "count": 385
           }
          ]
         }
        },
        {
         "name": "postal_code",
         "dtype": "object",
         "stats": {
          "unique_count": 2960,
          "nan_count": 0,
          "categories": [
           {
            "name": "33665",
            "count": 2
           },
           {
            "name": "94507",
            "count": 2
           },
           {
            "name": "2958 others",
            "count": 2996
           }
          ]
         }
        },
        {
         "name": "_deepnote_index_column",
         "dtype": "int64"
        }
       ],
       "rows": [
        {
         "uniq_id": "9a457ef257fecf231693a6ba08f50293",
         "crawl_timestamp": "2020-06-26T01:54:03.000000",
         "job_title": "Asphalt/Concrete Senior Project Manager",
         "company_name": "GPAC",
         "post_date": "2020-06-25",
         "job_type": "Full-Time",
         "inferred_salary_time_unit": "/",
         "salary_offered": 99642,
         "valid_through": "2020-07-24",
         "postdate_yyyymmdd": "2020-06-25T00:00:00.000000",
         "last_expiry_check_date": "2020.06.26",
         "latest_expiry_check_date": "2020-06-26",
         "postdate_in_indexname_format": "2020.06.22",
         "inferred_city": "Houston",
         "inferred_state": "Texas",
         "post_date_unix_time": 1593043200,
         "postal_code": "43961",
         "_deepnote_index_column": 0
        },
        {
         "uniq_id": "ba471e2faf6f79caf22cddebbedbc0e8",
         "crawl_timestamp": "2020-05-17T01:21:05.000000",
         "job_title": "Amazon Warehouse Team - Full Time",
         "company_name": "Amazon Fulfillment",
         "post_date": "2020-05-16",
         "job_type": "Full-Time",
         "inferred_salary_time_unit": "/",
         "salary_offered": 58626,
         "valid_through": "2020-06-15",
         "postdate_yyyymmdd": "2020-05-16T00:00:00.000000",
         "last_expiry_check_date": "2020.05.17",
         "latest_expiry_check_date": "2020-05-17",
         "postdate_in_indexname_format": "2020.05.11",
         "inferred_city": "Cincinnati",
         "inferred_state": "Ohio",
         "post_date_unix_time": 1589587200,
         "postal_code": "50467",
         "_deepnote_index_column": 1
        },
        {
         "uniq_id": "6f00bd02d63c633b5af453366f25c21e",
         "crawl_timestamp": "2020-06-27T04:53:42.000000",
         "job_title": "Amazon Warehouse Associate - Morning Shifts Available",
         "company_name": "Amazon Fulfillment",
         "post_date": "2020-06-26",
         "job_type": "Full-Time",
         "inferred_salary_time_unit": "/",
         "salary_offered": 67450,
         "valid_through": "2020-07-25",
         "postdate_yyyymmdd": "2020-06-26T00:00:00.000000",
         "last_expiry_check_date": "2020.06.27",
         "latest_expiry_check_date": "2020-06-27",
         "postdate_in_indexname_format": "2020.06.22",
         "inferred_city": "Peabody",
         "inferred_state": "Massachusetts",
         "post_date_unix_time": 1593129600,
         "postal_code": "42620",
         "_deepnote_index_column": 2
        },
        {
         "uniq_id": "8ad0d00bfa23cfd7b7c364b8ae72085f",
         "crawl_timestamp": "2020-06-03T01:21:32.000000",
         "job_title": "Assembly Electrical",
         "company_name": "Manpower",
         "post_date": "2020-06-02",
         "job_type": "Full-Time",
         "inferred_salary_time_unit": "/hour",
         "salary_offered": 47467,
         "valid_through": "2020-07-01",
         "postdate_yyyymmdd": "2020-06-02T00:00:00.000000",
         "last_expiry_check_date": "2020.06.03",
         "latest_expiry_check_date": "2020-06-03",
         "postdate_in_indexname_format": "2020.06.01",
         "inferred_city": "Villard",
         "inferred_state": "Minnesota",
         "post_date_unix_time": 1591056000,
         "postal_code": "97275",
         "_deepnote_index_column": 3
        },
        {
         "uniq_id": "31753dc342a1b2a07db712454c0d5f87",
         "crawl_timestamp": "2020-05-23T01:19:07.000000",
         "job_title": "Graphics Designer",
         "company_name": "The North West Company - U.S.",
         "post_date": "2020-05-22",
         "job_type": "Full-Time",
         "inferred_salary_time_unit": "/",
         "salary_offered": 136684,
         "valid_through": "2020-06-21",
         "postdate_yyyymmdd": "2020-05-22T00:00:00.000000",
         "last_expiry_check_date": "2020.05.23",
         "latest_expiry_check_date": "2020-05-23",
         "postdate_in_indexname_format": "2020.05.22",
         "inferred_city": "Anchorage",
         "inferred_state": "Alaska",
         "post_date_unix_time": 1590105600,
         "postal_code": "37765",
         "_deepnote_index_column": 4
        },
        {
         "uniq_id": "d8bbd27764ff850f5cd05dfa3289ff66",
         "crawl_timestamp": "2020-05-25T10:04:56.000000",
         "job_title": "Customer Service Representative, Full or Part Time",
         "company_name": "Circle K",
         "post_date": "2020-05-24",
         "job_type": "Full-Time",
         "inferred_salary_time_unit": "/",
         "salary_offered": 142796,
         "valid_through": "2020-06-23",
         "postdate_yyyymmdd": "2020-05-24T00:00:00.000000",
         "last_expiry_check_date": "2020.05.25",
         "latest_expiry_check_date": "2020-05-25",
         "postdate_in_indexname_format": "2020.05.22",
         "inferred_city": "Urbana",
         "inferred_state": "Illinois",
         "post_date_unix_time": 1590278400,
         "postal_code": "16152",
         "_deepnote_index_column": 5
        },
        {
         "uniq_id": "b716cdee3b40360f88be08b4cc75d598",
         "crawl_timestamp": "2020-05-23T01:13:40.000000",
         "job_title": "Receptionist",
         "company_name": "Genesis Healthcare Corporation",
         "post_date": "2020-05-22",
         "job_type": "Per Diem",
         "inferred_salary_time_unit": "/",
         "salary_offered": 129869,
         "valid_through": "2020-06-21",
         "postdate_yyyymmdd": "2020-05-22T00:00:00.000000",
         "last_expiry_check_date": "2020.05.23",
         "latest_expiry_check_date": "2020-05-23",
         "postdate_in_indexname_format": "2020.05.22",
         "inferred_city": "Franklin",
         "inferred_state": "New jersey",
         "post_date_unix_time": 1590105600,
         "postal_code": "06009",
         "_deepnote_index_column": 6
        },
        {
         "uniq_id": "94e46cabddc4e30277870061fc6a06ea",
         "crawl_timestamp": "2020-06-25T01:48:48.000000",
         "job_title": "U-Haul Moving Center General Manager",
         "company_name": "Talentify",
         "post_date": "2020-06-24",
         "job_type": "Full-Time",
         "inferred_salary_time_unit": "/",
         "salary_offered": 129477,
         "valid_through": "2020-07-23",
         "postdate_yyyymmdd": "2020-06-24T00:00:00.000000",
         "last_expiry_check_date": "2020.06.25",
         "latest_expiry_check_date": "2020-06-25",
         "postdate_in_indexname_format": "2020.06.22",
         "inferred_city": "Gretna",
         "inferred_state": "Louisiana",
         "post_date_unix_time": 1592956800,
         "postal_code": "42948",
         "_deepnote_index_column": 7
        },
        {
         "uniq_id": "e7da38a3d35f799fd532590c5137e65c",
         "crawl_timestamp": "2020-05-18T01:07:37.000000",
         "job_title": "Staff Accountant",
         "company_name": "Volt",
         "post_date": "2020-05-17",
         "job_type": "Full-Time",
         "inferred_salary_time_unit": "/",
         "salary_offered": 132072,
         "valid_through": "2020-06-16",
         "postdate_yyyymmdd": "2020-05-17T00:00:00.000000",
         "last_expiry_check_date": "2020.05.18",
         "latest_expiry_check_date": "2020-05-18",
         "postdate_in_indexname_format": "2020.05.11",
         "inferred_city": "Stockton",
         "inferred_state": "California",
         "post_date_unix_time": 1589673600,
         "postal_code": "44841",
         "_deepnote_index_column": 8
        },
        {
         "uniq_id": "6248457c6236cce48b3277bddfc8b8a6",
         "crawl_timestamp": "2020-05-29T01:16:51.000000",
         "job_title": "Package Handler (Non-DOT)/Part Time/PM Shift/Sunday 6:00PM-11:30PM/Monday through Friday 6:30PM-11:…",
         "company_name": "FedEx",
         "post_date": "2020-05-28",
         "job_type": "Part-Time",
         "inferred_salary_time_unit": "/",
         "salary_offered": 124602,
         "valid_through": "2020-06-27",
         "postdate_yyyymmdd": "2020-05-28T00:00:00.000000",
         "last_expiry_check_date": "2020.05.29",
         "latest_expiry_check_date": "2020-05-29",
         "postdate_in_indexname_format": "2020.05.22",
         "inferred_city": "Tampa",
         "inferred_state": "Florida",
         "post_date_unix_time": 1590624000,
         "postal_code": "42032",
         "_deepnote_index_column": 9
        }
       ]
      },
      "text/plain": "                               uniq_id           crawl_timestamp  \\\n0     9a457ef257fecf231693a6ba08f50293 2020-06-26 01:54:03+00:00   \n1     ba471e2faf6f79caf22cddebbedbc0e8 2020-05-17 01:21:05+00:00   \n2     6f00bd02d63c633b5af453366f25c21e 2020-06-27 04:53:42+00:00   \n3     8ad0d00bfa23cfd7b7c364b8ae72085f 2020-06-03 01:21:32+00:00   \n4     31753dc342a1b2a07db712454c0d5f87 2020-05-23 01:19:07+00:00   \n...                                ...                       ...   \n2995  a56efdccbe87fea387e2edd3b1ec9faa 2020-05-19 01:21:18+00:00   \n2996  5605b833679597515f7205180b50ea9f 2020-06-12 01:45:25+00:00   \n2997  c74525996c267187b2be11c3c01f3a34 2020-04-30 01:47:25+00:00   \n2998  ee4a13cfc9ce0cb2d66b54b30d5732e6 2020-06-12 00:57:31+00:00   \n2999  6093631d5e9c136e0b3808e0eaeffb31 2020-05-07 02:51:11+00:00   \n\n                                              job_title  \\\n0               Asphalt/Concrete Senior Project Manager   \n1                     Amazon Warehouse Team - Full Time   \n2     Amazon Warehouse Associate - Morning Shifts Av...   \n3                                   Assembly Electrical   \n4                                     Graphics Designer   \n...                                                 ...   \n2995                                       Store Hourly   \n2996           SAP FICA IS-U Architect (Posted 6-11-20)   \n2997                              Data Entry Specialist   \n2998  Warehouse Associate (Seasonal/ Part-Time/ Full...   \n2999       Amazon Warehouse Team Member -Earn up to $15   \n\n                       company_name   post_date       job_type  \\\n0                              GPAC  2020-06-25      Full-Time   \n1                Amazon Fulfillment  2020-05-16      Full-Time   \n2                Amazon Fulfillment  2020-06-26      Full-Time   \n3                          Manpower  2020-06-02      Full-Time   \n4     The North West Company - U.S.  2020-05-22      Full-Time   \n...                             ...         ...            ...   \n2995             Advance Auto Parts  2020-05-18      Full-Time   \n2996               Donnelly & Moore  2020-06-11     Contractor   \n2997                    Robert Half  2020-04-29  Seasonal/Temp   \n2998             Amazon Fulfillment  2020-06-11      Part-Time   \n2999             Amazon Fulfillment  2020-05-06      Full-Time   \n\n     inferred_salary_time_unit  salary_offered valid_through  \\\n0                            /         99642.0    2020-07-24   \n1                            /         58626.0    2020-06-15   \n2                            /         67450.0    2020-07-25   \n3                        /hour         47467.0    2020-07-01   \n4                            /        136684.0    2020-06-21   \n...                        ...             ...           ...   \n2995                         /         63152.0    2020-06-17   \n2996                        /0        108575.0    2020-07-10   \n2997                     /hour         88469.0    2020-05-28   \n2998                         /        102933.0    2020-07-10   \n2999                         /         82329.0    2020-06-05   \n\n     postdate_yyyymmdd last_expiry_check_date latest_expiry_check_date  \\\n0           2020-06-25             2020.06.26               2020-06-26   \n1           2020-05-16             2020.05.17               2020-05-17   \n2           2020-06-26             2020.06.27               2020-06-27   \n3           2020-06-02             2020.06.03               2020-06-03   \n4           2020-05-22             2020.05.23               2020-05-23   \n...                ...                    ...                      ...   \n2995        2020-05-18             2020.05.19               2020-05-19   \n2996        2020-06-11             2020.06.12               2020-06-12   \n2997        2020-04-29             2020.04.30               2020-04-30   \n2998        2020-06-11             2020.06.12               2020-06-12   \n2999        2020-05-06             2020.05.07               2020-05-07   \n\n     postdate_in_indexname_format inferred_city  inferred_state  \\\n0                      2020.06.22       Houston           Texas   \n1                      2020.05.11    Cincinnati            Ohio   \n2                      2020.06.22       Peabody   Massachusetts   \n3                      2020.06.01       Villard       Minnesota   \n4                      2020.05.22     Anchorage          Alaska   \n...                           ...           ...             ...   \n2995                   2020.05.11   Wake forest  North carolina   \n2996                   2020.06.11  White plains        New york   \n2997                   2020.04.22      Martinez      California   \n2998                   2020.06.11        Rahway      New jersey   \n2999                   2020.05.01        Queens        New york   \n\n      post_date_unix_time postal_code  \n0              1593043200       43961  \n1              1589587200       50467  \n2              1593129600       42620  \n3              1591056000       97275  \n4              1590105600       37765  \n...                   ...         ...  \n2995           1589760000       27460  \n2996           1591833600       74603  \n2997           1588118400       08709  \n2998           1591833600       41693  \n2999           1588723200       96169  \n\n[3000 rows x 17 columns]",
      "text/html": "<div>\n<style scoped>\n    .dataframe tbody tr th:only-of-type {\n        vertical-align: middle;\n    }\n\n    .dataframe tbody tr th {\n        vertical-align: top;\n    }\n\n    .dataframe thead th {\n        text-align: right;\n    }\n</style>\n<table border=\"1\" class=\"dataframe\">\n  <thead>\n    <tr style=\"text-align: right;\">\n      <th></th>\n      <th>uniq_id</th>\n      <th>crawl_timestamp</th>\n      <th>job_title</th>\n      <th>company_name</th>\n      <th>post_date</th>\n      <th>job_type</th>\n      <th>inferred_salary_time_unit</th>\n      <th>salary_offered</th>\n      <th>valid_through</th>\n      <th>postdate_yyyymmdd</th>\n      <th>last_expiry_check_date</th>\n      <th>latest_expiry_check_date</th>\n      <th>postdate_in_indexname_format</th>\n      <th>inferred_city</th>\n      <th>inferred_state</th>\n      <th>post_date_unix_time</th>\n      <th>postal_code</th>\n    </tr>\n  </thead>\n  <tbody>\n    <tr>\n      <th>0</th>\n      <td>9a457ef257fecf231693a6ba08f50293</td>\n      <td>2020-06-26 01:54:03+00:00</td>\n      <td>Asphalt/Concrete Senior Project Manager</td>\n      <td>GPAC</td>\n      <td>2020-06-25</td>\n      <td>Full-Time</td>\n      <td>/</td>\n      <td>99642.0</td>\n      <td>2020-07-24</td>\n      <td>2020-06-25</td>\n      <td>2020.06.26</td>\n      <td>2020-06-26</td>\n      <td>2020.06.22</td>\n      <td>Houston</td>\n      <td>Texas</td>\n      <td>1593043200</td>\n      <td>43961</td>\n    </tr>\n    <tr>\n      <th>1</th>\n      <td>ba471e2faf6f79caf22cddebbedbc0e8</td>\n      <td>2020-05-17 01:21:05+00:00</td>\n      <td>Amazon Warehouse Team - Full Time</td>\n      <td>Amazon Fulfillment</td>\n      <td>2020-05-16</td>\n      <td>Full-Time</td>\n      <td>/</td>\n      <td>58626.0</td>\n      <td>2020-06-15</td>\n      <td>2020-05-16</td>\n      <td>2020.05.17</td>\n      <td>2020-05-17</td>\n      <td>2020.05.11</td>\n      <td>Cincinnati</td>\n      <td>Ohio</td>\n      <td>1589587200</td>\n      <td>50467</td>\n    </tr>\n    <tr>\n      <th>2</th>\n      <td>6f00bd02d63c633b5af453366f25c21e</td>\n      <td>2020-06-27 04:53:42+00:00</td>\n      <td>Amazon Warehouse Associate - Morning Shifts Av...</td>\n      <td>Amazon Fulfillment</td>\n      <td>2020-06-26</td>\n      <td>Full-Time</td>\n      <td>/</td>\n      <td>67450.0</td>\n      <td>2020-07-25</td>\n      <td>2020-06-26</td>\n      <td>2020.06.27</td>\n      <td>2020-06-27</td>\n      <td>2020.06.22</td>\n      <td>Peabody</td>\n      <td>Massachusetts</td>\n      <td>1593129600</td>\n      <td>42620</td>\n    </tr>\n    <tr>\n      <th>3</th>\n      <td>8ad0d00bfa23cfd7b7c364b8ae72085f</td>\n      <td>2020-06-03 01:21:32+00:00</td>\n      <td>Assembly Electrical</td>\n      <td>Manpower</td>\n      <td>2020-06-02</td>\n      <td>Full-Time</td>\n      <td>/hour</td>\n      <td>47467.0</td>\n      <td>2020-07-01</td>\n      <td>2020-06-02</td>\n      <td>2020.06.03</td>\n      <td>2020-06-03</td>\n      <td>2020.06.01</td>\n      <td>Villard</td>\n      <td>Minnesota</td>\n      <td>1591056000</td>\n      <td>97275</td>\n    </tr>\n    <tr>\n      <th>4</th>\n      <td>31753dc342a1b2a07db712454c0d5f87</td>\n      <td>2020-05-23 01:19:07+00:00</td>\n      <td>Graphics Designer</td>\n      <td>The North West Company - U.S.</td>\n      <td>2020-05-22</td>\n      <td>Full-Time</td>\n      <td>/</td>\n      <td>136684.0</td>\n      <td>2020-06-21</td>\n      <td>2020-05-22</td>\n      <td>2020.05.23</td>\n      <td>2020-05-23</td>\n      <td>2020.05.22</td>\n      <td>Anchorage</td>\n      <td>Alaska</td>\n      <td>1590105600</td>\n      <td>37765</td>\n    </tr>\n    <tr>\n      <th>...</th>\n      <td>...</td>\n      <td>...</td>\n      <td>...</td>\n      <td>...</td>\n      <td>...</td>\n      <td>...</td>\n      <td>...</td>\n      <td>...</td>\n      <td>...</td>\n      <td>...</td>\n      <td>...</td>\n      <td>...</td>\n      <td>...</td>\n      <td>...</td>\n      <td>...</td>\n      <td>...</td>\n      <td>...</td>\n    </tr>\n    <tr>\n      <th>2995</th>\n      <td>a56efdccbe87fea387e2edd3b1ec9faa</td>\n      <td>2020-05-19 01:21:18+00:00</td>\n      <td>Store Hourly</td>\n      <td>Advance Auto Parts</td>\n      <td>2020-05-18</td>\n      <td>Full-Time</td>\n      <td>/</td>\n      <td>63152.0</td>\n      <td>2020-06-17</td>\n      <td>2020-05-18</td>\n      <td>2020.05.19</td>\n      <td>2020-05-19</td>\n      <td>2020.05.11</td>\n      <td>Wake forest</td>\n      <td>North carolina</td>\n      <td>1589760000</td>\n      <td>27460</td>\n    </tr>\n    <tr>\n      <th>2996</th>\n      <td>5605b833679597515f7205180b50ea9f</td>\n      <td>2020-06-12 01:45:25+00:00</td>\n      <td>SAP FICA IS-U Architect (Posted 6-11-20)</td>\n      <td>Donnelly &amp; Moore</td>\n      <td>2020-06-11</td>\n      <td>Contractor</td>\n      <td>/0</td>\n      <td>108575.0</td>\n      <td>2020-07-10</td>\n      <td>2020-06-11</td>\n      <td>2020.06.12</td>\n      <td>2020-06-12</td>\n      <td>2020.06.11</td>\n      <td>White plains</td>\n      <td>New york</td>\n      <td>1591833600</td>\n      <td>74603</td>\n    </tr>\n    <tr>\n      <th>2997</th>\n      <td>c74525996c267187b2be11c3c01f3a34</td>\n      <td>2020-04-30 01:47:25+00:00</td>\n      <td>Data Entry Specialist</td>\n      <td>Robert Half</td>\n      <td>2020-04-29</td>\n      <td>Seasonal/Temp</td>\n      <td>/hour</td>\n      <td>88469.0</td>\n      <td>2020-05-28</td>\n      <td>2020-04-29</td>\n      <td>2020.04.30</td>\n      <td>2020-04-30</td>\n      <td>2020.04.22</td>\n      <td>Martinez</td>\n      <td>California</td>\n      <td>1588118400</td>\n      <td>08709</td>\n    </tr>\n    <tr>\n      <th>2998</th>\n      <td>ee4a13cfc9ce0cb2d66b54b30d5732e6</td>\n      <td>2020-06-12 00:57:31+00:00</td>\n      <td>Warehouse Associate (Seasonal/ Part-Time/ Full...</td>\n      <td>Amazon Fulfillment</td>\n      <td>2020-06-11</td>\n      <td>Part-Time</td>\n      <td>/</td>\n      <td>102933.0</td>\n      <td>2020-07-10</td>\n      <td>2020-06-11</td>\n      <td>2020.06.12</td>\n      <td>2020-06-12</td>\n      <td>2020.06.11</td>\n      <td>Rahway</td>\n      <td>New jersey</td>\n      <td>1591833600</td>\n      <td>41693</td>\n    </tr>\n    <tr>\n      <th>2999</th>\n      <td>6093631d5e9c136e0b3808e0eaeffb31</td>\n      <td>2020-05-07 02:51:11+00:00</td>\n      <td>Amazon Warehouse Team Member -Earn up to $15</td>\n      <td>Amazon Fulfillment</td>\n      <td>2020-05-06</td>\n      <td>Full-Time</td>\n      <td>/</td>\n      <td>82329.0</td>\n      <td>2020-06-05</td>\n      <td>2020-05-06</td>\n      <td>2020.05.07</td>\n      <td>2020-05-07</td>\n      <td>2020.05.01</td>\n      <td>Queens</td>\n      <td>New york</td>\n      <td>1588723200</td>\n      <td>96169</td>\n    </tr>\n  </tbody>\n</table>\n<p>3000 rows × 17 columns</p>\n</div>"
     },
     "metadata": {}
    }
   ]
  },
  {
   "cell_type": "code",
   "metadata": {
    "tags": [],
    "cell_id": "00021-fb369a03-e4a0-4861-8eab-33deb631dde2",
    "deepnote_to_be_reexecuted": false,
    "source_hash": "17037077",
    "execution_start": 1640019574345,
    "execution_millis": 7,
    "deepnote_output_heights": [
     232.390625
    ],
    "deepnote_cell_type": "code"
   },
   "source": "career_data_encoded = career_data_missing_values.copy()\n\nfrom sklearn.preprocessing import LabelEncoder\n\nle = LabelEncoder()\n\ncareer_data_encoded[\"inferred_state\"] = le.fit_transform(career_data_encoded[\"inferred_state\"])\n\ncareer_data_encoded[\"inferred_state\"]",
   "execution_count": null,
   "outputs": [
    {
     "output_type": "execute_result",
     "execution_count": 35,
     "data": {
      "text/plain": "0       43\n1       35\n2       21\n3       23\n4        1\n        ..\n2995    33\n2996    32\n2997     4\n2998    30\n2999    32\nName: inferred_state, Length: 3000, dtype: int64"
     },
     "metadata": {}
    }
   ]
  },
  {
   "cell_type": "code",
   "metadata": {
    "tags": [],
    "cell_id": "00022-07256709-33ec-44ce-9f3b-eb3cbd8e295b",
    "deepnote_to_be_reexecuted": false,
    "source_hash": "7d370c3f",
    "execution_start": 1640019795750,
    "execution_millis": 355,
    "deepnote_cell_type": "code"
   },
   "source": "pd.get_dummies(career_data_missing_values[\"inferred_state\"], prefix=\"state\")",
   "execution_count": null,
   "outputs": [
    {
     "output_type": "execute_result",
     "execution_count": 37,
     "data": {
      "application/vnd.deepnote.dataframe.v3+json": {
       "column_count": 51,
       "row_count": 3000,
       "columns": [
        {
         "name": "state_Alabama",
         "dtype": "uint8",
         "stats": {
          "unique_count": 2,
          "nan_count": 0,
          "min": "0",
          "max": "1",
          "histogram": [
           {
            "bin_start": 0,
            "bin_end": 0.1,
            "count": 2975
           },
           {
            "bin_start": 0.1,
            "bin_end": 0.2,
            "count": 0
           },
           {
            "bin_start": 0.2,
            "bin_end": 0.30000000000000004,
            "count": 0
           },
           {
            "bin_start": 0.30000000000000004,
            "bin_end": 0.4,
            "count": 0
           },
           {
            "bin_start": 0.4,
            "bin_end": 0.5,
            "count": 0
           },
           {
            "bin_start": 0.5,
            "bin_end": 0.6000000000000001,
            "count": 0
           },
           {
            "bin_start": 0.6000000000000001,
            "bin_end": 0.7000000000000001,
            "count": 0
           },
           {
            "bin_start": 0.7000000000000001,
            "bin_end": 0.8,
            "count": 0
           },
           {
            "bin_start": 0.8,
            "bin_end": 0.9,
            "count": 0
           },
           {
            "bin_start": 0.9,
            "bin_end": 1,
            "count": 25
           }
          ]
         }
        },
        {
         "name": "state_Alaska",
         "dtype": "uint8",
         "stats": {
          "unique_count": 2,
          "nan_count": 0,
          "min": "0",
          "max": "1",
          "histogram": [
           {
            "bin_start": 0,
            "bin_end": 0.1,
            "count": 2995
           },
           {
            "bin_start": 0.1,
            "bin_end": 0.2,
            "count": 0
           },
           {
            "bin_start": 0.2,
            "bin_end": 0.30000000000000004,
            "count": 0
           },
           {
            "bin_start": 0.30000000000000004,
            "bin_end": 0.4,
            "count": 0
           },
           {
            "bin_start": 0.4,
            "bin_end": 0.5,
            "count": 0
           },
           {
            "bin_start": 0.5,
            "bin_end": 0.6000000000000001,
            "count": 0
           },
           {
            "bin_start": 0.6000000000000001,
            "bin_end": 0.7000000000000001,
            "count": 0
           },
           {
            "bin_start": 0.7000000000000001,
            "bin_end": 0.8,
            "count": 0
           },
           {
            "bin_start": 0.8,
            "bin_end": 0.9,
            "count": 0
           },
           {
            "bin_start": 0.9,
            "bin_end": 1,
            "count": 5
           }
          ]
         }
        },
        {
         "name": "state_Arizona",
         "dtype": "uint8",
         "stats": {
          "unique_count": 2,
          "nan_count": 0,
          "min": "0",
          "max": "1",
          "histogram": [
           {
            "bin_start": 0,
            "bin_end": 0.1,
            "count": 2946
           },
           {
            "bin_start": 0.1,
            "bin_end": 0.2,
            "count": 0
           },
           {
            "bin_start": 0.2,
            "bin_end": 0.30000000000000004,
            "count": 0
           },
           {
            "bin_start": 0.30000000000000004,
            "bin_end": 0.4,
            "count": 0
           },
           {
            "bin_start": 0.4,
            "bin_end": 0.5,
            "count": 0
           },
           {
            "bin_start": 0.5,
            "bin_end": 0.6000000000000001,
            "count": 0
           },
           {
            "bin_start": 0.6000000000000001,
            "bin_end": 0.7000000000000001,
            "count": 0
           },
           {
            "bin_start": 0.7000000000000001,
            "bin_end": 0.8,
            "count": 0
           },
           {
            "bin_start": 0.8,
            "bin_end": 0.9,
            "count": 0
           },
           {
            "bin_start": 0.9,
            "bin_end": 1,
            "count": 54
           }
          ]
         }
        },
        {
         "name": "state_Arkansas",
         "dtype": "uint8",
         "stats": {
          "unique_count": 2,
          "nan_count": 0,
          "min": "0",
          "max": "1",
          "histogram": [
           {
            "bin_start": 0,
            "bin_end": 0.1,
            "count": 2987
           },
           {
            "bin_start": 0.1,
            "bin_end": 0.2,
            "count": 0
           },
           {
            "bin_start": 0.2,
            "bin_end": 0.30000000000000004,
            "count": 0
           },
           {
            "bin_start": 0.30000000000000004,
            "bin_end": 0.4,
            "count": 0
           },
           {
            "bin_start": 0.4,
            "bin_end": 0.5,
            "count": 0
           },
           {
            "bin_start": 0.5,
            "bin_end": 0.6000000000000001,
            "count": 0
           },
           {
            "bin_start": 0.6000000000000001,
            "bin_end": 0.7000000000000001,
            "count": 0
           },
           {
            "bin_start": 0.7000000000000001,
            "bin_end": 0.8,
            "count": 0
           },
           {
            "bin_start": 0.8,
            "bin_end": 0.9,
            "count": 0
           },
           {
            "bin_start": 0.9,
            "bin_end": 1,
            "count": 13
           }
          ]
         }
        },
        {
         "name": "state_California",
         "dtype": "uint8",
         "stats": {
          "unique_count": 2,
          "nan_count": 0,
          "min": "0",
          "max": "1",
          "histogram": [
           {
            "bin_start": 0,
            "bin_end": 0.1,
            "count": 2725
           },
           {
            "bin_start": 0.1,
            "bin_end": 0.2,
            "count": 0
           },
           {
            "bin_start": 0.2,
            "bin_end": 0.30000000000000004,
            "count": 0
           },
           {
            "bin_start": 0.30000000000000004,
            "bin_end": 0.4,
            "count": 0
           },
           {
            "bin_start": 0.4,
            "bin_end": 0.5,
            "count": 0
           },
           {
            "bin_start": 0.5,
            "bin_end": 0.6000000000000001,
            "count": 0
           },
           {
            "bin_start": 0.6000000000000001,
            "bin_end": 0.7000000000000001,
            "count": 0
           },
           {
            "bin_start": 0.7000000000000001,
            "bin_end": 0.8,
            "count": 0
           },
           {
            "bin_start": 0.8,
            "bin_end": 0.9,
            "count": 0
           },
           {
            "bin_start": 0.9,
            "bin_end": 1,
            "count": 275
           }
          ]
         }
        },
        {
         "name": "state_Colorado",
         "dtype": "uint8",
         "stats": {
          "unique_count": 2,
          "nan_count": 0,
          "min": "0",
          "max": "1",
          "histogram": [
           {
            "bin_start": 0,
            "bin_end": 0.1,
            "count": 2914
           },
           {
            "bin_start": 0.1,
            "bin_end": 0.2,
            "count": 0
           },
           {
            "bin_start": 0.2,
            "bin_end": 0.30000000000000004,
            "count": 0
           },
           {
            "bin_start": 0.30000000000000004,
            "bin_end": 0.4,
            "count": 0
           },
           {
            "bin_start": 0.4,
            "bin_end": 0.5,
            "count": 0
           },
           {
            "bin_start": 0.5,
            "bin_end": 0.6000000000000001,
            "count": 0
           },
           {
            "bin_start": 0.6000000000000001,
            "bin_end": 0.7000000000000001,
            "count": 0
           },
           {
            "bin_start": 0.7000000000000001,
            "bin_end": 0.8,
            "count": 0
           },
           {
            "bin_start": 0.8,
            "bin_end": 0.9,
            "count": 0
           },
           {
            "bin_start": 0.9,
            "bin_end": 1,
            "count": 86
           }
          ]
         }
        },
        {
         "name": "state_Connecticut",
         "dtype": "uint8",
         "stats": {
          "unique_count": 2,
          "nan_count": 0,
          "min": "0",
          "max": "1",
          "histogram": [
           {
            "bin_start": 0,
            "bin_end": 0.1,
            "count": 2962
           },
           {
            "bin_start": 0.1,
            "bin_end": 0.2,
            "count": 0
           },
           {
            "bin_start": 0.2,
            "bin_end": 0.30000000000000004,
            "count": 0
           },
           {
            "bin_start": 0.30000000000000004,
            "bin_end": 0.4,
            "count": 0
           },
           {
            "bin_start": 0.4,
            "bin_end": 0.5,
            "count": 0
           },
           {
            "bin_start": 0.5,
            "bin_end": 0.6000000000000001,
            "count": 0
           },
           {
            "bin_start": 0.6000000000000001,
            "bin_end": 0.7000000000000001,
            "count": 0
           },
           {
            "bin_start": 0.7000000000000001,
            "bin_end": 0.8,
            "count": 0
           },
           {
            "bin_start": 0.8,
            "bin_end": 0.9,
            "count": 0
           },
           {
            "bin_start": 0.9,
            "bin_end": 1,
            "count": 38
           }
          ]
         }
        },
        {
         "name": "state_Delaware",
         "dtype": "uint8",
         "stats": {
          "unique_count": 2,
          "nan_count": 0,
          "min": "0",
          "max": "1",
          "histogram": [
           {
            "bin_start": 0,
            "bin_end": 0.1,
            "count": 2995
           },
           {
            "bin_start": 0.1,
            "bin_end": 0.2,
            "count": 0
           },
           {
            "bin_start": 0.2,
            "bin_end": 0.30000000000000004,
            "count": 0
           },
           {
            "bin_start": 0.30000000000000004,
            "bin_end": 0.4,
            "count": 0
           },
           {
            "bin_start": 0.4,
            "bin_end": 0.5,
            "count": 0
           },
           {
            "bin_start": 0.5,
            "bin_end": 0.6000000000000001,
            "count": 0
           },
           {
            "bin_start": 0.6000000000000001,
            "bin_end": 0.7000000000000001,
            "count": 0
           },
           {
            "bin_start": 0.7000000000000001,
            "bin_end": 0.8,
            "count": 0
           },
           {
            "bin_start": 0.8,
            "bin_end": 0.9,
            "count": 0
           },
           {
            "bin_start": 0.9,
            "bin_end": 1,
            "count": 5
           }
          ]
         }
        },
        {
         "name": "state_District of columbia",
         "dtype": "uint8",
         "stats": {
          "unique_count": 2,
          "nan_count": 0,
          "min": "0",
          "max": "1",
          "histogram": [
           {
            "bin_start": 0,
            "bin_end": 0.1,
            "count": 2982
           },
           {
            "bin_start": 0.1,
            "bin_end": 0.2,
            "count": 0
           },
           {
            "bin_start": 0.2,
            "bin_end": 0.30000000000000004,
            "count": 0
           },
           {
            "bin_start": 0.30000000000000004,
            "bin_end": 0.4,
            "count": 0
           },
           {
            "bin_start": 0.4,
            "bin_end": 0.5,
            "count": 0
           },
           {
            "bin_start": 0.5,
            "bin_end": 0.6000000000000001,
            "count": 0
           },
           {
            "bin_start": 0.6000000000000001,
            "bin_end": 0.7000000000000001,
            "count": 0
           },
           {
            "bin_start": 0.7000000000000001,
            "bin_end": 0.8,
            "count": 0
           },
           {
            "bin_start": 0.8,
            "bin_end": 0.9,
            "count": 0
           },
           {
            "bin_start": 0.9,
            "bin_end": 1,
            "count": 18
           }
          ]
         }
        },
        {
         "name": "state_Florida",
         "dtype": "uint8",
         "stats": {
          "unique_count": 2,
          "nan_count": 0,
          "min": "0",
          "max": "1",
          "histogram": [
           {
            "bin_start": 0,
            "bin_end": 0.1,
            "count": 2840
           },
           {
            "bin_start": 0.1,
            "bin_end": 0.2,
            "count": 0
           },
           {
            "bin_start": 0.2,
            "bin_end": 0.30000000000000004,
            "count": 0
           },
           {
            "bin_start": 0.30000000000000004,
            "bin_end": 0.4,
            "count": 0
           },
           {
            "bin_start": 0.4,
            "bin_end": 0.5,
            "count": 0
           },
           {
            "bin_start": 0.5,
            "bin_end": 0.6000000000000001,
            "count": 0
           },
           {
            "bin_start": 0.6000000000000001,
            "bin_end": 0.7000000000000001,
            "count": 0
           },
           {
            "bin_start": 0.7000000000000001,
            "bin_end": 0.8,
            "count": 0
           },
           {
            "bin_start": 0.8,
            "bin_end": 0.9,
            "count": 0
           },
           {
            "bin_start": 0.9,
            "bin_end": 1,
            "count": 160
           }
          ]
         }
        },
        {
         "name": "state_Georgia",
         "dtype": "uint8",
         "stats": {
          "unique_count": 2,
          "nan_count": 0,
          "min": "0",
          "max": "1",
          "histogram": [
           {
            "bin_start": 0,
            "bin_end": 0.1,
            "count": 2917
           },
           {
            "bin_start": 0.1,
            "bin_end": 0.2,
            "count": 0
           },
           {
            "bin_start": 0.2,
            "bin_end": 0.30000000000000004,
            "count": 0
           },
           {
            "bin_start": 0.30000000000000004,
            "bin_end": 0.4,
            "count": 0
           },
           {
            "bin_start": 0.4,
            "bin_end": 0.5,
            "count": 0
           },
           {
            "bin_start": 0.5,
            "bin_end": 0.6000000000000001,
            "count": 0
           },
           {
            "bin_start": 0.6000000000000001,
            "bin_end": 0.7000000000000001,
            "count": 0
           },
           {
            "bin_start": 0.7000000000000001,
            "bin_end": 0.8,
            "count": 0
           },
           {
            "bin_start": 0.8,
            "bin_end": 0.9,
            "count": 0
           },
           {
            "bin_start": 0.9,
            "bin_end": 1,
            "count": 83
           }
          ]
         }
        },
        {
         "name": "state_Hawaii",
         "dtype": "uint8",
         "stats": {
          "unique_count": 2,
          "nan_count": 0,
          "min": "0",
          "max": "1",
          "histogram": [
           {
            "bin_start": 0,
            "bin_end": 0.1,
            "count": 2998
           },
           {
            "bin_start": 0.1,
            "bin_end": 0.2,
            "count": 0
           },
           {
            "bin_start": 0.2,
            "bin_end": 0.30000000000000004,
            "count": 0
           },
           {
            "bin_start": 0.30000000000000004,
            "bin_end": 0.4,
            "count": 0
           },
           {
            "bin_start": 0.4,
            "bin_end": 0.5,
            "count": 0
           },
           {
            "bin_start": 0.5,
            "bin_end": 0.6000000000000001,
            "count": 0
           },
           {
            "bin_start": 0.6000000000000001,
            "bin_end": 0.7000000000000001,
            "count": 0
           },
           {
            "bin_start": 0.7000000000000001,
            "bin_end": 0.8,
            "count": 0
           },
           {
            "bin_start": 0.8,
            "bin_end": 0.9,
            "count": 0
           },
           {
            "bin_start": 0.9,
            "bin_end": 1,
            "count": 2
           }
          ]
         }
        },
        {
         "name": "state_Idaho",
         "dtype": "uint8",
         "stats": {
          "unique_count": 2,
          "nan_count": 0,
          "min": "0",
          "max": "1",
          "histogram": [
           {
            "bin_start": 0,
            "bin_end": 0.1,
            "count": 2994
           },
           {
            "bin_start": 0.1,
            "bin_end": 0.2,
            "count": 0
           },
           {
            "bin_start": 0.2,
            "bin_end": 0.30000000000000004,
            "count": 0
           },
           {
            "bin_start": 0.30000000000000004,
            "bin_end": 0.4,
            "count": 0
           },
           {
            "bin_start": 0.4,
            "bin_end": 0.5,
            "count": 0
           },
           {
            "bin_start": 0.5,
            "bin_end": 0.6000000000000001,
            "count": 0
           },
           {
            "bin_start": 0.6000000000000001,
            "bin_end": 0.7000000000000001,
            "count": 0
           },
           {
            "bin_start": 0.7000000000000001,
            "bin_end": 0.8,
            "count": 0
           },
           {
            "bin_start": 0.8,
            "bin_end": 0.9,
            "count": 0
           },
           {
            "bin_start": 0.9,
            "bin_end": 1,
            "count": 6
           }
          ]
         }
        },
        {
         "name": "state_Illinois",
         "dtype": "uint8",
         "stats": {
          "unique_count": 2,
          "nan_count": 0,
          "min": "0",
          "max": "1",
          "histogram": [
           {
            "bin_start": 0,
            "bin_end": 0.1,
            "count": 2872
           },
           {
            "bin_start": 0.1,
            "bin_end": 0.2,
            "count": 0
           },
           {
            "bin_start": 0.2,
            "bin_end": 0.30000000000000004,
            "count": 0
           },
           {
            "bin_start": 0.30000000000000004,
            "bin_end": 0.4,
            "count": 0
           },
           {
            "bin_start": 0.4,
            "bin_end": 0.5,
            "count": 0
           },
           {
            "bin_start": 0.5,
            "bin_end": 0.6000000000000001,
            "count": 0
           },
           {
            "bin_start": 0.6000000000000001,
            "bin_end": 0.7000000000000001,
            "count": 0
           },
           {
            "bin_start": 0.7000000000000001,
            "bin_end": 0.8,
            "count": 0
           },
           {
            "bin_start": 0.8,
            "bin_end": 0.9,
            "count": 0
           },
           {
            "bin_start": 0.9,
            "bin_end": 1,
            "count": 128
           }
          ]
         }
        },
        {
         "name": "state_Indiana",
         "dtype": "uint8",
         "stats": {
          "unique_count": 2,
          "nan_count": 0,
          "min": "0",
          "max": "1",
          "histogram": [
           {
            "bin_start": 0,
            "bin_end": 0.1,
            "count": 2903
           },
           {
            "bin_start": 0.1,
            "bin_end": 0.2,
            "count": 0
           },
           {
            "bin_start": 0.2,
            "bin_end": 0.30000000000000004,
            "count": 0
           },
           {
            "bin_start": 0.30000000000000004,
            "bin_end": 0.4,
            "count": 0
           },
           {
            "bin_start": 0.4,
            "bin_end": 0.5,
            "count": 0
           },
           {
            "bin_start": 0.5,
            "bin_end": 0.6000000000000001,
            "count": 0
           },
           {
            "bin_start": 0.6000000000000001,
            "bin_end": 0.7000000000000001,
            "count": 0
           },
           {
            "bin_start": 0.7000000000000001,
            "bin_end": 0.8,
            "count": 0
           },
           {
            "bin_start": 0.8,
            "bin_end": 0.9,
            "count": 0
           },
           {
            "bin_start": 0.9,
            "bin_end": 1,
            "count": 97
           }
          ]
         }
        },
        {
         "name": "state_Iowa",
         "dtype": "uint8",
         "stats": {
          "unique_count": 2,
          "nan_count": 0,
          "min": "0",
          "max": "1",
          "histogram": [
           {
            "bin_start": 0,
            "bin_end": 0.1,
            "count": 2969
           },
           {
            "bin_start": 0.1,
            "bin_end": 0.2,
            "count": 0
           },
           {
            "bin_start": 0.2,
            "bin_end": 0.30000000000000004,
            "count": 0
           },
           {
            "bin_start": 0.30000000000000004,
            "bin_end": 0.4,
            "count": 0
           },
           {
            "bin_start": 0.4,
            "bin_end": 0.5,
            "count": 0
           },
           {
            "bin_start": 0.5,
            "bin_end": 0.6000000000000001,
            "count": 0
           },
           {
            "bin_start": 0.6000000000000001,
            "bin_end": 0.7000000000000001,
            "count": 0
           },
           {
            "bin_start": 0.7000000000000001,
            "bin_end": 0.8,
            "count": 0
           },
           {
            "bin_start": 0.8,
            "bin_end": 0.9,
            "count": 0
           },
           {
            "bin_start": 0.9,
            "bin_end": 1,
            "count": 31
           }
          ]
         }
        },
        {
         "name": "state_Kansas",
         "dtype": "uint8",
         "stats": {
          "unique_count": 2,
          "nan_count": 0,
          "min": "0",
          "max": "1",
          "histogram": [
           {
            "bin_start": 0,
            "bin_end": 0.1,
            "count": 2981
           },
           {
            "bin_start": 0.1,
            "bin_end": 0.2,
            "count": 0
           },
           {
            "bin_start": 0.2,
            "bin_end": 0.30000000000000004,
            "count": 0
           },
           {
            "bin_start": 0.30000000000000004,
            "bin_end": 0.4,
            "count": 0
           },
           {
            "bin_start": 0.4,
            "bin_end": 0.5,
            "count": 0
           },
           {
            "bin_start": 0.5,
            "bin_end": 0.6000000000000001,
            "count": 0
           },
           {
            "bin_start": 0.6000000000000001,
            "bin_end": 0.7000000000000001,
            "count": 0
           },
           {
            "bin_start": 0.7000000000000001,
            "bin_end": 0.8,
            "count": 0
           },
           {
            "bin_start": 0.8,
            "bin_end": 0.9,
            "count": 0
           },
           {
            "bin_start": 0.9,
            "bin_end": 1,
            "count": 19
           }
          ]
         }
        },
        {
         "name": "state_Kentucky",
         "dtype": "uint8",
         "stats": {
          "unique_count": 2,
          "nan_count": 0,
          "min": "0",
          "max": "1",
          "histogram": [
           {
            "bin_start": 0,
            "bin_end": 0.1,
            "count": 2929
           },
           {
            "bin_start": 0.1,
            "bin_end": 0.2,
            "count": 0
           },
           {
            "bin_start": 0.2,
            "bin_end": 0.30000000000000004,
            "count": 0
           },
           {
            "bin_start": 0.30000000000000004,
            "bin_end": 0.4,
            "count": 0
           },
           {
            "bin_start": 0.4,
            "bin_end": 0.5,
            "count": 0
           },
           {
            "bin_start": 0.5,
            "bin_end": 0.6000000000000001,
            "count": 0
           },
           {
            "bin_start": 0.6000000000000001,
            "bin_end": 0.7000000000000001,
            "count": 0
           },
           {
            "bin_start": 0.7000000000000001,
            "bin_end": 0.8,
            "count": 0
           },
           {
            "bin_start": 0.8,
            "bin_end": 0.9,
            "count": 0
           },
           {
            "bin_start": 0.9,
            "bin_end": 1,
            "count": 71
           }
          ]
         }
        },
        {
         "name": "state_Louisiana",
         "dtype": "uint8",
         "stats": {
          "unique_count": 2,
          "nan_count": 0,
          "min": "0",
          "max": "1",
          "histogram": [
           {
            "bin_start": 0,
            "bin_end": 0.1,
            "count": 2969
           },
           {
            "bin_start": 0.1,
            "bin_end": 0.2,
            "count": 0
           },
           {
            "bin_start": 0.2,
            "bin_end": 0.30000000000000004,
            "count": 0
           },
           {
            "bin_start": 0.30000000000000004,
            "bin_end": 0.4,
            "count": 0
           },
           {
            "bin_start": 0.4,
            "bin_end": 0.5,
            "count": 0
           },
           {
            "bin_start": 0.5,
            "bin_end": 0.6000000000000001,
            "count": 0
           },
           {
            "bin_start": 0.6000000000000001,
            "bin_end": 0.7000000000000001,
            "count": 0
           },
           {
            "bin_start": 0.7000000000000001,
            "bin_end": 0.8,
            "count": 0
           },
           {
            "bin_start": 0.8,
            "bin_end": 0.9,
            "count": 0
           },
           {
            "bin_start": 0.9,
            "bin_end": 1,
            "count": 31
           }
          ]
         }
        },
        {
         "name": "state_Maine",
         "dtype": "uint8",
         "stats": {
          "unique_count": 2,
          "nan_count": 0,
          "min": "0",
          "max": "1",
          "histogram": [
           {
            "bin_start": 0,
            "bin_end": 0.1,
            "count": 2995
           },
           {
            "bin_start": 0.1,
            "bin_end": 0.2,
            "count": 0
           },
           {
            "bin_start": 0.2,
            "bin_end": 0.30000000000000004,
            "count": 0
           },
           {
            "bin_start": 0.30000000000000004,
            "bin_end": 0.4,
            "count": 0
           },
           {
            "bin_start": 0.4,
            "bin_end": 0.5,
            "count": 0
           },
           {
            "bin_start": 0.5,
            "bin_end": 0.6000000000000001,
            "count": 0
           },
           {
            "bin_start": 0.6000000000000001,
            "bin_end": 0.7000000000000001,
            "count": 0
           },
           {
            "bin_start": 0.7000000000000001,
            "bin_end": 0.8,
            "count": 0
           },
           {
            "bin_start": 0.8,
            "bin_end": 0.9,
            "count": 0
           },
           {
            "bin_start": 0.9,
            "bin_end": 1,
            "count": 5
           }
          ]
         }
        },
        {
         "name": "state_Maryland",
         "dtype": "uint8",
         "stats": {
          "unique_count": 2,
          "nan_count": 0,
          "min": "0",
          "max": "1",
          "histogram": [
           {
            "bin_start": 0,
            "bin_end": 0.1,
            "count": 2921
           },
           {
            "bin_start": 0.1,
            "bin_end": 0.2,
            "count": 0
           },
           {
            "bin_start": 0.2,
            "bin_end": 0.30000000000000004,
            "count": 0
           },
           {
            "bin_start": 0.30000000000000004,
            "bin_end": 0.4,
            "count": 0
           },
           {
            "bin_start": 0.4,
            "bin_end": 0.5,
            "count": 0
           },
           {
            "bin_start": 0.5,
            "bin_end": 0.6000000000000001,
            "count": 0
           },
           {
            "bin_start": 0.6000000000000001,
            "bin_end": 0.7000000000000001,
            "count": 0
           },
           {
            "bin_start": 0.7000000000000001,
            "bin_end": 0.8,
            "count": 0
           },
           {
            "bin_start": 0.8,
            "bin_end": 0.9,
            "count": 0
           },
           {
            "bin_start": 0.9,
            "bin_end": 1,
            "count": 79
           }
          ]
         }
        },
        {
         "name": "state_Massachusetts",
         "dtype": "uint8",
         "stats": {
          "unique_count": 2,
          "nan_count": 0,
          "min": "0",
          "max": "1",
          "histogram": [
           {
            "bin_start": 0,
            "bin_end": 0.1,
            "count": 2828
           },
           {
            "bin_start": 0.1,
            "bin_end": 0.2,
            "count": 0
           },
           {
            "bin_start": 0.2,
            "bin_end": 0.30000000000000004,
            "count": 0
           },
           {
            "bin_start": 0.30000000000000004,
            "bin_end": 0.4,
            "count": 0
           },
           {
            "bin_start": 0.4,
            "bin_end": 0.5,
            "count": 0
           },
           {
            "bin_start": 0.5,
            "bin_end": 0.6000000000000001,
            "count": 0
           },
           {
            "bin_start": 0.6000000000000001,
            "bin_end": 0.7000000000000001,
            "count": 0
           },
           {
            "bin_start": 0.7000000000000001,
            "bin_end": 0.8,
            "count": 0
           },
           {
            "bin_start": 0.8,
            "bin_end": 0.9,
            "count": 0
           },
           {
            "bin_start": 0.9,
            "bin_end": 1,
            "count": 172
           }
          ]
         }
        },
        {
         "name": "state_Michigan",
         "dtype": "uint8",
         "stats": {
          "unique_count": 2,
          "nan_count": 0,
          "min": "0",
          "max": "1",
          "histogram": [
           {
            "bin_start": 0,
            "bin_end": 0.1,
            "count": 2890
           },
           {
            "bin_start": 0.1,
            "bin_end": 0.2,
            "count": 0
           },
           {
            "bin_start": 0.2,
            "bin_end": 0.30000000000000004,
            "count": 0
           },
           {
            "bin_start": 0.30000000000000004,
            "bin_end": 0.4,
            "count": 0
           },
           {
            "bin_start": 0.4,
            "bin_end": 0.5,
            "count": 0
           },
           {
            "bin_start": 0.5,
            "bin_end": 0.6000000000000001,
            "count": 0
           },
           {
            "bin_start": 0.6000000000000001,
            "bin_end": 0.7000000000000001,
            "count": 0
           },
           {
            "bin_start": 0.7000000000000001,
            "bin_end": 0.8,
            "count": 0
           },
           {
            "bin_start": 0.8,
            "bin_end": 0.9,
            "count": 0
           },
           {
            "bin_start": 0.9,
            "bin_end": 1,
            "count": 110
           }
          ]
         }
        },
        {
         "name": "state_Minnesota",
         "dtype": "uint8",
         "stats": {
          "unique_count": 2,
          "nan_count": 0,
          "min": "0",
          "max": "1",
          "histogram": [
           {
            "bin_start": 0,
            "bin_end": 0.1,
            "count": 2916
           },
           {
            "bin_start": 0.1,
            "bin_end": 0.2,
            "count": 0
           },
           {
            "bin_start": 0.2,
            "bin_end": 0.30000000000000004,
            "count": 0
           },
           {
            "bin_start": 0.30000000000000004,
            "bin_end": 0.4,
            "count": 0
           },
           {
            "bin_start": 0.4,
            "bin_end": 0.5,
            "count": 0
           },
           {
            "bin_start": 0.5,
            "bin_end": 0.6000000000000001,
            "count": 0
           },
           {
            "bin_start": 0.6000000000000001,
            "bin_end": 0.7000000000000001,
            "count": 0
           },
           {
            "bin_start": 0.7000000000000001,
            "bin_end": 0.8,
            "count": 0
           },
           {
            "bin_start": 0.8,
            "bin_end": 0.9,
            "count": 0
           },
           {
            "bin_start": 0.9,
            "bin_end": 1,
            "count": 84
           }
          ]
         }
        },
        {
         "name": "state_Mississippi",
         "dtype": "uint8",
         "stats": {
          "unique_count": 2,
          "nan_count": 0,
          "min": "0",
          "max": "1",
          "histogram": [
           {
            "bin_start": 0,
            "bin_end": 0.1,
            "count": 2972
           },
           {
            "bin_start": 0.1,
            "bin_end": 0.2,
            "count": 0
           },
           {
            "bin_start": 0.2,
            "bin_end": 0.30000000000000004,
            "count": 0
           },
           {
            "bin_start": 0.30000000000000004,
            "bin_end": 0.4,
            "count": 0
           },
           {
            "bin_start": 0.4,
            "bin_end": 0.5,
            "count": 0
           },
           {
            "bin_start": 0.5,
            "bin_end": 0.6000000000000001,
            "count": 0
           },
           {
            "bin_start": 0.6000000000000001,
            "bin_end": 0.7000000000000001,
            "count": 0
           },
           {
            "bin_start": 0.7000000000000001,
            "bin_end": 0.8,
            "count": 0
           },
           {
            "bin_start": 0.8,
            "bin_end": 0.9,
            "count": 0
           },
           {
            "bin_start": 0.9,
            "bin_end": 1,
            "count": 28
           }
          ]
         }
        },
        {
         "name": "state_Missouri",
         "dtype": "uint8",
         "stats": {
          "unique_count": 2,
          "nan_count": 0,
          "min": "0",
          "max": "1",
          "histogram": [
           {
            "bin_start": 0,
            "bin_end": 0.1,
            "count": 2922
           },
           {
            "bin_start": 0.1,
            "bin_end": 0.2,
            "count": 0
           },
           {
            "bin_start": 0.2,
            "bin_end": 0.30000000000000004,
            "count": 0
           },
           {
            "bin_start": 0.30000000000000004,
            "bin_end": 0.4,
            "count": 0
           },
           {
            "bin_start": 0.4,
            "bin_end": 0.5,
            "count": 0
           },
           {
            "bin_start": 0.5,
            "bin_end": 0.6000000000000001,
            "count": 0
           },
           {
            "bin_start": 0.6000000000000001,
            "bin_end": 0.7000000000000001,
            "count": 0
           },
           {
            "bin_start": 0.7000000000000001,
            "bin_end": 0.8,
            "count": 0
           },
           {
            "bin_start": 0.8,
            "bin_end": 0.9,
            "count": 0
           },
           {
            "bin_start": 0.9,
            "bin_end": 1,
            "count": 78
           }
          ]
         }
        },
        {
         "name": "state_Montana",
         "dtype": "uint8",
         "stats": {
          "unique_count": 2,
          "nan_count": 0,
          "min": "0",
          "max": "1",
          "histogram": [
           {
            "bin_start": 0,
            "bin_end": 0.1,
            "count": 2995
           },
           {
            "bin_start": 0.1,
            "bin_end": 0.2,
            "count": 0
           },
           {
            "bin_start": 0.2,
            "bin_end": 0.30000000000000004,
            "count": 0
           },
           {
            "bin_start": 0.30000000000000004,
            "bin_end": 0.4,
            "count": 0
           },
           {
            "bin_start": 0.4,
            "bin_end": 0.5,
            "count": 0
           },
           {
            "bin_start": 0.5,
            "bin_end": 0.6000000000000001,
            "count": 0
           },
           {
            "bin_start": 0.6000000000000001,
            "bin_end": 0.7000000000000001,
            "count": 0
           },
           {
            "bin_start": 0.7000000000000001,
            "bin_end": 0.8,
            "count": 0
           },
           {
            "bin_start": 0.8,
            "bin_end": 0.9,
            "count": 0
           },
           {
            "bin_start": 0.9,
            "bin_end": 1,
            "count": 5
           }
          ]
         }
        },
        {
         "name": "state_Nebraska",
         "dtype": "uint8",
         "stats": {
          "unique_count": 2,
          "nan_count": 0,
          "min": "0",
          "max": "1",
          "histogram": [
           {
            "bin_start": 0,
            "bin_end": 0.1,
            "count": 2989
           },
           {
            "bin_start": 0.1,
            "bin_end": 0.2,
            "count": 0
           },
           {
            "bin_start": 0.2,
            "bin_end": 0.30000000000000004,
            "count": 0
           },
           {
            "bin_start": 0.30000000000000004,
            "bin_end": 0.4,
            "count": 0
           },
           {
            "bin_start": 0.4,
            "bin_end": 0.5,
            "count": 0
           },
           {
            "bin_start": 0.5,
            "bin_end": 0.6000000000000001,
            "count": 0
           },
           {
            "bin_start": 0.6000000000000001,
            "bin_end": 0.7000000000000001,
            "count": 0
           },
           {
            "bin_start": 0.7000000000000001,
            "bin_end": 0.8,
            "count": 0
           },
           {
            "bin_start": 0.8,
            "bin_end": 0.9,
            "count": 0
           },
           {
            "bin_start": 0.9,
            "bin_end": 1,
            "count": 11
           }
          ]
         }
        },
        {
         "name": "state_Nevada",
         "dtype": "uint8",
         "stats": {
          "unique_count": 2,
          "nan_count": 0,
          "min": "0",
          "max": "1",
          "histogram": [
           {
            "bin_start": 0,
            "bin_end": 0.1,
            "count": 2985
           },
           {
            "bin_start": 0.1,
            "bin_end": 0.2,
            "count": 0
           },
           {
            "bin_start": 0.2,
            "bin_end": 0.30000000000000004,
            "count": 0
           },
           {
            "bin_start": 0.30000000000000004,
            "bin_end": 0.4,
            "count": 0
           },
           {
            "bin_start": 0.4,
            "bin_end": 0.5,
            "count": 0
           },
           {
            "bin_start": 0.5,
            "bin_end": 0.6000000000000001,
            "count": 0
           },
           {
            "bin_start": 0.6000000000000001,
            "bin_end": 0.7000000000000001,
            "count": 0
           },
           {
            "bin_start": 0.7000000000000001,
            "bin_end": 0.8,
            "count": 0
           },
           {
            "bin_start": 0.8,
            "bin_end": 0.9,
            "count": 0
           },
           {
            "bin_start": 0.9,
            "bin_end": 1,
            "count": 15
           }
          ]
         }
        },
        {
         "name": "state_New hampshire",
         "dtype": "uint8",
         "stats": {
          "unique_count": 2,
          "nan_count": 0,
          "min": "0",
          "max": "1",
          "histogram": [
           {
            "bin_start": 0,
            "bin_end": 0.1,
            "count": 2975
           },
           {
            "bin_start": 0.1,
            "bin_end": 0.2,
            "count": 0
           },
           {
            "bin_start": 0.2,
            "bin_end": 0.30000000000000004,
            "count": 0
           },
           {
            "bin_start": 0.30000000000000004,
            "bin_end": 0.4,
            "count": 0
           },
           {
            "bin_start": 0.4,
            "bin_end": 0.5,
            "count": 0
           },
           {
            "bin_start": 0.5,
            "bin_end": 0.6000000000000001,
            "count": 0
           },
           {
            "bin_start": 0.6000000000000001,
            "bin_end": 0.7000000000000001,
            "count": 0
           },
           {
            "bin_start": 0.7000000000000001,
            "bin_end": 0.8,
            "count": 0
           },
           {
            "bin_start": 0.8,
            "bin_end": 0.9,
            "count": 0
           },
           {
            "bin_start": 0.9,
            "bin_end": 1,
            "count": 25
           }
          ]
         }
        },
        {
         "name": "state_New jersey",
         "dtype": "uint8",
         "stats": {
          "unique_count": 2,
          "nan_count": 0,
          "min": "0",
          "max": "1",
          "histogram": [
           {
            "bin_start": 0,
            "bin_end": 0.1,
            "count": 2838
           },
           {
            "bin_start": 0.1,
            "bin_end": 0.2,
            "count": 0
           },
           {
            "bin_start": 0.2,
            "bin_end": 0.30000000000000004,
            "count": 0
           },
           {
            "bin_start": 0.30000000000000004,
            "bin_end": 0.4,
            "count": 0
           },
           {
            "bin_start": 0.4,
            "bin_end": 0.5,
            "count": 0
           },
           {
            "bin_start": 0.5,
            "bin_end": 0.6000000000000001,
            "count": 0
           },
           {
            "bin_start": 0.6000000000000001,
            "bin_end": 0.7000000000000001,
            "count": 0
           },
           {
            "bin_start": 0.7000000000000001,
            "bin_end": 0.8,
            "count": 0
           },
           {
            "bin_start": 0.8,
            "bin_end": 0.9,
            "count": 0
           },
           {
            "bin_start": 0.9,
            "bin_end": 1,
            "count": 162
           }
          ]
         }
        },
        {
         "name": "state_New mexico",
         "dtype": "uint8",
         "stats": {
          "unique_count": 2,
          "nan_count": 0,
          "min": "0",
          "max": "1",
          "histogram": [
           {
            "bin_start": 0,
            "bin_end": 0.1,
            "count": 2987
           },
           {
            "bin_start": 0.1,
            "bin_end": 0.2,
            "count": 0
           },
           {
            "bin_start": 0.2,
            "bin_end": 0.30000000000000004,
            "count": 0
           },
           {
            "bin_start": 0.30000000000000004,
            "bin_end": 0.4,
            "count": 0
           },
           {
            "bin_start": 0.4,
            "bin_end": 0.5,
            "count": 0
           },
           {
            "bin_start": 0.5,
            "bin_end": 0.6000000000000001,
            "count": 0
           },
           {
            "bin_start": 0.6000000000000001,
            "bin_end": 0.7000000000000001,
            "count": 0
           },
           {
            "bin_start": 0.7000000000000001,
            "bin_end": 0.8,
            "count": 0
           },
           {
            "bin_start": 0.8,
            "bin_end": 0.9,
            "count": 0
           },
           {
            "bin_start": 0.9,
            "bin_end": 1,
            "count": 13
           }
          ]
         }
        },
        {
         "name": "state_New york",
         "dtype": "uint8",
         "stats": {
          "unique_count": 2,
          "nan_count": 0,
          "min": "0",
          "max": "1",
          "histogram": [
           {
            "bin_start": 0,
            "bin_end": 0.1,
            "count": 2931
           },
           {
            "bin_start": 0.1,
            "bin_end": 0.2,
            "count": 0
           },
           {
            "bin_start": 0.2,
            "bin_end": 0.30000000000000004,
            "count": 0
           },
           {
            "bin_start": 0.30000000000000004,
            "bin_end": 0.4,
            "count": 0
           },
           {
            "bin_start": 0.4,
            "bin_end": 0.5,
            "count": 0
           },
           {
            "bin_start": 0.5,
            "bin_end": 0.6000000000000001,
            "count": 0
           },
           {
            "bin_start": 0.6000000000000001,
            "bin_end": 0.7000000000000001,
            "count": 0
           },
           {
            "bin_start": 0.7000000000000001,
            "bin_end": 0.8,
            "count": 0
           },
           {
            "bin_start": 0.8,
            "bin_end": 0.9,
            "count": 0
           },
           {
            "bin_start": 0.9,
            "bin_end": 1,
            "count": 69
           }
          ]
         }
        },
        {
         "name": "state_North carolina",
         "dtype": "uint8"
        },
        {
         "name": "state_North dakota",
         "dtype": "uint8"
        },
        {
         "name": "state_Ohio",
         "dtype": "uint8"
        },
        {
         "name": "state_Oklahoma",
         "dtype": "uint8"
        },
        {
         "name": "state_Oregon",
         "dtype": "uint8"
        },
        {
         "name": "state_Pennsylvania",
         "dtype": "uint8"
        },
        {
         "name": "state_Rhode island",
         "dtype": "uint8"
        },
        {
         "name": "state_South carolina",
         "dtype": "uint8"
        },
        {
         "name": "state_South dakota",
         "dtype": "uint8"
        },
        {
         "name": "state_Tennessee",
         "dtype": "uint8"
        },
        {
         "name": "state_Texas",
         "dtype": "uint8"
        },
        {
         "name": "state_Utah",
         "dtype": "uint8"
        },
        {
         "name": "state_Vermont",
         "dtype": "uint8"
        },
        {
         "name": "state_Virginia",
         "dtype": "uint8"
        },
        {
         "name": "state_Washington",
         "dtype": "uint8"
        },
        {
         "name": "state_West virginia",
         "dtype": "uint8"
        },
        {
         "name": "state_Wisconsin",
         "dtype": "uint8"
        },
        {
         "name": "state_Wyoming",
         "dtype": "uint8"
        },
        {
         "name": "_deepnote_index_column",
         "dtype": "int64"
        }
       ],
       "rows": [
        {
         "state_Alabama": 0,
         "state_Alaska": 0,
         "state_Arizona": 0,
         "state_Arkansas": 0,
         "state_California": 0,
         "state_Colorado": 0,
         "state_Connecticut": 0,
         "state_Delaware": 0,
         "state_District of columbia": 0,
         "state_Florida": 0,
         "state_Georgia": 0,
         "state_Hawaii": 0,
         "state_Idaho": 0,
         "state_Illinois": 0,
         "state_Indiana": 0,
         "state_Iowa": 0,
         "state_Kansas": 0,
         "state_Kentucky": 0,
         "state_Louisiana": 0,
         "state_Maine": 0,
         "state_Maryland": 0,
         "state_Massachusetts": 0,
         "state_Michigan": 0,
         "state_Minnesota": 0,
         "state_Mississippi": 0,
         "state_Missouri": 0,
         "state_Montana": 0,
         "state_Nebraska": 0,
         "state_Nevada": 0,
         "state_New hampshire": 0,
         "state_New jersey": 0,
         "state_New mexico": 0,
         "state_New york": 0,
         "state_North carolina": 0,
         "state_North dakota": 0,
         "state_Ohio": 0,
         "state_Oklahoma": 0,
         "state_Oregon": 0,
         "state_Pennsylvania": 0,
         "state_Rhode island": 0,
         "state_South carolina": 0,
         "state_South dakota": 0,
         "state_Tennessee": 0,
         "state_Texas": 1,
         "state_Utah": 0,
         "state_Vermont": 0,
         "state_Virginia": 0,
         "state_Washington": 0,
         "state_West virginia": 0,
         "state_Wisconsin": 0,
         "state_Wyoming": 0,
         "_deepnote_index_column": 0
        },
        {
         "state_Alabama": 0,
         "state_Alaska": 0,
         "state_Arizona": 0,
         "state_Arkansas": 0,
         "state_California": 0,
         "state_Colorado": 0,
         "state_Connecticut": 0,
         "state_Delaware": 0,
         "state_District of columbia": 0,
         "state_Florida": 0,
         "state_Georgia": 0,
         "state_Hawaii": 0,
         "state_Idaho": 0,
         "state_Illinois": 0,
         "state_Indiana": 0,
         "state_Iowa": 0,
         "state_Kansas": 0,
         "state_Kentucky": 0,
         "state_Louisiana": 0,
         "state_Maine": 0,
         "state_Maryland": 0,
         "state_Massachusetts": 0,
         "state_Michigan": 0,
         "state_Minnesota": 0,
         "state_Mississippi": 0,
         "state_Missouri": 0,
         "state_Montana": 0,
         "state_Nebraska": 0,
         "state_Nevada": 0,
         "state_New hampshire": 0,
         "state_New jersey": 0,
         "state_New mexico": 0,
         "state_New york": 0,
         "state_North carolina": 0,
         "state_North dakota": 0,
         "state_Ohio": 1,
         "state_Oklahoma": 0,
         "state_Oregon": 0,
         "state_Pennsylvania": 0,
         "state_Rhode island": 0,
         "state_South carolina": 0,
         "state_South dakota": 0,
         "state_Tennessee": 0,
         "state_Texas": 0,
         "state_Utah": 0,
         "state_Vermont": 0,
         "state_Virginia": 0,
         "state_Washington": 0,
         "state_West virginia": 0,
         "state_Wisconsin": 0,
         "state_Wyoming": 0,
         "_deepnote_index_column": 1
        },
        {
         "state_Alabama": 0,
         "state_Alaska": 0,
         "state_Arizona": 0,
         "state_Arkansas": 0,
         "state_California": 0,
         "state_Colorado": 0,
         "state_Connecticut": 0,
         "state_Delaware": 0,
         "state_District of columbia": 0,
         "state_Florida": 0,
         "state_Georgia": 0,
         "state_Hawaii": 0,
         "state_Idaho": 0,
         "state_Illinois": 0,
         "state_Indiana": 0,
         "state_Iowa": 0,
         "state_Kansas": 0,
         "state_Kentucky": 0,
         "state_Louisiana": 0,
         "state_Maine": 0,
         "state_Maryland": 0,
         "state_Massachusetts": 1,
         "state_Michigan": 0,
         "state_Minnesota": 0,
         "state_Mississippi": 0,
         "state_Missouri": 0,
         "state_Montana": 0,
         "state_Nebraska": 0,
         "state_Nevada": 0,
         "state_New hampshire": 0,
         "state_New jersey": 0,
         "state_New mexico": 0,
         "state_New york": 0,
         "state_North carolina": 0,
         "state_North dakota": 0,
         "state_Ohio": 0,
         "state_Oklahoma": 0,
         "state_Oregon": 0,
         "state_Pennsylvania": 0,
         "state_Rhode island": 0,
         "state_South carolina": 0,
         "state_South dakota": 0,
         "state_Tennessee": 0,
         "state_Texas": 0,
         "state_Utah": 0,
         "state_Vermont": 0,
         "state_Virginia": 0,
         "state_Washington": 0,
         "state_West virginia": 0,
         "state_Wisconsin": 0,
         "state_Wyoming": 0,
         "_deepnote_index_column": 2
        },
        {
         "state_Alabama": 0,
         "state_Alaska": 0,
         "state_Arizona": 0,
         "state_Arkansas": 0,
         "state_California": 0,
         "state_Colorado": 0,
         "state_Connecticut": 0,
         "state_Delaware": 0,
         "state_District of columbia": 0,
         "state_Florida": 0,
         "state_Georgia": 0,
         "state_Hawaii": 0,
         "state_Idaho": 0,
         "state_Illinois": 0,
         "state_Indiana": 0,
         "state_Iowa": 0,
         "state_Kansas": 0,
         "state_Kentucky": 0,
         "state_Louisiana": 0,
         "state_Maine": 0,
         "state_Maryland": 0,
         "state_Massachusetts": 0,
         "state_Michigan": 0,
         "state_Minnesota": 1,
         "state_Mississippi": 0,
         "state_Missouri": 0,
         "state_Montana": 0,
         "state_Nebraska": 0,
         "state_Nevada": 0,
         "state_New hampshire": 0,
         "state_New jersey": 0,
         "state_New mexico": 0,
         "state_New york": 0,
         "state_North carolina": 0,
         "state_North dakota": 0,
         "state_Ohio": 0,
         "state_Oklahoma": 0,
         "state_Oregon": 0,
         "state_Pennsylvania": 0,
         "state_Rhode island": 0,
         "state_South carolina": 0,
         "state_South dakota": 0,
         "state_Tennessee": 0,
         "state_Texas": 0,
         "state_Utah": 0,
         "state_Vermont": 0,
         "state_Virginia": 0,
         "state_Washington": 0,
         "state_West virginia": 0,
         "state_Wisconsin": 0,
         "state_Wyoming": 0,
         "_deepnote_index_column": 3
        },
        {
         "state_Alabama": 0,
         "state_Alaska": 1,
         "state_Arizona": 0,
         "state_Arkansas": 0,
         "state_California": 0,
         "state_Colorado": 0,
         "state_Connecticut": 0,
         "state_Delaware": 0,
         "state_District of columbia": 0,
         "state_Florida": 0,
         "state_Georgia": 0,
         "state_Hawaii": 0,
         "state_Idaho": 0,
         "state_Illinois": 0,
         "state_Indiana": 0,
         "state_Iowa": 0,
         "state_Kansas": 0,
         "state_Kentucky": 0,
         "state_Louisiana": 0,
         "state_Maine": 0,
         "state_Maryland": 0,
         "state_Massachusetts": 0,
         "state_Michigan": 0,
         "state_Minnesota": 0,
         "state_Mississippi": 0,
         "state_Missouri": 0,
         "state_Montana": 0,
         "state_Nebraska": 0,
         "state_Nevada": 0,
         "state_New hampshire": 0,
         "state_New jersey": 0,
         "state_New mexico": 0,
         "state_New york": 0,
         "state_North carolina": 0,
         "state_North dakota": 0,
         "state_Ohio": 0,
         "state_Oklahoma": 0,
         "state_Oregon": 0,
         "state_Pennsylvania": 0,
         "state_Rhode island": 0,
         "state_South carolina": 0,
         "state_South dakota": 0,
         "state_Tennessee": 0,
         "state_Texas": 0,
         "state_Utah": 0,
         "state_Vermont": 0,
         "state_Virginia": 0,
         "state_Washington": 0,
         "state_West virginia": 0,
         "state_Wisconsin": 0,
         "state_Wyoming": 0,
         "_deepnote_index_column": 4
        },
        {
         "state_Alabama": 0,
         "state_Alaska": 0,
         "state_Arizona": 0,
         "state_Arkansas": 0,
         "state_California": 0,
         "state_Colorado": 0,
         "state_Connecticut": 0,
         "state_Delaware": 0,
         "state_District of columbia": 0,
         "state_Florida": 0,
         "state_Georgia": 0,
         "state_Hawaii": 0,
         "state_Idaho": 0,
         "state_Illinois": 1,
         "state_Indiana": 0,
         "state_Iowa": 0,
         "state_Kansas": 0,
         "state_Kentucky": 0,
         "state_Louisiana": 0,
         "state_Maine": 0,
         "state_Maryland": 0,
         "state_Massachusetts": 0,
         "state_Michigan": 0,
         "state_Minnesota": 0,
         "state_Mississippi": 0,
         "state_Missouri": 0,
         "state_Montana": 0,
         "state_Nebraska": 0,
         "state_Nevada": 0,
         "state_New hampshire": 0,
         "state_New jersey": 0,
         "state_New mexico": 0,
         "state_New york": 0,
         "state_North carolina": 0,
         "state_North dakota": 0,
         "state_Ohio": 0,
         "state_Oklahoma": 0,
         "state_Oregon": 0,
         "state_Pennsylvania": 0,
         "state_Rhode island": 0,
         "state_South carolina": 0,
         "state_South dakota": 0,
         "state_Tennessee": 0,
         "state_Texas": 0,
         "state_Utah": 0,
         "state_Vermont": 0,
         "state_Virginia": 0,
         "state_Washington": 0,
         "state_West virginia": 0,
         "state_Wisconsin": 0,
         "state_Wyoming": 0,
         "_deepnote_index_column": 5
        },
        {
         "state_Alabama": 0,
         "state_Alaska": 0,
         "state_Arizona": 0,
         "state_Arkansas": 0,
         "state_California": 0,
         "state_Colorado": 0,
         "state_Connecticut": 0,
         "state_Delaware": 0,
         "state_District of columbia": 0,
         "state_Florida": 0,
         "state_Georgia": 0,
         "state_Hawaii": 0,
         "state_Idaho": 0,
         "state_Illinois": 0,
         "state_Indiana": 0,
         "state_Iowa": 0,
         "state_Kansas": 0,
         "state_Kentucky": 0,
         "state_Louisiana": 0,
         "state_Maine": 0,
         "state_Maryland": 0,
         "state_Massachusetts": 0,
         "state_Michigan": 0,
         "state_Minnesota": 0,
         "state_Mississippi": 0,
         "state_Missouri": 0,
         "state_Montana": 0,
         "state_Nebraska": 0,
         "state_Nevada": 0,
         "state_New hampshire": 0,
         "state_New jersey": 1,
         "state_New mexico": 0,
         "state_New york": 0,
         "state_North carolina": 0,
         "state_North dakota": 0,
         "state_Ohio": 0,
         "state_Oklahoma": 0,
         "state_Oregon": 0,
         "state_Pennsylvania": 0,
         "state_Rhode island": 0,
         "state_South carolina": 0,
         "state_South dakota": 0,
         "state_Tennessee": 0,
         "state_Texas": 0,
         "state_Utah": 0,
         "state_Vermont": 0,
         "state_Virginia": 0,
         "state_Washington": 0,
         "state_West virginia": 0,
         "state_Wisconsin": 0,
         "state_Wyoming": 0,
         "_deepnote_index_column": 6
        },
        {
         "state_Alabama": 0,
         "state_Alaska": 0,
         "state_Arizona": 0,
         "state_Arkansas": 0,
         "state_California": 0,
         "state_Colorado": 0,
         "state_Connecticut": 0,
         "state_Delaware": 0,
         "state_District of columbia": 0,
         "state_Florida": 0,
         "state_Georgia": 0,
         "state_Hawaii": 0,
         "state_Idaho": 0,
         "state_Illinois": 0,
         "state_Indiana": 0,
         "state_Iowa": 0,
         "state_Kansas": 0,
         "state_Kentucky": 0,
         "state_Louisiana": 1,
         "state_Maine": 0,
         "state_Maryland": 0,
         "state_Massachusetts": 0,
         "state_Michigan": 0,
         "state_Minnesota": 0,
         "state_Mississippi": 0,
         "state_Missouri": 0,
         "state_Montana": 0,
         "state_Nebraska": 0,
         "state_Nevada": 0,
         "state_New hampshire": 0,
         "state_New jersey": 0,
         "state_New mexico": 0,
         "state_New york": 0,
         "state_North carolina": 0,
         "state_North dakota": 0,
         "state_Ohio": 0,
         "state_Oklahoma": 0,
         "state_Oregon": 0,
         "state_Pennsylvania": 0,
         "state_Rhode island": 0,
         "state_South carolina": 0,
         "state_South dakota": 0,
         "state_Tennessee": 0,
         "state_Texas": 0,
         "state_Utah": 0,
         "state_Vermont": 0,
         "state_Virginia": 0,
         "state_Washington": 0,
         "state_West virginia": 0,
         "state_Wisconsin": 0,
         "state_Wyoming": 0,
         "_deepnote_index_column": 7
        },
        {
         "state_Alabama": 0,
         "state_Alaska": 0,
         "state_Arizona": 0,
         "state_Arkansas": 0,
         "state_California": 1,
         "state_Colorado": 0,
         "state_Connecticut": 0,
         "state_Delaware": 0,
         "state_District of columbia": 0,
         "state_Florida": 0,
         "state_Georgia": 0,
         "state_Hawaii": 0,
         "state_Idaho": 0,
         "state_Illinois": 0,
         "state_Indiana": 0,
         "state_Iowa": 0,
         "state_Kansas": 0,
         "state_Kentucky": 0,
         "state_Louisiana": 0,
         "state_Maine": 0,
         "state_Maryland": 0,
         "state_Massachusetts": 0,
         "state_Michigan": 0,
         "state_Minnesota": 0,
         "state_Mississippi": 0,
         "state_Missouri": 0,
         "state_Montana": 0,
         "state_Nebraska": 0,
         "state_Nevada": 0,
         "state_New hampshire": 0,
         "state_New jersey": 0,
         "state_New mexico": 0,
         "state_New york": 0,
         "state_North carolina": 0,
         "state_North dakota": 0,
         "state_Ohio": 0,
         "state_Oklahoma": 0,
         "state_Oregon": 0,
         "state_Pennsylvania": 0,
         "state_Rhode island": 0,
         "state_South carolina": 0,
         "state_South dakota": 0,
         "state_Tennessee": 0,
         "state_Texas": 0,
         "state_Utah": 0,
         "state_Vermont": 0,
         "state_Virginia": 0,
         "state_Washington": 0,
         "state_West virginia": 0,
         "state_Wisconsin": 0,
         "state_Wyoming": 0,
         "_deepnote_index_column": 8
        },
        {
         "state_Alabama": 0,
         "state_Alaska": 0,
         "state_Arizona": 0,
         "state_Arkansas": 0,
         "state_California": 0,
         "state_Colorado": 0,
         "state_Connecticut": 0,
         "state_Delaware": 0,
         "state_District of columbia": 0,
         "state_Florida": 1,
         "state_Georgia": 0,
         "state_Hawaii": 0,
         "state_Idaho": 0,
         "state_Illinois": 0,
         "state_Indiana": 0,
         "state_Iowa": 0,
         "state_Kansas": 0,
         "state_Kentucky": 0,
         "state_Louisiana": 0,
         "state_Maine": 0,
         "state_Maryland": 0,
         "state_Massachusetts": 0,
         "state_Michigan": 0,
         "state_Minnesota": 0,
         "state_Mississippi": 0,
         "state_Missouri": 0,
         "state_Montana": 0,
         "state_Nebraska": 0,
         "state_Nevada": 0,
         "state_New hampshire": 0,
         "state_New jersey": 0,
         "state_New mexico": 0,
         "state_New york": 0,
         "state_North carolina": 0,
         "state_North dakota": 0,
         "state_Ohio": 0,
         "state_Oklahoma": 0,
         "state_Oregon": 0,
         "state_Pennsylvania": 0,
         "state_Rhode island": 0,
         "state_South carolina": 0,
         "state_South dakota": 0,
         "state_Tennessee": 0,
         "state_Texas": 0,
         "state_Utah": 0,
         "state_Vermont": 0,
         "state_Virginia": 0,
         "state_Washington": 0,
         "state_West virginia": 0,
         "state_Wisconsin": 0,
         "state_Wyoming": 0,
         "_deepnote_index_column": 9
        }
       ]
      },
      "text/plain": "      state_Alabama  state_Alaska  state_Arizona  state_Arkansas  \\\n0                 0             0              0               0   \n1                 0             0              0               0   \n2                 0             0              0               0   \n3                 0             0              0               0   \n4                 0             1              0               0   \n...             ...           ...            ...             ...   \n2995              0             0              0               0   \n2996              0             0              0               0   \n2997              0             0              0               0   \n2998              0             0              0               0   \n2999              0             0              0               0   \n\n      state_California  state_Colorado  state_Connecticut  state_Delaware  \\\n0                    0               0                  0               0   \n1                    0               0                  0               0   \n2                    0               0                  0               0   \n3                    0               0                  0               0   \n4                    0               0                  0               0   \n...                ...             ...                ...             ...   \n2995                 0               0                  0               0   \n2996                 0               0                  0               0   \n2997                 1               0                  0               0   \n2998                 0               0                  0               0   \n2999                 0               0                  0               0   \n\n      state_District of columbia  state_Florida  ...  state_South dakota  \\\n0                              0              0  ...                   0   \n1                              0              0  ...                   0   \n2                              0              0  ...                   0   \n3                              0              0  ...                   0   \n4                              0              0  ...                   0   \n...                          ...            ...  ...                 ...   \n2995                           0              0  ...                   0   \n2996                           0              0  ...                   0   \n2997                           0              0  ...                   0   \n2998                           0              0  ...                   0   \n2999                           0              0  ...                   0   \n\n      state_Tennessee  state_Texas  state_Utah  state_Vermont  state_Virginia  \\\n0                   0            1           0              0               0   \n1                   0            0           0              0               0   \n2                   0            0           0              0               0   \n3                   0            0           0              0               0   \n4                   0            0           0              0               0   \n...               ...          ...         ...            ...             ...   \n2995                0            0           0              0               0   \n2996                0            0           0              0               0   \n2997                0            0           0              0               0   \n2998                0            0           0              0               0   \n2999                0            0           0              0               0   \n\n      state_Washington  state_West virginia  state_Wisconsin  state_Wyoming  \n0                    0                    0                0              0  \n1                    0                    0                0              0  \n2                    0                    0                0              0  \n3                    0                    0                0              0  \n4                    0                    0                0              0  \n...                ...                  ...              ...            ...  \n2995                 0                    0                0              0  \n2996                 0                    0                0              0  \n2997                 0                    0                0              0  \n2998                 0                    0                0              0  \n2999                 0                    0                0              0  \n\n[3000 rows x 51 columns]",
      "text/html": "<div>\n<style scoped>\n    .dataframe tbody tr th:only-of-type {\n        vertical-align: middle;\n    }\n\n    .dataframe tbody tr th {\n        vertical-align: top;\n    }\n\n    .dataframe thead th {\n        text-align: right;\n    }\n</style>\n<table border=\"1\" class=\"dataframe\">\n  <thead>\n    <tr style=\"text-align: right;\">\n      <th></th>\n      <th>state_Alabama</th>\n      <th>state_Alaska</th>\n      <th>state_Arizona</th>\n      <th>state_Arkansas</th>\n      <th>state_California</th>\n      <th>state_Colorado</th>\n      <th>state_Connecticut</th>\n      <th>state_Delaware</th>\n      <th>state_District of columbia</th>\n      <th>state_Florida</th>\n      <th>...</th>\n      <th>state_South dakota</th>\n      <th>state_Tennessee</th>\n      <th>state_Texas</th>\n      <th>state_Utah</th>\n      <th>state_Vermont</th>\n      <th>state_Virginia</th>\n      <th>state_Washington</th>\n      <th>state_West virginia</th>\n      <th>state_Wisconsin</th>\n      <th>state_Wyoming</th>\n    </tr>\n  </thead>\n  <tbody>\n    <tr>\n      <th>0</th>\n      <td>0</td>\n      <td>0</td>\n      <td>0</td>\n      <td>0</td>\n      <td>0</td>\n      <td>0</td>\n      <td>0</td>\n      <td>0</td>\n      <td>0</td>\n      <td>0</td>\n      <td>...</td>\n      <td>0</td>\n      <td>0</td>\n      <td>1</td>\n      <td>0</td>\n      <td>0</td>\n      <td>0</td>\n      <td>0</td>\n      <td>0</td>\n      <td>0</td>\n      <td>0</td>\n    </tr>\n    <tr>\n      <th>1</th>\n      <td>0</td>\n      <td>0</td>\n      <td>0</td>\n      <td>0</td>\n      <td>0</td>\n      <td>0</td>\n      <td>0</td>\n      <td>0</td>\n      <td>0</td>\n      <td>0</td>\n      <td>...</td>\n      <td>0</td>\n      <td>0</td>\n      <td>0</td>\n      <td>0</td>\n      <td>0</td>\n      <td>0</td>\n      <td>0</td>\n      <td>0</td>\n      <td>0</td>\n      <td>0</td>\n    </tr>\n    <tr>\n      <th>2</th>\n      <td>0</td>\n      <td>0</td>\n      <td>0</td>\n      <td>0</td>\n      <td>0</td>\n      <td>0</td>\n      <td>0</td>\n      <td>0</td>\n      <td>0</td>\n      <td>0</td>\n      <td>...</td>\n      <td>0</td>\n      <td>0</td>\n      <td>0</td>\n      <td>0</td>\n      <td>0</td>\n      <td>0</td>\n      <td>0</td>\n      <td>0</td>\n      <td>0</td>\n      <td>0</td>\n    </tr>\n    <tr>\n      <th>3</th>\n      <td>0</td>\n      <td>0</td>\n      <td>0</td>\n      <td>0</td>\n      <td>0</td>\n      <td>0</td>\n      <td>0</td>\n      <td>0</td>\n      <td>0</td>\n      <td>0</td>\n      <td>...</td>\n      <td>0</td>\n      <td>0</td>\n      <td>0</td>\n      <td>0</td>\n      <td>0</td>\n      <td>0</td>\n      <td>0</td>\n      <td>0</td>\n      <td>0</td>\n      <td>0</td>\n    </tr>\n    <tr>\n      <th>4</th>\n      <td>0</td>\n      <td>1</td>\n      <td>0</td>\n      <td>0</td>\n      <td>0</td>\n      <td>0</td>\n      <td>0</td>\n      <td>0</td>\n      <td>0</td>\n      <td>0</td>\n      <td>...</td>\n      <td>0</td>\n      <td>0</td>\n      <td>0</td>\n      <td>0</td>\n      <td>0</td>\n      <td>0</td>\n      <td>0</td>\n      <td>0</td>\n      <td>0</td>\n      <td>0</td>\n    </tr>\n    <tr>\n      <th>...</th>\n      <td>...</td>\n      <td>...</td>\n      <td>...</td>\n      <td>...</td>\n      <td>...</td>\n      <td>...</td>\n      <td>...</td>\n      <td>...</td>\n      <td>...</td>\n      <td>...</td>\n      <td>...</td>\n      <td>...</td>\n      <td>...</td>\n      <td>...</td>\n      <td>...</td>\n      <td>...</td>\n      <td>...</td>\n      <td>...</td>\n      <td>...</td>\n      <td>...</td>\n      <td>...</td>\n    </tr>\n    <tr>\n      <th>2995</th>\n      <td>0</td>\n      <td>0</td>\n      <td>0</td>\n      <td>0</td>\n      <td>0</td>\n      <td>0</td>\n      <td>0</td>\n      <td>0</td>\n      <td>0</td>\n      <td>0</td>\n      <td>...</td>\n      <td>0</td>\n      <td>0</td>\n      <td>0</td>\n      <td>0</td>\n      <td>0</td>\n      <td>0</td>\n      <td>0</td>\n      <td>0</td>\n      <td>0</td>\n      <td>0</td>\n    </tr>\n    <tr>\n      <th>2996</th>\n      <td>0</td>\n      <td>0</td>\n      <td>0</td>\n      <td>0</td>\n      <td>0</td>\n      <td>0</td>\n      <td>0</td>\n      <td>0</td>\n      <td>0</td>\n      <td>0</td>\n      <td>...</td>\n      <td>0</td>\n      <td>0</td>\n      <td>0</td>\n      <td>0</td>\n      <td>0</td>\n      <td>0</td>\n      <td>0</td>\n      <td>0</td>\n      <td>0</td>\n      <td>0</td>\n    </tr>\n    <tr>\n      <th>2997</th>\n      <td>0</td>\n      <td>0</td>\n      <td>0</td>\n      <td>0</td>\n      <td>1</td>\n      <td>0</td>\n      <td>0</td>\n      <td>0</td>\n      <td>0</td>\n      <td>0</td>\n      <td>...</td>\n      <td>0</td>\n      <td>0</td>\n      <td>0</td>\n      <td>0</td>\n      <td>0</td>\n      <td>0</td>\n      <td>0</td>\n      <td>0</td>\n      <td>0</td>\n      <td>0</td>\n    </tr>\n    <tr>\n      <th>2998</th>\n      <td>0</td>\n      <td>0</td>\n      <td>0</td>\n      <td>0</td>\n      <td>0</td>\n      <td>0</td>\n      <td>0</td>\n      <td>0</td>\n      <td>0</td>\n      <td>0</td>\n      <td>...</td>\n      <td>0</td>\n      <td>0</td>\n      <td>0</td>\n      <td>0</td>\n      <td>0</td>\n      <td>0</td>\n      <td>0</td>\n      <td>0</td>\n      <td>0</td>\n      <td>0</td>\n    </tr>\n    <tr>\n      <th>2999</th>\n      <td>0</td>\n      <td>0</td>\n      <td>0</td>\n      <td>0</td>\n      <td>0</td>\n      <td>0</td>\n      <td>0</td>\n      <td>0</td>\n      <td>0</td>\n      <td>0</td>\n      <td>...</td>\n      <td>0</td>\n      <td>0</td>\n      <td>0</td>\n      <td>0</td>\n      <td>0</td>\n      <td>0</td>\n      <td>0</td>\n      <td>0</td>\n      <td>0</td>\n      <td>0</td>\n    </tr>\n  </tbody>\n</table>\n<p>3000 rows × 51 columns</p>\n</div>"
     },
     "metadata": {}
    }
   ]
  },
  {
   "cell_type": "code",
   "metadata": {
    "tags": [],
    "cell_id": "00023-da6e22a0-6698-4f48-b4e7-a809ac8651b6",
    "deepnote_to_be_reexecuted": false,
    "source_hash": "c564e8e1",
    "execution_start": 1640019894388,
    "execution_millis": 238,
    "deepnote_cell_type": "code"
   },
   "source": "pd.get_dummies(career_data_missing_values[\"inferred_state\"], prefix=\"state_\", drop_first=True)",
   "execution_count": null,
   "outputs": [
    {
     "output_type": "execute_result",
     "execution_count": 38,
     "data": {
      "application/vnd.deepnote.dataframe.v3+json": {
       "column_count": 50,
       "row_count": 3000,
       "columns": [
        {
         "name": "state__Alaska",
         "dtype": "uint8",
         "stats": {
          "unique_count": 2,
          "nan_count": 0,
          "min": "0",
          "max": "1",
          "histogram": [
           {
            "bin_start": 0,
            "bin_end": 0.1,
            "count": 2995
           },
           {
            "bin_start": 0.1,
            "bin_end": 0.2,
            "count": 0
           },
           {
            "bin_start": 0.2,
            "bin_end": 0.30000000000000004,
            "count": 0
           },
           {
            "bin_start": 0.30000000000000004,
            "bin_end": 0.4,
            "count": 0
           },
           {
            "bin_start": 0.4,
            "bin_end": 0.5,
            "count": 0
           },
           {
            "bin_start": 0.5,
            "bin_end": 0.6000000000000001,
            "count": 0
           },
           {
            "bin_start": 0.6000000000000001,
            "bin_end": 0.7000000000000001,
            "count": 0
           },
           {
            "bin_start": 0.7000000000000001,
            "bin_end": 0.8,
            "count": 0
           },
           {
            "bin_start": 0.8,
            "bin_end": 0.9,
            "count": 0
           },
           {
            "bin_start": 0.9,
            "bin_end": 1,
            "count": 5
           }
          ]
         }
        },
        {
         "name": "state__Arizona",
         "dtype": "uint8",
         "stats": {
          "unique_count": 2,
          "nan_count": 0,
          "min": "0",
          "max": "1",
          "histogram": [
           {
            "bin_start": 0,
            "bin_end": 0.1,
            "count": 2946
           },
           {
            "bin_start": 0.1,
            "bin_end": 0.2,
            "count": 0
           },
           {
            "bin_start": 0.2,
            "bin_end": 0.30000000000000004,
            "count": 0
           },
           {
            "bin_start": 0.30000000000000004,
            "bin_end": 0.4,
            "count": 0
           },
           {
            "bin_start": 0.4,
            "bin_end": 0.5,
            "count": 0
           },
           {
            "bin_start": 0.5,
            "bin_end": 0.6000000000000001,
            "count": 0
           },
           {
            "bin_start": 0.6000000000000001,
            "bin_end": 0.7000000000000001,
            "count": 0
           },
           {
            "bin_start": 0.7000000000000001,
            "bin_end": 0.8,
            "count": 0
           },
           {
            "bin_start": 0.8,
            "bin_end": 0.9,
            "count": 0
           },
           {
            "bin_start": 0.9,
            "bin_end": 1,
            "count": 54
           }
          ]
         }
        },
        {
         "name": "state__Arkansas",
         "dtype": "uint8",
         "stats": {
          "unique_count": 2,
          "nan_count": 0,
          "min": "0",
          "max": "1",
          "histogram": [
           {
            "bin_start": 0,
            "bin_end": 0.1,
            "count": 2987
           },
           {
            "bin_start": 0.1,
            "bin_end": 0.2,
            "count": 0
           },
           {
            "bin_start": 0.2,
            "bin_end": 0.30000000000000004,
            "count": 0
           },
           {
            "bin_start": 0.30000000000000004,
            "bin_end": 0.4,
            "count": 0
           },
           {
            "bin_start": 0.4,
            "bin_end": 0.5,
            "count": 0
           },
           {
            "bin_start": 0.5,
            "bin_end": 0.6000000000000001,
            "count": 0
           },
           {
            "bin_start": 0.6000000000000001,
            "bin_end": 0.7000000000000001,
            "count": 0
           },
           {
            "bin_start": 0.7000000000000001,
            "bin_end": 0.8,
            "count": 0
           },
           {
            "bin_start": 0.8,
            "bin_end": 0.9,
            "count": 0
           },
           {
            "bin_start": 0.9,
            "bin_end": 1,
            "count": 13
           }
          ]
         }
        },
        {
         "name": "state__California",
         "dtype": "uint8",
         "stats": {
          "unique_count": 2,
          "nan_count": 0,
          "min": "0",
          "max": "1",
          "histogram": [
           {
            "bin_start": 0,
            "bin_end": 0.1,
            "count": 2725
           },
           {
            "bin_start": 0.1,
            "bin_end": 0.2,
            "count": 0
           },
           {
            "bin_start": 0.2,
            "bin_end": 0.30000000000000004,
            "count": 0
           },
           {
            "bin_start": 0.30000000000000004,
            "bin_end": 0.4,
            "count": 0
           },
           {
            "bin_start": 0.4,
            "bin_end": 0.5,
            "count": 0
           },
           {
            "bin_start": 0.5,
            "bin_end": 0.6000000000000001,
            "count": 0
           },
           {
            "bin_start": 0.6000000000000001,
            "bin_end": 0.7000000000000001,
            "count": 0
           },
           {
            "bin_start": 0.7000000000000001,
            "bin_end": 0.8,
            "count": 0
           },
           {
            "bin_start": 0.8,
            "bin_end": 0.9,
            "count": 0
           },
           {
            "bin_start": 0.9,
            "bin_end": 1,
            "count": 275
           }
          ]
         }
        },
        {
         "name": "state__Colorado",
         "dtype": "uint8",
         "stats": {
          "unique_count": 2,
          "nan_count": 0,
          "min": "0",
          "max": "1",
          "histogram": [
           {
            "bin_start": 0,
            "bin_end": 0.1,
            "count": 2914
           },
           {
            "bin_start": 0.1,
            "bin_end": 0.2,
            "count": 0
           },
           {
            "bin_start": 0.2,
            "bin_end": 0.30000000000000004,
            "count": 0
           },
           {
            "bin_start": 0.30000000000000004,
            "bin_end": 0.4,
            "count": 0
           },
           {
            "bin_start": 0.4,
            "bin_end": 0.5,
            "count": 0
           },
           {
            "bin_start": 0.5,
            "bin_end": 0.6000000000000001,
            "count": 0
           },
           {
            "bin_start": 0.6000000000000001,
            "bin_end": 0.7000000000000001,
            "count": 0
           },
           {
            "bin_start": 0.7000000000000001,
            "bin_end": 0.8,
            "count": 0
           },
           {
            "bin_start": 0.8,
            "bin_end": 0.9,
            "count": 0
           },
           {
            "bin_start": 0.9,
            "bin_end": 1,
            "count": 86
           }
          ]
         }
        },
        {
         "name": "state__Connecticut",
         "dtype": "uint8",
         "stats": {
          "unique_count": 2,
          "nan_count": 0,
          "min": "0",
          "max": "1",
          "histogram": [
           {
            "bin_start": 0,
            "bin_end": 0.1,
            "count": 2962
           },
           {
            "bin_start": 0.1,
            "bin_end": 0.2,
            "count": 0
           },
           {
            "bin_start": 0.2,
            "bin_end": 0.30000000000000004,
            "count": 0
           },
           {
            "bin_start": 0.30000000000000004,
            "bin_end": 0.4,
            "count": 0
           },
           {
            "bin_start": 0.4,
            "bin_end": 0.5,
            "count": 0
           },
           {
            "bin_start": 0.5,
            "bin_end": 0.6000000000000001,
            "count": 0
           },
           {
            "bin_start": 0.6000000000000001,
            "bin_end": 0.7000000000000001,
            "count": 0
           },
           {
            "bin_start": 0.7000000000000001,
            "bin_end": 0.8,
            "count": 0
           },
           {
            "bin_start": 0.8,
            "bin_end": 0.9,
            "count": 0
           },
           {
            "bin_start": 0.9,
            "bin_end": 1,
            "count": 38
           }
          ]
         }
        },
        {
         "name": "state__Delaware",
         "dtype": "uint8",
         "stats": {
          "unique_count": 2,
          "nan_count": 0,
          "min": "0",
          "max": "1",
          "histogram": [
           {
            "bin_start": 0,
            "bin_end": 0.1,
            "count": 2995
           },
           {
            "bin_start": 0.1,
            "bin_end": 0.2,
            "count": 0
           },
           {
            "bin_start": 0.2,
            "bin_end": 0.30000000000000004,
            "count": 0
           },
           {
            "bin_start": 0.30000000000000004,
            "bin_end": 0.4,
            "count": 0
           },
           {
            "bin_start": 0.4,
            "bin_end": 0.5,
            "count": 0
           },
           {
            "bin_start": 0.5,
            "bin_end": 0.6000000000000001,
            "count": 0
           },
           {
            "bin_start": 0.6000000000000001,
            "bin_end": 0.7000000000000001,
            "count": 0
           },
           {
            "bin_start": 0.7000000000000001,
            "bin_end": 0.8,
            "count": 0
           },
           {
            "bin_start": 0.8,
            "bin_end": 0.9,
            "count": 0
           },
           {
            "bin_start": 0.9,
            "bin_end": 1,
            "count": 5
           }
          ]
         }
        },
        {
         "name": "state__District of columbia",
         "dtype": "uint8",
         "stats": {
          "unique_count": 2,
          "nan_count": 0,
          "min": "0",
          "max": "1",
          "histogram": [
           {
            "bin_start": 0,
            "bin_end": 0.1,
            "count": 2982
           },
           {
            "bin_start": 0.1,
            "bin_end": 0.2,
            "count": 0
           },
           {
            "bin_start": 0.2,
            "bin_end": 0.30000000000000004,
            "count": 0
           },
           {
            "bin_start": 0.30000000000000004,
            "bin_end": 0.4,
            "count": 0
           },
           {
            "bin_start": 0.4,
            "bin_end": 0.5,
            "count": 0
           },
           {
            "bin_start": 0.5,
            "bin_end": 0.6000000000000001,
            "count": 0
           },
           {
            "bin_start": 0.6000000000000001,
            "bin_end": 0.7000000000000001,
            "count": 0
           },
           {
            "bin_start": 0.7000000000000001,
            "bin_end": 0.8,
            "count": 0
           },
           {
            "bin_start": 0.8,
            "bin_end": 0.9,
            "count": 0
           },
           {
            "bin_start": 0.9,
            "bin_end": 1,
            "count": 18
           }
          ]
         }
        },
        {
         "name": "state__Florida",
         "dtype": "uint8",
         "stats": {
          "unique_count": 2,
          "nan_count": 0,
          "min": "0",
          "max": "1",
          "histogram": [
           {
            "bin_start": 0,
            "bin_end": 0.1,
            "count": 2840
           },
           {
            "bin_start": 0.1,
            "bin_end": 0.2,
            "count": 0
           },
           {
            "bin_start": 0.2,
            "bin_end": 0.30000000000000004,
            "count": 0
           },
           {
            "bin_start": 0.30000000000000004,
            "bin_end": 0.4,
            "count": 0
           },
           {
            "bin_start": 0.4,
            "bin_end": 0.5,
            "count": 0
           },
           {
            "bin_start": 0.5,
            "bin_end": 0.6000000000000001,
            "count": 0
           },
           {
            "bin_start": 0.6000000000000001,
            "bin_end": 0.7000000000000001,
            "count": 0
           },
           {
            "bin_start": 0.7000000000000001,
            "bin_end": 0.8,
            "count": 0
           },
           {
            "bin_start": 0.8,
            "bin_end": 0.9,
            "count": 0
           },
           {
            "bin_start": 0.9,
            "bin_end": 1,
            "count": 160
           }
          ]
         }
        },
        {
         "name": "state__Georgia",
         "dtype": "uint8",
         "stats": {
          "unique_count": 2,
          "nan_count": 0,
          "min": "0",
          "max": "1",
          "histogram": [
           {
            "bin_start": 0,
            "bin_end": 0.1,
            "count": 2917
           },
           {
            "bin_start": 0.1,
            "bin_end": 0.2,
            "count": 0
           },
           {
            "bin_start": 0.2,
            "bin_end": 0.30000000000000004,
            "count": 0
           },
           {
            "bin_start": 0.30000000000000004,
            "bin_end": 0.4,
            "count": 0
           },
           {
            "bin_start": 0.4,
            "bin_end": 0.5,
            "count": 0
           },
           {
            "bin_start": 0.5,
            "bin_end": 0.6000000000000001,
            "count": 0
           },
           {
            "bin_start": 0.6000000000000001,
            "bin_end": 0.7000000000000001,
            "count": 0
           },
           {
            "bin_start": 0.7000000000000001,
            "bin_end": 0.8,
            "count": 0
           },
           {
            "bin_start": 0.8,
            "bin_end": 0.9,
            "count": 0
           },
           {
            "bin_start": 0.9,
            "bin_end": 1,
            "count": 83
           }
          ]
         }
        },
        {
         "name": "state__Hawaii",
         "dtype": "uint8",
         "stats": {
          "unique_count": 2,
          "nan_count": 0,
          "min": "0",
          "max": "1",
          "histogram": [
           {
            "bin_start": 0,
            "bin_end": 0.1,
            "count": 2998
           },
           {
            "bin_start": 0.1,
            "bin_end": 0.2,
            "count": 0
           },
           {
            "bin_start": 0.2,
            "bin_end": 0.30000000000000004,
            "count": 0
           },
           {
            "bin_start": 0.30000000000000004,
            "bin_end": 0.4,
            "count": 0
           },
           {
            "bin_start": 0.4,
            "bin_end": 0.5,
            "count": 0
           },
           {
            "bin_start": 0.5,
            "bin_end": 0.6000000000000001,
            "count": 0
           },
           {
            "bin_start": 0.6000000000000001,
            "bin_end": 0.7000000000000001,
            "count": 0
           },
           {
            "bin_start": 0.7000000000000001,
            "bin_end": 0.8,
            "count": 0
           },
           {
            "bin_start": 0.8,
            "bin_end": 0.9,
            "count": 0
           },
           {
            "bin_start": 0.9,
            "bin_end": 1,
            "count": 2
           }
          ]
         }
        },
        {
         "name": "state__Idaho",
         "dtype": "uint8",
         "stats": {
          "unique_count": 2,
          "nan_count": 0,
          "min": "0",
          "max": "1",
          "histogram": [
           {
            "bin_start": 0,
            "bin_end": 0.1,
            "count": 2994
           },
           {
            "bin_start": 0.1,
            "bin_end": 0.2,
            "count": 0
           },
           {
            "bin_start": 0.2,
            "bin_end": 0.30000000000000004,
            "count": 0
           },
           {
            "bin_start": 0.30000000000000004,
            "bin_end": 0.4,
            "count": 0
           },
           {
            "bin_start": 0.4,
            "bin_end": 0.5,
            "count": 0
           },
           {
            "bin_start": 0.5,
            "bin_end": 0.6000000000000001,
            "count": 0
           },
           {
            "bin_start": 0.6000000000000001,
            "bin_end": 0.7000000000000001,
            "count": 0
           },
           {
            "bin_start": 0.7000000000000001,
            "bin_end": 0.8,
            "count": 0
           },
           {
            "bin_start": 0.8,
            "bin_end": 0.9,
            "count": 0
           },
           {
            "bin_start": 0.9,
            "bin_end": 1,
            "count": 6
           }
          ]
         }
        },
        {
         "name": "state__Illinois",
         "dtype": "uint8",
         "stats": {
          "unique_count": 2,
          "nan_count": 0,
          "min": "0",
          "max": "1",
          "histogram": [
           {
            "bin_start": 0,
            "bin_end": 0.1,
            "count": 2872
           },
           {
            "bin_start": 0.1,
            "bin_end": 0.2,
            "count": 0
           },
           {
            "bin_start": 0.2,
            "bin_end": 0.30000000000000004,
            "count": 0
           },
           {
            "bin_start": 0.30000000000000004,
            "bin_end": 0.4,
            "count": 0
           },
           {
            "bin_start": 0.4,
            "bin_end": 0.5,
            "count": 0
           },
           {
            "bin_start": 0.5,
            "bin_end": 0.6000000000000001,
            "count": 0
           },
           {
            "bin_start": 0.6000000000000001,
            "bin_end": 0.7000000000000001,
            "count": 0
           },
           {
            "bin_start": 0.7000000000000001,
            "bin_end": 0.8,
            "count": 0
           },
           {
            "bin_start": 0.8,
            "bin_end": 0.9,
            "count": 0
           },
           {
            "bin_start": 0.9,
            "bin_end": 1,
            "count": 128
           }
          ]
         }
        },
        {
         "name": "state__Indiana",
         "dtype": "uint8",
         "stats": {
          "unique_count": 2,
          "nan_count": 0,
          "min": "0",
          "max": "1",
          "histogram": [
           {
            "bin_start": 0,
            "bin_end": 0.1,
            "count": 2903
           },
           {
            "bin_start": 0.1,
            "bin_end": 0.2,
            "count": 0
           },
           {
            "bin_start": 0.2,
            "bin_end": 0.30000000000000004,
            "count": 0
           },
           {
            "bin_start": 0.30000000000000004,
            "bin_end": 0.4,
            "count": 0
           },
           {
            "bin_start": 0.4,
            "bin_end": 0.5,
            "count": 0
           },
           {
            "bin_start": 0.5,
            "bin_end": 0.6000000000000001,
            "count": 0
           },
           {
            "bin_start": 0.6000000000000001,
            "bin_end": 0.7000000000000001,
            "count": 0
           },
           {
            "bin_start": 0.7000000000000001,
            "bin_end": 0.8,
            "count": 0
           },
           {
            "bin_start": 0.8,
            "bin_end": 0.9,
            "count": 0
           },
           {
            "bin_start": 0.9,
            "bin_end": 1,
            "count": 97
           }
          ]
         }
        },
        {
         "name": "state__Iowa",
         "dtype": "uint8",
         "stats": {
          "unique_count": 2,
          "nan_count": 0,
          "min": "0",
          "max": "1",
          "histogram": [
           {
            "bin_start": 0,
            "bin_end": 0.1,
            "count": 2969
           },
           {
            "bin_start": 0.1,
            "bin_end": 0.2,
            "count": 0
           },
           {
            "bin_start": 0.2,
            "bin_end": 0.30000000000000004,
            "count": 0
           },
           {
            "bin_start": 0.30000000000000004,
            "bin_end": 0.4,
            "count": 0
           },
           {
            "bin_start": 0.4,
            "bin_end": 0.5,
            "count": 0
           },
           {
            "bin_start": 0.5,
            "bin_end": 0.6000000000000001,
            "count": 0
           },
           {
            "bin_start": 0.6000000000000001,
            "bin_end": 0.7000000000000001,
            "count": 0
           },
           {
            "bin_start": 0.7000000000000001,
            "bin_end": 0.8,
            "count": 0
           },
           {
            "bin_start": 0.8,
            "bin_end": 0.9,
            "count": 0
           },
           {
            "bin_start": 0.9,
            "bin_end": 1,
            "count": 31
           }
          ]
         }
        },
        {
         "name": "state__Kansas",
         "dtype": "uint8",
         "stats": {
          "unique_count": 2,
          "nan_count": 0,
          "min": "0",
          "max": "1",
          "histogram": [
           {
            "bin_start": 0,
            "bin_end": 0.1,
            "count": 2981
           },
           {
            "bin_start": 0.1,
            "bin_end": 0.2,
            "count": 0
           },
           {
            "bin_start": 0.2,
            "bin_end": 0.30000000000000004,
            "count": 0
           },
           {
            "bin_start": 0.30000000000000004,
            "bin_end": 0.4,
            "count": 0
           },
           {
            "bin_start": 0.4,
            "bin_end": 0.5,
            "count": 0
           },
           {
            "bin_start": 0.5,
            "bin_end": 0.6000000000000001,
            "count": 0
           },
           {
            "bin_start": 0.6000000000000001,
            "bin_end": 0.7000000000000001,
            "count": 0
           },
           {
            "bin_start": 0.7000000000000001,
            "bin_end": 0.8,
            "count": 0
           },
           {
            "bin_start": 0.8,
            "bin_end": 0.9,
            "count": 0
           },
           {
            "bin_start": 0.9,
            "bin_end": 1,
            "count": 19
           }
          ]
         }
        },
        {
         "name": "state__Kentucky",
         "dtype": "uint8",
         "stats": {
          "unique_count": 2,
          "nan_count": 0,
          "min": "0",
          "max": "1",
          "histogram": [
           {
            "bin_start": 0,
            "bin_end": 0.1,
            "count": 2929
           },
           {
            "bin_start": 0.1,
            "bin_end": 0.2,
            "count": 0
           },
           {
            "bin_start": 0.2,
            "bin_end": 0.30000000000000004,
            "count": 0
           },
           {
            "bin_start": 0.30000000000000004,
            "bin_end": 0.4,
            "count": 0
           },
           {
            "bin_start": 0.4,
            "bin_end": 0.5,
            "count": 0
           },
           {
            "bin_start": 0.5,
            "bin_end": 0.6000000000000001,
            "count": 0
           },
           {
            "bin_start": 0.6000000000000001,
            "bin_end": 0.7000000000000001,
            "count": 0
           },
           {
            "bin_start": 0.7000000000000001,
            "bin_end": 0.8,
            "count": 0
           },
           {
            "bin_start": 0.8,
            "bin_end": 0.9,
            "count": 0
           },
           {
            "bin_start": 0.9,
            "bin_end": 1,
            "count": 71
           }
          ]
         }
        },
        {
         "name": "state__Louisiana",
         "dtype": "uint8",
         "stats": {
          "unique_count": 2,
          "nan_count": 0,
          "min": "0",
          "max": "1",
          "histogram": [
           {
            "bin_start": 0,
            "bin_end": 0.1,
            "count": 2969
           },
           {
            "bin_start": 0.1,
            "bin_end": 0.2,
            "count": 0
           },
           {
            "bin_start": 0.2,
            "bin_end": 0.30000000000000004,
            "count": 0
           },
           {
            "bin_start": 0.30000000000000004,
            "bin_end": 0.4,
            "count": 0
           },
           {
            "bin_start": 0.4,
            "bin_end": 0.5,
            "count": 0
           },
           {
            "bin_start": 0.5,
            "bin_end": 0.6000000000000001,
            "count": 0
           },
           {
            "bin_start": 0.6000000000000001,
            "bin_end": 0.7000000000000001,
            "count": 0
           },
           {
            "bin_start": 0.7000000000000001,
            "bin_end": 0.8,
            "count": 0
           },
           {
            "bin_start": 0.8,
            "bin_end": 0.9,
            "count": 0
           },
           {
            "bin_start": 0.9,
            "bin_end": 1,
            "count": 31
           }
          ]
         }
        },
        {
         "name": "state__Maine",
         "dtype": "uint8",
         "stats": {
          "unique_count": 2,
          "nan_count": 0,
          "min": "0",
          "max": "1",
          "histogram": [
           {
            "bin_start": 0,
            "bin_end": 0.1,
            "count": 2995
           },
           {
            "bin_start": 0.1,
            "bin_end": 0.2,
            "count": 0
           },
           {
            "bin_start": 0.2,
            "bin_end": 0.30000000000000004,
            "count": 0
           },
           {
            "bin_start": 0.30000000000000004,
            "bin_end": 0.4,
            "count": 0
           },
           {
            "bin_start": 0.4,
            "bin_end": 0.5,
            "count": 0
           },
           {
            "bin_start": 0.5,
            "bin_end": 0.6000000000000001,
            "count": 0
           },
           {
            "bin_start": 0.6000000000000001,
            "bin_end": 0.7000000000000001,
            "count": 0
           },
           {
            "bin_start": 0.7000000000000001,
            "bin_end": 0.8,
            "count": 0
           },
           {
            "bin_start": 0.8,
            "bin_end": 0.9,
            "count": 0
           },
           {
            "bin_start": 0.9,
            "bin_end": 1,
            "count": 5
           }
          ]
         }
        },
        {
         "name": "state__Maryland",
         "dtype": "uint8",
         "stats": {
          "unique_count": 2,
          "nan_count": 0,
          "min": "0",
          "max": "1",
          "histogram": [
           {
            "bin_start": 0,
            "bin_end": 0.1,
            "count": 2921
           },
           {
            "bin_start": 0.1,
            "bin_end": 0.2,
            "count": 0
           },
           {
            "bin_start": 0.2,
            "bin_end": 0.30000000000000004,
            "count": 0
           },
           {
            "bin_start": 0.30000000000000004,
            "bin_end": 0.4,
            "count": 0
           },
           {
            "bin_start": 0.4,
            "bin_end": 0.5,
            "count": 0
           },
           {
            "bin_start": 0.5,
            "bin_end": 0.6000000000000001,
            "count": 0
           },
           {
            "bin_start": 0.6000000000000001,
            "bin_end": 0.7000000000000001,
            "count": 0
           },
           {
            "bin_start": 0.7000000000000001,
            "bin_end": 0.8,
            "count": 0
           },
           {
            "bin_start": 0.8,
            "bin_end": 0.9,
            "count": 0
           },
           {
            "bin_start": 0.9,
            "bin_end": 1,
            "count": 79
           }
          ]
         }
        },
        {
         "name": "state__Massachusetts",
         "dtype": "uint8",
         "stats": {
          "unique_count": 2,
          "nan_count": 0,
          "min": "0",
          "max": "1",
          "histogram": [
           {
            "bin_start": 0,
            "bin_end": 0.1,
            "count": 2828
           },
           {
            "bin_start": 0.1,
            "bin_end": 0.2,
            "count": 0
           },
           {
            "bin_start": 0.2,
            "bin_end": 0.30000000000000004,
            "count": 0
           },
           {
            "bin_start": 0.30000000000000004,
            "bin_end": 0.4,
            "count": 0
           },
           {
            "bin_start": 0.4,
            "bin_end": 0.5,
            "count": 0
           },
           {
            "bin_start": 0.5,
            "bin_end": 0.6000000000000001,
            "count": 0
           },
           {
            "bin_start": 0.6000000000000001,
            "bin_end": 0.7000000000000001,
            "count": 0
           },
           {
            "bin_start": 0.7000000000000001,
            "bin_end": 0.8,
            "count": 0
           },
           {
            "bin_start": 0.8,
            "bin_end": 0.9,
            "count": 0
           },
           {
            "bin_start": 0.9,
            "bin_end": 1,
            "count": 172
           }
          ]
         }
        },
        {
         "name": "state__Michigan",
         "dtype": "uint8",
         "stats": {
          "unique_count": 2,
          "nan_count": 0,
          "min": "0",
          "max": "1",
          "histogram": [
           {
            "bin_start": 0,
            "bin_end": 0.1,
            "count": 2890
           },
           {
            "bin_start": 0.1,
            "bin_end": 0.2,
            "count": 0
           },
           {
            "bin_start": 0.2,
            "bin_end": 0.30000000000000004,
            "count": 0
           },
           {
            "bin_start": 0.30000000000000004,
            "bin_end": 0.4,
            "count": 0
           },
           {
            "bin_start": 0.4,
            "bin_end": 0.5,
            "count": 0
           },
           {
            "bin_start": 0.5,
            "bin_end": 0.6000000000000001,
            "count": 0
           },
           {
            "bin_start": 0.6000000000000001,
            "bin_end": 0.7000000000000001,
            "count": 0
           },
           {
            "bin_start": 0.7000000000000001,
            "bin_end": 0.8,
            "count": 0
           },
           {
            "bin_start": 0.8,
            "bin_end": 0.9,
            "count": 0
           },
           {
            "bin_start": 0.9,
            "bin_end": 1,
            "count": 110
           }
          ]
         }
        },
        {
         "name": "state__Minnesota",
         "dtype": "uint8",
         "stats": {
          "unique_count": 2,
          "nan_count": 0,
          "min": "0",
          "max": "1",
          "histogram": [
           {
            "bin_start": 0,
            "bin_end": 0.1,
            "count": 2916
           },
           {
            "bin_start": 0.1,
            "bin_end": 0.2,
            "count": 0
           },
           {
            "bin_start": 0.2,
            "bin_end": 0.30000000000000004,
            "count": 0
           },
           {
            "bin_start": 0.30000000000000004,
            "bin_end": 0.4,
            "count": 0
           },
           {
            "bin_start": 0.4,
            "bin_end": 0.5,
            "count": 0
           },
           {
            "bin_start": 0.5,
            "bin_end": 0.6000000000000001,
            "count": 0
           },
           {
            "bin_start": 0.6000000000000001,
            "bin_end": 0.7000000000000001,
            "count": 0
           },
           {
            "bin_start": 0.7000000000000001,
            "bin_end": 0.8,
            "count": 0
           },
           {
            "bin_start": 0.8,
            "bin_end": 0.9,
            "count": 0
           },
           {
            "bin_start": 0.9,
            "bin_end": 1,
            "count": 84
           }
          ]
         }
        },
        {
         "name": "state__Mississippi",
         "dtype": "uint8",
         "stats": {
          "unique_count": 2,
          "nan_count": 0,
          "min": "0",
          "max": "1",
          "histogram": [
           {
            "bin_start": 0,
            "bin_end": 0.1,
            "count": 2972
           },
           {
            "bin_start": 0.1,
            "bin_end": 0.2,
            "count": 0
           },
           {
            "bin_start": 0.2,
            "bin_end": 0.30000000000000004,
            "count": 0
           },
           {
            "bin_start": 0.30000000000000004,
            "bin_end": 0.4,
            "count": 0
           },
           {
            "bin_start": 0.4,
            "bin_end": 0.5,
            "count": 0
           },
           {
            "bin_start": 0.5,
            "bin_end": 0.6000000000000001,
            "count": 0
           },
           {
            "bin_start": 0.6000000000000001,
            "bin_end": 0.7000000000000001,
            "count": 0
           },
           {
            "bin_start": 0.7000000000000001,
            "bin_end": 0.8,
            "count": 0
           },
           {
            "bin_start": 0.8,
            "bin_end": 0.9,
            "count": 0
           },
           {
            "bin_start": 0.9,
            "bin_end": 1,
            "count": 28
           }
          ]
         }
        },
        {
         "name": "state__Missouri",
         "dtype": "uint8",
         "stats": {
          "unique_count": 2,
          "nan_count": 0,
          "min": "0",
          "max": "1",
          "histogram": [
           {
            "bin_start": 0,
            "bin_end": 0.1,
            "count": 2922
           },
           {
            "bin_start": 0.1,
            "bin_end": 0.2,
            "count": 0
           },
           {
            "bin_start": 0.2,
            "bin_end": 0.30000000000000004,
            "count": 0
           },
           {
            "bin_start": 0.30000000000000004,
            "bin_end": 0.4,
            "count": 0
           },
           {
            "bin_start": 0.4,
            "bin_end": 0.5,
            "count": 0
           },
           {
            "bin_start": 0.5,
            "bin_end": 0.6000000000000001,
            "count": 0
           },
           {
            "bin_start": 0.6000000000000001,
            "bin_end": 0.7000000000000001,
            "count": 0
           },
           {
            "bin_start": 0.7000000000000001,
            "bin_end": 0.8,
            "count": 0
           },
           {
            "bin_start": 0.8,
            "bin_end": 0.9,
            "count": 0
           },
           {
            "bin_start": 0.9,
            "bin_end": 1,
            "count": 78
           }
          ]
         }
        },
        {
         "name": "state__Montana",
         "dtype": "uint8",
         "stats": {
          "unique_count": 2,
          "nan_count": 0,
          "min": "0",
          "max": "1",
          "histogram": [
           {
            "bin_start": 0,
            "bin_end": 0.1,
            "count": 2995
           },
           {
            "bin_start": 0.1,
            "bin_end": 0.2,
            "count": 0
           },
           {
            "bin_start": 0.2,
            "bin_end": 0.30000000000000004,
            "count": 0
           },
           {
            "bin_start": 0.30000000000000004,
            "bin_end": 0.4,
            "count": 0
           },
           {
            "bin_start": 0.4,
            "bin_end": 0.5,
            "count": 0
           },
           {
            "bin_start": 0.5,
            "bin_end": 0.6000000000000001,
            "count": 0
           },
           {
            "bin_start": 0.6000000000000001,
            "bin_end": 0.7000000000000001,
            "count": 0
           },
           {
            "bin_start": 0.7000000000000001,
            "bin_end": 0.8,
            "count": 0
           },
           {
            "bin_start": 0.8,
            "bin_end": 0.9,
            "count": 0
           },
           {
            "bin_start": 0.9,
            "bin_end": 1,
            "count": 5
           }
          ]
         }
        },
        {
         "name": "state__Nebraska",
         "dtype": "uint8",
         "stats": {
          "unique_count": 2,
          "nan_count": 0,
          "min": "0",
          "max": "1",
          "histogram": [
           {
            "bin_start": 0,
            "bin_end": 0.1,
            "count": 2989
           },
           {
            "bin_start": 0.1,
            "bin_end": 0.2,
            "count": 0
           },
           {
            "bin_start": 0.2,
            "bin_end": 0.30000000000000004,
            "count": 0
           },
           {
            "bin_start": 0.30000000000000004,
            "bin_end": 0.4,
            "count": 0
           },
           {
            "bin_start": 0.4,
            "bin_end": 0.5,
            "count": 0
           },
           {
            "bin_start": 0.5,
            "bin_end": 0.6000000000000001,
            "count": 0
           },
           {
            "bin_start": 0.6000000000000001,
            "bin_end": 0.7000000000000001,
            "count": 0
           },
           {
            "bin_start": 0.7000000000000001,
            "bin_end": 0.8,
            "count": 0
           },
           {
            "bin_start": 0.8,
            "bin_end": 0.9,
            "count": 0
           },
           {
            "bin_start": 0.9,
            "bin_end": 1,
            "count": 11
           }
          ]
         }
        },
        {
         "name": "state__Nevada",
         "dtype": "uint8",
         "stats": {
          "unique_count": 2,
          "nan_count": 0,
          "min": "0",
          "max": "1",
          "histogram": [
           {
            "bin_start": 0,
            "bin_end": 0.1,
            "count": 2985
           },
           {
            "bin_start": 0.1,
            "bin_end": 0.2,
            "count": 0
           },
           {
            "bin_start": 0.2,
            "bin_end": 0.30000000000000004,
            "count": 0
           },
           {
            "bin_start": 0.30000000000000004,
            "bin_end": 0.4,
            "count": 0
           },
           {
            "bin_start": 0.4,
            "bin_end": 0.5,
            "count": 0
           },
           {
            "bin_start": 0.5,
            "bin_end": 0.6000000000000001,
            "count": 0
           },
           {
            "bin_start": 0.6000000000000001,
            "bin_end": 0.7000000000000001,
            "count": 0
           },
           {
            "bin_start": 0.7000000000000001,
            "bin_end": 0.8,
            "count": 0
           },
           {
            "bin_start": 0.8,
            "bin_end": 0.9,
            "count": 0
           },
           {
            "bin_start": 0.9,
            "bin_end": 1,
            "count": 15
           }
          ]
         }
        },
        {
         "name": "state__New hampshire",
         "dtype": "uint8",
         "stats": {
          "unique_count": 2,
          "nan_count": 0,
          "min": "0",
          "max": "1",
          "histogram": [
           {
            "bin_start": 0,
            "bin_end": 0.1,
            "count": 2975
           },
           {
            "bin_start": 0.1,
            "bin_end": 0.2,
            "count": 0
           },
           {
            "bin_start": 0.2,
            "bin_end": 0.30000000000000004,
            "count": 0
           },
           {
            "bin_start": 0.30000000000000004,
            "bin_end": 0.4,
            "count": 0
           },
           {
            "bin_start": 0.4,
            "bin_end": 0.5,
            "count": 0
           },
           {
            "bin_start": 0.5,
            "bin_end": 0.6000000000000001,
            "count": 0
           },
           {
            "bin_start": 0.6000000000000001,
            "bin_end": 0.7000000000000001,
            "count": 0
           },
           {
            "bin_start": 0.7000000000000001,
            "bin_end": 0.8,
            "count": 0
           },
           {
            "bin_start": 0.8,
            "bin_end": 0.9,
            "count": 0
           },
           {
            "bin_start": 0.9,
            "bin_end": 1,
            "count": 25
           }
          ]
         }
        },
        {
         "name": "state__New jersey",
         "dtype": "uint8",
         "stats": {
          "unique_count": 2,
          "nan_count": 0,
          "min": "0",
          "max": "1",
          "histogram": [
           {
            "bin_start": 0,
            "bin_end": 0.1,
            "count": 2838
           },
           {
            "bin_start": 0.1,
            "bin_end": 0.2,
            "count": 0
           },
           {
            "bin_start": 0.2,
            "bin_end": 0.30000000000000004,
            "count": 0
           },
           {
            "bin_start": 0.30000000000000004,
            "bin_end": 0.4,
            "count": 0
           },
           {
            "bin_start": 0.4,
            "bin_end": 0.5,
            "count": 0
           },
           {
            "bin_start": 0.5,
            "bin_end": 0.6000000000000001,
            "count": 0
           },
           {
            "bin_start": 0.6000000000000001,
            "bin_end": 0.7000000000000001,
            "count": 0
           },
           {
            "bin_start": 0.7000000000000001,
            "bin_end": 0.8,
            "count": 0
           },
           {
            "bin_start": 0.8,
            "bin_end": 0.9,
            "count": 0
           },
           {
            "bin_start": 0.9,
            "bin_end": 1,
            "count": 162
           }
          ]
         }
        },
        {
         "name": "state__New mexico",
         "dtype": "uint8",
         "stats": {
          "unique_count": 2,
          "nan_count": 0,
          "min": "0",
          "max": "1",
          "histogram": [
           {
            "bin_start": 0,
            "bin_end": 0.1,
            "count": 2987
           },
           {
            "bin_start": 0.1,
            "bin_end": 0.2,
            "count": 0
           },
           {
            "bin_start": 0.2,
            "bin_end": 0.30000000000000004,
            "count": 0
           },
           {
            "bin_start": 0.30000000000000004,
            "bin_end": 0.4,
            "count": 0
           },
           {
            "bin_start": 0.4,
            "bin_end": 0.5,
            "count": 0
           },
           {
            "bin_start": 0.5,
            "bin_end": 0.6000000000000001,
            "count": 0
           },
           {
            "bin_start": 0.6000000000000001,
            "bin_end": 0.7000000000000001,
            "count": 0
           },
           {
            "bin_start": 0.7000000000000001,
            "bin_end": 0.8,
            "count": 0
           },
           {
            "bin_start": 0.8,
            "bin_end": 0.9,
            "count": 0
           },
           {
            "bin_start": 0.9,
            "bin_end": 1,
            "count": 13
           }
          ]
         }
        },
        {
         "name": "state__New york",
         "dtype": "uint8",
         "stats": {
          "unique_count": 2,
          "nan_count": 0,
          "min": "0",
          "max": "1",
          "histogram": [
           {
            "bin_start": 0,
            "bin_end": 0.1,
            "count": 2931
           },
           {
            "bin_start": 0.1,
            "bin_end": 0.2,
            "count": 0
           },
           {
            "bin_start": 0.2,
            "bin_end": 0.30000000000000004,
            "count": 0
           },
           {
            "bin_start": 0.30000000000000004,
            "bin_end": 0.4,
            "count": 0
           },
           {
            "bin_start": 0.4,
            "bin_end": 0.5,
            "count": 0
           },
           {
            "bin_start": 0.5,
            "bin_end": 0.6000000000000001,
            "count": 0
           },
           {
            "bin_start": 0.6000000000000001,
            "bin_end": 0.7000000000000001,
            "count": 0
           },
           {
            "bin_start": 0.7000000000000001,
            "bin_end": 0.8,
            "count": 0
           },
           {
            "bin_start": 0.8,
            "bin_end": 0.9,
            "count": 0
           },
           {
            "bin_start": 0.9,
            "bin_end": 1,
            "count": 69
           }
          ]
         }
        },
        {
         "name": "state__North carolina",
         "dtype": "uint8",
         "stats": {
          "unique_count": 2,
          "nan_count": 0,
          "min": "0",
          "max": "1",
          "histogram": [
           {
            "bin_start": 0,
            "bin_end": 0.1,
            "count": 2906
           },
           {
            "bin_start": 0.1,
            "bin_end": 0.2,
            "count": 0
           },
           {
            "bin_start": 0.2,
            "bin_end": 0.30000000000000004,
            "count": 0
           },
           {
            "bin_start": 0.30000000000000004,
            "bin_end": 0.4,
            "count": 0
           },
           {
            "bin_start": 0.4,
            "bin_end": 0.5,
            "count": 0
           },
           {
            "bin_start": 0.5,
            "bin_end": 0.6000000000000001,
            "count": 0
           },
           {
            "bin_start": 0.6000000000000001,
            "bin_end": 0.7000000000000001,
            "count": 0
           },
           {
            "bin_start": 0.7000000000000001,
            "bin_end": 0.8,
            "count": 0
           },
           {
            "bin_start": 0.8,
            "bin_end": 0.9,
            "count": 0
           },
           {
            "bin_start": 0.9,
            "bin_end": 1,
            "count": 94
           }
          ]
         }
        },
        {
         "name": "state__North dakota",
         "dtype": "uint8"
        },
        {
         "name": "state__Ohio",
         "dtype": "uint8"
        },
        {
         "name": "state__Oklahoma",
         "dtype": "uint8"
        },
        {
         "name": "state__Oregon",
         "dtype": "uint8"
        },
        {
         "name": "state__Pennsylvania",
         "dtype": "uint8"
        },
        {
         "name": "state__Rhode island",
         "dtype": "uint8"
        },
        {
         "name": "state__South carolina",
         "dtype": "uint8"
        },
        {
         "name": "state__South dakota",
         "dtype": "uint8"
        },
        {
         "name": "state__Tennessee",
         "dtype": "uint8"
        },
        {
         "name": "state__Texas",
         "dtype": "uint8"
        },
        {
         "name": "state__Utah",
         "dtype": "uint8"
        },
        {
         "name": "state__Vermont",
         "dtype": "uint8"
        },
        {
         "name": "state__Virginia",
         "dtype": "uint8"
        },
        {
         "name": "state__Washington",
         "dtype": "uint8"
        },
        {
         "name": "state__West virginia",
         "dtype": "uint8"
        },
        {
         "name": "state__Wisconsin",
         "dtype": "uint8"
        },
        {
         "name": "state__Wyoming",
         "dtype": "uint8"
        },
        {
         "name": "_deepnote_index_column",
         "dtype": "int64"
        }
       ],
       "rows": [
        {
         "state__Alaska": 0,
         "state__Arizona": 0,
         "state__Arkansas": 0,
         "state__California": 0,
         "state__Colorado": 0,
         "state__Connecticut": 0,
         "state__Delaware": 0,
         "state__District of columbia": 0,
         "state__Florida": 0,
         "state__Georgia": 0,
         "state__Hawaii": 0,
         "state__Idaho": 0,
         "state__Illinois": 0,
         "state__Indiana": 0,
         "state__Iowa": 0,
         "state__Kansas": 0,
         "state__Kentucky": 0,
         "state__Louisiana": 0,
         "state__Maine": 0,
         "state__Maryland": 0,
         "state__Massachusetts": 0,
         "state__Michigan": 0,
         "state__Minnesota": 0,
         "state__Mississippi": 0,
         "state__Missouri": 0,
         "state__Montana": 0,
         "state__Nebraska": 0,
         "state__Nevada": 0,
         "state__New hampshire": 0,
         "state__New jersey": 0,
         "state__New mexico": 0,
         "state__New york": 0,
         "state__North carolina": 0,
         "state__North dakota": 0,
         "state__Ohio": 0,
         "state__Oklahoma": 0,
         "state__Oregon": 0,
         "state__Pennsylvania": 0,
         "state__Rhode island": 0,
         "state__South carolina": 0,
         "state__South dakota": 0,
         "state__Tennessee": 0,
         "state__Texas": 1,
         "state__Utah": 0,
         "state__Vermont": 0,
         "state__Virginia": 0,
         "state__Washington": 0,
         "state__West virginia": 0,
         "state__Wisconsin": 0,
         "state__Wyoming": 0,
         "_deepnote_index_column": 0
        },
        {
         "state__Alaska": 0,
         "state__Arizona": 0,
         "state__Arkansas": 0,
         "state__California": 0,
         "state__Colorado": 0,
         "state__Connecticut": 0,
         "state__Delaware": 0,
         "state__District of columbia": 0,
         "state__Florida": 0,
         "state__Georgia": 0,
         "state__Hawaii": 0,
         "state__Idaho": 0,
         "state__Illinois": 0,
         "state__Indiana": 0,
         "state__Iowa": 0,
         "state__Kansas": 0,
         "state__Kentucky": 0,
         "state__Louisiana": 0,
         "state__Maine": 0,
         "state__Maryland": 0,
         "state__Massachusetts": 0,
         "state__Michigan": 0,
         "state__Minnesota": 0,
         "state__Mississippi": 0,
         "state__Missouri": 0,
         "state__Montana": 0,
         "state__Nebraska": 0,
         "state__Nevada": 0,
         "state__New hampshire": 0,
         "state__New jersey": 0,
         "state__New mexico": 0,
         "state__New york": 0,
         "state__North carolina": 0,
         "state__North dakota": 0,
         "state__Ohio": 1,
         "state__Oklahoma": 0,
         "state__Oregon": 0,
         "state__Pennsylvania": 0,
         "state__Rhode island": 0,
         "state__South carolina": 0,
         "state__South dakota": 0,
         "state__Tennessee": 0,
         "state__Texas": 0,
         "state__Utah": 0,
         "state__Vermont": 0,
         "state__Virginia": 0,
         "state__Washington": 0,
         "state__West virginia": 0,
         "state__Wisconsin": 0,
         "state__Wyoming": 0,
         "_deepnote_index_column": 1
        },
        {
         "state__Alaska": 0,
         "state__Arizona": 0,
         "state__Arkansas": 0,
         "state__California": 0,
         "state__Colorado": 0,
         "state__Connecticut": 0,
         "state__Delaware": 0,
         "state__District of columbia": 0,
         "state__Florida": 0,
         "state__Georgia": 0,
         "state__Hawaii": 0,
         "state__Idaho": 0,
         "state__Illinois": 0,
         "state__Indiana": 0,
         "state__Iowa": 0,
         "state__Kansas": 0,
         "state__Kentucky": 0,
         "state__Louisiana": 0,
         "state__Maine": 0,
         "state__Maryland": 0,
         "state__Massachusetts": 1,
         "state__Michigan": 0,
         "state__Minnesota": 0,
         "state__Mississippi": 0,
         "state__Missouri": 0,
         "state__Montana": 0,
         "state__Nebraska": 0,
         "state__Nevada": 0,
         "state__New hampshire": 0,
         "state__New jersey": 0,
         "state__New mexico": 0,
         "state__New york": 0,
         "state__North carolina": 0,
         "state__North dakota": 0,
         "state__Ohio": 0,
         "state__Oklahoma": 0,
         "state__Oregon": 0,
         "state__Pennsylvania": 0,
         "state__Rhode island": 0,
         "state__South carolina": 0,
         "state__South dakota": 0,
         "state__Tennessee": 0,
         "state__Texas": 0,
         "state__Utah": 0,
         "state__Vermont": 0,
         "state__Virginia": 0,
         "state__Washington": 0,
         "state__West virginia": 0,
         "state__Wisconsin": 0,
         "state__Wyoming": 0,
         "_deepnote_index_column": 2
        },
        {
         "state__Alaska": 0,
         "state__Arizona": 0,
         "state__Arkansas": 0,
         "state__California": 0,
         "state__Colorado": 0,
         "state__Connecticut": 0,
         "state__Delaware": 0,
         "state__District of columbia": 0,
         "state__Florida": 0,
         "state__Georgia": 0,
         "state__Hawaii": 0,
         "state__Idaho": 0,
         "state__Illinois": 0,
         "state__Indiana": 0,
         "state__Iowa": 0,
         "state__Kansas": 0,
         "state__Kentucky": 0,
         "state__Louisiana": 0,
         "state__Maine": 0,
         "state__Maryland": 0,
         "state__Massachusetts": 0,
         "state__Michigan": 0,
         "state__Minnesota": 1,
         "state__Mississippi": 0,
         "state__Missouri": 0,
         "state__Montana": 0,
         "state__Nebraska": 0,
         "state__Nevada": 0,
         "state__New hampshire": 0,
         "state__New jersey": 0,
         "state__New mexico": 0,
         "state__New york": 0,
         "state__North carolina": 0,
         "state__North dakota": 0,
         "state__Ohio": 0,
         "state__Oklahoma": 0,
         "state__Oregon": 0,
         "state__Pennsylvania": 0,
         "state__Rhode island": 0,
         "state__South carolina": 0,
         "state__South dakota": 0,
         "state__Tennessee": 0,
         "state__Texas": 0,
         "state__Utah": 0,
         "state__Vermont": 0,
         "state__Virginia": 0,
         "state__Washington": 0,
         "state__West virginia": 0,
         "state__Wisconsin": 0,
         "state__Wyoming": 0,
         "_deepnote_index_column": 3
        },
        {
         "state__Alaska": 1,
         "state__Arizona": 0,
         "state__Arkansas": 0,
         "state__California": 0,
         "state__Colorado": 0,
         "state__Connecticut": 0,
         "state__Delaware": 0,
         "state__District of columbia": 0,
         "state__Florida": 0,
         "state__Georgia": 0,
         "state__Hawaii": 0,
         "state__Idaho": 0,
         "state__Illinois": 0,
         "state__Indiana": 0,
         "state__Iowa": 0,
         "state__Kansas": 0,
         "state__Kentucky": 0,
         "state__Louisiana": 0,
         "state__Maine": 0,
         "state__Maryland": 0,
         "state__Massachusetts": 0,
         "state__Michigan": 0,
         "state__Minnesota": 0,
         "state__Mississippi": 0,
         "state__Missouri": 0,
         "state__Montana": 0,
         "state__Nebraska": 0,
         "state__Nevada": 0,
         "state__New hampshire": 0,
         "state__New jersey": 0,
         "state__New mexico": 0,
         "state__New york": 0,
         "state__North carolina": 0,
         "state__North dakota": 0,
         "state__Ohio": 0,
         "state__Oklahoma": 0,
         "state__Oregon": 0,
         "state__Pennsylvania": 0,
         "state__Rhode island": 0,
         "state__South carolina": 0,
         "state__South dakota": 0,
         "state__Tennessee": 0,
         "state__Texas": 0,
         "state__Utah": 0,
         "state__Vermont": 0,
         "state__Virginia": 0,
         "state__Washington": 0,
         "state__West virginia": 0,
         "state__Wisconsin": 0,
         "state__Wyoming": 0,
         "_deepnote_index_column": 4
        },
        {
         "state__Alaska": 0,
         "state__Arizona": 0,
         "state__Arkansas": 0,
         "state__California": 0,
         "state__Colorado": 0,
         "state__Connecticut": 0,
         "state__Delaware": 0,
         "state__District of columbia": 0,
         "state__Florida": 0,
         "state__Georgia": 0,
         "state__Hawaii": 0,
         "state__Idaho": 0,
         "state__Illinois": 1,
         "state__Indiana": 0,
         "state__Iowa": 0,
         "state__Kansas": 0,
         "state__Kentucky": 0,
         "state__Louisiana": 0,
         "state__Maine": 0,
         "state__Maryland": 0,
         "state__Massachusetts": 0,
         "state__Michigan": 0,
         "state__Minnesota": 0,
         "state__Mississippi": 0,
         "state__Missouri": 0,
         "state__Montana": 0,
         "state__Nebraska": 0,
         "state__Nevada": 0,
         "state__New hampshire": 0,
         "state__New jersey": 0,
         "state__New mexico": 0,
         "state__New york": 0,
         "state__North carolina": 0,
         "state__North dakota": 0,
         "state__Ohio": 0,
         "state__Oklahoma": 0,
         "state__Oregon": 0,
         "state__Pennsylvania": 0,
         "state__Rhode island": 0,
         "state__South carolina": 0,
         "state__South dakota": 0,
         "state__Tennessee": 0,
         "state__Texas": 0,
         "state__Utah": 0,
         "state__Vermont": 0,
         "state__Virginia": 0,
         "state__Washington": 0,
         "state__West virginia": 0,
         "state__Wisconsin": 0,
         "state__Wyoming": 0,
         "_deepnote_index_column": 5
        },
        {
         "state__Alaska": 0,
         "state__Arizona": 0,
         "state__Arkansas": 0,
         "state__California": 0,
         "state__Colorado": 0,
         "state__Connecticut": 0,
         "state__Delaware": 0,
         "state__District of columbia": 0,
         "state__Florida": 0,
         "state__Georgia": 0,
         "state__Hawaii": 0,
         "state__Idaho": 0,
         "state__Illinois": 0,
         "state__Indiana": 0,
         "state__Iowa": 0,
         "state__Kansas": 0,
         "state__Kentucky": 0,
         "state__Louisiana": 0,
         "state__Maine": 0,
         "state__Maryland": 0,
         "state__Massachusetts": 0,
         "state__Michigan": 0,
         "state__Minnesota": 0,
         "state__Mississippi": 0,
         "state__Missouri": 0,
         "state__Montana": 0,
         "state__Nebraska": 0,
         "state__Nevada": 0,
         "state__New hampshire": 0,
         "state__New jersey": 1,
         "state__New mexico": 0,
         "state__New york": 0,
         "state__North carolina": 0,
         "state__North dakota": 0,
         "state__Ohio": 0,
         "state__Oklahoma": 0,
         "state__Oregon": 0,
         "state__Pennsylvania": 0,
         "state__Rhode island": 0,
         "state__South carolina": 0,
         "state__South dakota": 0,
         "state__Tennessee": 0,
         "state__Texas": 0,
         "state__Utah": 0,
         "state__Vermont": 0,
         "state__Virginia": 0,
         "state__Washington": 0,
         "state__West virginia": 0,
         "state__Wisconsin": 0,
         "state__Wyoming": 0,
         "_deepnote_index_column": 6
        },
        {
         "state__Alaska": 0,
         "state__Arizona": 0,
         "state__Arkansas": 0,
         "state__California": 0,
         "state__Colorado": 0,
         "state__Connecticut": 0,
         "state__Delaware": 0,
         "state__District of columbia": 0,
         "state__Florida": 0,
         "state__Georgia": 0,
         "state__Hawaii": 0,
         "state__Idaho": 0,
         "state__Illinois": 0,
         "state__Indiana": 0,
         "state__Iowa": 0,
         "state__Kansas": 0,
         "state__Kentucky": 0,
         "state__Louisiana": 1,
         "state__Maine": 0,
         "state__Maryland": 0,
         "state__Massachusetts": 0,
         "state__Michigan": 0,
         "state__Minnesota": 0,
         "state__Mississippi": 0,
         "state__Missouri": 0,
         "state__Montana": 0,
         "state__Nebraska": 0,
         "state__Nevada": 0,
         "state__New hampshire": 0,
         "state__New jersey": 0,
         "state__New mexico": 0,
         "state__New york": 0,
         "state__North carolina": 0,
         "state__North dakota": 0,
         "state__Ohio": 0,
         "state__Oklahoma": 0,
         "state__Oregon": 0,
         "state__Pennsylvania": 0,
         "state__Rhode island": 0,
         "state__South carolina": 0,
         "state__South dakota": 0,
         "state__Tennessee": 0,
         "state__Texas": 0,
         "state__Utah": 0,
         "state__Vermont": 0,
         "state__Virginia": 0,
         "state__Washington": 0,
         "state__West virginia": 0,
         "state__Wisconsin": 0,
         "state__Wyoming": 0,
         "_deepnote_index_column": 7
        },
        {
         "state__Alaska": 0,
         "state__Arizona": 0,
         "state__Arkansas": 0,
         "state__California": 1,
         "state__Colorado": 0,
         "state__Connecticut": 0,
         "state__Delaware": 0,
         "state__District of columbia": 0,
         "state__Florida": 0,
         "state__Georgia": 0,
         "state__Hawaii": 0,
         "state__Idaho": 0,
         "state__Illinois": 0,
         "state__Indiana": 0,
         "state__Iowa": 0,
         "state__Kansas": 0,
         "state__Kentucky": 0,
         "state__Louisiana": 0,
         "state__Maine": 0,
         "state__Maryland": 0,
         "state__Massachusetts": 0,
         "state__Michigan": 0,
         "state__Minnesota": 0,
         "state__Mississippi": 0,
         "state__Missouri": 0,
         "state__Montana": 0,
         "state__Nebraska": 0,
         "state__Nevada": 0,
         "state__New hampshire": 0,
         "state__New jersey": 0,
         "state__New mexico": 0,
         "state__New york": 0,
         "state__North carolina": 0,
         "state__North dakota": 0,
         "state__Ohio": 0,
         "state__Oklahoma": 0,
         "state__Oregon": 0,
         "state__Pennsylvania": 0,
         "state__Rhode island": 0,
         "state__South carolina": 0,
         "state__South dakota": 0,
         "state__Tennessee": 0,
         "state__Texas": 0,
         "state__Utah": 0,
         "state__Vermont": 0,
         "state__Virginia": 0,
         "state__Washington": 0,
         "state__West virginia": 0,
         "state__Wisconsin": 0,
         "state__Wyoming": 0,
         "_deepnote_index_column": 8
        },
        {
         "state__Alaska": 0,
         "state__Arizona": 0,
         "state__Arkansas": 0,
         "state__California": 0,
         "state__Colorado": 0,
         "state__Connecticut": 0,
         "state__Delaware": 0,
         "state__District of columbia": 0,
         "state__Florida": 1,
         "state__Georgia": 0,
         "state__Hawaii": 0,
         "state__Idaho": 0,
         "state__Illinois": 0,
         "state__Indiana": 0,
         "state__Iowa": 0,
         "state__Kansas": 0,
         "state__Kentucky": 0,
         "state__Louisiana": 0,
         "state__Maine": 0,
         "state__Maryland": 0,
         "state__Massachusetts": 0,
         "state__Michigan": 0,
         "state__Minnesota": 0,
         "state__Mississippi": 0,
         "state__Missouri": 0,
         "state__Montana": 0,
         "state__Nebraska": 0,
         "state__Nevada": 0,
         "state__New hampshire": 0,
         "state__New jersey": 0,
         "state__New mexico": 0,
         "state__New york": 0,
         "state__North carolina": 0,
         "state__North dakota": 0,
         "state__Ohio": 0,
         "state__Oklahoma": 0,
         "state__Oregon": 0,
         "state__Pennsylvania": 0,
         "state__Rhode island": 0,
         "state__South carolina": 0,
         "state__South dakota": 0,
         "state__Tennessee": 0,
         "state__Texas": 0,
         "state__Utah": 0,
         "state__Vermont": 0,
         "state__Virginia": 0,
         "state__Washington": 0,
         "state__West virginia": 0,
         "state__Wisconsin": 0,
         "state__Wyoming": 0,
         "_deepnote_index_column": 9
        }
       ]
      },
      "text/plain": "      state__Alaska  state__Arizona  state__Arkansas  state__California  \\\n0                 0               0                0                  0   \n1                 0               0                0                  0   \n2                 0               0                0                  0   \n3                 0               0                0                  0   \n4                 1               0                0                  0   \n...             ...             ...              ...                ...   \n2995              0               0                0                  0   \n2996              0               0                0                  0   \n2997              0               0                0                  1   \n2998              0               0                0                  0   \n2999              0               0                0                  0   \n\n      state__Colorado  state__Connecticut  state__Delaware  \\\n0                   0                   0                0   \n1                   0                   0                0   \n2                   0                   0                0   \n3                   0                   0                0   \n4                   0                   0                0   \n...               ...                 ...              ...   \n2995                0                   0                0   \n2996                0                   0                0   \n2997                0                   0                0   \n2998                0                   0                0   \n2999                0                   0                0   \n\n      state__District of columbia  state__Florida  state__Georgia  ...  \\\n0                               0               0               0  ...   \n1                               0               0               0  ...   \n2                               0               0               0  ...   \n3                               0               0               0  ...   \n4                               0               0               0  ...   \n...                           ...             ...             ...  ...   \n2995                            0               0               0  ...   \n2996                            0               0               0  ...   \n2997                            0               0               0  ...   \n2998                            0               0               0  ...   \n2999                            0               0               0  ...   \n\n      state__South dakota  state__Tennessee  state__Texas  state__Utah  \\\n0                       0                 0             1            0   \n1                       0                 0             0            0   \n2                       0                 0             0            0   \n3                       0                 0             0            0   \n4                       0                 0             0            0   \n...                   ...               ...           ...          ...   \n2995                    0                 0             0            0   \n2996                    0                 0             0            0   \n2997                    0                 0             0            0   \n2998                    0                 0             0            0   \n2999                    0                 0             0            0   \n\n      state__Vermont  state__Virginia  state__Washington  \\\n0                  0                0                  0   \n1                  0                0                  0   \n2                  0                0                  0   \n3                  0                0                  0   \n4                  0                0                  0   \n...              ...              ...                ...   \n2995               0                0                  0   \n2996               0                0                  0   \n2997               0                0                  0   \n2998               0                0                  0   \n2999               0                0                  0   \n\n      state__West virginia  state__Wisconsin  state__Wyoming  \n0                        0                 0               0  \n1                        0                 0               0  \n2                        0                 0               0  \n3                        0                 0               0  \n4                        0                 0               0  \n...                    ...               ...             ...  \n2995                     0                 0               0  \n2996                     0                 0               0  \n2997                     0                 0               0  \n2998                     0                 0               0  \n2999                     0                 0               0  \n\n[3000 rows x 50 columns]",
      "text/html": "<div>\n<style scoped>\n    .dataframe tbody tr th:only-of-type {\n        vertical-align: middle;\n    }\n\n    .dataframe tbody tr th {\n        vertical-align: top;\n    }\n\n    .dataframe thead th {\n        text-align: right;\n    }\n</style>\n<table border=\"1\" class=\"dataframe\">\n  <thead>\n    <tr style=\"text-align: right;\">\n      <th></th>\n      <th>state__Alaska</th>\n      <th>state__Arizona</th>\n      <th>state__Arkansas</th>\n      <th>state__California</th>\n      <th>state__Colorado</th>\n      <th>state__Connecticut</th>\n      <th>state__Delaware</th>\n      <th>state__District of columbia</th>\n      <th>state__Florida</th>\n      <th>state__Georgia</th>\n      <th>...</th>\n      <th>state__South dakota</th>\n      <th>state__Tennessee</th>\n      <th>state__Texas</th>\n      <th>state__Utah</th>\n      <th>state__Vermont</th>\n      <th>state__Virginia</th>\n      <th>state__Washington</th>\n      <th>state__West virginia</th>\n      <th>state__Wisconsin</th>\n      <th>state__Wyoming</th>\n    </tr>\n  </thead>\n  <tbody>\n    <tr>\n      <th>0</th>\n      <td>0</td>\n      <td>0</td>\n      <td>0</td>\n      <td>0</td>\n      <td>0</td>\n      <td>0</td>\n      <td>0</td>\n      <td>0</td>\n      <td>0</td>\n      <td>0</td>\n      <td>...</td>\n      <td>0</td>\n      <td>0</td>\n      <td>1</td>\n      <td>0</td>\n      <td>0</td>\n      <td>0</td>\n      <td>0</td>\n      <td>0</td>\n      <td>0</td>\n      <td>0</td>\n    </tr>\n    <tr>\n      <th>1</th>\n      <td>0</td>\n      <td>0</td>\n      <td>0</td>\n      <td>0</td>\n      <td>0</td>\n      <td>0</td>\n      <td>0</td>\n      <td>0</td>\n      <td>0</td>\n      <td>0</td>\n      <td>...</td>\n      <td>0</td>\n      <td>0</td>\n      <td>0</td>\n      <td>0</td>\n      <td>0</td>\n      <td>0</td>\n      <td>0</td>\n      <td>0</td>\n      <td>0</td>\n      <td>0</td>\n    </tr>\n    <tr>\n      <th>2</th>\n      <td>0</td>\n      <td>0</td>\n      <td>0</td>\n      <td>0</td>\n      <td>0</td>\n      <td>0</td>\n      <td>0</td>\n      <td>0</td>\n      <td>0</td>\n      <td>0</td>\n      <td>...</td>\n      <td>0</td>\n      <td>0</td>\n      <td>0</td>\n      <td>0</td>\n      <td>0</td>\n      <td>0</td>\n      <td>0</td>\n      <td>0</td>\n      <td>0</td>\n      <td>0</td>\n    </tr>\n    <tr>\n      <th>3</th>\n      <td>0</td>\n      <td>0</td>\n      <td>0</td>\n      <td>0</td>\n      <td>0</td>\n      <td>0</td>\n      <td>0</td>\n      <td>0</td>\n      <td>0</td>\n      <td>0</td>\n      <td>...</td>\n      <td>0</td>\n      <td>0</td>\n      <td>0</td>\n      <td>0</td>\n      <td>0</td>\n      <td>0</td>\n      <td>0</td>\n      <td>0</td>\n      <td>0</td>\n      <td>0</td>\n    </tr>\n    <tr>\n      <th>4</th>\n      <td>1</td>\n      <td>0</td>\n      <td>0</td>\n      <td>0</td>\n      <td>0</td>\n      <td>0</td>\n      <td>0</td>\n      <td>0</td>\n      <td>0</td>\n      <td>0</td>\n      <td>...</td>\n      <td>0</td>\n      <td>0</td>\n      <td>0</td>\n      <td>0</td>\n      <td>0</td>\n      <td>0</td>\n      <td>0</td>\n      <td>0</td>\n      <td>0</td>\n      <td>0</td>\n    </tr>\n    <tr>\n      <th>...</th>\n      <td>...</td>\n      <td>...</td>\n      <td>...</td>\n      <td>...</td>\n      <td>...</td>\n      <td>...</td>\n      <td>...</td>\n      <td>...</td>\n      <td>...</td>\n      <td>...</td>\n      <td>...</td>\n      <td>...</td>\n      <td>...</td>\n      <td>...</td>\n      <td>...</td>\n      <td>...</td>\n      <td>...</td>\n      <td>...</td>\n      <td>...</td>\n      <td>...</td>\n      <td>...</td>\n    </tr>\n    <tr>\n      <th>2995</th>\n      <td>0</td>\n      <td>0</td>\n      <td>0</td>\n      <td>0</td>\n      <td>0</td>\n      <td>0</td>\n      <td>0</td>\n      <td>0</td>\n      <td>0</td>\n      <td>0</td>\n      <td>...</td>\n      <td>0</td>\n      <td>0</td>\n      <td>0</td>\n      <td>0</td>\n      <td>0</td>\n      <td>0</td>\n      <td>0</td>\n      <td>0</td>\n      <td>0</td>\n      <td>0</td>\n    </tr>\n    <tr>\n      <th>2996</th>\n      <td>0</td>\n      <td>0</td>\n      <td>0</td>\n      <td>0</td>\n      <td>0</td>\n      <td>0</td>\n      <td>0</td>\n      <td>0</td>\n      <td>0</td>\n      <td>0</td>\n      <td>...</td>\n      <td>0</td>\n      <td>0</td>\n      <td>0</td>\n      <td>0</td>\n      <td>0</td>\n      <td>0</td>\n      <td>0</td>\n      <td>0</td>\n      <td>0</td>\n      <td>0</td>\n    </tr>\n    <tr>\n      <th>2997</th>\n      <td>0</td>\n      <td>0</td>\n      <td>0</td>\n      <td>1</td>\n      <td>0</td>\n      <td>0</td>\n      <td>0</td>\n      <td>0</td>\n      <td>0</td>\n      <td>0</td>\n      <td>...</td>\n      <td>0</td>\n      <td>0</td>\n      <td>0</td>\n      <td>0</td>\n      <td>0</td>\n      <td>0</td>\n      <td>0</td>\n      <td>0</td>\n      <td>0</td>\n      <td>0</td>\n    </tr>\n    <tr>\n      <th>2998</th>\n      <td>0</td>\n      <td>0</td>\n      <td>0</td>\n      <td>0</td>\n      <td>0</td>\n      <td>0</td>\n      <td>0</td>\n      <td>0</td>\n      <td>0</td>\n      <td>0</td>\n      <td>...</td>\n      <td>0</td>\n      <td>0</td>\n      <td>0</td>\n      <td>0</td>\n      <td>0</td>\n      <td>0</td>\n      <td>0</td>\n      <td>0</td>\n      <td>0</td>\n      <td>0</td>\n    </tr>\n    <tr>\n      <th>2999</th>\n      <td>0</td>\n      <td>0</td>\n      <td>0</td>\n      <td>0</td>\n      <td>0</td>\n      <td>0</td>\n      <td>0</td>\n      <td>0</td>\n      <td>0</td>\n      <td>0</td>\n      <td>...</td>\n      <td>0</td>\n      <td>0</td>\n      <td>0</td>\n      <td>0</td>\n      <td>0</td>\n      <td>0</td>\n      <td>0</td>\n      <td>0</td>\n      <td>0</td>\n      <td>0</td>\n    </tr>\n  </tbody>\n</table>\n<p>3000 rows × 50 columns</p>\n</div>"
     },
     "metadata": {}
    }
   ]
  },
  {
   "cell_type": "code",
   "metadata": {
    "tags": [],
    "cell_id": "00024-b796295c-0df1-4853-afaa-6cd46c3c4fa3",
    "deepnote_to_be_reexecuted": false,
    "source_hash": "c2c85fc1",
    "execution_start": 1640020334908,
    "execution_millis": 11,
    "deepnote_output_heights": [
     232.390625
    ],
    "deepnote_cell_type": "code"
   },
   "source": "career_data_missing_values[\"post_date_unix_time\"]",
   "execution_count": null,
   "outputs": [
    {
     "output_type": "execute_result",
     "execution_count": 40,
     "data": {
      "text/plain": "0       1593043200\n1       1589587200\n2       1593129600\n3       1591056000\n4       1590105600\n           ...    \n2995    1589760000\n2996    1591833600\n2997    1588118400\n2998    1591833600\n2999    1588723200\nName: post_date_unix_time, Length: 3000, dtype: int64"
     },
     "metadata": {}
    }
   ]
  },
  {
   "cell_type": "code",
   "metadata": {
    "tags": [],
    "cell_id": "00025-fc229d52-18cd-4c3f-8691-0093aa926fa2",
    "deepnote_to_be_reexecuted": false,
    "source_hash": "2c748b55",
    "execution_start": 1640020597079,
    "execution_millis": 495,
    "deepnote_cell_type": "code"
   },
   "source": "from sklearn.preprocessing import MinMaxScaler\n\ncareer_data_scaled = career_data_encoded.copy()\n\nscaler = MinMaxScaler()\n\n# df_scaled = pd.DataFrame(scaler.fit_transform(df), columns=df.columns)\ncareer_data_scaled[\"post_date_unix_time\"] = scaler.fit_transform(career_data_scaled[[\"post_date_unix_time\"]])\ncareer_data_scaled",
   "execution_count": null,
   "outputs": [
    {
     "output_type": "execute_result",
     "execution_count": 41,
     "data": {
      "application/vnd.deepnote.dataframe.v3+json": {
       "column_count": 17,
       "row_count": 3000,
       "columns": [
        {
         "name": "uniq_id",
         "dtype": "object",
         "stats": {
          "unique_count": 3000,
          "nan_count": 0,
          "categories": [
           {
            "name": "9a457ef257fecf231693a6ba08f50293",
            "count": 1
           },
           {
            "name": "ba471e2faf6f79caf22cddebbedbc0e8",
            "count": 1
           },
           {
            "name": "2998 others",
            "count": 2998
           }
          ]
         }
        },
        {
         "name": "crawl_timestamp",
         "dtype": "datetime64[ns, UTC]",
         "stats": {
          "unique_count": 2968,
          "nan_count": 0,
          "min": "2020-04-01 03:08:09+00:00",
          "max": "2020-06-30 02:58:59+00:00",
          "histogram": [
           {
            "bin_start": 1585710489000000000,
            "bin_end": 1586488034000000000,
            "count": 64
           },
           {
            "bin_start": 1586488034000000000,
            "bin_end": 1587265579000000000,
            "count": 99
           },
           {
            "bin_start": 1587265579000000000,
            "bin_end": 1588043124000000000,
            "count": 73
           },
           {
            "bin_start": 1588043124000000000,
            "bin_end": 1588820669000000000,
            "count": 405
           },
           {
            "bin_start": 1588820669000000000,
            "bin_end": 1589598214000000000,
            "count": 465
           },
           {
            "bin_start": 1589598214000000000,
            "bin_end": 1590375759000000000,
            "count": 453
           },
           {
            "bin_start": 1590375759000000000,
            "bin_end": 1591153304000000000,
            "count": 368
           },
           {
            "bin_start": 1591153304000000000,
            "bin_end": 1591930849000000000,
            "count": 362
           },
           {
            "bin_start": 1591930849000000000,
            "bin_end": 1592708394000000000,
            "count": 338
           },
           {
            "bin_start": 1592708394000000000,
            "bin_end": 1593485939000000000,
            "count": 373
           }
          ]
         }
        },
        {
         "name": "job_title",
         "dtype": "object",
         "stats": {
          "unique_count": 2096,
          "nan_count": 0,
          "categories": [
           {
            "name": "Retail Merchandiser",
            "count": 33
           },
           {
            "name": "Amazon Picker/Packer",
            "count": 27
           },
           {
            "name": "2094 others",
            "count": 2940
           }
          ]
         }
        },
        {
         "name": "company_name",
         "dtype": "object",
         "stats": {
          "unique_count": 747,
          "nan_count": 0,
          "categories": [
           {
            "name": "Amazon Fulfillment",
            "count": 794
           },
           {
            "name": "GPAC",
            "count": 85
           },
           {
            "name": "745 others",
            "count": 2121
           }
          ]
         }
        },
        {
         "name": "post_date",
         "dtype": "object",
         "stats": {
          "unique_count": 81,
          "nan_count": 0,
          "categories": [
           {
            "name": "2020-04-28",
            "count": 123
           },
           {
            "name": "2020-06-23",
            "count": 123
           },
           {
            "name": "79 others",
            "count": 2754
           }
          ]
         }
        },
        {
         "name": "job_type",
         "dtype": "object",
         "stats": {
          "unique_count": 9,
          "nan_count": 16,
          "categories": [
           {
            "name": "Full-Time",
            "count": 2316
           },
           {
            "name": "8 others",
            "count": 668
           },
           {
            "name": "Missing",
            "count": 16
           }
          ]
         }
        },
        {
         "name": "inferred_salary_time_unit",
         "dtype": "object",
         "stats": {
          "unique_count": 13,
          "nan_count": 0,
          "categories": [
           {
            "name": "/",
            "count": 2607
           },
           {
            "name": "/hour",
            "count": 220
           },
           {
            "name": "11 others",
            "count": 173
           }
          ]
         }
        },
        {
         "name": "salary_offered",
         "dtype": "float64",
         "stats": {
          "unique_count": 2967,
          "nan_count": 0,
          "min": "25029.0",
          "max": "149999.0",
          "histogram": [
           {
            "bin_start": 25029,
            "bin_end": 37526,
            "count": 280
           },
           {
            "bin_start": 37526,
            "bin_end": 50023,
            "count": 276
           },
           {
            "bin_start": 50023,
            "bin_end": 62520,
            "count": 299
           },
           {
            "bin_start": 62520,
            "bin_end": 75017,
            "count": 318
           },
           {
            "bin_start": 75017,
            "bin_end": 87514,
            "count": 322
           },
           {
            "bin_start": 87514,
            "bin_end": 100011,
            "count": 315
           },
           {
            "bin_start": 100011,
            "bin_end": 112508,
            "count": 282
           },
           {
            "bin_start": 112508,
            "bin_end": 125005,
            "count": 288
           },
           {
            "bin_start": 125005,
            "bin_end": 137502,
            "count": 313
           },
           {
            "bin_start": 137502,
            "bin_end": 149999,
            "count": 307
           }
          ]
         }
        },
        {
         "name": "valid_through",
         "dtype": "object",
         "stats": {
          "unique_count": 83,
          "nan_count": 0,
          "categories": [
           {
            "name": "2020-05-27",
            "count": 123
           },
           {
            "name": "2020-07-22",
            "count": 123
           },
           {
            "name": "81 others",
            "count": 2754
           }
          ]
         }
        },
        {
         "name": "postdate_yyyymmdd",
         "dtype": "datetime64[ns]",
         "stats": {
          "unique_count": 81,
          "nan_count": 0,
          "min": "2020-03-30 00:00:00",
          "max": "2020-06-29 00:00:00",
          "histogram": [
           {
            "bin_start": 1585526400000000000,
            "bin_end": 1586312640000000000,
            "count": 60
           },
           {
            "bin_start": 1586312640000000000,
            "bin_end": 1587098880000000000,
            "count": 104
           },
           {
            "bin_start": 1587098880000000000,
            "bin_end": 1587885120000000000,
            "count": 45
           },
           {
            "bin_start": 1587885120000000000,
            "bin_end": 1588671360000000000,
            "count": 368
           },
           {
            "bin_start": 1588671360000000000,
            "bin_end": 1589457600000000000,
            "count": 438
           },
           {
            "bin_start": 1589457600000000000,
            "bin_end": 1590243840000000000,
            "count": 559
           },
           {
            "bin_start": 1590243840000000000,
            "bin_end": 1591030080000000000,
            "count": 313
           },
           {
            "bin_start": 1591030080000000000,
            "bin_end": 1591816320000000000,
            "count": 345
           },
           {
            "bin_start": 1591816320000000000,
            "bin_end": 1592602560000000000,
            "count": 383
           },
           {
            "bin_start": 1592602560000000000,
            "bin_end": 1593388800000000000,
            "count": 385
           }
          ]
         }
        },
        {
         "name": "last_expiry_check_date",
         "dtype": "object",
         "stats": {
          "unique_count": 76,
          "nan_count": 0,
          "categories": [
           {
            "name": "2020.04.29",
            "count": 124
           },
           {
            "name": "2020.06.24",
            "count": 122
           },
           {
            "name": "74 others",
            "count": 2754
           }
          ]
         }
        },
        {
         "name": "latest_expiry_check_date",
         "dtype": "object",
         "stats": {
          "unique_count": 76,
          "nan_count": 0,
          "categories": [
           {
            "name": "2020-04-29",
            "count": 124
           },
           {
            "name": "2020-06-24",
            "count": 122
           },
           {
            "name": "74 others",
            "count": 2754
           }
          ]
         }
        },
        {
         "name": "postdate_in_indexname_format",
         "dtype": "object",
         "stats": {
          "unique_count": 10,
          "nan_count": 0,
          "categories": [
           {
            "name": "2020.05.11",
            "count": 666
           },
           {
            "name": "2020.06.11",
            "count": 420
           },
           {
            "name": "8 others",
            "count": 1914
           }
          ]
         }
        },
        {
         "name": "inferred_city",
         "dtype": "object",
         "stats": {
          "unique_count": 1400,
          "nan_count": 0,
          "categories": [
           {
            "name": "Boston",
            "count": 72
           },
           {
            "name": "Franklin",
            "count": 42
           },
           {
            "name": "1398 others",
            "count": 2886
           }
          ]
         }
        },
        {
         "name": "inferred_state",
         "dtype": "int64",
         "stats": {
          "unique_count": 51,
          "nan_count": 0,
          "min": "0",
          "max": "50",
          "histogram": [
           {
            "bin_start": 0,
            "bin_end": 5,
            "count": 372
           },
           {
            "bin_start": 5,
            "bin_end": 10,
            "count": 307
           },
           {
            "bin_start": 10,
            "bin_end": 15,
            "count": 316
           },
           {
            "bin_start": 15,
            "bin_end": 20,
            "count": 157
           },
           {
            "bin_start": 20,
            "bin_end": 25,
            "count": 473
           },
           {
            "bin_start": 25,
            "bin_end": 30,
            "count": 134
           },
           {
            "bin_start": 30,
            "bin_end": 35,
            "count": 350
           },
           {
            "bin_start": 35,
            "bin_end": 40,
            "count": 351
           },
           {
            "bin_start": 40,
            "bin_end": 45,
            "count": 266
           },
           {
            "bin_start": 45,
            "bin_end": 50,
            "count": 274
           }
          ]
         }
        },
        {
         "name": "post_date_unix_time",
         "dtype": "float64",
         "stats": {
          "unique_count": 81,
          "nan_count": 0,
          "min": "0.0",
          "max": "1.0",
          "histogram": [
           {
            "bin_start": 0,
            "bin_end": 0.1,
            "count": 60
           },
           {
            "bin_start": 0.1,
            "bin_end": 0.2,
            "count": 104
           },
           {
            "bin_start": 0.2,
            "bin_end": 0.30000000000000004,
            "count": 45
           },
           {
            "bin_start": 0.30000000000000004,
            "bin_end": 0.4,
            "count": 368
           },
           {
            "bin_start": 0.4,
            "bin_end": 0.5,
            "count": 438
           },
           {
            "bin_start": 0.5,
            "bin_end": 0.6000000000000001,
            "count": 559
           },
           {
            "bin_start": 0.6000000000000001,
            "bin_end": 0.7000000000000001,
            "count": 313
           },
           {
            "bin_start": 0.7000000000000001,
            "bin_end": 0.8,
            "count": 345
           },
           {
            "bin_start": 0.8,
            "bin_end": 0.9,
            "count": 383
           },
           {
            "bin_start": 0.9,
            "bin_end": 1,
            "count": 385
           }
          ]
         }
        },
        {
         "name": "postal_code",
         "dtype": "object",
         "stats": {
          "unique_count": 2960,
          "nan_count": 0,
          "categories": [
           {
            "name": "33665",
            "count": 2
           },
           {
            "name": "94507",
            "count": 2
           },
           {
            "name": "2958 others",
            "count": 2996
           }
          ]
         }
        },
        {
         "name": "_deepnote_index_column",
         "dtype": "int64"
        }
       ],
       "rows": [
        {
         "uniq_id": "9a457ef257fecf231693a6ba08f50293",
         "crawl_timestamp": "2020-06-26T01:54:03.000000",
         "job_title": "Asphalt/Concrete Senior Project Manager",
         "company_name": "GPAC",
         "post_date": "2020-06-25",
         "job_type": "Full-Time",
         "inferred_salary_time_unit": "/",
         "salary_offered": 99642,
         "valid_through": "2020-07-24",
         "postdate_yyyymmdd": "2020-06-25T00:00:00.000000",
         "last_expiry_check_date": "2020.06.26",
         "latest_expiry_check_date": "2020-06-26",
         "postdate_in_indexname_format": "2020.06.22",
         "inferred_city": "Houston",
         "inferred_state": 43,
         "post_date_unix_time": 0.9560439560439704,
         "postal_code": "43961",
         "_deepnote_index_column": 0
        },
        {
         "uniq_id": "ba471e2faf6f79caf22cddebbedbc0e8",
         "crawl_timestamp": "2020-05-17T01:21:05.000000",
         "job_title": "Amazon Warehouse Team - Full Time",
         "company_name": "Amazon Fulfillment",
         "post_date": "2020-05-16",
         "job_type": "Full-Time",
         "inferred_salary_time_unit": "/",
         "salary_offered": 58626,
         "valid_through": "2020-06-15",
         "postdate_yyyymmdd": "2020-05-16T00:00:00.000000",
         "last_expiry_check_date": "2020.05.17",
         "latest_expiry_check_date": "2020-05-17",
         "postdate_in_indexname_format": "2020.05.11",
         "inferred_city": "Cincinnati",
         "inferred_state": 35,
         "post_date_unix_time": 0.5164835164835324,
         "postal_code": "50467",
         "_deepnote_index_column": 1
        },
        {
         "uniq_id": "6f00bd02d63c633b5af453366f25c21e",
         "crawl_timestamp": "2020-06-27T04:53:42.000000",
         "job_title": "Amazon Warehouse Associate - Morning Shifts Available",
         "company_name": "Amazon Fulfillment",
         "post_date": "2020-06-26",
         "job_type": "Full-Time",
         "inferred_salary_time_unit": "/",
         "salary_offered": 67450,
         "valid_through": "2020-07-25",
         "postdate_yyyymmdd": "2020-06-26T00:00:00.000000",
         "last_expiry_check_date": "2020.06.27",
         "latest_expiry_check_date": "2020-06-27",
         "postdate_in_indexname_format": "2020.06.22",
         "inferred_city": "Peabody",
         "inferred_state": 21,
         "post_date_unix_time": 0.9670329670329636,
         "postal_code": "42620",
         "_deepnote_index_column": 2
        },
        {
         "uniq_id": "8ad0d00bfa23cfd7b7c364b8ae72085f",
         "crawl_timestamp": "2020-06-03T01:21:32.000000",
         "job_title": "Assembly Electrical",
         "company_name": "Manpower",
         "post_date": "2020-06-02",
         "job_type": "Full-Time",
         "inferred_salary_time_unit": "/hour",
         "salary_offered": 47467,
         "valid_through": "2020-07-01",
         "postdate_yyyymmdd": "2020-06-02T00:00:00.000000",
         "last_expiry_check_date": "2020.06.03",
         "latest_expiry_check_date": "2020-06-03",
         "postdate_in_indexname_format": "2020.06.01",
         "inferred_city": "Villard",
         "inferred_state": 23,
         "post_date_unix_time": 0.7032967032967008,
         "postal_code": "97275",
         "_deepnote_index_column": 3
        },
        {
         "uniq_id": "31753dc342a1b2a07db712454c0d5f87",
         "crawl_timestamp": "2020-05-23T01:19:07.000000",
         "job_title": "Graphics Designer",
         "company_name": "The North West Company - U.S.",
         "post_date": "2020-05-22",
         "job_type": "Full-Time",
         "inferred_salary_time_unit": "/",
         "salary_offered": 136684,
         "valid_through": "2020-06-21",
         "postdate_yyyymmdd": "2020-05-22T00:00:00.000000",
         "last_expiry_check_date": "2020.05.23",
         "latest_expiry_check_date": "2020-05-23",
         "postdate_in_indexname_format": "2020.05.22",
         "inferred_city": "Anchorage",
         "inferred_state": 1,
         "post_date_unix_time": 0.5824175824175768,
         "postal_code": "37765",
         "_deepnote_index_column": 4
        },
        {
         "uniq_id": "d8bbd27764ff850f5cd05dfa3289ff66",
         "crawl_timestamp": "2020-05-25T10:04:56.000000",
         "job_title": "Customer Service Representative, Full or Part Time",
         "company_name": "Circle K",
         "post_date": "2020-05-24",
         "job_type": "Full-Time",
         "inferred_salary_time_unit": "/",
         "salary_offered": 142796,
         "valid_through": "2020-06-23",
         "postdate_yyyymmdd": "2020-05-24T00:00:00.000000",
         "last_expiry_check_date": "2020.05.25",
         "latest_expiry_check_date": "2020-05-25",
         "postdate_in_indexname_format": "2020.05.22",
         "inferred_city": "Urbana",
         "inferred_state": 13,
         "post_date_unix_time": 0.60439560439562,
         "postal_code": "16152",
         "_deepnote_index_column": 5
        },
        {
         "uniq_id": "b716cdee3b40360f88be08b4cc75d598",
         "crawl_timestamp": "2020-05-23T01:13:40.000000",
         "job_title": "Receptionist",
         "company_name": "Genesis Healthcare Corporation",
         "post_date": "2020-05-22",
         "job_type": "Per Diem",
         "inferred_salary_time_unit": "/",
         "salary_offered": 129869,
         "valid_through": "2020-06-21",
         "postdate_yyyymmdd": "2020-05-22T00:00:00.000000",
         "last_expiry_check_date": "2020.05.23",
         "latest_expiry_check_date": "2020-05-23",
         "postdate_in_indexname_format": "2020.05.22",
         "inferred_city": "Franklin",
         "inferred_state": 30,
         "post_date_unix_time": 0.5824175824175768,
         "postal_code": "06009",
         "_deepnote_index_column": 6
        },
        {
         "uniq_id": "94e46cabddc4e30277870061fc6a06ea",
         "crawl_timestamp": "2020-06-25T01:48:48.000000",
         "job_title": "U-Haul Moving Center General Manager",
         "company_name": "Talentify",
         "post_date": "2020-06-24",
         "job_type": "Full-Time",
         "inferred_salary_time_unit": "/",
         "salary_offered": 129477,
         "valid_through": "2020-07-23",
         "postdate_yyyymmdd": "2020-06-24T00:00:00.000000",
         "last_expiry_check_date": "2020.06.25",
         "latest_expiry_check_date": "2020-06-25",
         "postdate_in_indexname_format": "2020.06.22",
         "inferred_city": "Gretna",
         "inferred_state": 18,
         "post_date_unix_time": 0.9450549450549488,
         "postal_code": "42948",
         "_deepnote_index_column": 7
        },
        {
         "uniq_id": "e7da38a3d35f799fd532590c5137e65c",
         "crawl_timestamp": "2020-05-18T01:07:37.000000",
         "job_title": "Staff Accountant",
         "company_name": "Volt",
         "post_date": "2020-05-17",
         "job_type": "Full-Time",
         "inferred_salary_time_unit": "/",
         "salary_offered": 132072,
         "valid_through": "2020-06-16",
         "postdate_yyyymmdd": "2020-05-17T00:00:00.000000",
         "last_expiry_check_date": "2020.05.18",
         "latest_expiry_check_date": "2020-05-18",
         "postdate_in_indexname_format": "2020.05.11",
         "inferred_city": "Stockton",
         "inferred_state": 4,
         "post_date_unix_time": 0.5274725274725256,
         "postal_code": "44841",
         "_deepnote_index_column": 8
        },
        {
         "uniq_id": "6248457c6236cce48b3277bddfc8b8a6",
         "crawl_timestamp": "2020-05-29T01:16:51.000000",
         "job_title": "Package Handler (Non-DOT)/Part Time/PM Shift/Sunday 6:00PM-11:30PM/Monday through Friday 6:30PM-11:…",
         "company_name": "FedEx",
         "post_date": "2020-05-28",
         "job_type": "Part-Time",
         "inferred_salary_time_unit": "/",
         "salary_offered": 124602,
         "valid_through": "2020-06-27",
         "postdate_yyyymmdd": "2020-05-28T00:00:00.000000",
         "last_expiry_check_date": "2020.05.29",
         "latest_expiry_check_date": "2020-05-29",
         "postdate_in_indexname_format": "2020.05.22",
         "inferred_city": "Tampa",
         "inferred_state": 9,
         "post_date_unix_time": 0.6483516483516496,
         "postal_code": "42032",
         "_deepnote_index_column": 9
        }
       ]
      },
      "text/plain": "                               uniq_id           crawl_timestamp  \\\n0     9a457ef257fecf231693a6ba08f50293 2020-06-26 01:54:03+00:00   \n1     ba471e2faf6f79caf22cddebbedbc0e8 2020-05-17 01:21:05+00:00   \n2     6f00bd02d63c633b5af453366f25c21e 2020-06-27 04:53:42+00:00   \n3     8ad0d00bfa23cfd7b7c364b8ae72085f 2020-06-03 01:21:32+00:00   \n4     31753dc342a1b2a07db712454c0d5f87 2020-05-23 01:19:07+00:00   \n...                                ...                       ...   \n2995  a56efdccbe87fea387e2edd3b1ec9faa 2020-05-19 01:21:18+00:00   \n2996  5605b833679597515f7205180b50ea9f 2020-06-12 01:45:25+00:00   \n2997  c74525996c267187b2be11c3c01f3a34 2020-04-30 01:47:25+00:00   \n2998  ee4a13cfc9ce0cb2d66b54b30d5732e6 2020-06-12 00:57:31+00:00   \n2999  6093631d5e9c136e0b3808e0eaeffb31 2020-05-07 02:51:11+00:00   \n\n                                              job_title  \\\n0               Asphalt/Concrete Senior Project Manager   \n1                     Amazon Warehouse Team - Full Time   \n2     Amazon Warehouse Associate - Morning Shifts Av...   \n3                                   Assembly Electrical   \n4                                     Graphics Designer   \n...                                                 ...   \n2995                                       Store Hourly   \n2996           SAP FICA IS-U Architect (Posted 6-11-20)   \n2997                              Data Entry Specialist   \n2998  Warehouse Associate (Seasonal/ Part-Time/ Full...   \n2999       Amazon Warehouse Team Member -Earn up to $15   \n\n                       company_name   post_date       job_type  \\\n0                              GPAC  2020-06-25      Full-Time   \n1                Amazon Fulfillment  2020-05-16      Full-Time   \n2                Amazon Fulfillment  2020-06-26      Full-Time   \n3                          Manpower  2020-06-02      Full-Time   \n4     The North West Company - U.S.  2020-05-22      Full-Time   \n...                             ...         ...            ...   \n2995             Advance Auto Parts  2020-05-18      Full-Time   \n2996               Donnelly & Moore  2020-06-11     Contractor   \n2997                    Robert Half  2020-04-29  Seasonal/Temp   \n2998             Amazon Fulfillment  2020-06-11      Part-Time   \n2999             Amazon Fulfillment  2020-05-06      Full-Time   \n\n     inferred_salary_time_unit  salary_offered valid_through  \\\n0                            /         99642.0    2020-07-24   \n1                            /         58626.0    2020-06-15   \n2                            /         67450.0    2020-07-25   \n3                        /hour         47467.0    2020-07-01   \n4                            /        136684.0    2020-06-21   \n...                        ...             ...           ...   \n2995                         /         63152.0    2020-06-17   \n2996                        /0        108575.0    2020-07-10   \n2997                     /hour         88469.0    2020-05-28   \n2998                         /        102933.0    2020-07-10   \n2999                         /         82329.0    2020-06-05   \n\n     postdate_yyyymmdd last_expiry_check_date latest_expiry_check_date  \\\n0           2020-06-25             2020.06.26               2020-06-26   \n1           2020-05-16             2020.05.17               2020-05-17   \n2           2020-06-26             2020.06.27               2020-06-27   \n3           2020-06-02             2020.06.03               2020-06-03   \n4           2020-05-22             2020.05.23               2020-05-23   \n...                ...                    ...                      ...   \n2995        2020-05-18             2020.05.19               2020-05-19   \n2996        2020-06-11             2020.06.12               2020-06-12   \n2997        2020-04-29             2020.04.30               2020-04-30   \n2998        2020-06-11             2020.06.12               2020-06-12   \n2999        2020-05-06             2020.05.07               2020-05-07   \n\n     postdate_in_indexname_format inferred_city  inferred_state  \\\n0                      2020.06.22       Houston              43   \n1                      2020.05.11    Cincinnati              35   \n2                      2020.06.22       Peabody              21   \n3                      2020.06.01       Villard              23   \n4                      2020.05.22     Anchorage               1   \n...                           ...           ...             ...   \n2995                   2020.05.11   Wake forest              33   \n2996                   2020.06.11  White plains              32   \n2997                   2020.04.22      Martinez               4   \n2998                   2020.06.11        Rahway              30   \n2999                   2020.05.01        Queens              32   \n\n      post_date_unix_time postal_code  \n0                0.956044       43961  \n1                0.516484       50467  \n2                0.967033       42620  \n3                0.703297       97275  \n4                0.582418       37765  \n...                   ...         ...  \n2995             0.538462       27460  \n2996             0.802198       74603  \n2997             0.329670       08709  \n2998             0.802198       41693  \n2999             0.406593       96169  \n\n[3000 rows x 17 columns]",
      "text/html": "<div>\n<style scoped>\n    .dataframe tbody tr th:only-of-type {\n        vertical-align: middle;\n    }\n\n    .dataframe tbody tr th {\n        vertical-align: top;\n    }\n\n    .dataframe thead th {\n        text-align: right;\n    }\n</style>\n<table border=\"1\" class=\"dataframe\">\n  <thead>\n    <tr style=\"text-align: right;\">\n      <th></th>\n      <th>uniq_id</th>\n      <th>crawl_timestamp</th>\n      <th>job_title</th>\n      <th>company_name</th>\n      <th>post_date</th>\n      <th>job_type</th>\n      <th>inferred_salary_time_unit</th>\n      <th>salary_offered</th>\n      <th>valid_through</th>\n      <th>postdate_yyyymmdd</th>\n      <th>last_expiry_check_date</th>\n      <th>latest_expiry_check_date</th>\n      <th>postdate_in_indexname_format</th>\n      <th>inferred_city</th>\n      <th>inferred_state</th>\n      <th>post_date_unix_time</th>\n      <th>postal_code</th>\n    </tr>\n  </thead>\n  <tbody>\n    <tr>\n      <th>0</th>\n      <td>9a457ef257fecf231693a6ba08f50293</td>\n      <td>2020-06-26 01:54:03+00:00</td>\n      <td>Asphalt/Concrete Senior Project Manager</td>\n      <td>GPAC</td>\n      <td>2020-06-25</td>\n      <td>Full-Time</td>\n      <td>/</td>\n      <td>99642.0</td>\n      <td>2020-07-24</td>\n      <td>2020-06-25</td>\n      <td>2020.06.26</td>\n      <td>2020-06-26</td>\n      <td>2020.06.22</td>\n      <td>Houston</td>\n      <td>43</td>\n      <td>0.956044</td>\n      <td>43961</td>\n    </tr>\n    <tr>\n      <th>1</th>\n      <td>ba471e2faf6f79caf22cddebbedbc0e8</td>\n      <td>2020-05-17 01:21:05+00:00</td>\n      <td>Amazon Warehouse Team - Full Time</td>\n      <td>Amazon Fulfillment</td>\n      <td>2020-05-16</td>\n      <td>Full-Time</td>\n      <td>/</td>\n      <td>58626.0</td>\n      <td>2020-06-15</td>\n      <td>2020-05-16</td>\n      <td>2020.05.17</td>\n      <td>2020-05-17</td>\n      <td>2020.05.11</td>\n      <td>Cincinnati</td>\n      <td>35</td>\n      <td>0.516484</td>\n      <td>50467</td>\n    </tr>\n    <tr>\n      <th>2</th>\n      <td>6f00bd02d63c633b5af453366f25c21e</td>\n      <td>2020-06-27 04:53:42+00:00</td>\n      <td>Amazon Warehouse Associate - Morning Shifts Av...</td>\n      <td>Amazon Fulfillment</td>\n      <td>2020-06-26</td>\n      <td>Full-Time</td>\n      <td>/</td>\n      <td>67450.0</td>\n      <td>2020-07-25</td>\n      <td>2020-06-26</td>\n      <td>2020.06.27</td>\n      <td>2020-06-27</td>\n      <td>2020.06.22</td>\n      <td>Peabody</td>\n      <td>21</td>\n      <td>0.967033</td>\n      <td>42620</td>\n    </tr>\n    <tr>\n      <th>3</th>\n      <td>8ad0d00bfa23cfd7b7c364b8ae72085f</td>\n      <td>2020-06-03 01:21:32+00:00</td>\n      <td>Assembly Electrical</td>\n      <td>Manpower</td>\n      <td>2020-06-02</td>\n      <td>Full-Time</td>\n      <td>/hour</td>\n      <td>47467.0</td>\n      <td>2020-07-01</td>\n      <td>2020-06-02</td>\n      <td>2020.06.03</td>\n      <td>2020-06-03</td>\n      <td>2020.06.01</td>\n      <td>Villard</td>\n      <td>23</td>\n      <td>0.703297</td>\n      <td>97275</td>\n    </tr>\n    <tr>\n      <th>4</th>\n      <td>31753dc342a1b2a07db712454c0d5f87</td>\n      <td>2020-05-23 01:19:07+00:00</td>\n      <td>Graphics Designer</td>\n      <td>The North West Company - U.S.</td>\n      <td>2020-05-22</td>\n      <td>Full-Time</td>\n      <td>/</td>\n      <td>136684.0</td>\n      <td>2020-06-21</td>\n      <td>2020-05-22</td>\n      <td>2020.05.23</td>\n      <td>2020-05-23</td>\n      <td>2020.05.22</td>\n      <td>Anchorage</td>\n      <td>1</td>\n      <td>0.582418</td>\n      <td>37765</td>\n    </tr>\n    <tr>\n      <th>...</th>\n      <td>...</td>\n      <td>...</td>\n      <td>...</td>\n      <td>...</td>\n      <td>...</td>\n      <td>...</td>\n      <td>...</td>\n      <td>...</td>\n      <td>...</td>\n      <td>...</td>\n      <td>...</td>\n      <td>...</td>\n      <td>...</td>\n      <td>...</td>\n      <td>...</td>\n      <td>...</td>\n      <td>...</td>\n    </tr>\n    <tr>\n      <th>2995</th>\n      <td>a56efdccbe87fea387e2edd3b1ec9faa</td>\n      <td>2020-05-19 01:21:18+00:00</td>\n      <td>Store Hourly</td>\n      <td>Advance Auto Parts</td>\n      <td>2020-05-18</td>\n      <td>Full-Time</td>\n      <td>/</td>\n      <td>63152.0</td>\n      <td>2020-06-17</td>\n      <td>2020-05-18</td>\n      <td>2020.05.19</td>\n      <td>2020-05-19</td>\n      <td>2020.05.11</td>\n      <td>Wake forest</td>\n      <td>33</td>\n      <td>0.538462</td>\n      <td>27460</td>\n    </tr>\n    <tr>\n      <th>2996</th>\n      <td>5605b833679597515f7205180b50ea9f</td>\n      <td>2020-06-12 01:45:25+00:00</td>\n      <td>SAP FICA IS-U Architect (Posted 6-11-20)</td>\n      <td>Donnelly &amp; Moore</td>\n      <td>2020-06-11</td>\n      <td>Contractor</td>\n      <td>/0</td>\n      <td>108575.0</td>\n      <td>2020-07-10</td>\n      <td>2020-06-11</td>\n      <td>2020.06.12</td>\n      <td>2020-06-12</td>\n      <td>2020.06.11</td>\n      <td>White plains</td>\n      <td>32</td>\n      <td>0.802198</td>\n      <td>74603</td>\n    </tr>\n    <tr>\n      <th>2997</th>\n      <td>c74525996c267187b2be11c3c01f3a34</td>\n      <td>2020-04-30 01:47:25+00:00</td>\n      <td>Data Entry Specialist</td>\n      <td>Robert Half</td>\n      <td>2020-04-29</td>\n      <td>Seasonal/Temp</td>\n      <td>/hour</td>\n      <td>88469.0</td>\n      <td>2020-05-28</td>\n      <td>2020-04-29</td>\n      <td>2020.04.30</td>\n      <td>2020-04-30</td>\n      <td>2020.04.22</td>\n      <td>Martinez</td>\n      <td>4</td>\n      <td>0.329670</td>\n      <td>08709</td>\n    </tr>\n    <tr>\n      <th>2998</th>\n      <td>ee4a13cfc9ce0cb2d66b54b30d5732e6</td>\n      <td>2020-06-12 00:57:31+00:00</td>\n      <td>Warehouse Associate (Seasonal/ Part-Time/ Full...</td>\n      <td>Amazon Fulfillment</td>\n      <td>2020-06-11</td>\n      <td>Part-Time</td>\n      <td>/</td>\n      <td>102933.0</td>\n      <td>2020-07-10</td>\n      <td>2020-06-11</td>\n      <td>2020.06.12</td>\n      <td>2020-06-12</td>\n      <td>2020.06.11</td>\n      <td>Rahway</td>\n      <td>30</td>\n      <td>0.802198</td>\n      <td>41693</td>\n    </tr>\n    <tr>\n      <th>2999</th>\n      <td>6093631d5e9c136e0b3808e0eaeffb31</td>\n      <td>2020-05-07 02:51:11+00:00</td>\n      <td>Amazon Warehouse Team Member -Earn up to $15</td>\n      <td>Amazon Fulfillment</td>\n      <td>2020-05-06</td>\n      <td>Full-Time</td>\n      <td>/</td>\n      <td>82329.0</td>\n      <td>2020-06-05</td>\n      <td>2020-05-06</td>\n      <td>2020.05.07</td>\n      <td>2020-05-07</td>\n      <td>2020.05.01</td>\n      <td>Queens</td>\n      <td>32</td>\n      <td>0.406593</td>\n      <td>96169</td>\n    </tr>\n  </tbody>\n</table>\n<p>3000 rows × 17 columns</p>\n</div>"
     },
     "metadata": {}
    }
   ]
  },
  {
   "cell_type": "code",
   "metadata": {
    "tags": [],
    "cell_id": "00026-9d122efe-3d17-4235-a77c-6ed78ff3c262",
    "deepnote_cell_type": "code"
   },
   "source": "from sklearn.model_selection import train_test_split\n\nX_train, X_test, y_train, y_test = train_test_split(career_data_scaled.drop(columns=\"salary_offered\"), career_data_scaled[\"salary_offered\"])",
   "execution_count": null,
   "outputs": []
  },
  {
   "cell_type": "markdown",
   "source": "<a style='text-decoration:none;line-height:16px;display:flex;color:#5B5B62;padding:10px;justify-content:end;' href='https://deepnote.com?utm_source=created-in-deepnote-cell&projectId=cc843f04-8de7-4926-8946-57fb094cb8ec' target=\"_blank\">\n<img alt='Created in deepnote.com' style='display:inline;max-height:16px;margin:0px;margin-right:7.5px;' src='data:image/svg+xml;base64,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' > </img>\nCreated in <span style='font-weight:600;margin-left:4px;'>Deepnote</span></a>",
   "metadata": {
    "tags": [],
    "created_in_deepnote_cell": true,
    "deepnote_cell_type": "markdown"
   }
  }
 ],
 "nbformat": 4,
 "nbformat_minor": 2,
 "metadata": {
  "orig_nbformat": 2,
  "deepnote": {
   "is_reactive": false
  },
  "deepnote_notebook_id": "c53c6acb-41e0-45ba-8298-2770154a34fb",
  "deepnote_execution_queue": []
 }
}